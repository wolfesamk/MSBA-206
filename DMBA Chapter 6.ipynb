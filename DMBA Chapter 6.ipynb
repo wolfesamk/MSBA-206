{
 "cells": [
  {
   "attachments": {},
   "cell_type": "markdown",
   "metadata": {},
   "source": [
    "##### <p> Samuel Wolfe <br> July 3rd, 2023 <br> MSBA 206 <br> DMBA Chapter 6 Homework 6.3 & 6.4 </p>"
   ]
  },
  {
   "cell_type": "code",
   "execution_count": 11,
   "metadata": {},
   "outputs": [],
   "source": [
    "#setting up core functions\n",
    "import pandas as pd\n",
    "import requests\n",
    "import io\n",
    "import matplotlib.pylab as plt\n",
    "import numpy as np\n",
    "import seaborn as sns\n",
    "from sklearn.model_selection import train_test_split\n",
    "from sklearn.linear_model import LinearRegression, Lasso, Ridge, LassoCV, RidgeCV, BayesianRidge\n",
    "import statsmodels.api as sm\n",
    "import statsmodels.formula.api as smf\n",
    "import matplotlib.pylab as plt\n",
    "from dmba import adjusted_r2_score, AIC_score, BIC_score\n",
    "\n",
    "from dmba import regressionSummary, exhaustive_search\n",
    "from dmba import backward_elimination, forward_selection, stepwise_selection\n",
    "from dmba import liftChart\n",
    "from dmba import adjusted_r2_score, AIC_score\n",
    "\n",
    "def readFile(url):\n",
    "    download = requests.get(url).content\n",
    "    # Reading the downloaded content and turning it into a pandas dataframe\n",
    "    df = pd.read_csv(io.StringIO(download.decode('utf-8')))\n",
    "    return df\n",
    "def normalize(df):\n",
    "    dfNorm = (df - df.mean(numeric_only=True)) / df.std(numeric_only=True)\n",
    "    dfNorm = dfNorm.dropna(axis=1)\n",
    "    return dfNorm\n",
    "def correlate(df):\n",
    "    dfCorr = df.corr(numeric_only=True)\n",
    "    return dfCorr\n",
    "def statslist(df):\n",
    "    dfStats = pd.DataFrame({'Mean' : df.mean(numeric_only=True),\n",
    "            'SD' : df.std(numeric_only=True),\n",
    "            'Min' : df.min(), \n",
    "            'Max' : df.max(),\n",
    "            'Median' : df.median(numeric_only=True),\n",
    "            })\n",
    "    return dfStats\n",
    "\n",
    "#Forward Selection air\n",
    "def air_train_model_forward(variables):\n",
    "    if len(variables) == 0:\n",
    "        return None\n",
    "    model = LinearRegression()\n",
    "    model.fit(airTrain_X[variables], airTrain_y)\n",
    "    return model\n",
    "\n",
    "def air_score_model_forward(model, variables):\n",
    "    if len(variables) == 0:\n",
    "        return AIC_score(airTrain_y, [airTrain_y.mean()] * len(airTrain_y), model, df=1)\n",
    "    return AIC_score(airTrain_y, model.predict(airTrain_X[variables]), model)\n",
    "\n",
    "#Forward Selection car\n",
    "def car_train_model_forward(variables):\n",
    "    if len(variables) == 0:\n",
    "        return None\n",
    "    model = LinearRegression()\n",
    "    model.fit(carTrain_X[variables], carTrain_y)\n",
    "    return model\n",
    "\n",
    "def car_score_model_forward(model, variables):\n",
    "    if len(variables) == 0:\n",
    "        return AIC_score(carTrain_y, [carTrain_y.mean()] * len(carTrain_y), model, df=1)\n",
    "    return AIC_score(carTrain_y, model.predict(carTrain_X[variables]), model)\n",
    "\n",
    "#exhaustive search air\n",
    "def air_train_model_exhaustive(variables):\n",
    "    model = LinearRegression()\n",
    "    model.fit(airTrain_X[variables], airTrain_y)\n",
    "    return model\n",
    "\n",
    "def air_score_model_exhaustive(model, variables):\n",
    "    pred_y = model.predict(airTrain_X[variables])\n",
    "    # we negate as score is optimized to be as low as possible\n",
    "    return -adjusted_r2_score(airTrain_y, pred_y, model)\n",
    "\n",
    "#exhaustive search car\n",
    "def car_train_model_exhaustive(variables):\n",
    "    model = LinearRegression()\n",
    "    model.fit(carTrain_X[variables], carTrain_y)\n",
    "    return model\n",
    "\n",
    "def car_score_model_exhaustive(model, variables):\n",
    "    pred_y = model.predict(carTrain_X[variables])\n",
    "    # we negate as score is optimized to be as low as possible\n",
    "    return -adjusted_r2_score(carTrain_y, pred_y, model)\n",
    "\n",
    "#Made this one to extract the best variables list from an exhaustive search.\n",
    "def exhaustivePred(dfTrans):\n",
    "    predList = []\n",
    "    for x in dfTrans.index:\n",
    "        if dfTrans.loc[x][13] == True:\n",
    "            predList.append(x)\n",
    "    return predList"
   ]
  },
  {
   "attachments": {},
   "cell_type": "markdown",
   "metadata": {},
   "source": [
    "# 6.3"
   ]
  },
  {
   "attachments": {},
   "cell_type": "markdown",
   "metadata": {},
   "source": [
    "## 6.3.a.\n",
    "When looking at the numerical predictors compared to the target variable of FARE we see the following. (See code below for Correlation and Plots)<br>&emsp; &emsp; &emsp;\n",
    "The correlation chart gives us Distance as the highest followed by Coupon.\n"
   ]
  },
  {
   "cell_type": "code",
   "execution_count": 12,
   "metadata": {},
   "outputs": [
    {
     "name": "stdout",
     "output_type": "stream",
     "text": [
      "DISTANCE    0.670016\n",
      "COUPON      0.496537\n",
      "E_INCOME    0.326092\n",
      "E_POP       0.285043\n",
      "S_INCOME    0.209135\n",
      "S_POP       0.145097\n",
      "NEW         0.091730\n",
      "HI          0.025195\n",
      "PAX        -0.090705\n",
      "Name: FARE, dtype: float64\n"
     ]
    }
   ],
   "source": [
    "dfAF= readFile(\"https://raw.githubusercontent.com/wolfesamk/MSBA-206/main/dmba/Airfares.csv\") # Make sure the url is the raw version of the file on GitHub\n",
    "targetVar = 'FARE'\n",
    "dfAFCorr = correlate(dfAF)\n",
    "dfAFCorrTgta = dfAFCorr.loc[targetVar].sort_values(ascending=False)\n",
    "dfAFCorrTgta = dfAFCorrTgta[dfAFCorrTgta < 1]\n",
    "print(dfAFCorrTgta)\n"
   ]
  },
  {
   "cell_type": "code",
   "execution_count": 13,
   "metadata": {},
   "outputs": [],
   "source": [
    "colact = 3\n",
    "rowact = 3\n",
    "fig, ax = plt.subplots(rowact, colact, figsize=(20, 20))\n",
    "#plt.subplots_adjust(wspace=0.5)\n",
    "rowbase=0\n",
    "colbase=0\n",
    "listdf = dfAF.select_dtypes([np.number]).columns\n",
    "lendf = 0\n",
    "while rowbase < rowact:\n",
    "    while colbase < colact:\n",
    "        sns.scatterplot(data=dfAF.select_dtypes([np.number]), ax=ax[rowbase,colbase], x=targetVar, y=dfAF.select_dtypes([np.number])[listdf[lendf]])\n",
    "        ax[rowbase,colbase].set_xlabel(targetVar)\n",
    "        colbase = colbase + 1\n",
    "        lendf = lendf + 1\n",
    "        if lendf > 8:\n",
    "            break\n",
    "    rowbase = rowbase + 1\n",
    "    colbase = 0\n",
    "\n",
    "plt.show()"
   ]
  },
  {
   "attachments": {},
   "cell_type": "markdown",
   "metadata": {},
   "source": [
    "## 6.3.b.\n",
    "Referencing that one question of interest is if the presence or absence of Southwest (SW) has an impact on FARE,<br>&emsp; &emsp; &emsp;\n",
    "I resorted the categories to emphasize this interest. We can see immediately that SW NOT being at the airport<br>&emsp; &emsp; &emsp;\n",
    "has the largest impact on the average of FARE.<br>&emsp; &emsp; &emsp;\n",
    "I would say it is safe to say SW is the best Categorical Variable for predicting FARE."
   ]
  },
  {
   "cell_type": "code",
   "execution_count": 14,
   "metadata": {},
   "outputs": [
    {
     "data": {
      "text/html": [
       "<div>\n",
       "<style scoped>\n",
       "    .dataframe tbody tr th:only-of-type {\n",
       "        vertical-align: middle;\n",
       "    }\n",
       "\n",
       "    .dataframe tbody tr th {\n",
       "        vertical-align: top;\n",
       "    }\n",
       "\n",
       "    .dataframe thead th {\n",
       "        text-align: right;\n",
       "    }\n",
       "</style>\n",
       "<table border=\"1\" class=\"dataframe\">\n",
       "  <thead>\n",
       "    <tr style=\"text-align: right;\">\n",
       "      <th></th>\n",
       "      <th></th>\n",
       "      <th></th>\n",
       "      <th></th>\n",
       "      <th>FARE</th>\n",
       "    </tr>\n",
       "    <tr>\n",
       "      <th>VACATION</th>\n",
       "      <th>SW</th>\n",
       "      <th>SLOT</th>\n",
       "      <th>GATE</th>\n",
       "      <th></th>\n",
       "    </tr>\n",
       "  </thead>\n",
       "  <tbody>\n",
       "    <tr>\n",
       "      <th rowspan=\"4\" valign=\"top\">No</th>\n",
       "      <th rowspan=\"4\" valign=\"top\">No</th>\n",
       "      <th>Free</th>\n",
       "      <th>Constrained</th>\n",
       "      <td>210.581667</td>\n",
       "    </tr>\n",
       "    <tr>\n",
       "      <th rowspan=\"2\" valign=\"top\">Controlled</th>\n",
       "      <th>Free</th>\n",
       "      <td>208.329825</td>\n",
       "    </tr>\n",
       "    <tr>\n",
       "      <th>Constrained</th>\n",
       "      <td>206.797778</td>\n",
       "    </tr>\n",
       "    <tr>\n",
       "      <th>Free</th>\n",
       "      <th>Free</th>\n",
       "      <td>196.183782</td>\n",
       "    </tr>\n",
       "    <tr>\n",
       "      <th>Yes</th>\n",
       "      <th>No</th>\n",
       "      <th>Free</th>\n",
       "      <th>Free</th>\n",
       "      <td>143.976716</td>\n",
       "    </tr>\n",
       "    <tr>\n",
       "      <th>No</th>\n",
       "      <th>Yes</th>\n",
       "      <th>Free</th>\n",
       "      <th>Constrained</th>\n",
       "      <td>139.960000</td>\n",
       "    </tr>\n",
       "    <tr>\n",
       "      <th rowspan=\"3\" valign=\"top\">Yes</th>\n",
       "      <th rowspan=\"2\" valign=\"top\">No</th>\n",
       "      <th>Controlled</th>\n",
       "      <th>Free</th>\n",
       "      <td>139.901786</td>\n",
       "    </tr>\n",
       "    <tr>\n",
       "      <th>Free</th>\n",
       "      <th>Constrained</th>\n",
       "      <td>137.313500</td>\n",
       "    </tr>\n",
       "    <tr>\n",
       "      <th>Yes</th>\n",
       "      <th>Controlled</th>\n",
       "      <th>Free</th>\n",
       "      <td>131.605000</td>\n",
       "    </tr>\n",
       "    <tr>\n",
       "      <th rowspan=\"2\" valign=\"top\">No</th>\n",
       "      <th rowspan=\"2\" valign=\"top\">Yes</th>\n",
       "      <th>Controlled</th>\n",
       "      <th>Free</th>\n",
       "      <td>110.170588</td>\n",
       "    </tr>\n",
       "    <tr>\n",
       "      <th>Free</th>\n",
       "      <th>Free</th>\n",
       "      <td>96.951491</td>\n",
       "    </tr>\n",
       "    <tr>\n",
       "      <th>Yes</th>\n",
       "      <th>Yes</th>\n",
       "      <th>Free</th>\n",
       "      <th>Free</th>\n",
       "      <td>89.811176</td>\n",
       "    </tr>\n",
       "    <tr>\n",
       "      <th>No</th>\n",
       "      <th>Yes</th>\n",
       "      <th>Controlled</th>\n",
       "      <th>Constrained</th>\n",
       "      <td>74.280000</td>\n",
       "    </tr>\n",
       "  </tbody>\n",
       "</table>\n",
       "</div>"
      ],
      "text/plain": [
       "                                           FARE\n",
       "VACATION SW  SLOT       GATE                   \n",
       "No       No  Free       Constrained  210.581667\n",
       "             Controlled Free         208.329825\n",
       "                        Constrained  206.797778\n",
       "             Free       Free         196.183782\n",
       "Yes      No  Free       Free         143.976716\n",
       "No       Yes Free       Constrained  139.960000\n",
       "Yes      No  Controlled Free         139.901786\n",
       "             Free       Constrained  137.313500\n",
       "         Yes Controlled Free         131.605000\n",
       "No       Yes Controlled Free         110.170588\n",
       "             Free       Free          96.951491\n",
       "Yes      Yes Free       Free          89.811176\n",
       "No       Yes Controlled Constrained   74.280000"
      ]
     },
     "execution_count": 14,
     "metadata": {},
     "output_type": "execute_result"
    }
   ],
   "source": [
    "#6.3.b\n",
    "dfAFCat = dfAF.select_dtypes(object).join(dfAF['FARE']).iloc[: , 4:]\n",
    "dfAFCat\n",
    "ptAF = pd.pivot_table(dfAFCat, values=targetVar, index=dfAFCat.select_dtypes(object), aggfunc=np.mean).sort_values(by=targetVar, ascending = False)\n",
    "ptAF"
   ]
  },
  {
   "attachments": {},
   "cell_type": "markdown",
   "metadata": {},
   "source": [
    "## 6.3\n",
    "C.<br>&emsp;\n",
    "i.      See code below.<br>&emsp;\n",
    "ii.     See code below.<br>&emsp;\n",
    "iii.     See code below.<br>&emsp; &emsp;\n",
    "        They appear to both provide the same results. Stepwise was faster.<br>&emsp;\n",
    "iv.     At least with what I am seeing both models have the same results, everything will be the same<br>&emsp; &emsp;\n",
    "        between ii and iii. There are clear differences in the predictive capability of the raw predictors<br>&emsp; &emsp;\n",
    "        and ii/iii, but that is to be expected.\n",
    "v.      251.72 vs raw data mean of 144.60. Code below.<br>&emsp;\n",
    "vi.     251.72-208.69=43.03 price reduction with Southwest set to True.<br>&emsp;\n",
    "vii.    HI, PAX, and NEW are determined from the routes, would not be available prior.<br>&emsp; &emsp;\n",
    "        DISTANCE, VACATION, SLOT, GATE, COUPON, SW, Incomes, and Population metrics can be created easily prior. <br>&emsp; &emsp;\n",
    "        These statistics are generated by using existing airport data and comparing it to the new airport. <br>&emsp;\n",
    "ix.     253.43 average fare. <br>&emsp;\n",
    "x.      Just comparing the RMSE the model from iii has better metrics of 34.88/36.11 vs viii 38.16/40.23. <br>&emsp; &emsp;\n",
    "        Looking at the predicted values we find that viii over predicts the fare of the dummy route used in v and viii. <br>&emsp; &emsp;\n",
    "        The model from viii is good enough for initial predictions. It evaluates almost as well as iii but without using <br>&emsp; &emsp;\n",
    "        data not available until after the airport has been open for some time. It would be best to use the viii model <br>&emsp; &emsp;\n",
    "        in the beginning and then transition to iii after the airport has been open long enough to gather the missing <br>&emsp; &emsp;\n",
    "        statistics."
   ]
  },
  {
   "attachments": {},
   "cell_type": "markdown",
   "metadata": {},
   "source": [
    "# 6.3.c.i"
   ]
  },
  {
   "cell_type": "code",
   "execution_count": 15,
   "metadata": {},
   "outputs": [
    {
     "name": "stdout",
     "output_type": "stream",
     "text": [
      "\n",
      "Regression statistics\n",
      "\n",
      "                      Mean Error (ME) : -1.8231\n",
      "       Root Mean Squared Error (RMSE) : 36.0002\n",
      "            Mean Absolute Error (MAE) : 28.5002\n",
      "          Mean Percentage Error (MPE) : -6.6037\n",
      "Mean Absolute Percentage Error (MAPE) : 21.6048\n"
     ]
    }
   ],
   "source": [
    "#6.3.c.i Convert to dummy and split into test groups.\n",
    "# partition data\n",
    "Xair = pd.get_dummies(dfAF.iloc[: , 4:].drop(columns='FARE'),drop_first=True)\n",
    "yair = dfAF[targetVar]\n",
    "airTrain_X, airValid_X, airTrain_y, airValid_y = train_test_split(Xair, yair, test_size=0.4, random_state=1)\n",
    "\n",
    "airModel1 = LinearRegression()\n",
    "airModel1.fit(airTrain_X, airTrain_y)\n",
    "pred1 = pd.DataFrame(airModel1.predict(airValid_X), columns=['P_FARE'])\n",
    "regressionSummary(airValid_y, airModel1.predict(airValid_X))"
   ]
  },
  {
   "attachments": {},
   "cell_type": "markdown",
   "metadata": {},
   "source": [
    "# 6.3.c.ii"
   ]
  },
  {
   "cell_type": "code",
   "execution_count": 16,
   "metadata": {},
   "outputs": [
    {
     "name": "stdout",
     "output_type": "stream",
     "text": [
      "Variables: COUPON, NEW, HI, S_INCOME, E_INCOME, S_POP, E_POP, DISTANCE, PAX, VACATION_Yes, SW_Yes, SLOT_Free, GATE_Free\n",
      "Start: score=4379.42, constant\n",
      "Step: score=4149.88, add DISTANCE\n",
      "Step: score=4025.89, add SW_Yes\n",
      "Step: score=3913.59, add VACATION_Yes\n",
      "Step: score=3890.27, add HI\n",
      "Step: score=3873.33, add GATE_Free\n",
      "Step: score=3852.81, add SLOT_Free\n",
      "Step: score=3850.30, add PAX\n",
      "Step: score=3844.58, add E_POP\n",
      "Step: score=3826.43, add S_POP\n",
      "Step: score=3821.88, add E_INCOME\n",
      "Step: score=3821.88, unchanged None\n",
      "These are the best variables: \n",
      " ['DISTANCE', 'SW_Yes', 'VACATION_Yes', 'HI', 'GATE_Free', 'SLOT_Free', 'PAX', 'E_POP', 'S_POP', 'E_INCOME']\n",
      "\n",
      "Regression statistics\n",
      "\n",
      "                      Mean Error (ME) : -1.8591\n",
      "       Root Mean Squared Error (RMSE) : 36.1129\n",
      "            Mean Absolute Error (MAE) : 28.5252\n",
      "          Mean Percentage Error (MPE) : -6.7084\n",
      "Mean Absolute Percentage Error (MAPE) : 21.7198\n"
     ]
    }
   ],
   "source": [
    "#6.3.c.ii stepwise regression\n",
    "iiBest_model, iiBest_variables = stepwise_selection(airTrain_X.columns, air_train_model_forward, air_score_model_forward, verbose=True)\n",
    "print('These are the best variables: \\n', iiBest_variables)\n",
    "regressionSummary(airValid_y, iiBest_model.predict(airValid_X[iiBest_variables]))"
   ]
  },
  {
   "attachments": {},
   "cell_type": "markdown",
   "metadata": {},
   "source": [
    "# 6.3.c.iii"
   ]
  },
  {
   "cell_type": "code",
   "execution_count": 144,
   "metadata": {},
   "outputs": [],
   "source": [
    "#This cell takes 13.3s\n",
    "#6.3.c.iii\n",
    "iiiAllVariables = airTrain_X.columns\n",
    "iiiResults = exhaustive_search(iiiAllVariables, air_train_model_exhaustive, air_score_model_exhaustive)\n",
    "\n",
    "iiiData = []\n",
    "for result in iiiResults:\n",
    "    model = result['model']\n",
    "    variables = result['variables']\n",
    "    AIC = AIC_score(airTrain_y, model.predict(airTrain_X[variables]), model)\n",
    "    \n",
    "    d = {'n': result['n'], 'r2adj': -result['score'], 'AIC': AIC}\n",
    "    d.update({var: var in result['variables'] for var in iiiAllVariables})\n",
    "    iiiData.append(d)\n",
    "\n"
   ]
  },
  {
   "cell_type": "code",
   "execution_count": 145,
   "metadata": {},
   "outputs": [
    {
     "name": "stdout",
     "output_type": "stream",
     "text": [
      "     n     r2adj          AIC  COUPON  DISTANCE  E_INCOME  E_POP  GATE_Free     HI    NEW    PAX  SLOT_Free  SW_Yes  S_INCOME  S_POP  VACATION_Yes\n",
      "0    1  0.453107  4149.881509   False      True     False  False      False  False  False  False      False   False     False  False         False\n",
      "1    2  0.605715  4025.892420   False      True     False  False      False  False  False  False      False    True     False  False         False\n",
      "2    3  0.706909  3913.585125   False      True     False  False      False  False  False  False      False    True     False  False          True\n",
      "3    4  0.724977  3890.268211   False      True     False  False      False   True  False  False      False    True     False  False          True\n",
      "4    5  0.737584  3873.328296   False      True     False  False       True   True  False  False      False    True     False  False          True\n",
      "5    6  0.751947  3852.808698   False      True     False  False       True   True  False  False       True    True     False  False          True\n",
      "6    7  0.758747  3843.170960   False      True     False   True      False   True  False   True      False    True     False   True          True\n",
      "7    8  0.765105  3833.945866   False      True     False   True       True   True  False   True      False    True     False   True          True\n",
      "8    9  0.770266  3826.433471   False      True     False   True       True   True  False   True       True    True     False   True          True\n",
      "9   10  0.773567  3821.876901   False      True      True   True       True   True  False   True       True    True     False   True          True\n",
      "10  11  0.773595  3822.798222   False      True      True   True       True   True  False   True       True    True      True   True          True\n",
      "11  12  0.773559  3823.825398   False      True      True   True       True   True   True   True       True    True      True   True          True\n",
      "12  13  0.773292  3825.237680    True      True      True   True       True   True   True   True       True    True      True   True          True\n"
     ]
    }
   ],
   "source": [
    "pd.set_option('display.width', 200)\n",
    "dfViiiExhaust = pd.DataFrame(iiiData, columns=('n', 'r2adj', 'AIC') + tuple(sorted(iiiAllVariables)))\n",
    "print(dfViiiExhaust)\n",
    "#print(dfViiiExhaust.sort_values(by=['AIC'],ascending=True))\n",
    "#print(dfViiiExhaust.sort_values(by=['AIC'],ascending=True).head(1))\n",
    "pd.reset_option('display.width')"
   ]
  },
  {
   "attachments": {},
   "cell_type": "markdown",
   "metadata": {},
   "source": [
    "# 6.3.c.iv"
   ]
  },
  {
   "cell_type": "code",
   "execution_count": 146,
   "metadata": {},
   "outputs": [
    {
     "name": "stdout",
     "output_type": "stream",
     "text": [
      "intercept  52.89100014950026\n",
      "      Predictor  coefficient\n",
      "0      DISTANCE     0.075558\n",
      "1        SW_Yes   -43.031272\n",
      "2  VACATION_Yes   -35.865596\n",
      "3            HI     0.007188\n",
      "4     GATE_Free   -21.410803\n",
      "5     SLOT_Free   -13.915304\n",
      "6           PAX    -0.000829\n",
      "7         E_POP     0.000004\n",
      "8         S_POP     0.000004\n",
      "9      E_INCOME     0.001148\n",
      "\n",
      "Model performance on training data:\n",
      "\n",
      "Regression statistics\n",
      "\n",
      "                      Mean Error (ME) : -0.0000\n",
      "       Root Mean Squared Error (RMSE) : 34.8867\n",
      "            Mean Absolute Error (MAE) : 27.1374\n",
      "          Mean Percentage Error (MPE) : -4.5313\n",
      "Mean Absolute Percentage Error (MAPE) : 20.1672\n",
      "\n",
      "Model performance on validation data:\n",
      "\n",
      "Regression statistics\n",
      "\n",
      "                      Mean Error (ME) : -1.8591\n",
      "       Root Mean Squared Error (RMSE) : 36.1129\n",
      "            Mean Absolute Error (MAE) : 28.5252\n",
      "          Mean Percentage Error (MPE) : -6.7084\n",
      "Mean Absolute Percentage Error (MAPE) : 21.7198\n"
     ]
    }
   ],
   "source": [
    "#6.3.c.iv.\n",
    "ivPredictors = iiBest_variables\n",
    "outcome = targetVar\n",
    "\n",
    "Xiv = airTrain_X[ivPredictors]\n",
    "yiv = airTrain_y\n",
    "\n",
    "# fit the regression model y on x\n",
    "airBest_lm = LinearRegression()\n",
    "airBest_lm.fit(Xiv,yiv)\n",
    "\n",
    "# print coefficients\n",
    "print('intercept ', airBest_lm.intercept_)\n",
    "print(pd.DataFrame({'Predictor': Xiv.columns, 'coefficient': airBest_lm.coef_}))\n",
    "\n",
    "# print performance measures (training set)\n",
    "print(\"\\nModel performance on training data:\")\n",
    "regressionSummary(airTrain_y, airBest_lm.predict(airTrain_X[ivPredictors]))\n",
    "\n",
    "# predict prices in validation set, print first few predicted/actual values and residuals\n",
    "best_lm_pred = airBest_lm.predict(airValid_X[ivPredictors])\n",
    "\n",
    "# print performance measures (validation set)\n",
    "print(\"\\nModel performance on validation data:\")\n",
    "regressionSummary(airValid_y, best_lm_pred)"
   ]
  },
  {
   "cell_type": "code",
   "execution_count": 17,
   "metadata": {},
   "outputs": [
    {
     "name": "stdout",
     "output_type": "stream",
     "text": [
      "                            OLS Regression Results                            \n",
      "==============================================================================\n",
      "Dep. Variable:                   FARE   R-squared:                       0.781\n",
      "Model:                            OLS   Adj. R-squared:                  0.773\n",
      "Method:                 Least Squares   F-statistic:                     101.0\n",
      "Date:                Wed, 05 Jul 2023   Prob (F-statistic):          1.21e-112\n",
      "Time:                        16:54:26   Log-Likelihood:                -1897.6\n",
      "No. Observations:                 382   AIC:                             3823.\n",
      "Df Residuals:                     368   BIC:                             3878.\n",
      "Df Model:                          13                                         \n",
      "Covariance Type:            nonrobust                                         \n",
      "========================================================================================\n",
      "                           coef    std err          t      P>|t|      [0.025      0.975]\n",
      "----------------------------------------------------------------------------------------\n",
      "Intercept               52.9728     35.288      1.501      0.134     -16.418     122.364\n",
      "VACATION_Yes[T.True]   -35.2061      4.761     -7.395      0.000     -44.567     -25.845\n",
      "SW_Yes[T.True]         -42.1571      4.734     -8.905      0.000     -51.467     -32.848\n",
      "SLOT_Free[T.True]      -13.5332      5.000     -2.707      0.007     -23.366      -3.701\n",
      "GATE_Free[T.True]      -21.1858      5.137     -4.124      0.000     -31.287     -11.085\n",
      "COUPON                 -11.7440     15.602     -0.753      0.452     -42.424      18.936\n",
      "NEW                     -2.5082      2.463     -1.018      0.309      -7.352       2.336\n",
      "HI                       0.0069      0.001      5.309      0.000       0.004       0.009\n",
      "S_INCOME                 0.0006      0.001      0.959      0.338      -0.001       0.002\n",
      "E_INCOME                 0.0012      0.000      2.693      0.007       0.000       0.002\n",
      "S_POP                 3.917e-06   8.63e-07      4.540      0.000    2.22e-06    5.61e-06\n",
      "E_POP                 4.424e-06    9.7e-07      4.561      0.000    2.52e-06    6.33e-06\n",
      "DISTANCE                 0.0778      0.005     16.772      0.000       0.069       0.087\n",
      "PAX                     -0.0009      0.000     -5.103      0.000      -0.001      -0.001\n",
      "==============================================================================\n",
      "Omnibus:                        5.397   Durbin-Watson:                   2.110\n",
      "Prob(Omnibus):                  0.067   Jarque-Bera (JB):                5.305\n",
      "Skew:                           0.230   Prob(JB):                       0.0705\n",
      "Kurtosis:                       3.350   Cond. No.                     1.25e+08\n",
      "==============================================================================\n",
      "\n",
      "Notes:\n",
      "[1] Standard Errors assume that the covariance matrix of the errors is correctly specified.\n",
      "[2] The condition number is large, 1.25e+08. This might indicate that there are\n",
      "strong multicollinearity or other numerical problems.\n",
      "                            OLS Regression Results                            \n",
      "==============================================================================\n",
      "Dep. Variable:                   FARE   R-squared:                       0.780\n",
      "Model:                            OLS   Adj. R-squared:                  0.774\n",
      "Method:                 Least Squares   F-statistic:                     131.2\n",
      "Date:                Wed, 05 Jul 2023   Prob (F-statistic):          3.06e-115\n",
      "Time:                        16:54:26   Log-Likelihood:                -1898.9\n",
      "No. Observations:                 382   AIC:                             3820.\n",
      "Df Residuals:                     371   BIC:                             3863.\n",
      "Df Model:                          10                                         \n",
      "Covariance Type:            nonrobust                                         \n",
      "========================================================================================\n",
      "                           coef    std err          t      P>|t|      [0.025      0.975]\n",
      "----------------------------------------------------------------------------------------\n",
      "Intercept               52.8910     16.595      3.187      0.002      20.260      85.522\n",
      "SW_Yes[T.True]         -43.0313      4.496     -9.572      0.000     -51.871     -34.191\n",
      "VACATION_Yes[T.True]   -35.8656      4.561     -7.864      0.000     -44.834     -26.897\n",
      "GATE_Free[T.True]      -21.4108      5.107     -4.192      0.000     -31.453     -11.368\n",
      "SLOT_Free[T.True]      -13.9153      4.922     -2.827      0.005     -23.594      -4.237\n",
      "DISTANCE                 0.0756      0.003     22.653      0.000       0.069       0.082\n",
      "HI                       0.0072      0.001      5.816      0.000       0.005       0.010\n",
      "PAX                     -0.0008      0.000     -5.075      0.000      -0.001      -0.001\n",
      "E_POP                 4.052e-06   9.26e-07      4.374      0.000    2.23e-06    5.87e-06\n",
      "S_POP                 4.129e-06   8.44e-07      4.892      0.000    2.47e-06    5.79e-06\n",
      "E_INCOME                 0.0011      0.000      2.534      0.012       0.000       0.002\n",
      "==============================================================================\n",
      "Omnibus:                        5.297   Durbin-Watson:                   2.086\n",
      "Prob(Omnibus):                  0.071   Jarque-Bera (JB):                5.358\n",
      "Skew:                           0.210   Prob(JB):                       0.0686\n",
      "Kurtosis:                       3.401   Cond. No.                     5.71e+07\n",
      "==============================================================================\n",
      "\n",
      "Notes:\n",
      "[1] Standard Errors assume that the covariance matrix of the errors is correctly specified.\n",
      "[2] The condition number is large, 5.71e+07. This might indicate that there are\n",
      "strong multicollinearity or other numerical problems.\n"
     ]
    }
   ],
   "source": [
    "airTrain_df = airTrain_X.join(airTrain_y)\n",
    "airValid_df = airValid_X.join(airValid_y)\n",
    "\n",
    "airAllPredictors = airTrain_X.columns\n",
    "formulaRaw = 'FARE ~ ' + ' + '.join(airAllPredictors)\n",
    "formulaTrain = 'FARE ~ ' + ' + '.join(iiBest_variables)\n",
    "\n",
    "airRaw_lm = smf.ols(formula=formulaRaw, data=airTrain_df).fit()\n",
    "airTrain_lm = smf.ols(formula=formulaTrain, data=airTrain_df).fit()\n",
    "print(airRaw_lm.summary())\n",
    "print(airTrain_lm.summary())"
   ]
  },
  {
   "cell_type": "code",
   "execution_count": 18,
   "metadata": {},
   "outputs": [
    {
     "name": "stdout",
     "output_type": "stream",
     "text": [
      "Raw\n",
      "\n",
      "Regression statistics\n",
      "\n",
      "                      Mean Error (ME) : -1.8231\n",
      "       Root Mean Squared Error (RMSE) : 36.0002\n",
      "            Mean Absolute Error (MAE) : 28.5002\n",
      "          Mean Percentage Error (MPE) : -6.6037\n",
      "Mean Absolute Percentage Error (MAPE) : 21.6048\n",
      "      Predicted  Actual   Residual\n",
      "474  324.804199  367.72  42.915801\n",
      "162  316.438512  301.79 -14.648512\n",
      "523  314.150454  289.25 -24.900454\n",
      "521  306.497788  289.25 -17.247788\n",
      "488  305.238415  374.40  69.161585\n",
      "\n",
      "\n",
      "Best Values\n",
      "\n",
      "Regression statistics\n",
      "\n",
      "                      Mean Error (ME) : -1.8591\n",
      "       Root Mean Squared Error (RMSE) : 36.1129\n",
      "            Mean Absolute Error (MAE) : 28.5252\n",
      "          Mean Percentage Error (MPE) : -6.7084\n",
      "Mean Absolute Percentage Error (MAPE) : 21.7198\n",
      "      Predicted  Actual   Residual\n",
      "474  322.922574  367.72  44.797426\n",
      "162  311.989227  301.79 -10.199227\n",
      "523  307.396257  289.25 -18.146257\n",
      "333  305.032866  293.21 -11.822866\n",
      "488  302.587059  374.40  71.812941\n"
     ]
    }
   ],
   "source": [
    "airRaw_lm_pred = airRaw_lm.predict(airValid_X)\n",
    "airTrain_lm_pred = airTrain_lm.predict(airValid_X)\n",
    "\n",
    "resultPredRaw = pd.DataFrame({'Predicted': airRaw_lm_pred, 'Actual': airValid_y,\n",
    "                       'Residual': airValid_y - airRaw_lm_pred})\n",
    "resultPredTrain = pd.DataFrame({'Predicted': airTrain_lm_pred, 'Actual': airValid_y,\n",
    "                       'Residual': airValid_y - airTrain_lm_pred})\n",
    "\n",
    "\n",
    "\n",
    "# Compute common accuracy measures\n",
    "print('Raw')\n",
    "regressionSummary(airValid_y, airRaw_lm_pred)\n",
    "print(resultPredRaw.sort_values(by='Predicted',ascending=False).head(5))\n",
    "print('\\n\\nBest Values')\n",
    "regressionSummary(airValid_y, airTrain_lm_pred)\n",
    "print(resultPredTrain.sort_values(by='Predicted',ascending=False).head(5))"
   ]
  },
  {
   "cell_type": "code",
   "execution_count": 19,
   "metadata": {},
   "outputs": [],
   "source": [
    "liftChart(resultPredTrain.sort_values(by=['Predicted'], ascending=False).Predicted, labelBars=True, title='Refined Predictors')\n",
    "plt.tight_layout()\n",
    "plt.show()"
   ]
  },
  {
   "attachments": {},
   "cell_type": "markdown",
   "metadata": {},
   "source": [
    "# 6.3.c.v"
   ]
  },
  {
   "cell_type": "code",
   "execution_count": 150,
   "metadata": {},
   "outputs": [
    {
     "name": "stdout",
     "output_type": "stream",
     "text": [
      "    Predicted  Data Mean    Residual\n",
      "0  251.721531      144.6 -107.121531\n"
     ]
    }
   ],
   "source": [
    "#6.3.c.v\n",
    "airV = {'COUPON':[1.202],'NEW':[3],'HI':[4442.141],'S_INCOME':[28760],'E_INCOME':[27664],'S_POP':[4557004],'E_POP':[3195503],'DISTANCE':[1976],'PAX':[12782],'VACATION_Yes':[False],'SW_Yes':[False],'SLOT_Free':[True],'GATE_Free':[True]}\n",
    "dfairV = pd.DataFrame(data=airV)\n",
    "air_lm_pred = airTrain_lm.predict(dfairV)\n",
    "\n",
    "result = pd.DataFrame({'Predicted': air_lm_pred, 'Data Mean': 144.60,\n",
    "                       'Residual': 144.60 - air_lm_pred})\n",
    "print(result.head(1))"
   ]
  },
  {
   "attachments": {},
   "cell_type": "markdown",
   "metadata": {},
   "source": [
    "# 6.3.c.vi"
   ]
  },
  {
   "cell_type": "code",
   "execution_count": 151,
   "metadata": {},
   "outputs": [
    {
     "name": "stdout",
     "output_type": "stream",
     "text": [
      "    Predicted  Data Mean   Residual\n",
      "0  208.690259      144.6 -64.090259\n"
     ]
    }
   ],
   "source": [
    "#6.3.c.vi\n",
    "airV = {'COUPON':[1.202],'NEW':[3],'HI':[4442.141],'S_INCOME':[28760],'E_INCOME':[27664],'S_POP':[4557004],'E_POP':[3195503],'DISTANCE':[1976],'PAX':[12782],'VACATION_Yes':[False],'SW_Yes':[True],'SLOT_Free':[True],'GATE_Free':[True]}\n",
    "dfairV = pd.DataFrame(data=airV)\n",
    "air_lm_pred = airTrain_lm.predict(dfairV)\n",
    "\n",
    "result = pd.DataFrame({'Predicted': air_lm_pred, 'Data Mean': 144.60,\n",
    "                       'Residual': 144.60 - air_lm_pred})\n",
    "print(result.head(1))"
   ]
  },
  {
   "attachments": {},
   "cell_type": "markdown",
   "metadata": {},
   "source": [
    "# 6.3.c.viii"
   ]
  },
  {
   "cell_type": "code",
   "execution_count": 152,
   "metadata": {},
   "outputs": [],
   "source": [
    "viiiVar = ['COUPON', 'S_INCOME', 'E_INCOME', 'S_POP', 'E_POP', 'DISTANCE', 'VACATION_Yes', 'SW_Yes', 'SLOT_Free', 'GATE_Free']\n",
    "resultsViii = exhaustive_search(viiiVar, air_train_model_exhaustive, air_score_model_exhaustive)\n",
    "\n",
    "dataViii = []\n",
    "for result in resultsViii:\n",
    "    model = result['model']\n",
    "    variables = result['variables']\n",
    "    AIC = AIC_score(airTrain_y, model.predict(airTrain_X[variables]), model)\n",
    "    \n",
    "    d = {'n': result['n'], 'r2adj': -result['score'], 'AIC': AIC}\n",
    "    d.update({var: var in result['variables'] for var in viiiVar})\n",
    "    dataViii.append(d)"
   ]
  },
  {
   "cell_type": "code",
   "execution_count": 153,
   "metadata": {},
   "outputs": [
    {
     "name": "stdout",
     "output_type": "stream",
     "text": [
      "   n     r2adj          AIC  COUPON  DISTANCE  E_INCOME  E_POP  GATE_Free  SLOT_Free  SW_Yes  S_INCOME  S_POP  VACATION_Yes\n",
      "5  6  0.731941  3882.437877   False      True      True  False       True       True    True     False  False          True\n"
     ]
    }
   ],
   "source": [
    "pd.set_option('display.width', 200)\n",
    "dfViiiExhaust = pd.DataFrame(dataViii, columns=('n', 'r2adj', 'AIC') + tuple(sorted(viiiVar)))\n",
    "print(dfViiiExhaust.sort_values(by=['AIC'],ascending=True).head(1))\n",
    "pd.reset_option('display.width')"
   ]
  },
  {
   "cell_type": "code",
   "execution_count": 154,
   "metadata": {},
   "outputs": [],
   "source": [
    "viiiPredictors = ['E_INCOME','DISTANCE', 'VACATION_Yes', 'SW_Yes', 'SLOT_Free', 'GATE_Free']"
   ]
  },
  {
   "cell_type": "code",
   "execution_count": 155,
   "metadata": {},
   "outputs": [
    {
     "name": "stdout",
     "output_type": "stream",
     "text": [
      "intercept  116.69083767592343\n",
      "      Predictor  coefficient\n",
      "0      E_INCOME     0.001185\n",
      "1      DISTANCE     0.073214\n",
      "2  VACATION_Yes   -48.644853\n",
      "3        SW_Yes   -49.831845\n",
      "4     SLOT_Free   -13.815639\n",
      "5     GATE_Free   -26.885524\n",
      "\n",
      "Model performance on training data:\n",
      "\n",
      "Regression statistics\n",
      "\n",
      "                      Mean Error (ME) : -0.0000\n",
      "       Root Mean Squared Error (RMSE) : 38.1621\n",
      "            Mean Absolute Error (MAE) : 30.1802\n",
      "          Mean Percentage Error (MPE) : -5.4799\n",
      "Mean Absolute Percentage Error (MAPE) : 21.9127\n",
      "\n",
      "Model performance on validation data:\n",
      "\n",
      "Regression statistics\n",
      "\n",
      "                      Mean Error (ME) : -0.9244\n",
      "       Root Mean Squared Error (RMSE) : 40.2294\n",
      "            Mean Absolute Error (MAE) : 31.9391\n",
      "          Mean Percentage Error (MPE) : -7.0825\n",
      "Mean Absolute Percentage Error (MAPE) : 23.5055\n"
     ]
    }
   ],
   "source": [
    "Xviii = airTrain_X[viiiPredictors]\n",
    "yviii = airTrain_y\n",
    "\n",
    "# fit the regression model y on x\n",
    "viii_lm = LinearRegression()\n",
    "viii_lm.fit(Xviii,yviii)\n",
    "\n",
    "# print coefficients\n",
    "print('intercept ', viii_lm.intercept_)\n",
    "print(pd.DataFrame({'Predictor': Xviii.columns, 'coefficient': viii_lm.coef_}))\n",
    "\n",
    "# print performance measures (training set)\n",
    "print(\"\\nModel performance on training data:\")\n",
    "regressionSummary(airTrain_y, viii_lm.predict(airTrain_X[viiiPredictors]))\n",
    "\n",
    "# predict prices in validation set, print first few predicted/actual values and residuals\n",
    "viii_lm_pred = viii_lm.predict(airValid_X[viiiPredictors])\n",
    "\n",
    "# print performance measures (validation set)\n",
    "print(\"\\nModel performance on validation data:\")\n",
    "regressionSummary(airValid_y, viii_lm_pred)"
   ]
  },
  {
   "attachments": {},
   "cell_type": "markdown",
   "metadata": {},
   "source": [
    "# 6.3.c.ix"
   ]
  },
  {
   "cell_type": "code",
   "execution_count": 156,
   "metadata": {},
   "outputs": [
    {
     "name": "stdout",
     "output_type": "stream",
     "text": [
      "    Predicted  Data Mean    Residual\n",
      "0  253.434984      144.6 -108.834984\n"
     ]
    }
   ],
   "source": [
    "#6.3.c.ix\n",
    "airV = {'COUPON':[1.202],'NEW':[3],'HI':[4442.141],'S_INCOME':[28760],'E_INCOME':[27664],'S_POP':[4557004],'E_POP':[3195503],'DISTANCE':[1976],'PAX':[12782],'VACATION_Yes':[False],'SW_Yes':[False],'SLOT_Free':[True],'GATE_Free':[True]}\n",
    "dfairV = pd.DataFrame(data=airV)\n",
    "ix_lm_pred = viii_lm.predict(dfairV[viiiPredictors])\n",
    "\n",
    "result = pd.DataFrame({'Predicted': ix_lm_pred, 'Data Mean': 144.60,\n",
    "                       'Residual': 144.60 - ix_lm_pred})\n",
    "print(result.head(1))"
   ]
  },
  {
   "attachments": {},
   "cell_type": "markdown",
   "metadata": {},
   "source": [
    "## 6.3.d.\n",
    "The analysis would have to focus on the impact of SW on the outcome rather than FARE in the beginning. <br>&emsp; &emsp; &emsp;\n",
    "My first step in changing my analysis would be to run the initial correlation on SW instead of FARE.<br>&emsp; &emsp; &emsp;\n",
    "Overall for the analysis, the regression analysis was able to point out that areas with SW had lower fares. <br>&emsp; &emsp; &emsp;\n",
    "This is unsurprising. The next step would be to gather publicly available data or purchase data on SW as an<br>&emsp; &emsp; &emsp;\n",
    "entity to examine and compare its data vs its competitors."
   ]
  },
  {
   "attachments": {},
   "cell_type": "markdown",
   "metadata": {},
   "source": [
    "# 6.4"
   ]
  },
  {
   "attachments": {},
   "cell_type": "markdown",
   "metadata": {},
   "source": [
    "##### Below I am preparing the dataset per the text."
   ]
  },
  {
   "cell_type": "code",
   "execution_count": 202,
   "metadata": {},
   "outputs": [],
   "source": [
    "#Splitting the Data\n",
    "dfCar= readFile(r'E:\\Aliit\\School\\MSBA\\206\\dmba-datasets\\ToyotaCorolla.csv')\n",
    "targetVar = 'Price'\n",
    "predictors = ['Age_08_04','KM','Fuel_Type','HP','Automatic','Doors','Quarterly_Tax','Mfr_Guarantee','Guarantee_Period',\n",
    "              'Airco','Automatic_airco','CD_Player','Powered_Windows','Sport_Model','Tow_Bar']\n",
    "outcome = 'Price'\n",
    "\n",
    "# partition data\n",
    "Xcar = pd.get_dummies(dfCar[predictors], drop_first=True)\n",
    "ycar = dfCar[targetVar]\n",
    "\n",
    "carTrain_X, carTemp_X, carTrain_y, carTemp_y = train_test_split(Xcar, ycar, test_size=0.5, random_state=1)\n",
    "carValid_X, carTest_X, carValid_y, carTest_y = train_test_split(carTemp_X, carTemp_y, test_size=0.4, random_state=1)"
   ]
  },
  {
   "attachments": {},
   "cell_type": "markdown",
   "metadata": {},
   "source": [
    "#### Below I am running an exhaustive search to get the best results."
   ]
  },
  {
   "cell_type": "code",
   "execution_count": 158,
   "metadata": {},
   "outputs": [],
   "source": [
    "#This section takes 1m 36.7s\n",
    "carAllVariables = carTrain_X.columns\n",
    "carResults = exhaustive_search(carAllVariables, car_train_model_exhaustive, car_score_model_exhaustive)\n",
    "\n",
    "carData = []\n",
    "for result in carResults:\n",
    "    model = result['model']\n",
    "    variables = result['variables']\n",
    "    AIC = AIC_score(carTrain_y, model.predict(carTrain_X[variables]), model)\n",
    "    \n",
    "    d = {'n': result['n'], 'r2adj': -result['score'], 'AIC': AIC}\n",
    "    d.update({var: var in result['variables'] for var in carAllVariables})\n",
    "    carData.append(d)\n"
   ]
  },
  {
   "attachments": {},
   "cell_type": "markdown",
   "metadata": {},
   "source": [
    "#### Below I am finding the best AIC value and extracting the list. \n",
    "##### NOTE: I made the function exhaustivePred to enable extraction of the best predictors. MUCH EASIER! Feel free to use, though I suspect you have your own methods! It can be found towards the bottom of the top section."
   ]
  },
  {
   "cell_type": "code",
   "execution_count": 277,
   "metadata": {},
   "outputs": [
    {
     "name": "stdout",
     "output_type": "stream",
     "text": [
      "     n     r2adj           AIC  Age_08_04  Airco  Automatic  Automatic_airco  CD_Player  Doors  Fuel_Type_Diesel  Fuel_Type_Petrol  Guarantee_Period    HP    KM  Mfr_Guarantee  Powered_Windows  Quarterly_Tax  Sport_Model  Tow_Bar\n",
      "13  14  0.890673  12295.119559       True  False       True             True       True   True              True              True              True  True  True          False             True           True         True     True\n"
     ]
    }
   ],
   "source": [
    "dfCarExhaust = pd.DataFrame(carData, columns=('n', 'r2adj', 'AIC') + tuple(sorted(carAllVariables)))\n",
    "pd.set_option('display.width', 250)\n",
    "print(dfCarExhaust.sort_values(by=['AIC'],ascending=True).head(1))\n",
    "pd.reset_option('display.width')\n",
    "carCol = dfCarExhaust.iloc[13:14 , 3:].T\n",
    "#listify!\n",
    "carBestPred = exhaustivePred(carCol)"
   ]
  },
  {
   "attachments": {},
   "cell_type": "markdown",
   "metadata": {},
   "source": [
    "# 6.4.a\n",
    "See code below for the data. <br>\n",
    "Looking at the print out, Age_08_04, Automatic_airco, HP, and KM are the top 4 variables.\n"
   ]
  },
  {
   "cell_type": "code",
   "execution_count": 278,
   "metadata": {},
   "outputs": [
    {
     "name": "stdout",
     "output_type": "stream",
     "text": [
      "   n     r2adj           AIC  Age_08_04  Airco  Automatic  Automatic_airco  CD_Player  Doors  Fuel_Type_Diesel  Fuel_Type_Petrol  Guarantee_Period     HP     KM  Mfr_Guarantee  Powered_Windows  Quarterly_Tax  Sport_Model  Tow_Bar\n",
      "0  1  0.767948  12822.658298       True  False      False            False      False  False             False             False             False  False  False          False            False          False        False    False\n",
      "1  2  0.822266  12632.183882       True  False      False             True      False  False             False             False             False  False  False          False            False          False        False    False\n",
      "2  3  0.843045  12543.911249       True  False      False             True      False  False             False             False             False   True  False          False            False          False        False    False\n",
      "3  4  0.854682  12489.591487       True  False      False             True      False  False             False             False             False  False   True          False            False           True        False    False\n",
      "4  5  0.873818  12389.203289       True  False      False             True      False  False             False             False             False   True   True          False            False           True        False    False\n",
      "5  6  0.878197  12364.831886       True  False      False             True      False  False             False             False             False   True   True          False             True           True        False    False\n",
      "6  7  0.880581  12351.628203       True  False      False             True      False  False             False             False             False   True   True          False             True           True         True    False\n"
     ]
    }
   ],
   "source": [
    "pd.set_option('display.width', 250)\n",
    "print(dfCarExhaust.head(7))\n",
    "pd.reset_option('display.width')"
   ]
  },
  {
   "attachments": {},
   "cell_type": "markdown",
   "metadata": {},
   "source": [
    "# 6.4.b"
   ]
  },
  {
   "attachments": {},
   "cell_type": "markdown",
   "metadata": {},
   "source": [
    "Using the metrics of found in the regression statistics output I found that the chosen predictors from 6.4's prep work, <br>['Age_08_04', 'Automatic', 'Automatic_airco', 'CD_Player', 'Doors', 'Fuel_Type_Diesel', 'Fuel_Type_Petrol', 'Guarantee_Period', <br>'HP', 'KM', 'Powered_Windows', 'Quarterly_Tax', 'Sport_Model', 'Tow_Bar'], seem to almost be worse than just using all the <br>predictors. When I use what I am calling my \"gut\" predictors of ['Age_08_04', 'KM', 'HP', 'Automatic_airco'] the results <br>\n",
    "get worse. I believe I may be chasing the hare here though. Overall, the model did fine at predicting prices. Something<br>\n",
    "does show up when you look at the lift charts (found at the end). Using the \"gut\" predictors may actually yield better results <br> towards the tail end of the lift charts 1.0 lift section."
   ]
  },
  {
   "attachments": {},
   "cell_type": "markdown",
   "metadata": {},
   "source": [
    "##### Stripping data of non predictors"
   ]
  },
  {
   "cell_type": "code",
   "execution_count": 258,
   "metadata": {},
   "outputs": [
    {
     "name": "stdout",
     "output_type": "stream",
     "text": [
      "\n"
     ]
    }
   ],
   "source": [
    "carTrain_XBest = carTrain_X[carBestPred]\n",
    "carValid_XBest = carValid_X[carBestPred]\n",
    "carTest_XBest = carTest_X[carBestPred]\n",
    "\n",
    "#all variables\n",
    "carAllModel = BayesianRidge()\n",
    "carAllModel.fit(carTrain_X, carTrain_y)\n",
    "#\"best\" variables\n",
    "carBestModel = BayesianRidge()\n",
    "carBestModel.fit(carTrain_XBest, carTrain_y)\n",
    "print()"
   ]
  },
  {
   "attachments": {},
   "cell_type": "markdown",
   "metadata": {},
   "source": [
    "#### Below is using all predictors on training data"
   ]
  },
  {
   "cell_type": "code",
   "execution_count": 259,
   "metadata": {},
   "outputs": [
    {
     "name": "stdout",
     "output_type": "stream",
     "text": [
      "\n",
      "Regression statistics\n",
      "\n",
      "                      Mean Error (ME) : -0.0000\n",
      "       Root Mean Squared Error (RMSE) : 1238.2392\n",
      "            Mean Absolute Error (MAE) : 914.6711\n",
      "          Mean Percentage Error (MPE) : -0.9402\n",
      "Mean Absolute Percentage Error (MAPE) : 8.9490\n",
      "Bayesian ridge chosen regularization:  1.8475347804315634\n"
     ]
    }
   ],
   "source": [
    "regressionSummary(carTrain_y, carAllModel.predict(carTrain_X))\n",
    "print('Bayesian ridge chosen regularization: ', carAllModel.lambda_ / carAllModel.alpha_)"
   ]
  },
  {
   "attachments": {},
   "cell_type": "markdown",
   "metadata": {},
   "source": [
    "#### Below is best predictors on the training data"
   ]
  },
  {
   "cell_type": "code",
   "execution_count": 260,
   "metadata": {},
   "outputs": [
    {
     "name": "stdout",
     "output_type": "stream",
     "text": [
      "\n",
      "Regression statistics\n",
      "\n",
      "                      Mean Error (ME) : 0.0000\n",
      "       Root Mean Squared Error (RMSE) : 1239.2978\n",
      "            Mean Absolute Error (MAE) : 914.9073\n",
      "          Mean Percentage Error (MPE) : -0.9505\n",
      "Mean Absolute Percentage Error (MAPE) : 8.9595\n",
      "Bayesian ridge chosen regularization:  1.5621399808283283\n"
     ]
    }
   ],
   "source": [
    "regressionSummary(carTrain_y, carBestModel.predict(carTrain_XBest))\n",
    "print('Bayesian ridge chosen regularization: ', carBestModel.lambda_ / carBestModel.alpha_)"
   ]
  },
  {
   "attachments": {},
   "cell_type": "markdown",
   "metadata": {},
   "source": [
    "#### Below is all predictors on the validation data"
   ]
  },
  {
   "cell_type": "code",
   "execution_count": 205,
   "metadata": {},
   "outputs": [
    {
     "name": "stdout",
     "output_type": "stream",
     "text": [
      "\n",
      "Regression statistics\n",
      "\n",
      "                      Mean Error (ME) : -66.9086\n",
      "       Root Mean Squared Error (RMSE) : 1131.3560\n",
      "            Mean Absolute Error (MAE) : 908.6251\n",
      "          Mean Percentage Error (MPE) : -1.4388\n",
      "Mean Absolute Percentage Error (MAPE) : 9.4068\n",
      "Bayesian ridge chosen regularization:  1.8475347804315634\n"
     ]
    }
   ],
   "source": [
    "regressionSummary(carValid_y, carAllModel.predict(carValid_X))\n",
    "print('Bayesian ridge chosen regularization: ', carAllModel.lambda_ / carAllModel.alpha_)"
   ]
  },
  {
   "attachments": {},
   "cell_type": "markdown",
   "metadata": {},
   "source": [
    "#### Below is best predictors on the validation data"
   ]
  },
  {
   "cell_type": "code",
   "execution_count": 261,
   "metadata": {},
   "outputs": [
    {
     "name": "stdout",
     "output_type": "stream",
     "text": [
      "\n",
      "Regression statistics\n",
      "\n",
      "                      Mean Error (ME) : -69.9456\n",
      "       Root Mean Squared Error (RMSE) : 1139.5911\n",
      "            Mean Absolute Error (MAE) : 918.0126\n",
      "          Mean Percentage Error (MPE) : -1.4875\n",
      "Mean Absolute Percentage Error (MAPE) : 9.5062\n",
      "Bayesian ridge chosen regularization:  1.5621399808283283\n"
     ]
    }
   ],
   "source": [
    "regressionSummary(carValid_y, carBestModel.predict(carValid_XBest))\n",
    "print('Bayesian ridge chosen regularization: ', carBestModel.lambda_ / carBestModel.alpha_)"
   ]
  },
  {
   "attachments": {},
   "cell_type": "markdown",
   "metadata": {},
   "source": [
    "#### Below is all predictors on the test data"
   ]
  },
  {
   "cell_type": "code",
   "execution_count": 262,
   "metadata": {},
   "outputs": [
    {
     "name": "stdout",
     "output_type": "stream",
     "text": [
      "\n",
      "Regression statistics\n",
      "\n",
      "                      Mean Error (ME) : 87.5658\n",
      "       Root Mean Squared Error (RMSE) : 1278.3451\n",
      "            Mean Absolute Error (MAE) : 959.8766\n",
      "          Mean Percentage Error (MPE) : 0.3188\n",
      "Mean Absolute Percentage Error (MAPE) : 9.6202\n",
      "Bayesian ridge chosen regularization:  1.8475347804315634\n"
     ]
    }
   ],
   "source": [
    "regressionSummary(carTest_y, carAllModel.predict(carTest_X))\n",
    "print('Bayesian ridge chosen regularization: ', carAllModel.lambda_ / carAllModel.alpha_)"
   ]
  },
  {
   "attachments": {},
   "cell_type": "markdown",
   "metadata": {},
   "source": [
    "#### Below is best predictors on the test data"
   ]
  },
  {
   "cell_type": "code",
   "execution_count": 263,
   "metadata": {},
   "outputs": [
    {
     "name": "stdout",
     "output_type": "stream",
     "text": [
      "\n",
      "Regression statistics\n",
      "\n",
      "                      Mean Error (ME) : 89.7006\n",
      "       Root Mean Squared Error (RMSE) : 1280.3028\n",
      "            Mean Absolute Error (MAE) : 963.0449\n",
      "          Mean Percentage Error (MPE) : 0.3157\n",
      "Mean Absolute Percentage Error (MAPE) : 9.6577\n",
      "Bayesian ridge chosen regularization:  1.5621399808283283\n"
     ]
    }
   ],
   "source": [
    "regressionSummary(carTest_y, carBestModel.predict(carTest_XBest))\n",
    "print('Bayesian ridge chosen regularization: ', carBestModel.lambda_ / carBestModel.alpha_)"
   ]
  },
  {
   "cell_type": "code",
   "execution_count": 266,
   "metadata": {},
   "outputs": [
    {
     "name": "stdout",
     "output_type": "stream",
     "text": [
      "Training\n",
      "        Predicted  Actual     Residual\n",
      "115  23080.641171   24990  1909.358829\n",
      "12   21764.973346   19600 -2164.973346\n",
      "119  21564.678430   22250   685.321570\n",
      "175  21368.087090   19950 -1418.087090\n",
      "167  21116.526846   20950  -166.526846\n",
      "159  21097.189778   19750 -1347.189778\n",
      "91   20818.263465   22250  1431.736535\n",
      "165  20617.050383   19950  -667.050383\n",
      "156  20165.420901   19500  -665.420901\n",
      "158  20159.644183   19750  -409.644183\n",
      "Validation\n",
      "        Predicted  Actual     Residual\n",
      "115  23025.395948   24990  1964.604052\n",
      "12   21740.324013   19600 -2140.324013\n",
      "119  21525.909950   22250   724.090050\n",
      "175  21337.797297   19950 -1387.797297\n",
      "159  21191.208058   19750 -1441.208058\n",
      "167  21080.527627   20950  -130.527627\n",
      "91   20891.329371   22250  1358.670629\n",
      "165  20707.828877   19950  -757.828877\n",
      "158  20248.396015   19750  -498.396015\n",
      "156  20129.456627   19500  -629.456627\n"
     ]
    }
   ],
   "source": [
    "carRaw_lm_pred = carAllModel.predict(carValid_X)\n",
    "carTrain_lm_pred = carBestModel.predict(carValid_XBest)\n",
    "\n",
    "resultPredRaw = pd.DataFrame({'Predicted': carRaw_lm_pred, 'Actual': carValid_y,\n",
    "                       'Residual': carValid_y - carRaw_lm_pred})\n",
    "resultPredTrain = pd.DataFrame({'Predicted': carTrain_lm_pred, 'Actual': carValid_y,\n",
    "                       'Residual': carValid_y - carTrain_lm_pred})\n",
    "# Compute common accuracy measures\n",
    "print('Training')\n",
    "print(resultPredRaw.sort_values(by='Predicted',ascending=False).head(10))\n",
    "print('Validation')\n",
    "print(resultPredTrain.sort_values(by='Predicted',ascending=False).head(10))"
   ]
  },
  {
   "attachments": {},
   "cell_type": "markdown",
   "metadata": {},
   "source": [
    "#### Using my gut feeling best predictors"
   ]
  },
  {
   "cell_type": "code",
   "execution_count": 268,
   "metadata": {},
   "outputs": [
    {
     "name": "stdout",
     "output_type": "stream",
     "text": [
      "\n"
     ]
    }
   ],
   "source": [
    "gutCheck = ['Age_08_04','KM','HP','Automatic_airco']\n",
    "carTrain_XGut = carTrain_XBest[gutCheck]\n",
    "carValid_XGut = carValid_XBest[gutCheck]\n",
    "carTest_XGut = carTest_XBest[gutCheck]\n",
    "\n",
    "carGutModel = BayesianRidge()\n",
    "carGutModel.fit(carTrain_XGut, carTrain_y)\n",
    "print()"
   ]
  },
  {
   "cell_type": "code",
   "execution_count": 269,
   "metadata": {},
   "outputs": [
    {
     "name": "stdout",
     "output_type": "stream",
     "text": [
      "\n",
      "Regression statistics\n",
      "\n",
      "                      Mean Error (ME) : -0.0000\n",
      "       Root Mean Squared Error (RMSE) : 1449.9815\n",
      "            Mean Absolute Error (MAE) : 1031.4049\n",
      "          Mean Percentage Error (MPE) : -1.2439\n",
      "Mean Absolute Percentage Error (MAPE) : 9.7999\n",
      "Bayesian ridge chosen regularization:  0.6816427785433855\n"
     ]
    }
   ],
   "source": [
    "#Train Data\n",
    "regressionSummary(carTrain_y, carGutModel.predict(carTrain_XGut))\n",
    "print('Bayesian ridge chosen regularization: ', carGutModel.lambda_ / carGutModel.alpha_)"
   ]
  },
  {
   "cell_type": "code",
   "execution_count": 270,
   "metadata": {},
   "outputs": [
    {
     "name": "stdout",
     "output_type": "stream",
     "text": [
      "\n",
      "Regression statistics\n",
      "\n",
      "                      Mean Error (ME) : -96.4744\n",
      "       Root Mean Squared Error (RMSE) : 1270.2160\n",
      "            Mean Absolute Error (MAE) : 998.4093\n",
      "          Mean Percentage Error (MPE) : -2.1144\n",
      "Mean Absolute Percentage Error (MAPE) : 10.2429\n",
      "Bayesian ridge chosen regularization:  0.6816427785433855\n"
     ]
    }
   ],
   "source": [
    "#Validation Data\n",
    "regressionSummary(carValid_y, carGutModel.predict(carValid_XGut))\n",
    "print('Bayesian ridge chosen regularization: ', carGutModel.lambda_ / carGutModel.alpha_)"
   ]
  },
  {
   "cell_type": "code",
   "execution_count": 271,
   "metadata": {},
   "outputs": [
    {
     "name": "stdout",
     "output_type": "stream",
     "text": [
      "\n",
      "Regression statistics\n",
      "\n",
      "                      Mean Error (ME) : 81.5857\n",
      "       Root Mean Squared Error (RMSE) : 1428.2726\n",
      "            Mean Absolute Error (MAE) : 1080.0275\n",
      "          Mean Percentage Error (MPE) : -0.2004\n",
      "Mean Absolute Percentage Error (MAPE) : 10.6578\n",
      "Bayesian ridge chosen regularization:  0.6816427785433855\n"
     ]
    }
   ],
   "source": [
    "#Training Data\n",
    "regressionSummary(carTest_y, carGutModel.predict(carTest_XGut))\n",
    "print('Bayesian ridge chosen regularization: ', carGutModel.lambda_ / carGutModel.alpha_)"
   ]
  },
  {
   "cell_type": "code",
   "execution_count": 291,
   "metadata": {},
   "outputs": [
    {
     "name": "stdout",
     "output_type": "stream",
     "text": [
      "Training\n",
      "        Predicted  Actual     Residual\n",
      "115  23080.641171   24990  1909.358829\n",
      "12   21764.973346   19600 -2164.973346\n",
      "119  21564.678430   22250   685.321570\n",
      "175  21368.087090   19950 -1418.087090\n",
      "167  21116.526846   20950  -166.526846\n",
      "159  21097.189778   19750 -1347.189778\n",
      "91   20818.263465   22250  1431.736535\n",
      "165  20617.050383   19950  -667.050383\n",
      "156  20165.420901   19500  -665.420901\n",
      "158  20159.644183   19750  -409.644183\n",
      "Validation\n",
      "        Predicted  Actual     Residual\n",
      "115  23025.395948   24990  1964.604052\n",
      "12   21740.324013   19600 -2140.324013\n",
      "119  21525.909950   22250   724.090050\n",
      "175  21337.797297   19950 -1387.797297\n",
      "159  21191.208058   19750 -1441.208058\n",
      "167  21080.527627   20950  -130.527627\n",
      "91   20891.329371   22250  1358.670629\n",
      "165  20707.828877   19950  -757.828877\n",
      "158  20248.396015   19750  -498.396015\n",
      "156  20129.456627   19500  -629.456627\n",
      "Gut\n",
      "        Predicted  Actual     Residual\n",
      "175  21710.538318   19950 -1760.538318\n",
      "12   21567.153432   19600 -1967.153432\n",
      "115  21129.434453   24990  3860.565547\n",
      "167  20911.685582   20950    38.314418\n",
      "165  20903.224918   19950  -953.224918\n",
      "160  20565.474231   18950 -1615.474231\n",
      "159  20556.638579   19750  -806.638579\n",
      "156  20542.037488   19500 -1042.037488\n",
      "158  20414.188163   19750  -664.188163\n",
      "119  19883.181875   22250  2366.818125\n"
     ]
    }
   ],
   "source": [
    "carRaw_lm_pred = carAllModel.predict(carValid_X)\n",
    "carTrain_lm_pred = carBestModel.predict(carValid_XBest)\n",
    "carGut_lm_pred = carGutModel.predict(carValid_XGut)\n",
    "\n",
    "resultPredRaw = pd.DataFrame({'Predicted': carRaw_lm_pred, 'Actual': carValid_y,\n",
    "                       'Residual': carValid_y - carRaw_lm_pred})\n",
    "resultPredTrain = pd.DataFrame({'Predicted': carTrain_lm_pred, 'Actual': carValid_y,\n",
    "                       'Residual': carValid_y - carTrain_lm_pred})\n",
    "resultPredGut = pd.DataFrame({'Predicted': carGut_lm_pred, 'Actual': carValid_y,\n",
    "                       'Residual': carValid_y - carGut_lm_pred})\n",
    "# Compute common accuracy measures\n",
    "print('Training')\n",
    "print(resultPredRaw.sort_values(by='Predicted',ascending=False).head(10))\n",
    "print('Validation')\n",
    "print(resultPredTrain.sort_values(by='Predicted',ascending=False).head(10))\n",
    "print('Gut')\n",
    "print(resultPredGut.sort_values(by='Predicted',ascending=False).head(10))"
   ]
  },
  {
   "cell_type": "code",
   "execution_count": 292,
   "metadata": {},
   "outputs": [
    {
     "data": {
      "image/png": "[encoded data removed]",
      "text/plain": [
       "<Figure size 640x480 with 1 Axes>"
      ]
     },
     "metadata": {},
     "output_type": "display_data"
    }
   ],
   "source": [
    "liftChart(resultPredRaw.sort_values(by=['Predicted'], ascending=False).Predicted, labelBars=True, title='All Predictors')\n",
    "plt.tight_layout()\n",
    "plt.show()"
   ]
  },
  {
   "cell_type": "code",
   "execution_count": 293,
   "metadata": {},
   "outputs": [
    {
     "data": {
      "image/png": "[encoded data removed]",
      "text/plain": [
       "<Figure size 640x480 with 1 Axes>"
      ]
     },
     "metadata": {},
     "output_type": "display_data"
    }
   ],
   "source": [
    "liftChart(resultPredTrain.sort_values(by=['Predicted'], ascending=False).Predicted, labelBars=True, title='Refined Predictors')\n",
    "plt.tight_layout()\n",
    "plt.show()"
   ]
  },
  {
   "cell_type": "code",
   "execution_count": 294,
   "metadata": {},
   "outputs": [
    {
     "data": {
      "image/png": "[encoded data removed]",
      "text/plain": [
       "<Figure size 640x480 with 1 Axes>"
      ]
     },
     "metadata": {},
     "output_type": "display_data"
    }
   ],
   "source": [
    "liftChart(resultPredGut.sort_values(by=['Predicted'], ascending=False).Predicted, labelBars=True, title='Gut Predictors')\n",
    "plt.tight_layout()\n",
    "plt.show()"
   ]
  }
 ],
 "metadata": {
  "kernelspec": {
   "display_name": "Python 3",
   "language": "python",
   "name": "python3"
  },
  "language_info": {
   "codemirror_mode": {
    "name": "ipython",
    "version": 3
   },
   "file_extension": ".py",
   "mimetype": "text/x-python",
   "name": "python",
   "nbconvert_exporter": "python",
   "pygments_lexer": "ipython3",
   "version": "3.10.8"
  },
  "orig_nbformat": 4
 },
 "nbformat": 4,
 "nbformat_minor": 2
}

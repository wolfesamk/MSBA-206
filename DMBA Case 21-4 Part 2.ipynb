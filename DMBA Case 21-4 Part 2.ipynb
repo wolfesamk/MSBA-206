{
 "cells": [
  {
   "cell_type": "markdown",
   "metadata": {},
   "source": [
    "##### <p> Samuel Wolfe <br> July 26, 2023 <br> MSBA 206 <br> DMBA Case 21.4 Part 2</p>"
   ]
  },
  {
   "cell_type": "code",
   "execution_count": 1,
   "metadata": {},
   "outputs": [],
   "source": [
    "%matplotlib inline\n",
    "from pathlib import Path\n",
    "import pandas as pd\n",
    "import requests\n",
    "import io\n",
    "import matplotlib.pylab as plt\n",
    "import numpy as np\n",
    "from sklearn import preprocessing\n",
    "from sklearn.preprocessing import StandardScaler, MinMaxScaler\n",
    "from sklearn.svm import SVC\n",
    "from sklearn.model_selection import train_test_split, KFold, cross_val_score, GridSearchCV\n",
    "from sklearn.naive_bayes import MultinomialNB\n",
    "from sklearn.metrics import accuracy_score\n",
    "from sklearn.neighbors import NearestNeighbors, KNeighborsClassifier, KNeighborsRegressor\n",
    "from sklearn.metrics import accuracy_score, confusion_matrix, mean_squared_error\n",
    "from dmba import regressionSummary, classificationSummary, liftChart, gainsChart"
   ]
  },
  {
   "cell_type": "code",
   "execution_count": 2,
   "metadata": {},
   "outputs": [],
   "source": [
    "def readFile(url):\n",
    "    download = requests.get(url).content\n",
    "    # Reading the downloaded content and turning it into a pandas dataframe\n",
    "    df = pd.read_csv(io.StringIO(download.decode('utf-8')))\n",
    "    return df\n",
    "def statslist(df):\n",
    "    dfStats = pd.DataFrame({'Mean' : df.mean(numeric_only=True),\n",
    "            'SD' : df.std(numeric_only=True),\n",
    "            'Min' : df.min(),\n",
    "            'Max' : df.max(),\n",
    "            'Median' : df.median(numeric_only=True),\n",
    "            })\n",
    "    return dfStats"
   ]
  },
  {
   "cell_type": "markdown",
   "metadata": {},
   "source": [
    "#### Importing dataset"
   ]
  },
  {
   "cell_type": "code",
   "execution_count": 3,
   "metadata": {},
   "outputs": [],
   "source": [
    "dfVote = readFile(\"https://raw.githubusercontent.com/wolfesamk/MSBA-206/main/dmba/Voter-Persuasion.csv\")\n",
    "#this second dataframe is to create different predictor groups\n",
    "dfVoteCats = readFile(\"https://raw.githubusercontent.com/wolfesamk/MSBA-206/main/dmba/Voter-Persuasion-Cats.csv\")\n",
    " #do not need these as they are duplicates of values or states as not useable\n",
    "dropCol = ['VOTER_ID','SET_NO','Partition','MOVED_AD','opposite']\n",
    "dfVoteDum = pd.get_dummies(dfVote.drop(columns=dropCol), drop_first=True, dtype='uint8')\n",
    "predictorsAll = dfVoteDum.columns.tolist()\n",
    "dfVoteDum['Partition'] = dfVote['Partition']\n",
    "outcome = 'MOVED_A'\n",
    "classes = [0,1]"
   ]
  },
  {
   "cell_type": "markdown",
   "metadata": {},
   "source": [
    "#### Creating predictor groups"
   ]
  },
  {
   "cell_type": "code",
   "execution_count": 4,
   "metadata": {},
   "outputs": [],
   "source": [
    "predictors_derived = dfVoteCats[dfVoteCats.types == 'Derived '].drop(columns='types').cats.to_list()\n",
    "predictors_census = dfVoteCats[dfVoteCats.types == 'Census'].drop(columns='types').cats.to_list()\n",
    "predictors_voterfile = dfVoteCats[dfVoteCats.types == 'Voterfile'].drop(columns='types').cats.to_list()"
   ]
  },
  {
   "cell_type": "markdown",
   "metadata": {},
   "source": [
    "#### I have opted to first use all variables. If this fails I will split the predictors by type. Derived, Commercial Data, Voterfile, Census"
   ]
  },
  {
   "cell_type": "markdown",
   "metadata": {},
   "source": [
    "## 21.4.3"
   ]
  },
  {
   "cell_type": "markdown",
   "metadata": {},
   "source": [
    "#### Split into partitions"
   ]
  },
  {
   "cell_type": "code",
   "execution_count": 5,
   "metadata": {},
   "outputs": [],
   "source": [
    "scaler = preprocessing.StandardScaler()\n",
    "scaler.fit(dfVoteDum[predictorsAll].drop(columns='MOVED_A'))\n",
    "X_dfVoteDum = scaler.transform(dfVoteDum.drop(columns=outcome).drop(columns='Partition'))\n",
    "Y_dfVoteDum = dfVoteDum[outcome]\n",
    "\n",
    "dfVote_T = dfVoteDum[dfVoteDum.Partition == 'T'].drop(columns='Partition')\n",
    "X_train = dfVote_T.drop(columns=outcome)\n",
    "Y_train = dfVote_T[outcome].to_frame()\n",
    "\n",
    "dfVote_V = dfVoteDum[dfVoteDum.Partition == 'V'].drop(columns='Partition')\n",
    "X_valid = dfVote_V.drop(columns=outcome)\n",
    "Y_valid = dfVote_V[outcome].to_frame()"
   ]
  },
  {
   "cell_type": "markdown",
   "metadata": {},
   "source": [
    "#### Normalizing the data"
   ]
  },
  {
   "cell_type": "code",
   "execution_count": 6,
   "metadata": {},
   "outputs": [],
   "source": [
    "#scaler = preprocessing.StandardScaler()\n",
    "scaler = MinMaxScaler()\n",
    "scaler.fit(X_train)\n",
    "# Transform the predictors of training, validation\n",
    "X_train_norm = scaler.transform(X_train)\n",
    "X_valid_norm = scaler.transform(X_valid)"
   ]
  },
  {
   "cell_type": "markdown",
   "metadata": {},
   "source": [
    "#### Running full dataset knn ranges"
   ]
  },
  {
   "cell_type": "code",
   "execution_count": 7,
   "metadata": {},
   "outputs": [
    {
     "name": "stdout",
     "output_type": "stream",
     "text": [
      "    k mean accuracy standard deviation\n",
      "4   9        85.73%              1.04%\n",
      "1   3        85.68%              1.13%\n",
      "2   5        85.67%              1.13%\n",
      "6  13        85.61%              1.21%\n",
      "7  15        85.56%              1.16%\n",
      "3   7        85.54%              1.12%\n",
      "8  17        85.51%              1.23%\n",
      "9  19        85.49%              1.24%\n",
      "5  11        85.47%              1.23%\n",
      "0   1        83.87%              0.94%\n"
     ]
    }
   ],
   "source": [
    "results = []\n",
    "for k in range(1,20,2):\n",
    "    kfold = KFold(n_splits=10,random_state=1,shuffle=True)\n",
    "    knn = KNeighborsClassifier(n_neighbors=k)\n",
    "    scores = cross_val_score(estimator=knn,\n",
    "                             X=X_dfVoteDum, y=Y_dfVoteDum, cv=kfold)\n",
    "    results.append({\n",
    "        'k' : k,\n",
    "        'mean accuracy' : f'{scores.mean():.2%}' ,\n",
    "        'standard deviation' : f'{scores.std():.2%}'\n",
    "    })\n",
    "results = pd.DataFrame(results).sort_values(by=['mean accuracy'],ascending=False)\n",
    "print(results)"
   ]
  },
  {
   "cell_type": "markdown",
   "metadata": {},
   "source": [
    "#### Selecting knn == 9"
   ]
  },
  {
   "cell_type": "code",
   "execution_count": 8,
   "metadata": {},
   "outputs": [
    {
     "name": "stdout",
     "output_type": "stream",
     "text": [
      "KNN == 9\n",
      "Confusion Matrix (Accuracy 0.9000)\n",
      "\n",
      "       Prediction\n",
      "Actual    0    1\n",
      "     0 2371  200\n",
      "     1  205 1276\n"
     ]
    }
   ],
   "source": [
    "knn9 = KNeighborsClassifier(n_neighbors=9).fit(X_train_norm, Y_train.MOVED_A)\n",
    "print('KNN == 9')\n",
    "classificationSummary(Y_valid, knn9.predict(X_valid_norm))"
   ]
  },
  {
   "cell_type": "markdown",
   "metadata": {},
   "source": [
    "## Naive Bayes"
   ]
  },
  {
   "cell_type": "code",
   "execution_count": 9,
   "metadata": {},
   "outputs": [],
   "source": [
    "vote_nb = MultinomialNB(alpha=1)\n",
    "vote_nb.fit(X_train_norm, Y_train.MOVED_A)\n",
    "\n",
    "# predict probabilities\n",
    "predProb_train = vote_nb.predict_proba(X_train_norm)\n",
    "predProb_valid = vote_nb.predict_proba(X_valid_norm)\n",
    "\n",
    "# predict class membership\n",
    "y_train_pred = vote_nb.predict(X_train_norm)\n",
    "y_valid_pred = vote_nb.predict(X_valid_norm)"
   ]
  },
  {
   "cell_type": "code",
   "execution_count": 10,
   "metadata": {},
   "outputs": [
    {
     "name": "stdout",
     "output_type": "stream",
     "text": [
      "Test Data Set\n",
      "Confusion Matrix (Accuracy 0.8122)\n",
      "\n",
      "       Prediction\n",
      "Actual    0    1\n",
      "     0 3120  575\n",
      "     1  542 1711\n",
      "\n",
      "Validation Data Set\n",
      "Confusion Matrix (Accuracy 0.8164)\n",
      "\n",
      "       Prediction\n",
      "Actual    0    1\n",
      "     0 2169  402\n",
      "     1  342 1139\n"
     ]
    }
   ],
   "source": [
    "print('Test Data Set')\n",
    "classificationSummary(Y_train, y_train_pred, class_names=classes) \n",
    "print()\n",
    "print('Validation Data Set')\n",
    "classificationSummary(Y_valid, y_valid_pred, class_names=classes) "
   ]
  },
  {
   "cell_type": "markdown",
   "metadata": {},
   "source": [
    "# Doing first predictors group\n",
    "#### predictors_derived"
   ]
  },
  {
   "cell_type": "markdown",
   "metadata": {},
   "source": [
    "#### Split into partitions"
   ]
  },
  {
   "cell_type": "code",
   "execution_count": 24,
   "metadata": {},
   "outputs": [],
   "source": [
    "dropCol = ['VOTER_ID','SET_NO','Partition','MOVED_AD','opposite']\n",
    "dfVoteDer = dfVote[predictors_derived]\n",
    "dfVoteDum = pd.get_dummies(dfVoteDer, drop_first=True, dtype='uint8')\n",
    "dfVoteDum['Partition'] = dfVote['Partition']\n",
    "dfVoteDum['MOVED_A'] = dfVote['MOVED_A']\n",
    "outcome = 'MOVED_A'\n",
    "classes = [0,1]"
   ]
  },
  {
   "cell_type": "code",
   "execution_count": 25,
   "metadata": {},
   "outputs": [],
   "source": [
    "scaler = preprocessing.StandardScaler()\n",
    "scaler.fit(dfVoteDum[predictors_derived])\n",
    "X_dfVoteDum = scaler.transform(dfVoteDum[predictors_derived])\n",
    "Y_dfVoteDum = dfVoteDum[outcome]\n",
    "\n",
    "dfVote_T = dfVoteDum[dfVoteDum.Partition == 'T'].drop(columns='Partition')\n",
    "X_train = dfVote_T.drop(columns=outcome)\n",
    "Y_train = dfVote_T[outcome].to_frame()\n",
    "\n",
    "dfVote_V = dfVoteDum[dfVoteDum.Partition == 'V'].drop(columns='Partition')\n",
    "X_valid = dfVote_V.drop(columns=outcome)\n",
    "Y_valid = dfVote_V[outcome].to_frame()"
   ]
  },
  {
   "cell_type": "markdown",
   "metadata": {},
   "source": [
    "#### Normalizing the data"
   ]
  },
  {
   "cell_type": "code",
   "execution_count": 26,
   "metadata": {},
   "outputs": [],
   "source": [
    "#scaler = preprocessing.StandardScaler()\n",
    "scaler = MinMaxScaler()\n",
    "scaler.fit(X_train)\n",
    "# Transform the predictors of training, validation\n",
    "X_train_norm = scaler.transform(X_train)\n",
    "X_valid_norm = scaler.transform(X_valid)"
   ]
  },
  {
   "cell_type": "markdown",
   "metadata": {},
   "source": [
    "#### Running derived dataset knn ranges"
   ]
  },
  {
   "cell_type": "code",
   "execution_count": 27,
   "metadata": {},
   "outputs": [
    {
     "name": "stdout",
     "output_type": "stream",
     "text": [
      "    k mean accuracy standard deviation\n",
      "8  17        71.53%              2.08%\n",
      "9  19        71.41%              1.72%\n",
      "7  15        71.35%              2.05%\n",
      "5  11        71.26%              2.09%\n",
      "6  13        71.07%              1.85%\n",
      "4   9        70.79%              1.97%\n",
      "3   7        70.61%              1.61%\n",
      "2   5        69.87%              1.70%\n",
      "1   3        69.29%              1.67%\n",
      "0   1        66.38%              1.53%\n"
     ]
    }
   ],
   "source": [
    "results = []\n",
    "for k in range(1,20,2):\n",
    "    kfold = KFold(n_splits=10,random_state=1,shuffle=True)\n",
    "    knn = KNeighborsClassifier(n_neighbors=k)\n",
    "    scores = cross_val_score(estimator=knn,\n",
    "                             X=X_dfVoteDum, y=Y_dfVoteDum, cv=kfold)\n",
    "    results.append({\n",
    "        'k' : k,\n",
    "        'mean accuracy' : f'{scores.mean():.2%}' ,\n",
    "        'standard deviation' : f'{scores.std():.2%}'\n",
    "    })\n",
    "results = pd.DataFrame(results).sort_values(by=['mean accuracy'],ascending=False)\n",
    "print(results)"
   ]
  },
  {
   "cell_type": "markdown",
   "metadata": {},
   "source": [
    "#### Selecting knn == 17"
   ]
  },
  {
   "cell_type": "code",
   "execution_count": 28,
   "metadata": {},
   "outputs": [
    {
     "name": "stdout",
     "output_type": "stream",
     "text": [
      "KNN == 9\n",
      "Confusion Matrix (Accuracy 0.7009)\n",
      "\n",
      "       Prediction\n",
      "Actual    0    1\n",
      "     0 2029  542\n",
      "     1  670  811\n"
     ]
    }
   ],
   "source": [
    "knn17 = KNeighborsClassifier(n_neighbors=17).fit(X_train_norm, Y_train.MOVED_A)\n",
    "print('KNN == 9')\n",
    "classificationSummary(Y_valid, knn17.predict(X_valid_norm))"
   ]
  },
  {
   "cell_type": "markdown",
   "metadata": {},
   "source": [
    "## Naive Bayes"
   ]
  },
  {
   "cell_type": "code",
   "execution_count": 29,
   "metadata": {},
   "outputs": [],
   "source": [
    "vote_nb = MultinomialNB(alpha=1)\n",
    "vote_nb.fit(X_train_norm, Y_train.MOVED_A)\n",
    "\n",
    "# predict probabilities\n",
    "predProb_train = vote_nb.predict_proba(X_train_norm)\n",
    "predProb_valid = vote_nb.predict_proba(X_valid_norm)\n",
    "\n",
    "# predict class membership\n",
    "y_train_pred = vote_nb.predict(X_train_norm)\n",
    "y_valid_pred = vote_nb.predict(X_valid_norm)"
   ]
  },
  {
   "cell_type": "code",
   "execution_count": 30,
   "metadata": {},
   "outputs": [
    {
     "name": "stdout",
     "output_type": "stream",
     "text": [
      "Test Data Set\n",
      "Confusion Matrix (Accuracy 0.6606)\n",
      "\n",
      "       Prediction\n",
      "Actual    0    1\n",
      "     0 3386  309\n",
      "     1 1710  543\n",
      "\n",
      "Validation Data Set\n",
      "Confusion Matrix (Accuracy 0.6671)\n",
      "\n",
      "       Prediction\n",
      "Actual    0    1\n",
      "     0 2354  217\n",
      "     1 1132  349\n"
     ]
    }
   ],
   "source": [
    "print('Test Data Set')\n",
    "classificationSummary(Y_train, y_train_pred, class_names=classes) \n",
    "print()\n",
    "print('Validation Data Set')\n",
    "classificationSummary(Y_valid, y_valid_pred, class_names=classes) "
   ]
  },
  {
   "cell_type": "markdown",
   "metadata": {},
   "source": [
    "predictors_census\n",
    "predictors_commercial\n",
    "predictors_voterfile"
   ]
  }
 ],
 "metadata": {
  "kernelspec": {
   "display_name": "Python 3",
   "language": "python",
   "name": "python3"
  },
  "language_info": {
   "codemirror_mode": {
    "name": "ipython",
    "version": 3
   },
   "file_extension": ".py",
   "mimetype": "text/x-python",
   "name": "python",
   "nbconvert_exporter": "python",
   "pygments_lexer": "ipython3",
   "version": "3.11.4"
  },
  "orig_nbformat": 4
 },
 "nbformat": 4,
 "nbformat_minor": 2
}

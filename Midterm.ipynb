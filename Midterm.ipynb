{
 "cells": [
  {
   "cell_type": "code",
   "execution_count": null,
   "metadata": {},
   "outputs": [],
   "source": [
    "#setting up core functions\n",
    "import pandas as pd\n",
    "import requests\n",
    "import io\n",
    "import matplotlib.pylab as plt\n",
    "import numpy as np\n",
    "import seaborn as sns\n",
    "from sklearn.model_selection import train_test_split\n",
    "from sklearn.linear_model import LinearRegression, Lasso, Ridge, LassoCV, RidgeCV, BayesianRidge\n",
    "import statsmodels.api as sm\n",
    "import statsmodels.formula.api as smf\n",
    "import matplotlib.pylab as plt\n",
    "from dmba import adjusted_r2_score, AIC_score, BIC_score\n",
    "\n",
    "from dmba import regressionSummary, exhaustive_search\n",
    "from dmba import backward_elimination, forward_selection, stepwise_selection\n",
    "from dmba import liftChart\n",
    "from dmba import adjusted_r2_score, AIC_score\n",
    "\n",
    "def readFile(url):\n",
    "    download = requests.get(url).content\n",
    "    # Reading the downloaded content and turning it into a pandas dataframe\n",
    "    df = pd.read_csv(io.StringIO(download.decode('utf-8')))\n",
    "    return df\n",
    "def normalize(df):\n",
    "    dfNorm = (df - df.mean(numeric_only=True)) / df.std(numeric_only=True)\n",
    "    dfNorm = dfNorm.dropna(axis=1)\n",
    "    return dfNorm\n",
    "def correlate(df):\n",
    "    dfCorr = df.corr(numeric_only=True)\n",
    "    return dfCorr\n",
    "def statslist(df):\n",
    "    dfStats = pd.DataFrame({'Mean' : df.mean(numeric_only=True),\n",
    "            'SD' : df.std(numeric_only=True),\n",
    "            'Min' : df.min(),\n",
    "            'Max' : df.max(),\n",
    "            'Median' : df.median(numeric_only=True),\n",
    "            })\n",
    "    return dfStats\n",
    "\n",
    "#Made this one to extract the best variables list from an exhaustive search.\n",
    "def exhaustivePred(df):\n",
    "    dfTrans = df.sort_values(by=['AIC'],ascending=True).head(1).T\n",
    "    dfY = dfTrans.columns.values.tolist()\n",
    "    predList = []\n",
    "    for x in dfTrans.index:\n",
    "        if dfTrans.loc[x][dfY[0]] == True:\n",
    "            predList.append(x)\n",
    "    return predList"
   ]
  }
 ],
 "metadata": {
  "language_info": {
   "name": "python"
  },
  "orig_nbformat": 4
 },
 "nbformat": 4,
 "nbformat_minor": 2
}

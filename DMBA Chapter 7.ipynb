{
  "cells": [
    {
      "cell_type": "markdown",
      "metadata": {
        "id": "56mvDkiWdBWe"
      },
      "source": [
        "##### <p> Samuel Wolfe <br> July 18th, 2023 <br> MSBA 206 <br> DMBA Chapter 7 Homework 7.2 & 7.3 </p>"
      ]
    },
    {
      "cell_type": "code",
      "execution_count": 2,
      "metadata": {
        "id": "G2c08JT9dBWh"
      },
      "outputs": [],
      "source": [
        "%matplotlib inline\n",
        "from pathlib import Path\n",
        "import pandas as pd\n",
        "import requests\n",
        "import io\n",
        "from sklearn import preprocessing\n",
        "from sklearn.svm import SVC\n",
        "from sklearn.model_selection import train_test_split, KFold, cross_val_score\n",
        "from sklearn.metrics import accuracy_score\n",
        "from sklearn.neighbors import NearestNeighbors, KNeighborsClassifier, KNeighborsRegressor\n",
        "from dmba import regressionSummary, classificationSummary, liftChart, gainsChart\n",
        "from sklearn.metrics import accuracy_score, confusion_matrix, mean_squared_error\n",
        "import matplotlib.pylab as plt\n",
        "import numpy as np"
      ]
    },
    {
      "cell_type": "code",
      "execution_count": 3,
      "metadata": {
        "id": "8NBKQChvdBWj"
      },
      "outputs": [],
      "source": [
        "def readFile(url):\n",
        "    download = requests.get(url).content\n",
        "    # Reading the downloaded content and turning it into a pandas dataframe\n",
        "    df = pd.read_csv(io.StringIO(download.decode('utf-8')))\n",
        "    return df\n",
        "def statslist(df):\n",
        "    dfStats = pd.DataFrame({'Mean' : df.mean(numeric_only=True),\n",
        "            'SD' : df.std(numeric_only=True),\n",
        "            'Min' : df.min(),\n",
        "            'Max' : df.max(),\n",
        "            'Median' : df.median(numeric_only=True),\n",
        "            })\n",
        "    return dfStats"
      ]
    },
    {
      "cell_type": "markdown",
      "metadata": {
        "id": "7kGicV5DdBWy"
      },
      "source": [
        "# 7.2"
      ]
    },
    {
      "cell_type": "markdown",
      "metadata": {
        "id": "ElFrlFl3dBWz"
      },
      "source": [
        "#### Import the data"
      ]
    },
    {
      "cell_type": "code",
      "execution_count": 4,
      "metadata": {
        "colab": {
          "base_uri": "https://localhost:8080/",
          "height": 305
        },
        "id": "zhodHO6EdBWz",
        "outputId": "30f4fae3-979e-4925-9f3d-54a2dbecdd60"
      },
      "outputs": [
        {
          "name": "stdout",
          "output_type": "stream",
          "text": [
            "(5000, 16)\n"
          ]
        },
        {
          "data": {
            "text/html": [
              "<div>\n",
              "<style scoped>\n",
              "    .dataframe tbody tr th:only-of-type {\n",
              "        vertical-align: middle;\n",
              "    }\n",
              "\n",
              "    .dataframe tbody tr th {\n",
              "        vertical-align: top;\n",
              "    }\n",
              "\n",
              "    .dataframe thead th {\n",
              "        text-align: right;\n",
              "    }\n",
              "</style>\n",
              "<table border=\"1\" class=\"dataframe\">\n",
              "  <thead>\n",
              "    <tr style=\"text-align: right;\">\n",
              "      <th></th>\n",
              "      <th>ID</th>\n",
              "      <th>Age</th>\n",
              "      <th>Experience</th>\n",
              "      <th>Income</th>\n",
              "      <th>ZIP Code</th>\n",
              "      <th>Family</th>\n",
              "      <th>CCAvg</th>\n",
              "      <th>Mortgage</th>\n",
              "      <th>Personal Loan</th>\n",
              "      <th>Securities Account</th>\n",
              "      <th>CD Account</th>\n",
              "      <th>Online</th>\n",
              "      <th>CreditCard</th>\n",
              "      <th>Education_1</th>\n",
              "      <th>Education_2</th>\n",
              "      <th>Education_3</th>\n",
              "    </tr>\n",
              "  </thead>\n",
              "  <tbody>\n",
              "    <tr>\n",
              "      <th>0</th>\n",
              "      <td>1</td>\n",
              "      <td>25</td>\n",
              "      <td>1</td>\n",
              "      <td>49</td>\n",
              "      <td>91107</td>\n",
              "      <td>4</td>\n",
              "      <td>1.6</td>\n",
              "      <td>0</td>\n",
              "      <td>0</td>\n",
              "      <td>1</td>\n",
              "      <td>0</td>\n",
              "      <td>0</td>\n",
              "      <td>0</td>\n",
              "      <td>1</td>\n",
              "      <td>0</td>\n",
              "      <td>0</td>\n",
              "    </tr>\n",
              "    <tr>\n",
              "      <th>1</th>\n",
              "      <td>2</td>\n",
              "      <td>45</td>\n",
              "      <td>19</td>\n",
              "      <td>34</td>\n",
              "      <td>90089</td>\n",
              "      <td>3</td>\n",
              "      <td>1.5</td>\n",
              "      <td>0</td>\n",
              "      <td>0</td>\n",
              "      <td>1</td>\n",
              "      <td>0</td>\n",
              "      <td>0</td>\n",
              "      <td>0</td>\n",
              "      <td>1</td>\n",
              "      <td>0</td>\n",
              "      <td>0</td>\n",
              "    </tr>\n",
              "    <tr>\n",
              "      <th>2</th>\n",
              "      <td>3</td>\n",
              "      <td>39</td>\n",
              "      <td>15</td>\n",
              "      <td>11</td>\n",
              "      <td>94720</td>\n",
              "      <td>1</td>\n",
              "      <td>1.0</td>\n",
              "      <td>0</td>\n",
              "      <td>0</td>\n",
              "      <td>0</td>\n",
              "      <td>0</td>\n",
              "      <td>0</td>\n",
              "      <td>0</td>\n",
              "      <td>1</td>\n",
              "      <td>0</td>\n",
              "      <td>0</td>\n",
              "    </tr>\n",
              "    <tr>\n",
              "      <th>3</th>\n",
              "      <td>4</td>\n",
              "      <td>35</td>\n",
              "      <td>9</td>\n",
              "      <td>100</td>\n",
              "      <td>94112</td>\n",
              "      <td>1</td>\n",
              "      <td>2.7</td>\n",
              "      <td>0</td>\n",
              "      <td>0</td>\n",
              "      <td>0</td>\n",
              "      <td>0</td>\n",
              "      <td>0</td>\n",
              "      <td>0</td>\n",
              "      <td>0</td>\n",
              "      <td>1</td>\n",
              "      <td>0</td>\n",
              "    </tr>\n",
              "    <tr>\n",
              "      <th>4</th>\n",
              "      <td>5</td>\n",
              "      <td>35</td>\n",
              "      <td>8</td>\n",
              "      <td>45</td>\n",
              "      <td>91330</td>\n",
              "      <td>4</td>\n",
              "      <td>1.0</td>\n",
              "      <td>0</td>\n",
              "      <td>0</td>\n",
              "      <td>0</td>\n",
              "      <td>0</td>\n",
              "      <td>0</td>\n",
              "      <td>1</td>\n",
              "      <td>0</td>\n",
              "      <td>1</td>\n",
              "      <td>0</td>\n",
              "    </tr>\n",
              "  </tbody>\n",
              "</table>\n",
              "</div>"
            ],
            "text/plain": [
              "   ID  Age  Experience  Income  ZIP Code  Family  CCAvg  Mortgage  \\\n",
              "0   1   25           1      49     91107       4    1.6         0   \n",
              "1   2   45          19      34     90089       3    1.5         0   \n",
              "2   3   39          15      11     94720       1    1.0         0   \n",
              "3   4   35           9     100     94112       1    2.7         0   \n",
              "4   5   35           8      45     91330       4    1.0         0   \n",
              "\n",
              "   Personal Loan  Securities Account  CD Account  Online  CreditCard  \\\n",
              "0              0                   1           0       0           0   \n",
              "1              0                   1           0       0           0   \n",
              "2              0                   0           0       0           0   \n",
              "3              0                   0           0       0           0   \n",
              "4              0                   0           0       0           1   \n",
              "\n",
              "   Education_1  Education_2  Education_3  \n",
              "0            1            0            0  \n",
              "1            1            0            0  \n",
              "2            1            0            0  \n",
              "3            0            1            0  \n",
              "4            0            1            0  "
            ]
          },
          "execution_count": 4,
          "metadata": {},
          "output_type": "execute_result"
        }
      ],
      "source": [
        "dfBank = readFile(\"https://raw.githubusercontent.com/wolfesamk/MSBA-206/main/dmba/UniversalBank.csv\")\n",
        "dfBank['Education'] = dfBank['Education'].astype('category')\n",
        "dfBank = pd.get_dummies(dfBank, prefix_sep='_', drop_first=False)\n",
        "print(dfBank.shape)\n",
        "dfBank.head(5)"
      ]
    },
    {
      "cell_type": "markdown",
      "metadata": {
        "id": "NxyL4_m6dBW0"
      },
      "source": [
        "#### Split into 60/40"
      ]
    },
    {
      "cell_type": "code",
      "execution_count": 5,
      "metadata": {
        "colab": {
          "base_uri": "https://localhost:8080/"
        },
        "id": "vtDbZRGEdBW0",
        "outputId": "d710d746-677c-4485-d68f-c4c977bca39b"
      },
      "outputs": [
        {
          "name": "stdout",
          "output_type": "stream",
          "text": [
            "(3000, 16) (2000, 16)\n"
          ]
        }
      ],
      "source": [
        "bank_trainData, bank_validData = train_test_split(dfBank, test_size=0.4, random_state=1)\n",
        "print(bank_trainData.shape, bank_validData.shape)"
      ]
    },
    {
      "cell_type": "markdown",
      "metadata": {
        "id": "LwRQWZBZdBW1"
      },
      "source": [
        "#### Creating customer"
      ]
    },
    {
      "cell_type": "code",
      "execution_count": 6,
      "metadata": {
        "colab": {
          "base_uri": "https://localhost:8080/",
          "height": 125
        },
        "id": "5x56cWcLdBW1",
        "outputId": "25d1d9d8-c8c6-4d35-fbc6-1e58e2df0a09"
      },
      "outputs": [
        {
          "data": {
            "text/html": [
              "<div>\n",
              "<style scoped>\n",
              "    .dataframe tbody tr th:only-of-type {\n",
              "        vertical-align: middle;\n",
              "    }\n",
              "\n",
              "    .dataframe tbody tr th {\n",
              "        vertical-align: top;\n",
              "    }\n",
              "\n",
              "    .dataframe thead th {\n",
              "        text-align: right;\n",
              "    }\n",
              "</style>\n",
              "<table border=\"1\" class=\"dataframe\">\n",
              "  <thead>\n",
              "    <tr style=\"text-align: right;\">\n",
              "      <th></th>\n",
              "      <th>Age</th>\n",
              "      <th>Experience</th>\n",
              "      <th>Income</th>\n",
              "      <th>Family</th>\n",
              "      <th>CCAvg</th>\n",
              "      <th>Mortgage</th>\n",
              "      <th>Securities Account</th>\n",
              "      <th>CD Account</th>\n",
              "      <th>Online</th>\n",
              "      <th>CreditCard</th>\n",
              "      <th>Education_1</th>\n",
              "      <th>Education_2</th>\n",
              "      <th>Education_3</th>\n",
              "    </tr>\n",
              "  </thead>\n",
              "  <tbody>\n",
              "    <tr>\n",
              "      <th>0</th>\n",
              "      <td>40</td>\n",
              "      <td>10</td>\n",
              "      <td>84</td>\n",
              "      <td>2</td>\n",
              "      <td>2</td>\n",
              "      <td>0</td>\n",
              "      <td>0</td>\n",
              "      <td>0</td>\n",
              "      <td>1</td>\n",
              "      <td>1</td>\n",
              "      <td>0</td>\n",
              "      <td>1</td>\n",
              "      <td>0</td>\n",
              "    </tr>\n",
              "  </tbody>\n",
              "</table>\n",
              "</div>"
            ],
            "text/plain": [
              "   Age  Experience  Income  Family  CCAvg  Mortgage  Securities Account  \\\n",
              "0   40          10      84       2      2         0                   0   \n",
              "\n",
              "   CD Account  Online  CreditCard  Education_1  Education_2  Education_3  \n",
              "0           0       1           1            0            1            0  "
            ]
          },
          "execution_count": 6,
          "metadata": {},
          "output_type": "execute_result"
        }
      ],
      "source": [
        "newCustomer = pd.DataFrame([{'Age': 40, 'Experience': 10, 'Income': 84, 'Family': 2, 'CCAvg': 2, 'Mortgage': 0,\n",
        "                         'Securities Account': 0, 'CD Account': 0, 'Online': 1, 'CreditCard': 1, 'Education_1': 0,\n",
        "                         'Education_2': 1, 'Education_3': 0}],\n",
        "                       columns=['Age', 'Experience', 'Income', 'Family', 'CCAvg', 'Mortgage', 'Securities Account',\n",
        "                                'CD Account', 'Online', 'CreditCard', 'Education_1', 'Education_2', 'Education_3'])\n",
        "newCustomer"
      ]
    },
    {
      "cell_type": "code",
      "execution_count": 7,
      "metadata": {
        "colab": {
          "base_uri": "https://localhost:8080/"
        },
        "id": "Fo8eqySbdBW1",
        "outputId": "148eaea0-2b12-476f-85dc-e44cc51c9d69"
      },
      "outputs": [
        {
          "name": "stdout",
          "output_type": "stream",
          "text": [
            "['Age', 'Experience', 'Income', 'Family', 'CCAvg', 'Mortgage', 'Securities Account', 'CD Account', 'Online', 'CreditCard', 'Education_1', 'Education_2', 'Education_3']\n"
          ]
        }
      ],
      "source": [
        "outcome = 'Personal Loan'\n",
        "predictors = list(dfBank.columns.drop(['ID','ZIP Code']))\n",
        "predictors.remove(outcome)\n",
        "scaler = preprocessing.StandardScaler()\n",
        "print(predictors)"
      ]
    },
    {
      "cell_type": "markdown",
      "metadata": {
        "id": "v27kluSLdBW2"
      },
      "source": [
        "#### Normalizing data"
      ]
    },
    {
      "cell_type": "code",
      "execution_count": 8,
      "metadata": {
        "colab": {
          "base_uri": "https://localhost:8080/"
        },
        "id": "tgIBI8andBW2",
        "outputId": "5425c086-7f4a-4fda-9e9f-2ff5075bb1bd"
      },
      "outputs": [
        {
          "name": "stdout",
          "output_type": "stream",
          "text": [
            "        Age  Experience    Income    Family     CCAvg  Mortgage  \\\n",
            "0 -0.486446   -0.901063  0.220892 -0.352127  0.035689 -0.559242   \n",
            "\n",
            "   Securities Account  CD Account   Online  CreditCard  Education_1  \\\n",
            "0           -0.337025   -0.252646  0.83419     1.53728    -0.838795   \n",
            "\n",
            "   Education_2  Education_3  \n",
            "0     1.591719    -0.660895  \n"
          ]
        }
      ],
      "source": [
        "scaler.fit(bank_trainData[predictors])\n",
        "#scaler.transform(train_df[predictors])\n",
        "# Transform the predictors of training, validation and newCustomer\n",
        "bank_train_X = scaler.transform(bank_trainData[predictors])\n",
        "bank_train_y = bank_trainData[outcome]\n",
        "bank_valid_X = scaler.transform(bank_validData[predictors])\n",
        "bank_valid_y = bank_validData[outcome]\n",
        "newCustomerNorm = pd.DataFrame(scaler.transform(newCustomer),\n",
        "                               columns=['Age', 'Experience', 'Income', 'Family', 'CCAvg', 'Mortgage', 'Securities Account',\n",
        "                                   'CD Account', 'Online', 'CreditCard', 'Education_1', 'Education_2', 'Education_3'])\n",
        "print(newCustomerNorm)"
      ]
    },
    {
      "cell_type": "markdown",
      "metadata": {
        "id": "zFA7hIIndBW2"
      },
      "source": [
        "#### 7.2.a knn k=1 success class of 1 for loan acceptance cutoff of 0.5"
      ]
    },
    {
      "cell_type": "code",
      "execution_count": 9,
      "metadata": {
        "colab": {
          "base_uri": "https://localhost:8080/"
        },
        "id": "ifsyJ0IBdBW2",
        "outputId": "0d3ebff9-1885-42a5-d755-2a73ac0661c2"
      },
      "outputs": [
        {
          "name": "stdout",
          "output_type": "stream",
          "text": [
            "[0]\n",
            "Distances [[0.49507362]]\n",
            "Indices [[1557]]\n",
            "Training Data\n",
            "         ID  Age  Experience  Income  ZIP Code  Family  CCAvg  Mortgage  \\\n",
            "4407  4408   37          13      71     90755       2    1.7         0   \n",
            "\n",
            "      Personal Loan  Securities Account  CD Account  Online  CreditCard  \\\n",
            "4407              0                   0           0       1           1   \n",
            "\n",
            "      Education_1  Education_2  Education_3  \n",
            "4407            0            1            0  \n"
          ]
        }
      ],
      "source": [
        "knn1 = KNeighborsClassifier(n_neighbors=1).fit(bank_train_X, bank_train_y)\n",
        "distances, indices = knn1.kneighbors(newCustomerNorm.values)\n",
        "print(knn1.predict(newCustomerNorm.values))\n",
        "print('Distances',distances)\n",
        "print('Indices',indices)\n",
        "print('Training Data\\n',bank_trainData.iloc[indices[0], :])"
      ]
    },
    {
      "cell_type": "code",
      "execution_count": 10,
      "metadata": {
        "colab": {
          "base_uri": "https://localhost:8080/"
        },
        "id": "5bLuIDchdBW2",
        "outputId": "86788b04-b08a-4539-d53f-6eb8cc1e2fdc"
      },
      "outputs": [
        {
          "name": "stdout",
          "output_type": "stream",
          "text": [
            "Confusion Matrix (Accuracy 0.9545)\n",
            "\n",
            "       Prediction\n",
            "Actual    0    1\n",
            "     0 1785   22\n",
            "     1   69  124\n"
          ]
        }
      ],
      "source": [
        "classificationSummary(bank_valid_y, knn1.predict(bank_valid_X))"
      ]
    },
    {
      "cell_type": "markdown",
      "metadata": {
        "id": "QJ0B7DzGdBW3"
      },
      "source": [
        "#### I believe this is correct, and is telling me that the new customer would be classified as not taking the personal loan."
      ]
    },
    {
      "cell_type": "markdown",
      "metadata": {
        "id": "IrY0HqH_dBW3"
      },
      "source": [
        "#### 7.2.b Given that K == 1 gives an accuracy of 95.45% I am inclined to think 1 is sufficient."
      ]
    },
    {
      "cell_type": "code",
      "execution_count": 11,
      "metadata": {
        "colab": {
          "base_uri": "https://localhost:8080/"
        },
        "id": "VlRr_qVzdBW3",
        "outputId": "09f7d625-9e1a-4693-8825-70fccd798d0f"
      },
      "outputs": [
        {
          "name": "stdout",
          "output_type": "stream",
          "text": [
            "     k  accuracy\n",
            "4    5    0.9565\n",
            "0    1    0.9545\n",
            "2    3    0.9535\n",
            "6    7    0.9520\n",
            "1    2    0.9500\n",
            "3    4    0.9495\n",
            "5    6    0.9495\n",
            "8    9    0.9475\n",
            "10  11    0.9465\n",
            "7    8    0.9460\n",
            "12  13    0.9450\n",
            "9   10    0.9435\n",
            "11  12    0.9435\n",
            "13  14    0.9435\n"
          ]
        }
      ],
      "source": [
        "results = []\n",
        "for k in range(1,15):\n",
        "    knnR = KNeighborsClassifier(n_neighbors=k).fit(bank_train_X, bank_train_y)\n",
        "    results.append({\n",
        "        'k': k,\n",
        "        'accuracy': accuracy_score(bank_valid_y, knnR.predict(bank_valid_X))\n",
        "    })\n",
        "results = pd.DataFrame(results).sort_values(by=['accuracy'],ascending=False)\n",
        "print(results)"
      ]
    },
    {
      "cell_type": "markdown",
      "metadata": {
        "id": "a4TDKT-XdBW4"
      },
      "source": [
        "#### Yes, k==1 is sufficient. But looking at the values generated we can see that k==5 has slightly improved performance."
      ]
    },
    {
      "cell_type": "markdown",
      "metadata": {
        "id": "M2AP-5TJdBW4"
      },
      "source": [
        "#### 7.2.c"
      ]
    },
    {
      "cell_type": "code",
      "execution_count": 12,
      "metadata": {
        "colab": {
          "base_uri": "https://localhost:8080/"
        },
        "id": "TX0HbTnNdBW4",
        "outputId": "90967080-2ae7-4a59-fe2d-436d96a11278"
      },
      "outputs": [
        {
          "name": "stdout",
          "output_type": "stream",
          "text": [
            "Confusion Matrix (Accuracy 0.9565)\n",
            "\n",
            "       Prediction\n",
            "Actual    0    1\n",
            "     0 1803    4\n",
            "     1   83  110\n"
          ]
        }
      ],
      "source": [
        "knn5 = KNeighborsClassifier(n_neighbors=5).fit(bank_train_X, bank_train_y)\n",
        "classificationSummary(bank_valid_y, knn5.predict(bank_valid_X))"
      ]
    },
    {
      "cell_type": "markdown",
      "metadata": {
        "id": "oO2_DB9RdBW5"
      },
      "source": [
        "#### 7.2.d"
      ]
    },
    {
      "cell_type": "code",
      "execution_count": 13,
      "metadata": {
        "colab": {
          "base_uri": "https://localhost:8080/",
          "height": 125
        },
        "id": "u0IIOO-jdBW5",
        "outputId": "c1b44c38-b9e8-4d84-871c-95a653d5a2ba"
      },
      "outputs": [
        {
          "data": {
            "text/html": [
              "<div>\n",
              "<style scoped>\n",
              "    .dataframe tbody tr th:only-of-type {\n",
              "        vertical-align: middle;\n",
              "    }\n",
              "\n",
              "    .dataframe tbody tr th {\n",
              "        vertical-align: top;\n",
              "    }\n",
              "\n",
              "    .dataframe thead th {\n",
              "        text-align: right;\n",
              "    }\n",
              "</style>\n",
              "<table border=\"1\" class=\"dataframe\">\n",
              "  <thead>\n",
              "    <tr style=\"text-align: right;\">\n",
              "      <th></th>\n",
              "      <th>Age</th>\n",
              "      <th>Experience</th>\n",
              "      <th>Income</th>\n",
              "      <th>Family</th>\n",
              "      <th>CCAvg</th>\n",
              "      <th>Mortgage</th>\n",
              "      <th>Securities Account</th>\n",
              "      <th>CD Account</th>\n",
              "      <th>Online</th>\n",
              "      <th>CreditCard</th>\n",
              "      <th>Education_1</th>\n",
              "      <th>Education_2</th>\n",
              "      <th>Education_3</th>\n",
              "    </tr>\n",
              "  </thead>\n",
              "  <tbody>\n",
              "    <tr>\n",
              "      <th>0</th>\n",
              "      <td>40</td>\n",
              "      <td>10</td>\n",
              "      <td>84</td>\n",
              "      <td>2</td>\n",
              "      <td>2</td>\n",
              "      <td>0</td>\n",
              "      <td>0</td>\n",
              "      <td>0</td>\n",
              "      <td>1</td>\n",
              "      <td>1</td>\n",
              "      <td>0</td>\n",
              "      <td>1</td>\n",
              "      <td>0</td>\n",
              "    </tr>\n",
              "  </tbody>\n",
              "</table>\n",
              "</div>"
            ],
            "text/plain": [
              "   Age  Experience  Income  Family  CCAvg  Mortgage  Securities Account  \\\n",
              "0   40          10      84       2      2         0                   0   \n",
              "\n",
              "   CD Account  Online  CreditCard  Education_1  Education_2  Education_3  \n",
              "0           0       1           1            0            1            0  "
            ]
          },
          "execution_count": 13,
          "metadata": {},
          "output_type": "execute_result"
        }
      ],
      "source": [
        "newCustomer = pd.DataFrame([{'Age': 40, 'Experience': 10, 'Income': 84, 'Family': 2, 'CCAvg': 2, 'Mortgage': 0,\n",
        "                         'Securities Account': 0, 'CD Account': 0, 'Online': 1, 'CreditCard': 1, 'Education_1': 0,\n",
        "                         'Education_2': 1, 'Education_3': 0}],\n",
        "                       columns=['Age', 'Experience', 'Income', 'Family', 'CCAvg', 'Mortgage', 'Securities Account',\n",
        "                                'CD Account', 'Online', 'CreditCard', 'Education_1', 'Education_2', 'Education_3'])\n",
        "newCustomer"
      ]
    },
    {
      "cell_type": "code",
      "execution_count": 14,
      "metadata": {
        "colab": {
          "base_uri": "https://localhost:8080/"
        },
        "id": "fmPmydJTdBW5",
        "outputId": "e1d9c629-95e3-42be-a689-ce0315b935bd"
      },
      "outputs": [
        {
          "name": "stdout",
          "output_type": "stream",
          "text": [
            "[0]\n",
            "Distances [[0.49507362 0.63219765 0.93477446 1.17852337 1.32753093]]\n",
            "Indices [[1557 1087 1690 2408 2255]]\n",
            "Training Data\n",
            "         ID  Age  Experience  Income  ZIP Code  Family  CCAvg  Mortgage  \\\n",
            "4407  4408   37          13      71     90755       2   1.70         0   \n",
            "3398  3399   40          14      62     92028       2   2.40         0   \n",
            "2913  2914   39          12      75     94501       3   2.33         0   \n",
            "2086  2087   36          12      84     90291       1   0.80         0   \n",
            "4487  4488   38          14      81     94583       1   3.60         0   \n",
            "\n",
            "      Personal Loan  Securities Account  CD Account  Online  CreditCard  \\\n",
            "4407              0                   0           0       1           1   \n",
            "3398              0                   0           0       1           1   \n",
            "2913              0                   0           0       1           1   \n",
            "2086              0                   0           0       1           1   \n",
            "4487              0                   0           0       1           1   \n",
            "\n",
            "      Education_1  Education_2  Education_3  \n",
            "4407            0            1            0  \n",
            "3398            0            1            0  \n",
            "2913            0            1            0  \n",
            "2086            0            1            0  \n",
            "4487            0            1            0  \n"
          ]
        }
      ],
      "source": [
        "distances, indices = knn5.kneighbors(newCustomerNorm.values)\n",
        "print(knn5.predict(newCustomerNorm.values))\n",
        "print('Distances',distances)\n",
        "print('Indices',indices)\n",
        "print('Training Data\\n',bank_trainData.iloc[indices[0], :])"
      ]
    },
    {
      "cell_type": "markdown",
      "metadata": {
        "id": "zIuA7cJHdBW6"
      },
      "source": [
        "#### Interesting, seems the 0.1% gain from using k==1 doesnt pay off."
      ]
    },
    {
      "cell_type": "markdown",
      "metadata": {
        "id": "BPf8cpX0dBW6"
      },
      "source": [
        "#### 7.2.e"
      ]
    },
    {
      "cell_type": "code",
      "execution_count": 15,
      "metadata": {
        "colab": {
          "base_uri": "https://localhost:8080/"
        },
        "id": "ODMql-yQdBW6",
        "outputId": "ab97b20e-db11-452a-fb51-266a851e0ddf"
      },
      "outputs": [
        {
          "name": "stdout",
          "output_type": "stream",
          "text": [
            "(2500, 16) (1500, 16) (1000, 16)\n"
          ]
        }
      ],
      "source": [
        "bank_trainData, bank_TempData = train_test_split(dfBank, test_size=0.5, random_state=1)\n",
        "bank_validData, bank_testData = train_test_split(bank_TempData, test_size=0.4, random_state=1)\n",
        "print(bank_trainData.shape, bank_validData.shape, bank_testData.shape)"
      ]
    },
    {
      "cell_type": "code",
      "execution_count": 16,
      "metadata": {
        "id": "JkOIV9W1dBW6"
      },
      "outputs": [],
      "source": [
        "scaler = preprocessing.StandardScaler()\n",
        "scaler.fit(bank_trainData[predictors])\n",
        "#scaler.transform(train_df[predictors])\n",
        "# Transform the predictors of training, validation and newCustomer\n",
        "bank_train_X = scaler.transform(bank_trainData[predictors])\n",
        "bank_train_y = bank_trainData[outcome]\n",
        "bank_valid_X = scaler.transform(bank_validData[predictors])\n",
        "bank_valid_y = bank_validData[outcome]\n",
        "bank_test_X = scaler.transform(bank_testData[predictors])\n",
        "bank_test_y = bank_testData[outcome]"
      ]
    },
    {
      "cell_type": "code",
      "execution_count": 17,
      "metadata": {},
      "outputs": [
        {
          "name": "stdout",
          "output_type": "stream",
          "text": [
            "     k  accuracy\n",
            "0    1     0.957\n",
            "2    3     0.956\n",
            "4    5     0.952\n",
            "5    6     0.948\n",
            "6    7     0.948\n",
            "3    4     0.947\n",
            "1    2     0.946\n",
            "10  11     0.946\n",
            "7    8     0.945\n",
            "8    9     0.945\n",
            "13  14     0.945\n",
            "12  13     0.944\n",
            "9   10     0.942\n",
            "11  12     0.942\n"
          ]
        }
      ],
      "source": [
        "results = []\n",
        "for k in range(1,15):\n",
        "    knnR = KNeighborsClassifier(n_neighbors=k).fit(bank_valid_X, bank_valid_y)\n",
        "    results.append({\n",
        "        'k': k,\n",
        "        'accuracy': accuracy_score(bank_test_y, knnR.predict(bank_test_X))\n",
        "    })\n",
        "results = pd.DataFrame(results).sort_values(by=['accuracy'],ascending=False)\n",
        "print(results)"
      ]
    },
    {
      "cell_type": "code",
      "execution_count": 18,
      "metadata": {
        "id": "FSQMoZMgdBW7"
      },
      "outputs": [],
      "source": [
        "knn1_2 = KNeighborsClassifier(n_neighbors=1).fit(bank_train_X, bank_train_y)"
      ]
    },
    {
      "cell_type": "code",
      "execution_count": 19,
      "metadata": {
        "colab": {
          "base_uri": "https://localhost:8080/"
        },
        "id": "lasafHt8dBW7",
        "outputId": "2857dacd-38d4-4562-d9c8-beb372d85573"
      },
      "outputs": [
        {
          "name": "stdout",
          "output_type": "stream",
          "text": [
            "Confusion Matrix (Accuracy 1.0000)\n",
            "\n",
            "       Prediction\n",
            "Actual    0    1\n",
            "     0 2259    0\n",
            "     1    0  241\n"
          ]
        }
      ],
      "source": [
        "classificationSummary(bank_train_y, knn1_2.predict(bank_train_X))"
      ]
    },
    {
      "cell_type": "code",
      "execution_count": 20,
      "metadata": {
        "colab": {
          "base_uri": "https://localhost:8080/"
        },
        "id": "HJz2qerydBW8",
        "outputId": "07862be1-e4b0-4577-ccc2-eadd0c1c499d"
      },
      "outputs": [
        {
          "name": "stdout",
          "output_type": "stream",
          "text": [
            "Confusion Matrix (Accuracy 0.9553)\n",
            "\n",
            "       Prediction\n",
            "Actual    0    1\n",
            "     0 1333   16\n",
            "     1   51  100\n"
          ]
        }
      ],
      "source": [
        "classificationSummary(bank_valid_y, knn1_2.predict(bank_valid_X))"
      ]
    },
    {
      "cell_type": "code",
      "execution_count": 21,
      "metadata": {
        "colab": {
          "base_uri": "https://localhost:8080/"
        },
        "id": "YdNkszZndBW8",
        "outputId": "1a6f0c96-231e-4fbc-f450-22a99441c822"
      },
      "outputs": [
        {
          "name": "stdout",
          "output_type": "stream",
          "text": [
            "Confusion Matrix (Accuracy 0.9570)\n",
            "\n",
            "       Prediction\n",
            "Actual   0   1\n",
            "     0 897  15\n",
            "     1  28  60\n"
          ]
        }
      ],
      "source": [
        "classificationSummary(bank_test_y, knn1_2.predict(bank_test_X))"
      ]
    },
    {
      "cell_type": "markdown",
      "metadata": {
        "id": "NWtpnvDHdBW8"
      },
      "source": [
        "#### The train data is perfectly matched because it was trained on train. The valid data accuracy dips a bit but thats because its used to create the KNN. With test we see the accuracy increase as all parts are combined but its not perfect because that would indicate over fitting the model."
      ]
    },
    {
      "cell_type": "markdown",
      "metadata": {
        "id": "SZepxwPtdBW8"
      },
      "source": [
        "#### Gains and Lift Charts"
      ]
    },
    {
      "cell_type": "code",
      "execution_count": 22,
      "metadata": {
        "colab": {
          "base_uri": "https://localhost:8080/",
          "height": 400
        },
        "id": "-Tz7uo38dBXe",
        "outputId": "44f62526-f3e3-4ae7-95d7-e4fe45532389"
      },
      "outputs": [
        {
          "data": {
            "image/png": "[encoded data removed]",
            "text/plain": [
              "<Figure size 1000x400 with 2 Axes>"
            ]
          },
          "metadata": {},
          "output_type": "display_data"
        }
      ],
      "source": [
        "proba = knn5.predict_proba(bank_test_X)\n",
        "result = pd.DataFrame({'actual': bank_test_y,\n",
        "                       'p(0)': [p[0] for p in proba],\n",
        "                       'p(1)': [p[1] for p in proba],\n",
        "                       'predicted': knn5.predict(bank_test_X) })\n",
        "df = result.sort_values(by=['p(1)'], ascending=False)\n",
        "fig, axes = plt.subplots(nrows=1, ncols=2, figsize=(10, 4))\n",
        "gainsChart(df.actual, ax=axes[0])\n",
        "liftChart(df.actual, title=False)\n",
        "plt.show()"
      ]
    },
    {
      "cell_type": "markdown",
      "metadata": {
        "id": "Mx3F2hGYdBXe"
      },
      "source": [
        "#### #### The gains chart above shows us the results are much better than random and that we stand to lift by 7.4 and 1.2 for the first two percentiles using the model. We then see the remaining 80% offer negligible improvement. The data does seem to indicate there may be some benefit in analyzing the 5th percentile. This tells us that its best for the bank to focus on the predicted top 20%."
      ]
    },
    {
      "cell_type": "markdown",
      "metadata": {},
      "source": [
        "## 7.2 a-d with 50:30:20 splits and 10-fold cross-validation instead of the basic knn sampling. Will be called 7.2.10f.a-d"
      ]
    },
    {
      "cell_type": "code",
      "execution_count": 23,
      "metadata": {},
      "outputs": [
        {
          "name": "stdout",
          "output_type": "stream",
          "text": [
            "(2500, 16) (1500, 16) (1000, 16)\n"
          ]
        }
      ],
      "source": [
        "print(bank_trainData.shape, bank_validData.shape, bank_testData.shape)\n",
        "scaler = preprocessing.StandardScaler()\n",
        "scaler.fit(bank_trainData[predictors])\n",
        "bank_train_X = scaler.transform(bank_trainData[predictors])\n",
        "bank_train_y = bank_trainData[outcome]\n",
        "bank_valid_X = scaler.transform(bank_validData[predictors])\n",
        "bank_valid_y = bank_validData[outcome]\n",
        "bank_test_X = scaler.transform(bank_testData[predictors])\n",
        "bank_test_y = bank_testData[outcome]\n",
        "bankX = scaler.transform(dfBank[predictors])\n",
        "bankY = dfBank[outcome]"
      ]
    },
    {
      "cell_type": "code",
      "execution_count": 24,
      "metadata": {},
      "outputs": [
        {
          "name": "stdout",
          "output_type": "stream",
          "text": [
            "[0]\n",
            "Distances [[0.49507362]]\n",
            "Indices [[1557]]\n",
            "Training Data\n",
            "         ID  Age  Experience  Income  ZIP Code  Family  CCAvg  Mortgage  \\\n",
            "4206  4207   48          23      29     93711       1    1.3         0   \n",
            "\n",
            "      Personal Loan  Securities Account  CD Account  Online  CreditCard  \\\n",
            "4206              0                   0           0       0           0   \n",
            "\n",
            "      Education_1  Education_2  Education_3  \n",
            "4206            0            1            0  \n"
          ]
        }
      ],
      "source": [
        "knn1a = KNeighborsClassifier(n_neighbors=1).fit(bank_train_X, bank_train_y)\n",
        "distances, indices = knn1.kneighbors(newCustomerNorm.values)\n",
        "print(knn1a.predict(newCustomerNorm.values))\n",
        "print('Distances',distances)\n",
        "print('Indices',indices)\n",
        "print('Training Data\\n',bank_trainData.iloc[indices[0], :])"
      ]
    },
    {
      "cell_type": "markdown",
      "metadata": {},
      "source": [
        "#### 7.2.10f.a Based on the output of 0 the new customer would not take a personal loan."
      ]
    },
    {
      "cell_type": "code",
      "execution_count": 25,
      "metadata": {},
      "outputs": [
        {
          "name": "stdout",
          "output_type": "stream",
          "text": [
            "    k mean accuracy standard deviation\n",
            "1   3        96.64%              0.69%\n",
            "0   1        96.50%              0.55%\n",
            "2   5        96.32%              0.80%\n",
            "3   7        96.06%              0.75%\n",
            "4   9        95.92%              0.77%\n",
            "5  11        95.54%              0.78%\n",
            "6  13        95.44%              0.88%\n",
            "7  15        95.24%              0.80%\n",
            "8  17        94.94%              0.88%\n",
            "9  19        94.82%              0.92%\n"
          ]
        }
      ],
      "source": [
        "results = []\n",
        "for k in range(1,20,2):\n",
        "    kfold = KFold(n_splits=10,random_state=1,shuffle=True)\n",
        "    knn = KNeighborsClassifier(n_neighbors=k)\n",
        "    scores = cross_val_score(estimator=knn,\n",
        "                             X=bankX, y=bankY, cv=kfold)\n",
        "    #print(f'k={k:<2}; mean accuracy={scores.mean():.2%}; ' +\n",
        "    #      f'standard deviation={scores.std():.2%}')\n",
        "    results.append({\n",
        "        'k' : k,\n",
        "        'mean accuracy' : f'{scores.mean():.2%}' ,\n",
        "        'standard deviation' : f'{scores.std():.2%}'\n",
        "    })\n",
        "results = pd.DataFrame(results).sort_values(by=['mean accuracy'],ascending=False)\n",
        "print(results)"
      ]
    },
    {
      "cell_type": "markdown",
      "metadata": {},
      "source": [
        "#### 7.2.10f.b From the cross validation above we see that k==3 is the best for our data."
      ]
    },
    {
      "cell_type": "markdown",
      "metadata": {},
      "source": [
        "#### 7.2.10f.c Code below."
      ]
    },
    {
      "cell_type": "code",
      "execution_count": 38,
      "metadata": {},
      "outputs": [
        {
          "name": "stdout",
          "output_type": "stream",
          "text": [
            "7.2.10f.c\n",
            "Confusion Matrix (Accuracy 0.9547)\n",
            "\n",
            "       Prediction\n",
            "Actual    0    1\n",
            "     0 1343    6\n",
            "     1   62   89\n"
          ]
        }
      ],
      "source": [
        "knn3a = KNeighborsClassifier(n_neighbors=3).fit(bank_train_X, bank_train_y)\n",
        "print('7.2.10f.c')\n",
        "classificationSummary(bank_valid_y, knn3a.predict(bank_valid_X))"
      ]
    },
    {
      "cell_type": "code",
      "execution_count": 39,
      "metadata": {},
      "outputs": [
        {
          "name": "stdout",
          "output_type": "stream",
          "text": [
            "[0]\n",
            "Distances [[0.49289486 0.62599707 0.93520866]]\n",
            "Indices [[1057  587 1190]]\n",
            "Training Data\n",
            "         ID  Age  Experience  Income  ZIP Code  Family  CCAvg  Mortgage  \\\n",
            "4407  4408   37          13      71     90755       2   1.70         0   \n",
            "3398  3399   40          14      62     92028       2   2.40         0   \n",
            "2913  2914   39          12      75     94501       3   2.33         0   \n",
            "\n",
            "      Personal Loan  Securities Account  CD Account  Online  CreditCard  \\\n",
            "4407              0                   0           0       1           1   \n",
            "3398              0                   0           0       1           1   \n",
            "2913              0                   0           0       1           1   \n",
            "\n",
            "      Education_1  Education_2  Education_3  \n",
            "4407            0            1            0  \n",
            "3398            0            1            0  \n",
            "2913            0            1            0  \n"
          ]
        }
      ],
      "source": [
        "distances, indices = knn3a.kneighbors(newCustomerNorm.values)\n",
        "print(knn3a.predict(newCustomerNorm.values))\n",
        "print('Distances',distances)\n",
        "print('Indices',indices)\n",
        "print('Training Data\\n',bank_trainData.iloc[indices[0], :])"
      ]
    },
    {
      "cell_type": "markdown",
      "metadata": {},
      "source": [
        "#### 7.2.10f.d As you can see classifying the customer with best k==3 results in customer not taking the loan."
      ]
    },
    {
      "cell_type": "markdown",
      "metadata": {
        "id": "dc-659oAdBXe"
      },
      "source": [
        "# 7.3"
      ]
    },
    {
      "cell_type": "code",
      "execution_count": 28,
      "metadata": {
        "colab": {
          "base_uri": "https://localhost:8080/",
          "height": 224
        },
        "id": "eOJevSK_dBXf",
        "outputId": "93586f82-bafd-4d39-84c9-157be99caae2"
      },
      "outputs": [
        {
          "name": "stdout",
          "output_type": "stream",
          "text": [
            "(506, 13)\n"
          ]
        },
        {
          "data": {
            "text/html": [
              "<div>\n",
              "<style scoped>\n",
              "    .dataframe tbody tr th:only-of-type {\n",
              "        vertical-align: middle;\n",
              "    }\n",
              "\n",
              "    .dataframe tbody tr th {\n",
              "        vertical-align: top;\n",
              "    }\n",
              "\n",
              "    .dataframe thead th {\n",
              "        text-align: right;\n",
              "    }\n",
              "</style>\n",
              "<table border=\"1\" class=\"dataframe\">\n",
              "  <thead>\n",
              "    <tr style=\"text-align: right;\">\n",
              "      <th></th>\n",
              "      <th>CRIM</th>\n",
              "      <th>ZN</th>\n",
              "      <th>INDUS</th>\n",
              "      <th>CHAS</th>\n",
              "      <th>NOX</th>\n",
              "      <th>RM</th>\n",
              "      <th>AGE</th>\n",
              "      <th>DIS</th>\n",
              "      <th>RAD</th>\n",
              "      <th>TAX</th>\n",
              "      <th>PTRATIO</th>\n",
              "      <th>LSTAT</th>\n",
              "      <th>MEDV</th>\n",
              "    </tr>\n",
              "  </thead>\n",
              "  <tbody>\n",
              "    <tr>\n",
              "      <th>0</th>\n",
              "      <td>0.00632</td>\n",
              "      <td>18.0</td>\n",
              "      <td>2.31</td>\n",
              "      <td>0</td>\n",
              "      <td>0.538</td>\n",
              "      <td>6.575</td>\n",
              "      <td>65.2</td>\n",
              "      <td>4.0900</td>\n",
              "      <td>1</td>\n",
              "      <td>296</td>\n",
              "      <td>15.3</td>\n",
              "      <td>4.98</td>\n",
              "      <td>24.0</td>\n",
              "    </tr>\n",
              "    <tr>\n",
              "      <th>1</th>\n",
              "      <td>0.02731</td>\n",
              "      <td>0.0</td>\n",
              "      <td>7.07</td>\n",
              "      <td>0</td>\n",
              "      <td>0.469</td>\n",
              "      <td>6.421</td>\n",
              "      <td>78.9</td>\n",
              "      <td>4.9671</td>\n",
              "      <td>2</td>\n",
              "      <td>242</td>\n",
              "      <td>17.8</td>\n",
              "      <td>9.14</td>\n",
              "      <td>21.6</td>\n",
              "    </tr>\n",
              "    <tr>\n",
              "      <th>2</th>\n",
              "      <td>0.02729</td>\n",
              "      <td>0.0</td>\n",
              "      <td>7.07</td>\n",
              "      <td>0</td>\n",
              "      <td>0.469</td>\n",
              "      <td>7.185</td>\n",
              "      <td>61.1</td>\n",
              "      <td>4.9671</td>\n",
              "      <td>2</td>\n",
              "      <td>242</td>\n",
              "      <td>17.8</td>\n",
              "      <td>4.03</td>\n",
              "      <td>34.7</td>\n",
              "    </tr>\n",
              "    <tr>\n",
              "      <th>3</th>\n",
              "      <td>0.03237</td>\n",
              "      <td>0.0</td>\n",
              "      <td>2.18</td>\n",
              "      <td>0</td>\n",
              "      <td>0.458</td>\n",
              "      <td>6.998</td>\n",
              "      <td>45.8</td>\n",
              "      <td>6.0622</td>\n",
              "      <td>3</td>\n",
              "      <td>222</td>\n",
              "      <td>18.7</td>\n",
              "      <td>2.94</td>\n",
              "      <td>33.4</td>\n",
              "    </tr>\n",
              "    <tr>\n",
              "      <th>4</th>\n",
              "      <td>0.06905</td>\n",
              "      <td>0.0</td>\n",
              "      <td>2.18</td>\n",
              "      <td>0</td>\n",
              "      <td>0.458</td>\n",
              "      <td>7.147</td>\n",
              "      <td>54.2</td>\n",
              "      <td>6.0622</td>\n",
              "      <td>3</td>\n",
              "      <td>222</td>\n",
              "      <td>18.7</td>\n",
              "      <td>5.33</td>\n",
              "      <td>36.2</td>\n",
              "    </tr>\n",
              "  </tbody>\n",
              "</table>\n",
              "</div>"
            ],
            "text/plain": [
              "      CRIM    ZN  INDUS  CHAS    NOX     RM   AGE     DIS  RAD  TAX  PTRATIO  \\\n",
              "0  0.00632  18.0   2.31     0  0.538  6.575  65.2  4.0900    1  296     15.3   \n",
              "1  0.02731   0.0   7.07     0  0.469  6.421  78.9  4.9671    2  242     17.8   \n",
              "2  0.02729   0.0   7.07     0  0.469  7.185  61.1  4.9671    2  242     17.8   \n",
              "3  0.03237   0.0   2.18     0  0.458  6.998  45.8  6.0622    3  222     18.7   \n",
              "4  0.06905   0.0   2.18     0  0.458  7.147  54.2  6.0622    3  222     18.7   \n",
              "\n",
              "   LSTAT  MEDV  \n",
              "0   4.98  24.0  \n",
              "1   9.14  21.6  \n",
              "2   4.03  34.7  \n",
              "3   2.94  33.4  \n",
              "4   5.33  36.2  "
            ]
          },
          "execution_count": 28,
          "metadata": {},
          "output_type": "execute_result"
        }
      ],
      "source": [
        "dfHouse = readFile(\"https://raw.githubusercontent.com/wolfesamk/MSBA-206/main/dmba/BostonHousing.csv\")\n",
        "dfHouse = pd.get_dummies(dfHouse.drop(columns='CAT. MEDV'), drop_first=False)\n",
        "print(dfHouse.shape)\n",
        "dfHouse.head(5)"
      ]
    },
    {
      "cell_type": "code",
      "execution_count": 29,
      "metadata": {
        "colab": {
          "base_uri": "https://localhost:8080/"
        },
        "id": "e2tWwBfadBXf",
        "outputId": "f0f39720-5ac6-40c3-bbe2-4539ad72d3de"
      },
      "outputs": [
        {
          "name": "stdout",
          "output_type": "stream",
          "text": [
            "(303, 13) (203, 13)\n"
          ]
        }
      ],
      "source": [
        "house_trainData, house_validData = train_test_split(dfHouse, test_size=0.4, random_state=1)\n",
        "print(house_trainData.shape, house_validData.shape)"
      ]
    },
    {
      "cell_type": "code",
      "execution_count": 30,
      "metadata": {
        "colab": {
          "base_uri": "https://localhost:8080/"
        },
        "id": "LP9AUqdZdBXf",
        "outputId": "5ba47a5f-b004-4f06-dc6a-124a4803f3b7"
      },
      "outputs": [
        {
          "name": "stdout",
          "output_type": "stream",
          "text": [
            "['CRIM', 'ZN', 'INDUS', 'CHAS', 'NOX', 'RM', 'AGE', 'DIS', 'RAD', 'TAX', 'PTRATIO', 'LSTAT']\n"
          ]
        }
      ],
      "source": [
        "outcome = 'MEDV'\n",
        "predictors = list(dfHouse.columns)\n",
        "predictors.remove(outcome)\n",
        "scaler = preprocessing.StandardScaler()\n",
        "print(predictors)"
      ]
    },
    {
      "cell_type": "code",
      "execution_count": 31,
      "metadata": {
        "id": "gxABZcVbdBXf"
      },
      "outputs": [],
      "source": [
        "scaler.fit(house_trainData[predictors])\n",
        "#scaler.transform(train_df[predictors])\n",
        "# Transform the predictors of training, validation and newCustomer\n",
        "house_train_X = scaler.transform(house_trainData[predictors])\n",
        "house_train_y = house_trainData[outcome]\n",
        "house_valid_X = scaler.transform(house_validData[predictors])\n",
        "house_valid_y = house_validData[outcome]"
      ]
    },
    {
      "cell_type": "code",
      "execution_count": 32,
      "metadata": {
        "colab": {
          "base_uri": "https://localhost:8080/"
        },
        "id": "Sn6LfudpdBXg",
        "outputId": "88ae878e-c565-4b87-f4ce-b3bf5db4db4d"
      },
      "outputs": [
        {
          "name": "stdout",
          "output_type": "stream",
          "text": [
            "   k        mse\n",
            "2  3  21.825725\n",
            "1  2  22.834655\n",
            "3  4  22.936616\n",
            "4  5  25.148451\n",
            "0  1  29.194877\n"
          ]
        }
      ],
      "source": [
        "results = []\n",
        "for k in range(1,6):\n",
        "    knnR = KNeighborsRegressor(n_neighbors=k).fit(house_train_X, house_train_y)\n",
        "    results.append({\n",
        "        'k': k,\n",
        "        'mse': mean_squared_error(house_valid_y, knnR.predict(house_valid_X))\n",
        "    })\n",
        "results = pd.DataFrame(results).sort_values(by=['mse'],ascending=True)\n",
        "print(results)"
      ]
    },
    {
      "cell_type": "markdown",
      "metadata": {
        "id": "ZhxOxGQAdBXg"
      },
      "source": [
        "#### 6.3.a I believe I did the above correctly. Given we want a smaller MSE, a k==4 value is best. It means when doing a KneighbhorsRegressor we want to use the 4 nearest neighbors to predict classification."
      ]
    },
    {
      "cell_type": "markdown",
      "metadata": {
        "id": "pfy56_9DdBXg"
      },
      "source": [
        "#### 7.3.b"
      ]
    },
    {
      "cell_type": "code",
      "execution_count": 33,
      "metadata": {
        "colab": {
          "base_uri": "https://localhost:8080/",
          "height": 81
        },
        "id": "tnAgBFGWdBXg",
        "outputId": "dd31981c-4a5c-4ace-bd6e-8d2eebb44be3"
      },
      "outputs": [
        {
          "data": {
            "text/html": [
              "<div>\n",
              "<style scoped>\n",
              "    .dataframe tbody tr th:only-of-type {\n",
              "        vertical-align: middle;\n",
              "    }\n",
              "\n",
              "    .dataframe tbody tr th {\n",
              "        vertical-align: top;\n",
              "    }\n",
              "\n",
              "    .dataframe thead th {\n",
              "        text-align: right;\n",
              "    }\n",
              "</style>\n",
              "<table border=\"1\" class=\"dataframe\">\n",
              "  <thead>\n",
              "    <tr style=\"text-align: right;\">\n",
              "      <th></th>\n",
              "      <th>CRIM</th>\n",
              "      <th>ZN</th>\n",
              "      <th>INDUS</th>\n",
              "      <th>CHAS</th>\n",
              "      <th>NOX</th>\n",
              "      <th>RM</th>\n",
              "      <th>AGE</th>\n",
              "      <th>DIS</th>\n",
              "      <th>RAD</th>\n",
              "      <th>TAX</th>\n",
              "      <th>PTRATIO</th>\n",
              "      <th>LSTAT</th>\n",
              "    </tr>\n",
              "  </thead>\n",
              "  <tbody>\n",
              "    <tr>\n",
              "      <th>0</th>\n",
              "      <td>0.2</td>\n",
              "      <td>0</td>\n",
              "      <td>7</td>\n",
              "      <td>0</td>\n",
              "      <td>0.538</td>\n",
              "      <td>6</td>\n",
              "      <td>62</td>\n",
              "      <td>4.7</td>\n",
              "      <td>4</td>\n",
              "      <td>307</td>\n",
              "      <td>21</td>\n",
              "      <td>10</td>\n",
              "    </tr>\n",
              "  </tbody>\n",
              "</table>\n",
              "</div>"
            ],
            "text/plain": [
              "   CRIM  ZN  INDUS  CHAS    NOX  RM  AGE  DIS  RAD  TAX  PTRATIO  LSTAT\n",
              "0   0.2   0      7     0  0.538   6   62  4.7    4  307       21     10"
            ]
          },
          "execution_count": 33,
          "metadata": {},
          "output_type": "execute_result"
        }
      ],
      "source": [
        "newHouse = pd.DataFrame([{'CRIM': 0.2,\n",
        "                          'ZN': 0,\n",
        "                          'INDUS': 7,\n",
        "                          'CHAS': 0,\n",
        "                          'NOX': 0.538,\n",
        "                          'RM': 6,\n",
        "                          'AGE': 62,\n",
        "                          'DIS': 4.7,\n",
        "                          'RAD': 4,\n",
        "                          'TAX': 307,\n",
        "                          'PTRATIO': 21,\n",
        "                          'LSTAT': 10}],\n",
        "                       columns=['CRIM',\n",
        "                                'ZN',\n",
        "                                'INDUS',\n",
        "                                'CHAS',\n",
        "                                'NOX',\n",
        "                                'RM',\n",
        "                                'AGE',\n",
        "                                'DIS',\n",
        "                                'RAD',\n",
        "                                'TAX',\n",
        "                                'PTRATIO',\n",
        "                                'LSTAT'])\n",
        "newHouse\n"
      ]
    },
    {
      "cell_type": "code",
      "execution_count": 34,
      "metadata": {
        "colab": {
          "base_uri": "https://localhost:8080/",
          "height": 81
        },
        "id": "W43rdaNBdBXg",
        "outputId": "f55a5000-e753-4665-b87e-2892cfa214c0"
      },
      "outputs": [
        {
          "data": {
            "text/html": [
              "<div>\n",
              "<style scoped>\n",
              "    .dataframe tbody tr th:only-of-type {\n",
              "        vertical-align: middle;\n",
              "    }\n",
              "\n",
              "    .dataframe tbody tr th {\n",
              "        vertical-align: top;\n",
              "    }\n",
              "\n",
              "    .dataframe thead th {\n",
              "        text-align: right;\n",
              "    }\n",
              "</style>\n",
              "<table border=\"1\" class=\"dataframe\">\n",
              "  <thead>\n",
              "    <tr style=\"text-align: right;\">\n",
              "      <th></th>\n",
              "      <th>CRIM</th>\n",
              "      <th>ZN</th>\n",
              "      <th>INDUS</th>\n",
              "      <th>CHAS</th>\n",
              "      <th>NOX</th>\n",
              "      <th>RM</th>\n",
              "      <th>AGE</th>\n",
              "      <th>DIS</th>\n",
              "      <th>RAD</th>\n",
              "      <th>TAX</th>\n",
              "      <th>PTRATIO</th>\n",
              "      <th>LSTAT</th>\n",
              "    </tr>\n",
              "  </thead>\n",
              "  <tbody>\n",
              "    <tr>\n",
              "      <th>0</th>\n",
              "      <td>-0.403622</td>\n",
              "      <td>-0.481603</td>\n",
              "      <td>-0.620687</td>\n",
              "      <td>-0.293294</td>\n",
              "      <td>-0.153758</td>\n",
              "      <td>-0.358814</td>\n",
              "      <td>-0.243285</td>\n",
              "      <td>0.400608</td>\n",
              "      <td>-0.640284</td>\n",
              "      <td>-0.604731</td>\n",
              "      <td>1.197866</td>\n",
              "      <td>-0.421956</td>\n",
              "    </tr>\n",
              "  </tbody>\n",
              "</table>\n",
              "</div>"
            ],
            "text/plain": [
              "       CRIM        ZN     INDUS      CHAS       NOX        RM       AGE  \\\n",
              "0 -0.403622 -0.481603 -0.620687 -0.293294 -0.153758 -0.358814 -0.243285   \n",
              "\n",
              "        DIS       RAD       TAX   PTRATIO     LSTAT  \n",
              "0  0.400608 -0.640284 -0.604731  1.197866 -0.421956  "
            ]
          },
          "execution_count": 34,
          "metadata": {},
          "output_type": "execute_result"
        }
      ],
      "source": [
        "newHouseNorm = pd.DataFrame(scaler.transform(newHouse),\n",
        "                               columns=['CRIM',\n",
        "                                'ZN',\n",
        "                                'INDUS',\n",
        "                                'CHAS',\n",
        "                                'NOX',\n",
        "                                'RM',\n",
        "                                'AGE',\n",
        "                                'DIS',\n",
        "                                'RAD',\n",
        "                                'TAX',\n",
        "                                'PTRATIO',\n",
        "                                'LSTAT'])\n",
        "newHouseNorm"
      ]
    },
    {
      "cell_type": "code",
      "execution_count": 35,
      "metadata": {
        "colab": {
          "base_uri": "https://localhost:8080/"
        },
        "id": "ISGjwDVxdBXh",
        "outputId": "c1a1c105-c0d0-4dd3-8e9d-bc4bb01f1cad"
      },
      "outputs": [
        {
          "name": "stdout",
          "output_type": "stream",
          "text": [
            "[18.7]\n",
            "Distances [[0.4244184  0.6883966  0.82969031 0.84788027]]\n",
            "Indices [[234  20  10 166]]\n",
            "Training Data\n",
            "         CRIM   ZN  INDUS  CHAS    NOX     RM   AGE     DIS  RAD  TAX  PTRATIO  \\\n",
            "15   0.62739  0.0   8.14     0  0.538  5.834  56.5  4.4986    4  307     21.0   \n",
            "19   0.72580  0.0   8.14     0  0.538  5.727  69.5  3.7965    4  307     21.0   \n",
            "14   0.63796  0.0   8.14     0  0.538  6.096  84.5  4.4619    4  307     21.0   \n",
            "337  0.03041  0.0   5.19     0  0.515  5.895  59.6  5.6150    5  224     20.2   \n",
            "\n",
            "     LSTAT  MEDV  \n",
            "15    8.47  19.9  \n",
            "19   11.28  18.2  \n",
            "14   10.26  18.2  \n",
            "337  10.56  18.5  \n"
          ]
        }
      ],
      "source": [
        "knn4 = KNeighborsRegressor(n_neighbors=4).fit(house_train_X, house_train_y)\n",
        "distances, indices = knn4.kneighbors(newHouseNorm.values)\n",
        "print(knn4.predict(newHouseNorm.values))\n",
        "print('Distances',distances)\n",
        "print('Indices',indices)\n",
        "print('Training Data\\n',house_trainData.iloc[indices[0], :])"
      ]
    },
    {
      "cell_type": "markdown",
      "metadata": {
        "id": "jjblDvs3dBXh"
      },
      "source": [
        "#### The new house would be 'MEDV' 18.7."
      ]
    },
    {
      "cell_type": "markdown",
      "metadata": {
        "id": "272YBnWZdBXh"
      },
      "source": [
        "#### 7.3.c Given the training set is fitted to the model I would imagine the error rate would be quite Low."
      ]
    },
    {
      "cell_type": "code",
      "execution_count": 36,
      "metadata": {
        "colab": {
          "base_uri": "https://localhost:8080/"
        },
        "id": "z8-AsfdUdBXh",
        "outputId": "ad7f5dbc-9edb-41ad-b1f5-a1d68baeb699"
      },
      "outputs": [
        {
          "name": "stdout",
          "output_type": "stream",
          "text": [
            "\n",
            "Regression statistics\n",
            "\n",
            "                      Mean Error (ME) : 0.6240\n",
            "       Root Mean Squared Error (RMSE) : 3.7988\n",
            "            Mean Absolute Error (MAE) : 2.2171\n",
            "          Mean Percentage Error (MPE) : -0.4890\n",
            "Mean Absolute Percentage Error (MAPE) : 10.0895\n"
          ]
        }
      ],
      "source": [
        "regressionSummary(house_train_y, knn4.predict(house_train_X))"
      ]
    },
    {
      "cell_type": "markdown",
      "metadata": {
        "id": "jtEjQWKhdBXi"
      },
      "source": [
        "#### Yep, its ME is 0.6240"
      ]
    },
    {
      "cell_type": "markdown",
      "metadata": {
        "id": "1QVy4xNadBXi"
      },
      "source": [
        "#### 7.3.d The validation set came from the same dataset as the training data. So its overly optimistic error rate is because the model is designed to fit this data."
      ]
    },
    {
      "cell_type": "code",
      "execution_count": 37,
      "metadata": {
        "colab": {
          "base_uri": "https://localhost:8080/"
        },
        "id": "CF97n12VdBXi",
        "outputId": "86fb1cb6-5f60-4b21-b860-4a48454a307b"
      },
      "outputs": [
        {
          "name": "stdout",
          "output_type": "stream",
          "text": [
            "\n",
            "Regression statistics\n",
            "\n",
            "                      Mean Error (ME) : 1.0403\n",
            "       Root Mean Squared Error (RMSE) : 4.7892\n",
            "            Mean Absolute Error (MAE) : 2.9863\n",
            "          Mean Percentage Error (MPE) : 0.0568\n",
            "Mean Absolute Percentage Error (MAPE) : 12.9141\n"
          ]
        }
      ],
      "source": [
        "regressionSummary(house_valid_y, knn4.predict(house_valid_X))"
      ]
    },
    {
      "cell_type": "markdown",
      "metadata": {
        "id": "Lesm7lAsdBXi"
      },
      "source": [
        "#### 7.3.e The greatest disadvantage of doing knn on several thousand new tracts lies in the amount of time and computational comparisons are required for every single new tract against all the tracts in the sample data. It would then have to average the values of nearest neighbors to predict the desired outcome.\n",
        "#### The knn function has to go through the following steps every single time. <br> 1. Calculate the Euclidean distance between the new tract and the data set. <br> 2. Order the data set points by distance ascending <br> 3. Using the selected K value it would then have to determine every new tract's vote.\n"
      ]
    }
  ],
  "metadata": {
    "colab": {
      "provenance": []
    },
    "kernelspec": {
      "display_name": "Python 3",
      "language": "python",
      "name": "python3"
    },
    "language_info": {
      "codemirror_mode": {
        "name": "ipython",
        "version": 3
      },
      "file_extension": ".py",
      "mimetype": "text/x-python",
      "name": "python",
      "nbconvert_exporter": "python",
      "pygments_lexer": "ipython3",
      "version": "3.10.9"
    },
    "orig_nbformat": 4
  },
  "nbformat": 4,
  "nbformat_minor": 0
}

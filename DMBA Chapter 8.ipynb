{
  "cells": [
    {
      "cell_type": "code",
      "source": [
        "#pip install jupyter"
      ],
      "metadata": {
        "id": "lBHE7W1EWPp0"
      },
      "execution_count": 251,
      "outputs": []
    },
    {
      "cell_type": "code",
      "source": [
        "#pip install gmaps"
      ],
      "metadata": {
        "id": "CYxXpTaoXI9t"
      },
      "execution_count": 252,
      "outputs": []
    },
    {
      "cell_type": "code",
      "source": [
        "#pip install squarify"
      ],
      "metadata": {
        "id": "w8lKnjAyXLdg"
      },
      "execution_count": 253,
      "outputs": []
    },
    {
      "cell_type": "code",
      "source": [
        "#pip install dmba"
      ],
      "metadata": {
        "id": "pHo1dkm9XN2h"
      },
      "execution_count": 254,
      "outputs": []
    },
    {
      "cell_type": "code",
      "source": [
        "#pip install scikit-surprise"
      ],
      "metadata": {
        "id": "smG8xyYWXPRR"
      },
      "execution_count": 255,
      "outputs": []
    },
    {
      "cell_type": "markdown",
      "metadata": {
        "id": "WD7P9lxnWFz3"
      },
      "source": [
        "##### <p> Samuel Wolfe <br> July 23rd, 2023 <br> MSBA 206 <br> DMBA Chapter 8 Homework 8.1 & 8.2 </p>"
      ]
    },
    {
      "cell_type": "code",
      "execution_count": 256,
      "metadata": {
        "id": "4jhDlsL9WFz7"
      },
      "outputs": [],
      "source": [
        "%matplotlib inline\n",
        "from pathlib import Path\n",
        "import pandas as pd\n",
        "import requests\n",
        "import io\n",
        "from sklearn.preprocessing import MinMaxScaler\n",
        "from sklearn.svm import SVC\n",
        "from sklearn.model_selection import train_test_split, KFold, cross_val_score\n",
        "from sklearn.naive_bayes import MultinomialNB\n",
        "from sklearn.metrics import accuracy_score\n",
        "from sklearn.neighbors import NearestNeighbors, KNeighborsClassifier, KNeighborsRegressor\n",
        "from dmba import regressionSummary, classificationSummary, liftChart, gainsChart\n",
        "from sklearn.metrics import accuracy_score, confusion_matrix, mean_squared_error\n",
        "import matplotlib.pylab as plt\n",
        "import numpy as np"
      ]
    },
    {
      "cell_type": "code",
      "execution_count": 257,
      "metadata": {
        "id": "5h67qvuLWFz8"
      },
      "outputs": [],
      "source": [
        "def readFile(url):\n",
        "    download = requests.get(url).content\n",
        "    # Reading the downloaded content and turning it into a pandas dataframe\n",
        "    df = pd.read_csv(io.StringIO(download.decode('utf-8')))\n",
        "    return df\n",
        "def statslist(df):\n",
        "    dfStats = pd.DataFrame({'Mean' : df.mean(numeric_only=True),\n",
        "            'SD' : df.std(numeric_only=True),\n",
        "            'Min' : df.min(),\n",
        "            'Max' : df.max(),\n",
        "            'Median' : df.median(numeric_only=True),\n",
        "            })\n",
        "    return dfStats"
      ]
    },
    {
      "cell_type": "markdown",
      "metadata": {
        "id": "8zGosSs6WFz9"
      },
      "source": [
        "# 8.1"
      ]
    },
    {
      "cell_type": "markdown",
      "metadata": {
        "id": "kGU3jQDmWFz9"
      },
      "source": [
        "#### Loading df\n",
        "#### Note: With Python 3.11.4 pd.get_dummies() does not default return values as uint8, returns as bool. Have to change post."
      ]
    },
    {
      "cell_type": "code",
      "execution_count": 258,
      "metadata": {
        "id": "zhAKXXUGWFz9",
        "outputId": "b37e1077-424c-4876-f855-5c89b711dd8a",
        "colab": {
          "base_uri": "https://localhost:8080/",
          "height": 224
        }
      },
      "outputs": [
        {
          "output_type": "stream",
          "name": "stdout",
          "text": [
            "(5000, 16)\n"
          ]
        },
        {
          "output_type": "execute_result",
          "data": {
            "text/plain": [
              "   ID  Age  Experience  Income  ZIP_Code  Family  CCAvg  Mortgage  \\\n",
              "0   1   25           1      49     91107       4    1.6         0   \n",
              "1   2   45          19      34     90089       3    1.5         0   \n",
              "2   3   39          15      11     94720       1    1.0         0   \n",
              "3   4   35           9     100     94112       1    2.7         0   \n",
              "4   5   35           8      45     91330       4    1.0         0   \n",
              "\n",
              "   Personal_Loan  Securities_Account  CD_Account  Online  CreditCard  \\\n",
              "0              0                   1           0       0           0   \n",
              "1              0                   1           0       0           0   \n",
              "2              0                   0           0       0           0   \n",
              "3              0                   0           0       0           0   \n",
              "4              0                   0           0       0           1   \n",
              "\n",
              "   Education_1  Education_2  Education_3  \n",
              "0            1            0            0  \n",
              "1            1            0            0  \n",
              "2            1            0            0  \n",
              "3            0            1            0  \n",
              "4            0            1            0  "
            ],
            "text/html": [
              "\n",
              "\n",
              "  <div id=\"df-b73c3175-2f37-4af7-8e32-84d389d1488b\">\n",
              "    <div class=\"colab-df-container\">\n",
              "      <div>\n",
              "<style scoped>\n",
              "    .dataframe tbody tr th:only-of-type {\n",
              "        vertical-align: middle;\n",
              "    }\n",
              "\n",
              "    .dataframe tbody tr th {\n",
              "        vertical-align: top;\n",
              "    }\n",
              "\n",
              "    .dataframe thead th {\n",
              "        text-align: right;\n",
              "    }\n",
              "</style>\n",
              "<table border=\"1\" class=\"dataframe\">\n",
              "  <thead>\n",
              "    <tr style=\"text-align: right;\">\n",
              "      <th></th>\n",
              "      <th>ID</th>\n",
              "      <th>Age</th>\n",
              "      <th>Experience</th>\n",
              "      <th>Income</th>\n",
              "      <th>ZIP_Code</th>\n",
              "      <th>Family</th>\n",
              "      <th>CCAvg</th>\n",
              "      <th>Mortgage</th>\n",
              "      <th>Personal_Loan</th>\n",
              "      <th>Securities_Account</th>\n",
              "      <th>CD_Account</th>\n",
              "      <th>Online</th>\n",
              "      <th>CreditCard</th>\n",
              "      <th>Education_1</th>\n",
              "      <th>Education_2</th>\n",
              "      <th>Education_3</th>\n",
              "    </tr>\n",
              "  </thead>\n",
              "  <tbody>\n",
              "    <tr>\n",
              "      <th>0</th>\n",
              "      <td>1</td>\n",
              "      <td>25</td>\n",
              "      <td>1</td>\n",
              "      <td>49</td>\n",
              "      <td>91107</td>\n",
              "      <td>4</td>\n",
              "      <td>1.6</td>\n",
              "      <td>0</td>\n",
              "      <td>0</td>\n",
              "      <td>1</td>\n",
              "      <td>0</td>\n",
              "      <td>0</td>\n",
              "      <td>0</td>\n",
              "      <td>1</td>\n",
              "      <td>0</td>\n",
              "      <td>0</td>\n",
              "    </tr>\n",
              "    <tr>\n",
              "      <th>1</th>\n",
              "      <td>2</td>\n",
              "      <td>45</td>\n",
              "      <td>19</td>\n",
              "      <td>34</td>\n",
              "      <td>90089</td>\n",
              "      <td>3</td>\n",
              "      <td>1.5</td>\n",
              "      <td>0</td>\n",
              "      <td>0</td>\n",
              "      <td>1</td>\n",
              "      <td>0</td>\n",
              "      <td>0</td>\n",
              "      <td>0</td>\n",
              "      <td>1</td>\n",
              "      <td>0</td>\n",
              "      <td>0</td>\n",
              "    </tr>\n",
              "    <tr>\n",
              "      <th>2</th>\n",
              "      <td>3</td>\n",
              "      <td>39</td>\n",
              "      <td>15</td>\n",
              "      <td>11</td>\n",
              "      <td>94720</td>\n",
              "      <td>1</td>\n",
              "      <td>1.0</td>\n",
              "      <td>0</td>\n",
              "      <td>0</td>\n",
              "      <td>0</td>\n",
              "      <td>0</td>\n",
              "      <td>0</td>\n",
              "      <td>0</td>\n",
              "      <td>1</td>\n",
              "      <td>0</td>\n",
              "      <td>0</td>\n",
              "    </tr>\n",
              "    <tr>\n",
              "      <th>3</th>\n",
              "      <td>4</td>\n",
              "      <td>35</td>\n",
              "      <td>9</td>\n",
              "      <td>100</td>\n",
              "      <td>94112</td>\n",
              "      <td>1</td>\n",
              "      <td>2.7</td>\n",
              "      <td>0</td>\n",
              "      <td>0</td>\n",
              "      <td>0</td>\n",
              "      <td>0</td>\n",
              "      <td>0</td>\n",
              "      <td>0</td>\n",
              "      <td>0</td>\n",
              "      <td>1</td>\n",
              "      <td>0</td>\n",
              "    </tr>\n",
              "    <tr>\n",
              "      <th>4</th>\n",
              "      <td>5</td>\n",
              "      <td>35</td>\n",
              "      <td>8</td>\n",
              "      <td>45</td>\n",
              "      <td>91330</td>\n",
              "      <td>4</td>\n",
              "      <td>1.0</td>\n",
              "      <td>0</td>\n",
              "      <td>0</td>\n",
              "      <td>0</td>\n",
              "      <td>0</td>\n",
              "      <td>0</td>\n",
              "      <td>1</td>\n",
              "      <td>0</td>\n",
              "      <td>1</td>\n",
              "      <td>0</td>\n",
              "    </tr>\n",
              "  </tbody>\n",
              "</table>\n",
              "</div>\n",
              "      <button class=\"colab-df-convert\" onclick=\"convertToInteractive('df-b73c3175-2f37-4af7-8e32-84d389d1488b')\"\n",
              "              title=\"Convert this dataframe to an interactive table.\"\n",
              "              style=\"display:none;\">\n",
              "\n",
              "  <svg xmlns=\"http://www.w3.org/2000/svg\" height=\"24px\"viewBox=\"0 0 24 24\"\n",
              "       width=\"24px\">\n",
              "    <path d=\"M0 0h24v24H0V0z\" fill=\"none\"/>\n",
              "    <path d=\"M18.56 5.44l.94 2.06.94-2.06 2.06-.94-2.06-.94-.94-2.06-.94 2.06-2.06.94zm-11 1L8.5 8.5l.94-2.06 2.06-.94-2.06-.94L8.5 2.5l-.94 2.06-2.06.94zm10 10l.94 2.06.94-2.06 2.06-.94-2.06-.94-.94-2.06-.94 2.06-2.06.94z\"/><path d=\"M17.41 7.96l-1.37-1.37c-.4-.4-.92-.59-1.43-.59-.52 0-1.04.2-1.43.59L10.3 9.45l-7.72 7.72c-.78.78-.78 2.05 0 2.83L4 21.41c.39.39.9.59 1.41.59.51 0 1.02-.2 1.41-.59l7.78-7.78 2.81-2.81c.8-.78.8-2.07 0-2.86zM5.41 20L4 18.59l7.72-7.72 1.47 1.35L5.41 20z\"/>\n",
              "  </svg>\n",
              "      </button>\n",
              "\n",
              "\n",
              "\n",
              "    <div id=\"df-509609c3-7046-48f5-a885-1c528da0ba80\">\n",
              "      <button class=\"colab-df-quickchart\" onclick=\"quickchart('df-509609c3-7046-48f5-a885-1c528da0ba80')\"\n",
              "              title=\"Suggest charts.\"\n",
              "              style=\"display:none;\">\n",
              "\n",
              "<svg xmlns=\"http://www.w3.org/2000/svg\" height=\"24px\"viewBox=\"0 0 24 24\"\n",
              "     width=\"24px\">\n",
              "    <g>\n",
              "        <path d=\"M19 3H5c-1.1 0-2 .9-2 2v14c0 1.1.9 2 2 2h14c1.1 0 2-.9 2-2V5c0-1.1-.9-2-2-2zM9 17H7v-7h2v7zm4 0h-2V7h2v10zm4 0h-2v-4h2v4z\"/>\n",
              "    </g>\n",
              "</svg>\n",
              "      </button>\n",
              "    </div>\n",
              "\n",
              "<style>\n",
              "  .colab-df-quickchart {\n",
              "    background-color: #E8F0FE;\n",
              "    border: none;\n",
              "    border-radius: 50%;\n",
              "    cursor: pointer;\n",
              "    display: none;\n",
              "    fill: #1967D2;\n",
              "    height: 32px;\n",
              "    padding: 0 0 0 0;\n",
              "    width: 32px;\n",
              "  }\n",
              "\n",
              "  .colab-df-quickchart:hover {\n",
              "    background-color: #E2EBFA;\n",
              "    box-shadow: 0px 1px 2px rgba(60, 64, 67, 0.3), 0px 1px 3px 1px rgba(60, 64, 67, 0.15);\n",
              "    fill: #174EA6;\n",
              "  }\n",
              "\n",
              "  [theme=dark] .colab-df-quickchart {\n",
              "    background-color: #3B4455;\n",
              "    fill: #D2E3FC;\n",
              "  }\n",
              "\n",
              "  [theme=dark] .colab-df-quickchart:hover {\n",
              "    background-color: #434B5C;\n",
              "    box-shadow: 0px 1px 3px 1px rgba(0, 0, 0, 0.15);\n",
              "    filter: drop-shadow(0px 1px 2px rgba(0, 0, 0, 0.3));\n",
              "    fill: #FFFFFF;\n",
              "  }\n",
              "</style>\n",
              "\n",
              "    <script>\n",
              "      async function quickchart(key) {\n",
              "        const containerElement = document.querySelector('#' + key);\n",
              "        const charts = await google.colab.kernel.invokeFunction(\n",
              "            'suggestCharts', [key], {});\n",
              "      }\n",
              "    </script>\n",
              "\n",
              "      <script>\n",
              "\n",
              "function displayQuickchartButton(domScope) {\n",
              "  let quickchartButtonEl =\n",
              "    domScope.querySelector('#df-509609c3-7046-48f5-a885-1c528da0ba80 button.colab-df-quickchart');\n",
              "  quickchartButtonEl.style.display =\n",
              "    google.colab.kernel.accessAllowed ? 'block' : 'none';\n",
              "}\n",
              "\n",
              "        displayQuickchartButton(document);\n",
              "      </script>\n",
              "      <style>\n",
              "    .colab-df-container {\n",
              "      display:flex;\n",
              "      flex-wrap:wrap;\n",
              "      gap: 12px;\n",
              "    }\n",
              "\n",
              "    .colab-df-convert {\n",
              "      background-color: #E8F0FE;\n",
              "      border: none;\n",
              "      border-radius: 50%;\n",
              "      cursor: pointer;\n",
              "      display: none;\n",
              "      fill: #1967D2;\n",
              "      height: 32px;\n",
              "      padding: 0 0 0 0;\n",
              "      width: 32px;\n",
              "    }\n",
              "\n",
              "    .colab-df-convert:hover {\n",
              "      background-color: #E2EBFA;\n",
              "      box-shadow: 0px 1px 2px rgba(60, 64, 67, 0.3), 0px 1px 3px 1px rgba(60, 64, 67, 0.15);\n",
              "      fill: #174EA6;\n",
              "    }\n",
              "\n",
              "    [theme=dark] .colab-df-convert {\n",
              "      background-color: #3B4455;\n",
              "      fill: #D2E3FC;\n",
              "    }\n",
              "\n",
              "    [theme=dark] .colab-df-convert:hover {\n",
              "      background-color: #434B5C;\n",
              "      box-shadow: 0px 1px 3px 1px rgba(0, 0, 0, 0.15);\n",
              "      filter: drop-shadow(0px 1px 2px rgba(0, 0, 0, 0.3));\n",
              "      fill: #FFFFFF;\n",
              "    }\n",
              "  </style>\n",
              "\n",
              "      <script>\n",
              "        const buttonEl =\n",
              "          document.querySelector('#df-b73c3175-2f37-4af7-8e32-84d389d1488b button.colab-df-convert');\n",
              "        buttonEl.style.display =\n",
              "          google.colab.kernel.accessAllowed ? 'block' : 'none';\n",
              "\n",
              "        async function convertToInteractive(key) {\n",
              "          const element = document.querySelector('#df-b73c3175-2f37-4af7-8e32-84d389d1488b');\n",
              "          const dataTable =\n",
              "            await google.colab.kernel.invokeFunction('convertToInteractive',\n",
              "                                                     [key], {});\n",
              "          if (!dataTable) return;\n",
              "\n",
              "          const docLinkHtml = 'Like what you see? Visit the ' +\n",
              "            '<a target=\"_blank\" href=https://colab.research.google.com/notebooks/data_table.ipynb>data table notebook</a>'\n",
              "            + ' to learn more about interactive tables.';\n",
              "          element.innerHTML = '';\n",
              "          dataTable['output_type'] = 'display_data';\n",
              "          await google.colab.output.renderOutput(dataTable, element);\n",
              "          const docLink = document.createElement('div');\n",
              "          docLink.innerHTML = docLinkHtml;\n",
              "          element.appendChild(docLink);\n",
              "        }\n",
              "      </script>\n",
              "    </div>\n",
              "  </div>\n"
            ]
          },
          "metadata": {},
          "execution_count": 258
        }
      ],
      "source": [
        "dfBank = readFile(\"https://raw.githubusercontent.com/wolfesamk/MSBA-206/main/dmba/UniversalBank.csv\")\n",
        "dfBank['Education'] = dfBank['Education'].astype('category')\n",
        "dfBank.columns = dfBank.columns.str.replace(' ', '_')\n",
        "dfBank = pd.get_dummies(dfBank, prefix_sep='_', drop_first=False)\n",
        "dfBank['Education_1'] = dfBank['Education_1'].astype('uint8')\n",
        "dfBank['Education_2'] = dfBank['Education_2'].astype('uint8')\n",
        "dfBank['Education_3'] = dfBank['Education_3'].astype('uint8')\n",
        "print(dfBank.shape)\n",
        "dfBank.head(5)"
      ]
    },
    {
      "cell_type": "markdown",
      "metadata": {
        "id": "6H9npRIfWFz_"
      },
      "source": [
        "#### Creating training and validation splits."
      ]
    },
    {
      "cell_type": "code",
      "execution_count": 259,
      "metadata": {
        "id": "fhZYlpviWF0L",
        "outputId": "45799f18-7a1b-48ff-d958-1ef82309585a",
        "colab": {
          "base_uri": "https://localhost:8080/"
        }
      },
      "outputs": [
        {
          "output_type": "stream",
          "name": "stdout",
          "text": [
            "(3000, 16) (2000, 16)\n"
          ]
        }
      ],
      "source": [
        "bank_trainData, bank_validData = train_test_split(dfBank, test_size=0.4, random_state=1)\n",
        "print(bank_trainData.shape, bank_validData.shape)"
      ]
    },
    {
      "cell_type": "markdown",
      "metadata": {
        "id": "2aVBoJ6CWF0L"
      },
      "source": [
        "## 8.1.a Pivot Table"
      ]
    },
    {
      "cell_type": "code",
      "execution_count": 260,
      "metadata": {
        "id": "Ju9sO0t4WF0M",
        "outputId": "b3f86b76-3fee-4962-9a2a-c7cc75dbf587",
        "colab": {
          "base_uri": "https://localhost:8080/",
          "height": 206
        }
      },
      "outputs": [
        {
          "output_type": "execute_result",
          "data": {
            "text/plain": [
              "Online                      0     1\n",
              "CreditCard Personal_Loan           \n",
              "0          0              792  1117\n",
              "           1               73   126\n",
              "1          0              327   477\n",
              "           1               39    49"
            ],
            "text/html": [
              "\n",
              "\n",
              "  <div id=\"df-baa566c9-4980-4c7f-b767-77859ed3665a\">\n",
              "    <div class=\"colab-df-container\">\n",
              "      <div>\n",
              "<style scoped>\n",
              "    .dataframe tbody tr th:only-of-type {\n",
              "        vertical-align: middle;\n",
              "    }\n",
              "\n",
              "    .dataframe tbody tr th {\n",
              "        vertical-align: top;\n",
              "    }\n",
              "\n",
              "    .dataframe thead th {\n",
              "        text-align: right;\n",
              "    }\n",
              "</style>\n",
              "<table border=\"1\" class=\"dataframe\">\n",
              "  <thead>\n",
              "    <tr style=\"text-align: right;\">\n",
              "      <th></th>\n",
              "      <th>Online</th>\n",
              "      <th>0</th>\n",
              "      <th>1</th>\n",
              "    </tr>\n",
              "    <tr>\n",
              "      <th>CreditCard</th>\n",
              "      <th>Personal_Loan</th>\n",
              "      <th></th>\n",
              "      <th></th>\n",
              "    </tr>\n",
              "  </thead>\n",
              "  <tbody>\n",
              "    <tr>\n",
              "      <th rowspan=\"2\" valign=\"top\">0</th>\n",
              "      <th>0</th>\n",
              "      <td>792</td>\n",
              "      <td>1117</td>\n",
              "    </tr>\n",
              "    <tr>\n",
              "      <th>1</th>\n",
              "      <td>73</td>\n",
              "      <td>126</td>\n",
              "    </tr>\n",
              "    <tr>\n",
              "      <th rowspan=\"2\" valign=\"top\">1</th>\n",
              "      <th>0</th>\n",
              "      <td>327</td>\n",
              "      <td>477</td>\n",
              "    </tr>\n",
              "    <tr>\n",
              "      <th>1</th>\n",
              "      <td>39</td>\n",
              "      <td>49</td>\n",
              "    </tr>\n",
              "  </tbody>\n",
              "</table>\n",
              "</div>\n",
              "      <button class=\"colab-df-convert\" onclick=\"convertToInteractive('df-baa566c9-4980-4c7f-b767-77859ed3665a')\"\n",
              "              title=\"Convert this dataframe to an interactive table.\"\n",
              "              style=\"display:none;\">\n",
              "\n",
              "  <svg xmlns=\"http://www.w3.org/2000/svg\" height=\"24px\"viewBox=\"0 0 24 24\"\n",
              "       width=\"24px\">\n",
              "    <path d=\"M0 0h24v24H0V0z\" fill=\"none\"/>\n",
              "    <path d=\"M18.56 5.44l.94 2.06.94-2.06 2.06-.94-2.06-.94-.94-2.06-.94 2.06-2.06.94zm-11 1L8.5 8.5l.94-2.06 2.06-.94-2.06-.94L8.5 2.5l-.94 2.06-2.06.94zm10 10l.94 2.06.94-2.06 2.06-.94-2.06-.94-.94-2.06-.94 2.06-2.06.94z\"/><path d=\"M17.41 7.96l-1.37-1.37c-.4-.4-.92-.59-1.43-.59-.52 0-1.04.2-1.43.59L10.3 9.45l-7.72 7.72c-.78.78-.78 2.05 0 2.83L4 21.41c.39.39.9.59 1.41.59.51 0 1.02-.2 1.41-.59l7.78-7.78 2.81-2.81c.8-.78.8-2.07 0-2.86zM5.41 20L4 18.59l7.72-7.72 1.47 1.35L5.41 20z\"/>\n",
              "  </svg>\n",
              "      </button>\n",
              "\n",
              "\n",
              "\n",
              "    <div id=\"df-7815773f-10a5-4a90-b870-03411cf70757\">\n",
              "      <button class=\"colab-df-quickchart\" onclick=\"quickchart('df-7815773f-10a5-4a90-b870-03411cf70757')\"\n",
              "              title=\"Suggest charts.\"\n",
              "              style=\"display:none;\">\n",
              "\n",
              "<svg xmlns=\"http://www.w3.org/2000/svg\" height=\"24px\"viewBox=\"0 0 24 24\"\n",
              "     width=\"24px\">\n",
              "    <g>\n",
              "        <path d=\"M19 3H5c-1.1 0-2 .9-2 2v14c0 1.1.9 2 2 2h14c1.1 0 2-.9 2-2V5c0-1.1-.9-2-2-2zM9 17H7v-7h2v7zm4 0h-2V7h2v10zm4 0h-2v-4h2v4z\"/>\n",
              "    </g>\n",
              "</svg>\n",
              "      </button>\n",
              "    </div>\n",
              "\n",
              "<style>\n",
              "  .colab-df-quickchart {\n",
              "    background-color: #E8F0FE;\n",
              "    border: none;\n",
              "    border-radius: 50%;\n",
              "    cursor: pointer;\n",
              "    display: none;\n",
              "    fill: #1967D2;\n",
              "    height: 32px;\n",
              "    padding: 0 0 0 0;\n",
              "    width: 32px;\n",
              "  }\n",
              "\n",
              "  .colab-df-quickchart:hover {\n",
              "    background-color: #E2EBFA;\n",
              "    box-shadow: 0px 1px 2px rgba(60, 64, 67, 0.3), 0px 1px 3px 1px rgba(60, 64, 67, 0.15);\n",
              "    fill: #174EA6;\n",
              "  }\n",
              "\n",
              "  [theme=dark] .colab-df-quickchart {\n",
              "    background-color: #3B4455;\n",
              "    fill: #D2E3FC;\n",
              "  }\n",
              "\n",
              "  [theme=dark] .colab-df-quickchart:hover {\n",
              "    background-color: #434B5C;\n",
              "    box-shadow: 0px 1px 3px 1px rgba(0, 0, 0, 0.15);\n",
              "    filter: drop-shadow(0px 1px 2px rgba(0, 0, 0, 0.3));\n",
              "    fill: #FFFFFF;\n",
              "  }\n",
              "</style>\n",
              "\n",
              "    <script>\n",
              "      async function quickchart(key) {\n",
              "        const containerElement = document.querySelector('#' + key);\n",
              "        const charts = await google.colab.kernel.invokeFunction(\n",
              "            'suggestCharts', [key], {});\n",
              "      }\n",
              "    </script>\n",
              "\n",
              "      <script>\n",
              "\n",
              "function displayQuickchartButton(domScope) {\n",
              "  let quickchartButtonEl =\n",
              "    domScope.querySelector('#df-7815773f-10a5-4a90-b870-03411cf70757 button.colab-df-quickchart');\n",
              "  quickchartButtonEl.style.display =\n",
              "    google.colab.kernel.accessAllowed ? 'block' : 'none';\n",
              "}\n",
              "\n",
              "        displayQuickchartButton(document);\n",
              "      </script>\n",
              "      <style>\n",
              "    .colab-df-container {\n",
              "      display:flex;\n",
              "      flex-wrap:wrap;\n",
              "      gap: 12px;\n",
              "    }\n",
              "\n",
              "    .colab-df-convert {\n",
              "      background-color: #E8F0FE;\n",
              "      border: none;\n",
              "      border-radius: 50%;\n",
              "      cursor: pointer;\n",
              "      display: none;\n",
              "      fill: #1967D2;\n",
              "      height: 32px;\n",
              "      padding: 0 0 0 0;\n",
              "      width: 32px;\n",
              "    }\n",
              "\n",
              "    .colab-df-convert:hover {\n",
              "      background-color: #E2EBFA;\n",
              "      box-shadow: 0px 1px 2px rgba(60, 64, 67, 0.3), 0px 1px 3px 1px rgba(60, 64, 67, 0.15);\n",
              "      fill: #174EA6;\n",
              "    }\n",
              "\n",
              "    [theme=dark] .colab-df-convert {\n",
              "      background-color: #3B4455;\n",
              "      fill: #D2E3FC;\n",
              "    }\n",
              "\n",
              "    [theme=dark] .colab-df-convert:hover {\n",
              "      background-color: #434B5C;\n",
              "      box-shadow: 0px 1px 3px 1px rgba(0, 0, 0, 0.15);\n",
              "      filter: drop-shadow(0px 1px 2px rgba(0, 0, 0, 0.3));\n",
              "      fill: #FFFFFF;\n",
              "    }\n",
              "  </style>\n",
              "\n",
              "      <script>\n",
              "        const buttonEl =\n",
              "          document.querySelector('#df-baa566c9-4980-4c7f-b767-77859ed3665a button.colab-df-convert');\n",
              "        buttonEl.style.display =\n",
              "          google.colab.kernel.accessAllowed ? 'block' : 'none';\n",
              "\n",
              "        async function convertToInteractive(key) {\n",
              "          const element = document.querySelector('#df-baa566c9-4980-4c7f-b767-77859ed3665a');\n",
              "          const dataTable =\n",
              "            await google.colab.kernel.invokeFunction('convertToInteractive',\n",
              "                                                     [key], {});\n",
              "          if (!dataTable) return;\n",
              "\n",
              "          const docLinkHtml = 'Like what you see? Visit the ' +\n",
              "            '<a target=\"_blank\" href=https://colab.research.google.com/notebooks/data_table.ipynb>data table notebook</a>'\n",
              "            + ' to learn more about interactive tables.';\n",
              "          element.innerHTML = '';\n",
              "          dataTable['output_type'] = 'display_data';\n",
              "          await google.colab.output.renderOutput(dataTable, element);\n",
              "          const docLink = document.createElement('div');\n",
              "          docLink.innerHTML = docLinkHtml;\n",
              "          element.appendChild(docLink);\n",
              "        }\n",
              "      </script>\n",
              "    </div>\n",
              "  </div>\n"
            ]
          },
          "metadata": {},
          "execution_count": 260
        }
      ],
      "source": [
        "bank_trainData_8_1_a = bank_trainData[['CreditCard', 'Personal_Loan','Online']]\n",
        "bank_short_PT_8_1_a = bank_trainData_8_1_a.pivot_table(index=['CreditCard', 'Personal_Loan'],\n",
        "                    columns=['Online'], aggfunc=len)\n",
        "bank_short_PT_8_1_a"
      ]
    },
    {
      "cell_type": "markdown",
      "metadata": {
        "id": "UXVfAZWBWF0M"
      },
      "source": [
        "## 8.1.b Probability of 1,1,1"
      ]
    },
    {
      "cell_type": "code",
      "execution_count": 261,
      "metadata": {
        "id": "Z_XqNnngWF0N",
        "outputId": "3c952dce-82db-4a22-d1b0-0e2a907bf073",
        "colab": {
          "base_uri": "https://localhost:8080/",
          "height": 35
        }
      },
      "outputs": [
        {
          "output_type": "execute_result",
          "data": {
            "text/plain": [
              "'P(Loan = 1 | CC = 1 | Online = 1): 9.32%'"
            ],
            "application/vnd.google.colaboratory.intrinsic+json": {
              "type": "string"
            }
          },
          "metadata": {},
          "execution_count": 261
        }
      ],
      "source": [
        "prob111_S = f'P(Loan = 1 | CC = 1 | Online = 1): {(bank_short_PT_8_1_a.iat[3,1]) / (bank_short_PT_8_1_a.iat[2,1] + bank_short_PT_8_1_a.iat[3,1]):.2%}'\n",
        "prob111_S"
      ]
    },
    {
      "cell_type": "markdown",
      "metadata": {
        "id": "CVHCdRkWWF0N"
      },
      "source": [
        "## 8.1.c"
      ]
    },
    {
      "cell_type": "code",
      "execution_count": 262,
      "metadata": {
        "id": "zv2dqucOWF0N",
        "outputId": "c5ea9e78-9690-48e5-83df-c3d39d1784d4",
        "colab": {
          "base_uri": "https://localhost:8080/",
          "height": 175
        }
      },
      "outputs": [
        {
          "output_type": "execute_result",
          "data": {
            "text/plain": [
              "Online            0     1   All\n",
              "Personal_Loan                  \n",
              "0              1119  1594  2713\n",
              "1               112   175   287\n",
              "All            1231  1769  3000"
            ],
            "text/html": [
              "\n",
              "\n",
              "  <div id=\"df-13d5297d-c3b1-4ee8-b924-9c4b999a2252\">\n",
              "    <div class=\"colab-df-container\">\n",
              "      <div>\n",
              "<style scoped>\n",
              "    .dataframe tbody tr th:only-of-type {\n",
              "        vertical-align: middle;\n",
              "    }\n",
              "\n",
              "    .dataframe tbody tr th {\n",
              "        vertical-align: top;\n",
              "    }\n",
              "\n",
              "    .dataframe thead th {\n",
              "        text-align: right;\n",
              "    }\n",
              "</style>\n",
              "<table border=\"1\" class=\"dataframe\">\n",
              "  <thead>\n",
              "    <tr style=\"text-align: right;\">\n",
              "      <th>Online</th>\n",
              "      <th>0</th>\n",
              "      <th>1</th>\n",
              "      <th>All</th>\n",
              "    </tr>\n",
              "    <tr>\n",
              "      <th>Personal_Loan</th>\n",
              "      <th></th>\n",
              "      <th></th>\n",
              "      <th></th>\n",
              "    </tr>\n",
              "  </thead>\n",
              "  <tbody>\n",
              "    <tr>\n",
              "      <th>0</th>\n",
              "      <td>1119</td>\n",
              "      <td>1594</td>\n",
              "      <td>2713</td>\n",
              "    </tr>\n",
              "    <tr>\n",
              "      <th>1</th>\n",
              "      <td>112</td>\n",
              "      <td>175</td>\n",
              "      <td>287</td>\n",
              "    </tr>\n",
              "    <tr>\n",
              "      <th>All</th>\n",
              "      <td>1231</td>\n",
              "      <td>1769</td>\n",
              "      <td>3000</td>\n",
              "    </tr>\n",
              "  </tbody>\n",
              "</table>\n",
              "</div>\n",
              "      <button class=\"colab-df-convert\" onclick=\"convertToInteractive('df-13d5297d-c3b1-4ee8-b924-9c4b999a2252')\"\n",
              "              title=\"Convert this dataframe to an interactive table.\"\n",
              "              style=\"display:none;\">\n",
              "\n",
              "  <svg xmlns=\"http://www.w3.org/2000/svg\" height=\"24px\"viewBox=\"0 0 24 24\"\n",
              "       width=\"24px\">\n",
              "    <path d=\"M0 0h24v24H0V0z\" fill=\"none\"/>\n",
              "    <path d=\"M18.56 5.44l.94 2.06.94-2.06 2.06-.94-2.06-.94-.94-2.06-.94 2.06-2.06.94zm-11 1L8.5 8.5l.94-2.06 2.06-.94-2.06-.94L8.5 2.5l-.94 2.06-2.06.94zm10 10l.94 2.06.94-2.06 2.06-.94-2.06-.94-.94-2.06-.94 2.06-2.06.94z\"/><path d=\"M17.41 7.96l-1.37-1.37c-.4-.4-.92-.59-1.43-.59-.52 0-1.04.2-1.43.59L10.3 9.45l-7.72 7.72c-.78.78-.78 2.05 0 2.83L4 21.41c.39.39.9.59 1.41.59.51 0 1.02-.2 1.41-.59l7.78-7.78 2.81-2.81c.8-.78.8-2.07 0-2.86zM5.41 20L4 18.59l7.72-7.72 1.47 1.35L5.41 20z\"/>\n",
              "  </svg>\n",
              "      </button>\n",
              "\n",
              "\n",
              "\n",
              "    <div id=\"df-d752b370-0240-4495-9d41-17b3ba327278\">\n",
              "      <button class=\"colab-df-quickchart\" onclick=\"quickchart('df-d752b370-0240-4495-9d41-17b3ba327278')\"\n",
              "              title=\"Suggest charts.\"\n",
              "              style=\"display:none;\">\n",
              "\n",
              "<svg xmlns=\"http://www.w3.org/2000/svg\" height=\"24px\"viewBox=\"0 0 24 24\"\n",
              "     width=\"24px\">\n",
              "    <g>\n",
              "        <path d=\"M19 3H5c-1.1 0-2 .9-2 2v14c0 1.1.9 2 2 2h14c1.1 0 2-.9 2-2V5c0-1.1-.9-2-2-2zM9 17H7v-7h2v7zm4 0h-2V7h2v10zm4 0h-2v-4h2v4z\"/>\n",
              "    </g>\n",
              "</svg>\n",
              "      </button>\n",
              "    </div>\n",
              "\n",
              "<style>\n",
              "  .colab-df-quickchart {\n",
              "    background-color: #E8F0FE;\n",
              "    border: none;\n",
              "    border-radius: 50%;\n",
              "    cursor: pointer;\n",
              "    display: none;\n",
              "    fill: #1967D2;\n",
              "    height: 32px;\n",
              "    padding: 0 0 0 0;\n",
              "    width: 32px;\n",
              "  }\n",
              "\n",
              "  .colab-df-quickchart:hover {\n",
              "    background-color: #E2EBFA;\n",
              "    box-shadow: 0px 1px 2px rgba(60, 64, 67, 0.3), 0px 1px 3px 1px rgba(60, 64, 67, 0.15);\n",
              "    fill: #174EA6;\n",
              "  }\n",
              "\n",
              "  [theme=dark] .colab-df-quickchart {\n",
              "    background-color: #3B4455;\n",
              "    fill: #D2E3FC;\n",
              "  }\n",
              "\n",
              "  [theme=dark] .colab-df-quickchart:hover {\n",
              "    background-color: #434B5C;\n",
              "    box-shadow: 0px 1px 3px 1px rgba(0, 0, 0, 0.15);\n",
              "    filter: drop-shadow(0px 1px 2px rgba(0, 0, 0, 0.3));\n",
              "    fill: #FFFFFF;\n",
              "  }\n",
              "</style>\n",
              "\n",
              "    <script>\n",
              "      async function quickchart(key) {\n",
              "        const containerElement = document.querySelector('#' + key);\n",
              "        const charts = await google.colab.kernel.invokeFunction(\n",
              "            'suggestCharts', [key], {});\n",
              "      }\n",
              "    </script>\n",
              "\n",
              "      <script>\n",
              "\n",
              "function displayQuickchartButton(domScope) {\n",
              "  let quickchartButtonEl =\n",
              "    domScope.querySelector('#df-d752b370-0240-4495-9d41-17b3ba327278 button.colab-df-quickchart');\n",
              "  quickchartButtonEl.style.display =\n",
              "    google.colab.kernel.accessAllowed ? 'block' : 'none';\n",
              "}\n",
              "\n",
              "        displayQuickchartButton(document);\n",
              "      </script>\n",
              "      <style>\n",
              "    .colab-df-container {\n",
              "      display:flex;\n",
              "      flex-wrap:wrap;\n",
              "      gap: 12px;\n",
              "    }\n",
              "\n",
              "    .colab-df-convert {\n",
              "      background-color: #E8F0FE;\n",
              "      border: none;\n",
              "      border-radius: 50%;\n",
              "      cursor: pointer;\n",
              "      display: none;\n",
              "      fill: #1967D2;\n",
              "      height: 32px;\n",
              "      padding: 0 0 0 0;\n",
              "      width: 32px;\n",
              "    }\n",
              "\n",
              "    .colab-df-convert:hover {\n",
              "      background-color: #E2EBFA;\n",
              "      box-shadow: 0px 1px 2px rgba(60, 64, 67, 0.3), 0px 1px 3px 1px rgba(60, 64, 67, 0.15);\n",
              "      fill: #174EA6;\n",
              "    }\n",
              "\n",
              "    [theme=dark] .colab-df-convert {\n",
              "      background-color: #3B4455;\n",
              "      fill: #D2E3FC;\n",
              "    }\n",
              "\n",
              "    [theme=dark] .colab-df-convert:hover {\n",
              "      background-color: #434B5C;\n",
              "      box-shadow: 0px 1px 3px 1px rgba(0, 0, 0, 0.15);\n",
              "      filter: drop-shadow(0px 1px 2px rgba(0, 0, 0, 0.3));\n",
              "      fill: #FFFFFF;\n",
              "    }\n",
              "  </style>\n",
              "\n",
              "      <script>\n",
              "        const buttonEl =\n",
              "          document.querySelector('#df-13d5297d-c3b1-4ee8-b924-9c4b999a2252 button.colab-df-convert');\n",
              "        buttonEl.style.display =\n",
              "          google.colab.kernel.accessAllowed ? 'block' : 'none';\n",
              "\n",
              "        async function convertToInteractive(key) {\n",
              "          const element = document.querySelector('#df-13d5297d-c3b1-4ee8-b924-9c4b999a2252');\n",
              "          const dataTable =\n",
              "            await google.colab.kernel.invokeFunction('convertToInteractive',\n",
              "                                                     [key], {});\n",
              "          if (!dataTable) return;\n",
              "\n",
              "          const docLinkHtml = 'Like what you see? Visit the ' +\n",
              "            '<a target=\"_blank\" href=https://colab.research.google.com/notebooks/data_table.ipynb>data table notebook</a>'\n",
              "            + ' to learn more about interactive tables.';\n",
              "          element.innerHTML = '';\n",
              "          dataTable['output_type'] = 'display_data';\n",
              "          await google.colab.output.renderOutput(dataTable, element);\n",
              "          const docLink = document.createElement('div');\n",
              "          docLink.innerHTML = docLinkHtml;\n",
              "          element.appendChild(docLink);\n",
              "        }\n",
              "      </script>\n",
              "    </div>\n",
              "  </div>\n"
            ]
          },
          "metadata": {},
          "execution_count": 262
        }
      ],
      "source": [
        "bank_trainData_8_1_c_1 = bank_trainData[['Personal_Loan','Online']]\n",
        "bank_short_PT_8_1_c_1 = bank_trainData_8_1_c_1.pivot_table(index=['Personal_Loan'],\n",
        "                    columns=['Online'], aggfunc=len, margins=True)\n",
        "bank_short_PT_8_1_c_1"
      ]
    },
    {
      "cell_type": "code",
      "execution_count": 263,
      "metadata": {
        "id": "tE0JG0tOWF0N",
        "outputId": "d61d601d-d3b7-416b-e1f3-e513810f9690",
        "colab": {
          "base_uri": "https://localhost:8080/",
          "height": 175
        }
      },
      "outputs": [
        {
          "output_type": "execute_result",
          "data": {
            "text/plain": [
              "CreditCard        0    1   All\n",
              "Personal_Loan                 \n",
              "0              1909  804  2713\n",
              "1               199   88   287\n",
              "All            2108  892  3000"
            ],
            "text/html": [
              "\n",
              "\n",
              "  <div id=\"df-386eb172-5146-42dc-ae97-dcc3d8b51933\">\n",
              "    <div class=\"colab-df-container\">\n",
              "      <div>\n",
              "<style scoped>\n",
              "    .dataframe tbody tr th:only-of-type {\n",
              "        vertical-align: middle;\n",
              "    }\n",
              "\n",
              "    .dataframe tbody tr th {\n",
              "        vertical-align: top;\n",
              "    }\n",
              "\n",
              "    .dataframe thead th {\n",
              "        text-align: right;\n",
              "    }\n",
              "</style>\n",
              "<table border=\"1\" class=\"dataframe\">\n",
              "  <thead>\n",
              "    <tr style=\"text-align: right;\">\n",
              "      <th>CreditCard</th>\n",
              "      <th>0</th>\n",
              "      <th>1</th>\n",
              "      <th>All</th>\n",
              "    </tr>\n",
              "    <tr>\n",
              "      <th>Personal_Loan</th>\n",
              "      <th></th>\n",
              "      <th></th>\n",
              "      <th></th>\n",
              "    </tr>\n",
              "  </thead>\n",
              "  <tbody>\n",
              "    <tr>\n",
              "      <th>0</th>\n",
              "      <td>1909</td>\n",
              "      <td>804</td>\n",
              "      <td>2713</td>\n",
              "    </tr>\n",
              "    <tr>\n",
              "      <th>1</th>\n",
              "      <td>199</td>\n",
              "      <td>88</td>\n",
              "      <td>287</td>\n",
              "    </tr>\n",
              "    <tr>\n",
              "      <th>All</th>\n",
              "      <td>2108</td>\n",
              "      <td>892</td>\n",
              "      <td>3000</td>\n",
              "    </tr>\n",
              "  </tbody>\n",
              "</table>\n",
              "</div>\n",
              "      <button class=\"colab-df-convert\" onclick=\"convertToInteractive('df-386eb172-5146-42dc-ae97-dcc3d8b51933')\"\n",
              "              title=\"Convert this dataframe to an interactive table.\"\n",
              "              style=\"display:none;\">\n",
              "\n",
              "  <svg xmlns=\"http://www.w3.org/2000/svg\" height=\"24px\"viewBox=\"0 0 24 24\"\n",
              "       width=\"24px\">\n",
              "    <path d=\"M0 0h24v24H0V0z\" fill=\"none\"/>\n",
              "    <path d=\"M18.56 5.44l.94 2.06.94-2.06 2.06-.94-2.06-.94-.94-2.06-.94 2.06-2.06.94zm-11 1L8.5 8.5l.94-2.06 2.06-.94-2.06-.94L8.5 2.5l-.94 2.06-2.06.94zm10 10l.94 2.06.94-2.06 2.06-.94-2.06-.94-.94-2.06-.94 2.06-2.06.94z\"/><path d=\"M17.41 7.96l-1.37-1.37c-.4-.4-.92-.59-1.43-.59-.52 0-1.04.2-1.43.59L10.3 9.45l-7.72 7.72c-.78.78-.78 2.05 0 2.83L4 21.41c.39.39.9.59 1.41.59.51 0 1.02-.2 1.41-.59l7.78-7.78 2.81-2.81c.8-.78.8-2.07 0-2.86zM5.41 20L4 18.59l7.72-7.72 1.47 1.35L5.41 20z\"/>\n",
              "  </svg>\n",
              "      </button>\n",
              "\n",
              "\n",
              "\n",
              "    <div id=\"df-89d4721c-5f81-46e6-b075-4a73a34ed4e1\">\n",
              "      <button class=\"colab-df-quickchart\" onclick=\"quickchart('df-89d4721c-5f81-46e6-b075-4a73a34ed4e1')\"\n",
              "              title=\"Suggest charts.\"\n",
              "              style=\"display:none;\">\n",
              "\n",
              "<svg xmlns=\"http://www.w3.org/2000/svg\" height=\"24px\"viewBox=\"0 0 24 24\"\n",
              "     width=\"24px\">\n",
              "    <g>\n",
              "        <path d=\"M19 3H5c-1.1 0-2 .9-2 2v14c0 1.1.9 2 2 2h14c1.1 0 2-.9 2-2V5c0-1.1-.9-2-2-2zM9 17H7v-7h2v7zm4 0h-2V7h2v10zm4 0h-2v-4h2v4z\"/>\n",
              "    </g>\n",
              "</svg>\n",
              "      </button>\n",
              "    </div>\n",
              "\n",
              "<style>\n",
              "  .colab-df-quickchart {\n",
              "    background-color: #E8F0FE;\n",
              "    border: none;\n",
              "    border-radius: 50%;\n",
              "    cursor: pointer;\n",
              "    display: none;\n",
              "    fill: #1967D2;\n",
              "    height: 32px;\n",
              "    padding: 0 0 0 0;\n",
              "    width: 32px;\n",
              "  }\n",
              "\n",
              "  .colab-df-quickchart:hover {\n",
              "    background-color: #E2EBFA;\n",
              "    box-shadow: 0px 1px 2px rgba(60, 64, 67, 0.3), 0px 1px 3px 1px rgba(60, 64, 67, 0.15);\n",
              "    fill: #174EA6;\n",
              "  }\n",
              "\n",
              "  [theme=dark] .colab-df-quickchart {\n",
              "    background-color: #3B4455;\n",
              "    fill: #D2E3FC;\n",
              "  }\n",
              "\n",
              "  [theme=dark] .colab-df-quickchart:hover {\n",
              "    background-color: #434B5C;\n",
              "    box-shadow: 0px 1px 3px 1px rgba(0, 0, 0, 0.15);\n",
              "    filter: drop-shadow(0px 1px 2px rgba(0, 0, 0, 0.3));\n",
              "    fill: #FFFFFF;\n",
              "  }\n",
              "</style>\n",
              "\n",
              "    <script>\n",
              "      async function quickchart(key) {\n",
              "        const containerElement = document.querySelector('#' + key);\n",
              "        const charts = await google.colab.kernel.invokeFunction(\n",
              "            'suggestCharts', [key], {});\n",
              "      }\n",
              "    </script>\n",
              "\n",
              "      <script>\n",
              "\n",
              "function displayQuickchartButton(domScope) {\n",
              "  let quickchartButtonEl =\n",
              "    domScope.querySelector('#df-89d4721c-5f81-46e6-b075-4a73a34ed4e1 button.colab-df-quickchart');\n",
              "  quickchartButtonEl.style.display =\n",
              "    google.colab.kernel.accessAllowed ? 'block' : 'none';\n",
              "}\n",
              "\n",
              "        displayQuickchartButton(document);\n",
              "      </script>\n",
              "      <style>\n",
              "    .colab-df-container {\n",
              "      display:flex;\n",
              "      flex-wrap:wrap;\n",
              "      gap: 12px;\n",
              "    }\n",
              "\n",
              "    .colab-df-convert {\n",
              "      background-color: #E8F0FE;\n",
              "      border: none;\n",
              "      border-radius: 50%;\n",
              "      cursor: pointer;\n",
              "      display: none;\n",
              "      fill: #1967D2;\n",
              "      height: 32px;\n",
              "      padding: 0 0 0 0;\n",
              "      width: 32px;\n",
              "    }\n",
              "\n",
              "    .colab-df-convert:hover {\n",
              "      background-color: #E2EBFA;\n",
              "      box-shadow: 0px 1px 2px rgba(60, 64, 67, 0.3), 0px 1px 3px 1px rgba(60, 64, 67, 0.15);\n",
              "      fill: #174EA6;\n",
              "    }\n",
              "\n",
              "    [theme=dark] .colab-df-convert {\n",
              "      background-color: #3B4455;\n",
              "      fill: #D2E3FC;\n",
              "    }\n",
              "\n",
              "    [theme=dark] .colab-df-convert:hover {\n",
              "      background-color: #434B5C;\n",
              "      box-shadow: 0px 1px 3px 1px rgba(0, 0, 0, 0.15);\n",
              "      filter: drop-shadow(0px 1px 2px rgba(0, 0, 0, 0.3));\n",
              "      fill: #FFFFFF;\n",
              "    }\n",
              "  </style>\n",
              "\n",
              "      <script>\n",
              "        const buttonEl =\n",
              "          document.querySelector('#df-386eb172-5146-42dc-ae97-dcc3d8b51933 button.colab-df-convert');\n",
              "        buttonEl.style.display =\n",
              "          google.colab.kernel.accessAllowed ? 'block' : 'none';\n",
              "\n",
              "        async function convertToInteractive(key) {\n",
              "          const element = document.querySelector('#df-386eb172-5146-42dc-ae97-dcc3d8b51933');\n",
              "          const dataTable =\n",
              "            await google.colab.kernel.invokeFunction('convertToInteractive',\n",
              "                                                     [key], {});\n",
              "          if (!dataTable) return;\n",
              "\n",
              "          const docLinkHtml = 'Like what you see? Visit the ' +\n",
              "            '<a target=\"_blank\" href=https://colab.research.google.com/notebooks/data_table.ipynb>data table notebook</a>'\n",
              "            + ' to learn more about interactive tables.';\n",
              "          element.innerHTML = '';\n",
              "          dataTable['output_type'] = 'display_data';\n",
              "          await google.colab.output.renderOutput(dataTable, element);\n",
              "          const docLink = document.createElement('div');\n",
              "          docLink.innerHTML = docLinkHtml;\n",
              "          element.appendChild(docLink);\n",
              "        }\n",
              "      </script>\n",
              "    </div>\n",
              "  </div>\n"
            ]
          },
          "metadata": {},
          "execution_count": 263
        }
      ],
      "source": [
        "bank_trainData_8_1_c_2 = bank_trainData[['CreditCard', 'Personal_Loan']]\n",
        "bank_short_PT_8_1_c_2 = bank_trainData_8_1_c_2.pivot_table(index=['Personal_Loan'],\n",
        "                    columns=['CreditCard'], aggfunc=len, margins=True)\n",
        "bank_short_PT_8_1_c_2"
      ]
    },
    {
      "cell_type": "markdown",
      "metadata": {
        "id": "GSNaFYrAWF0O"
      },
      "source": [
        "#### 8.1.d.i"
      ]
    },
    {
      "cell_type": "code",
      "execution_count": 264,
      "metadata": {
        "id": "8x1fAe4hWF0O",
        "outputId": "59615048-af2c-4ed6-c3b7-e3c2585ef878",
        "colab": {
          "base_uri": "https://localhost:8080/",
          "height": 35
        }
      },
      "outputs": [
        {
          "output_type": "execute_result",
          "data": {
            "text/plain": [
              "'P(CC = 1 ∣ Loan = 1): 30.66%'"
            ],
            "application/vnd.google.colaboratory.intrinsic+json": {
              "type": "string"
            }
          },
          "metadata": {},
          "execution_count": 264
        }
      ],
      "source": [
        "P_CC1_Loan1_S = f'P(CC = 1 ∣ Loan = 1): {(bank_short_PT_8_1_c_2.iat[1,1]) / (bank_short_PT_8_1_c_2.iat[1,2]):.2%}'\n",
        "P_CC1_Loan1 = (bank_short_PT_8_1_c_2.iat[1,1]) / (bank_short_PT_8_1_c_2.iat[1,2])\n",
        "P_CC1_Loan1_S"
      ]
    },
    {
      "cell_type": "markdown",
      "metadata": {
        "id": "Ugf6vuF_WF0O"
      },
      "source": [
        "#### 8.1.d.ii"
      ]
    },
    {
      "cell_type": "code",
      "execution_count": 265,
      "metadata": {
        "id": "ooyYnr_yWF0O",
        "outputId": "f8a06d8d-7d47-458f-debf-6bec9aab98de",
        "colab": {
          "base_uri": "https://localhost:8080/",
          "height": 35
        }
      },
      "outputs": [
        {
          "output_type": "execute_result",
          "data": {
            "text/plain": [
              "'P(Online = 1 ∣ Loan = 1): 9.89%'"
            ],
            "application/vnd.google.colaboratory.intrinsic+json": {
              "type": "string"
            }
          },
          "metadata": {},
          "execution_count": 265
        }
      ],
      "source": [
        "P_Online1_Loan1_S = f'P(Online = 1 ∣ Loan = 1): {(bank_short_PT_8_1_c_1.iat[1,1]) / (bank_short_PT_8_1_c_1.iat[2,1]):.2%}'\n",
        "P_Online1_Loan1 = (bank_short_PT_8_1_c_1.iat[1,1]) / (bank_short_PT_8_1_c_1.iat[2,1])\n",
        "P_Online1_Loan1_S"
      ]
    },
    {
      "cell_type": "markdown",
      "metadata": {
        "id": "86RwBjdhWF0R"
      },
      "source": [
        "#### 8.1.d.iii"
      ]
    },
    {
      "cell_type": "code",
      "execution_count": 266,
      "metadata": {
        "id": "ptsySKpKWF0S",
        "outputId": "c9480551-b5be-4279-b5b8-1bc766bc80b6",
        "colab": {
          "base_uri": "https://localhost:8080/",
          "height": 35
        }
      },
      "outputs": [
        {
          "output_type": "execute_result",
          "data": {
            "text/plain": [
              "'P(Loan = 1) (the proportion of loan acceptors): 9.57%'"
            ],
            "application/vnd.google.colaboratory.intrinsic+json": {
              "type": "string"
            }
          },
          "metadata": {},
          "execution_count": 266
        }
      ],
      "source": [
        "P_Loan1_LoanAll_S = f'P(Loan = 1) (the proportion of loan acceptors): {(bank_short_PT_8_1_c_2.iat[1,2]) / (bank_short_PT_8_1_c_2.iat[2,2]):.2%}'\n",
        "P_Loan1_LoanAll = (bank_short_PT_8_1_c_2.iat[1,2]) / (bank_short_PT_8_1_c_2.iat[2,2])\n",
        "P_Loan1_LoanAll_S"
      ]
    },
    {
      "cell_type": "markdown",
      "metadata": {
        "id": "XAoeezREWF0S"
      },
      "source": [
        "#### 8.1.d.iv"
      ]
    },
    {
      "cell_type": "code",
      "execution_count": 267,
      "metadata": {
        "id": "Q6h8cH3GWF0T",
        "outputId": "d8736d6d-d1df-41a4-fbb4-6ca42b77d6a1",
        "colab": {
          "base_uri": "https://localhost:8080/",
          "height": 35
        }
      },
      "outputs": [
        {
          "output_type": "execute_result",
          "data": {
            "text/plain": [
              "'P(CC = 1 ∣ Loan = 0): 29.64%'"
            ],
            "application/vnd.google.colaboratory.intrinsic+json": {
              "type": "string"
            }
          },
          "metadata": {},
          "execution_count": 267
        }
      ],
      "source": [
        "P_CC1_Loan0_S = f'P(CC = 1 ∣ Loan = 0): {(bank_short_PT_8_1_c_2.iat[0,1]) / (bank_short_PT_8_1_c_2.iat[0,2]):.2%}'\n",
        "P_CC1_Loan0 = (bank_short_PT_8_1_c_2.iat[0,1]) / (bank_short_PT_8_1_c_2.iat[0,2])\n",
        "P_CC1_Loan0_S"
      ]
    },
    {
      "cell_type": "markdown",
      "metadata": {
        "id": "rp-A0ToSWF0b"
      },
      "source": [
        "#### 8.1.d.v"
      ]
    },
    {
      "cell_type": "code",
      "execution_count": 268,
      "metadata": {
        "id": "agZHmw2sWF0b",
        "outputId": "0b00db19-1102-4094-c0e8-b07ea67c11b4",
        "colab": {
          "base_uri": "https://localhost:8080/",
          "height": 35
        }
      },
      "outputs": [
        {
          "output_type": "execute_result",
          "data": {
            "text/plain": [
              "'P(Online = 1 ∣ Loan = 0): 58.75%'"
            ],
            "application/vnd.google.colaboratory.intrinsic+json": {
              "type": "string"
            }
          },
          "metadata": {},
          "execution_count": 268
        }
      ],
      "source": [
        "P_Online1_Loan0_S = f'P(Online = 1 ∣ Loan = 0): {(bank_short_PT_8_1_c_1.iat[0,1]) / (bank_short_PT_8_1_c_1.iat[0,2]):.2%}'\n",
        "P_Online1_Loan0 = (bank_short_PT_8_1_c_1.iat[0,1]) / (bank_short_PT_8_1_c_1.iat[0,2])\n",
        "P_Online1_Loan0_S"
      ]
    },
    {
      "cell_type": "markdown",
      "metadata": {
        "id": "i9yFCDIdWF0c"
      },
      "source": [
        "#### 8.1.d.vi"
      ]
    },
    {
      "cell_type": "code",
      "execution_count": 269,
      "metadata": {
        "id": "4scTlRY1WF0c",
        "outputId": "ad476ce7-c3b7-46cc-a429-97eb2c1e0b9a",
        "colab": {
          "base_uri": "https://localhost:8080/",
          "height": 35
        }
      },
      "outputs": [
        {
          "output_type": "execute_result",
          "data": {
            "text/plain": [
              "'P(Loan = 0): 90.43%'"
            ],
            "application/vnd.google.colaboratory.intrinsic+json": {
              "type": "string"
            }
          },
          "metadata": {},
          "execution_count": 269
        }
      ],
      "source": [
        "P_Loan0_S = f'P(Loan = 0): {(bank_short_PT_8_1_c_2.iat[0,2]) / (bank_short_PT_8_1_c_2.iat[2,2]):.2%}'\n",
        "P_Loan0 = (bank_short_PT_8_1_c_2.iat[0,2]) / (bank_short_PT_8_1_c_2.iat[2,2])\n",
        "P_Loan0_S"
      ]
    },
    {
      "cell_type": "markdown",
      "metadata": {
        "id": "DkHkB6dsWF0c"
      },
      "source": [
        "## 8.1.e"
      ]
    },
    {
      "cell_type": "code",
      "execution_count": 270,
      "metadata": {
        "id": "vJq2jHIRWF0c",
        "outputId": "733edc82-3a4d-463e-8a43-6379e7ebfb77",
        "colab": {
          "base_uri": "https://localhost:8080/",
          "height": 35
        }
      },
      "outputs": [
        {
          "output_type": "execute_result",
          "data": {
            "text/plain": [
              "'Naive Bayes P(Loan = 1 ∣ CC = 1, Online = 1): 1.81%'"
            ],
            "application/vnd.google.colaboratory.intrinsic+json": {
              "type": "string"
            }
          },
          "metadata": {},
          "execution_count": 270
        }
      ],
      "source": [
        "P_Bayes_Loan1_CC1_Online1 = f'Naive Bayes P(Loan = 1 ∣ CC = 1, Online = 1): {(P_CC1_Loan1 * P_Online1_Loan1 * P_Loan1_LoanAll)/ ((P_CC1_Loan1 * P_Online1_Loan1 * P_Loan1_LoanAll) + (P_CC1_Loan0 * P_Online1_Loan0 * P_Loan0)):.2%}'\n",
        "P_Bayes_Loan1_CC1_Online1"
      ]
    },
    {
      "cell_type": "markdown",
      "metadata": {
        "id": "-SPLVEmzWF0d"
      },
      "source": [
        "## 8.1.f\n",
        "#### Looking at the raw values, the value generated from the first pivot table in 8.1.b is higher at 9.32% while in 8.1.e the naive Bayes probability is 1.81%. Knowing that Naive Bayes makes the assumption that all variables are independent (hence naive) I would say the first pivot table solution in 8.1.b is more accurate as it takes into consideration all the values."
      ]
    },
    {
      "cell_type": "markdown",
      "metadata": {
        "id": "fR2e4BxuWF0d"
      },
      "source": [
        "## 8.1.e"
      ]
    },
    {
      "cell_type": "markdown",
      "metadata": {
        "id": "1d6rOgUNWF0d"
      },
      "source": [
        "#### Preparing data"
      ]
    },
    {
      "cell_type": "code",
      "execution_count": 271,
      "metadata": {
        "id": "9LuwfU8HWF0e"
      },
      "outputs": [],
      "source": [
        "classes = [0,1]\n",
        "predictors = ['Online','CreditCard']\n",
        "outcome = ['Personal_Loan']\n",
        "\n",
        "dfBank = readFile(\"https://raw.githubusercontent.com/wolfesamk/MSBA-206/main/dmba/UniversalBank.csv\")\n",
        "dfBank['Education'] = dfBank['Education'].astype('category')\n",
        "dfBank.columns = dfBank.columns.str.replace(' ', '_')\n",
        "dfBank = pd.get_dummies(dfBank, prefix_sep='_', drop_first=False)\n",
        "dfBank['Education_1'] = dfBank['Education_1'].astype('uint8')\n",
        "dfBank['Education_2'] = dfBank['Education_2'].astype('uint8')\n",
        "dfBank['Education_3'] = dfBank['Education_3'].astype('uint8')\n",
        "\n",
        "X_dfBank = pd.get_dummies(dfBank, prefix_sep='_', drop_first=False)\n",
        "Y_dfBank = (dfBank[outcome]).astype(int)\n",
        "\n",
        "scaler = MinMaxScaler()\n",
        "scaler.fit(X_dfBank)\n",
        "X_train, X_valid, y_train, y_valid = train_test_split(X_dfBank, Y_dfBank, test_size=0.40, random_state=1)\n",
        "X_train = scaler.fit_transform(X_train)\n",
        "X_valid = scaler.transform(X_valid)"
      ]
    },
    {
      "cell_type": "markdown",
      "metadata": {
        "id": "oiAw4oqxWF0e"
      },
      "source": [
        "#### Run Naive Bayes"
      ]
    },
    {
      "cell_type": "code",
      "execution_count": 272,
      "metadata": {
        "id": "0ph66HR4WF0e"
      },
      "outputs": [],
      "source": [
        "bank_nb = MultinomialNB(alpha=1)\n",
        "bank_nb.fit(X_train, y_train.Personal_Loan)\n",
        "\n",
        "# predict probabilities\n",
        "predProb_train = bank_nb.predict_proba(X_train)\n",
        "predProb_valid = bank_nb.predict_proba(X_valid)\n",
        "\n",
        "# predict class membership\n",
        "y_train_pred = bank_nb.predict(X_train)\n",
        "y_valid_pred = bank_nb.predict(X_valid)"
      ]
    },
    {
      "cell_type": "code",
      "source": [
        "predProb_valid"
      ],
      "metadata": {
        "id": "YfG9ef4agqyX",
        "outputId": "5859d145-759c-4abd-be4e-30e7bd173efb",
        "colab": {
          "base_uri": "https://localhost:8080/"
        }
      },
      "execution_count": 273,
      "outputs": [
        {
          "output_type": "execute_result",
          "data": {
            "text/plain": [
              "array([[0.93745255, 0.06254745],\n",
              "       [0.98474725, 0.01525275],\n",
              "       [0.9841384 , 0.0158616 ],\n",
              "       ...,\n",
              "       [0.97245357, 0.02754643],\n",
              "       [0.95499039, 0.04500961],\n",
              "       [0.94814428, 0.05185572]])"
            ]
          },
          "metadata": {},
          "execution_count": 273
        }
      ]
    },
    {
      "cell_type": "code",
      "execution_count": 274,
      "metadata": {
        "id": "IbIp4xGXWF0f",
        "outputId": "c03a189b-2653-4003-9d73-4788248f7eac",
        "colab": {
          "base_uri": "https://localhost:8080/"
        }
      },
      "outputs": [
        {
          "output_type": "execute_result",
          "data": {
            "text/plain": [
              "array([0, 0, 0, ..., 0, 0, 0])"
            ]
          },
          "metadata": {},
          "execution_count": 274
        }
      ],
      "source": [
        "y_valid_pred"
      ]
    },
    {
      "cell_type": "code",
      "execution_count": 275,
      "metadata": {
        "id": "vydn6Fi8WF0f",
        "outputId": "e742c9f4-6dcf-4898-db12-6f21e6ff21a6",
        "colab": {
          "base_uri": "https://localhost:8080/"
        }
      },
      "outputs": [
        {
          "output_type": "stream",
          "name": "stdout",
          "text": [
            "0    0.9043\n",
            "1    0.0957\n",
            "Name: Personal_Loan, dtype: float64\n",
            "\n",
            "Online              0       1\n",
            "Personal_Loan                \n",
            "0              0.4125  0.5875\n",
            "1              0.3902  0.6098\n",
            "\n",
            "CreditCard          0       1\n",
            "Personal_Loan                \n",
            "0              0.7036  0.2964\n",
            "1              0.6934  0.3066\n",
            "\n"
          ]
        }
      ],
      "source": [
        "train_df, valid_df = train_test_split(dfBank, test_size=0.4, random_state=1)\n",
        "\n",
        "pd.set_option('display.precision', 4)\n",
        "# probability of flight status\n",
        "print(train_df['Personal_Loan'].value_counts() / len(train_df))\n",
        "print()\n",
        "\n",
        "for predictor in predictors:\n",
        "    # construct the frequency table\n",
        "    df = train_df[['Personal_Loan', predictor]]\n",
        "    freqTable = df.pivot_table(index='Personal_Loan', columns=predictor, aggfunc=len)\n",
        "\n",
        "    # divide each row by the sum of the row to get conditional probabilities\n",
        "    propTable = freqTable.apply(lambda x: x / sum(x), axis=1)\n",
        "    print(propTable)\n",
        "    print()\n",
        "pd.reset_option('display.precision')"
      ]
    },
    {
      "cell_type": "code",
      "execution_count": 283,
      "metadata": {
        "id": "3IqrX8F3WF0f",
        "outputId": "8b9370b4-7f59-4531-ccbf-fcead11f0891",
        "colab": {
          "base_uri": "https://localhost:8080/",
          "height": 1000
        }
      },
      "outputs": [
        {
          "output_type": "execute_result",
          "data": {
            "text/plain": [
              "      actual  predicted         0         1\n",
              "348        1          1  0.003955  0.996045\n",
              "1524       1          1  0.001958  0.998042\n",
              "1273       1          1  0.001525  0.998475\n",
              "1038       1          1  0.001732  0.998268\n",
              "4883       1          1  0.001926  0.998074\n",
              "1050       1          1  0.001301  0.998699\n",
              "2809       1          1  0.001673  0.998327\n",
              "891        1          1  0.003690  0.996310\n",
              "566        1          1  0.001691  0.998309\n",
              "2707       1          1  0.001898  0.998102\n",
              "1499       1          1  0.001759  0.998241\n",
              "2046       1          1  0.001196  0.998804\n",
              "772        1          1  0.001546  0.998454\n",
              "4927       1          1  0.002226  0.997774\n",
              "4175       1          1  0.005800  0.994200\n",
              "4585       1          1  0.001096  0.998904\n",
              "4823       1          1  0.002249  0.997751\n",
              "4147       1          1  0.001889  0.998111\n",
              "438        1          1  0.001741  0.998259\n",
              "3327       1          1  0.001872  0.998128\n",
              "4008       1          1  0.001654  0.998346\n",
              "1105       1          1  0.001154  0.998846\n",
              "2443       1          1  0.001216  0.998784\n",
              "1237       1          1  0.001056  0.998944\n",
              "3006       1          1  0.001856  0.998144\n",
              "3373       1          1  0.000799  0.999201\n",
              "1672       1          1  0.006647  0.993353\n",
              "75         1          1  0.001237  0.998763\n",
              "47         1          1  0.001381  0.998619\n",
              "1882       1          1  0.007035  0.992965\n",
              "4980       1          1  0.005157  0.994843\n",
              "2996       1          1  0.006206  0.993794\n",
              "4705       1          1  0.010684  0.989316"
            ],
            "text/html": [
              "\n",
              "\n",
              "  <div id=\"df-f910426a-47aa-49ba-a3cb-6ff7e50d13ef\">\n",
              "    <div class=\"colab-df-container\">\n",
              "      <div>\n",
              "<style scoped>\n",
              "    .dataframe tbody tr th:only-of-type {\n",
              "        vertical-align: middle;\n",
              "    }\n",
              "\n",
              "    .dataframe tbody tr th {\n",
              "        vertical-align: top;\n",
              "    }\n",
              "\n",
              "    .dataframe thead th {\n",
              "        text-align: right;\n",
              "    }\n",
              "</style>\n",
              "<table border=\"1\" class=\"dataframe\">\n",
              "  <thead>\n",
              "    <tr style=\"text-align: right;\">\n",
              "      <th></th>\n",
              "      <th>actual</th>\n",
              "      <th>predicted</th>\n",
              "      <th>0</th>\n",
              "      <th>1</th>\n",
              "    </tr>\n",
              "  </thead>\n",
              "  <tbody>\n",
              "    <tr>\n",
              "      <th>348</th>\n",
              "      <td>1</td>\n",
              "      <td>1</td>\n",
              "      <td>0.003955</td>\n",
              "      <td>0.996045</td>\n",
              "    </tr>\n",
              "    <tr>\n",
              "      <th>1524</th>\n",
              "      <td>1</td>\n",
              "      <td>1</td>\n",
              "      <td>0.001958</td>\n",
              "      <td>0.998042</td>\n",
              "    </tr>\n",
              "    <tr>\n",
              "      <th>1273</th>\n",
              "      <td>1</td>\n",
              "      <td>1</td>\n",
              "      <td>0.001525</td>\n",
              "      <td>0.998475</td>\n",
              "    </tr>\n",
              "    <tr>\n",
              "      <th>1038</th>\n",
              "      <td>1</td>\n",
              "      <td>1</td>\n",
              "      <td>0.001732</td>\n",
              "      <td>0.998268</td>\n",
              "    </tr>\n",
              "    <tr>\n",
              "      <th>4883</th>\n",
              "      <td>1</td>\n",
              "      <td>1</td>\n",
              "      <td>0.001926</td>\n",
              "      <td>0.998074</td>\n",
              "    </tr>\n",
              "    <tr>\n",
              "      <th>1050</th>\n",
              "      <td>1</td>\n",
              "      <td>1</td>\n",
              "      <td>0.001301</td>\n",
              "      <td>0.998699</td>\n",
              "    </tr>\n",
              "    <tr>\n",
              "      <th>2809</th>\n",
              "      <td>1</td>\n",
              "      <td>1</td>\n",
              "      <td>0.001673</td>\n",
              "      <td>0.998327</td>\n",
              "    </tr>\n",
              "    <tr>\n",
              "      <th>891</th>\n",
              "      <td>1</td>\n",
              "      <td>1</td>\n",
              "      <td>0.003690</td>\n",
              "      <td>0.996310</td>\n",
              "    </tr>\n",
              "    <tr>\n",
              "      <th>566</th>\n",
              "      <td>1</td>\n",
              "      <td>1</td>\n",
              "      <td>0.001691</td>\n",
              "      <td>0.998309</td>\n",
              "    </tr>\n",
              "    <tr>\n",
              "      <th>2707</th>\n",
              "      <td>1</td>\n",
              "      <td>1</td>\n",
              "      <td>0.001898</td>\n",
              "      <td>0.998102</td>\n",
              "    </tr>\n",
              "    <tr>\n",
              "      <th>1499</th>\n",
              "      <td>1</td>\n",
              "      <td>1</td>\n",
              "      <td>0.001759</td>\n",
              "      <td>0.998241</td>\n",
              "    </tr>\n",
              "    <tr>\n",
              "      <th>2046</th>\n",
              "      <td>1</td>\n",
              "      <td>1</td>\n",
              "      <td>0.001196</td>\n",
              "      <td>0.998804</td>\n",
              "    </tr>\n",
              "    <tr>\n",
              "      <th>772</th>\n",
              "      <td>1</td>\n",
              "      <td>1</td>\n",
              "      <td>0.001546</td>\n",
              "      <td>0.998454</td>\n",
              "    </tr>\n",
              "    <tr>\n",
              "      <th>4927</th>\n",
              "      <td>1</td>\n",
              "      <td>1</td>\n",
              "      <td>0.002226</td>\n",
              "      <td>0.997774</td>\n",
              "    </tr>\n",
              "    <tr>\n",
              "      <th>4175</th>\n",
              "      <td>1</td>\n",
              "      <td>1</td>\n",
              "      <td>0.005800</td>\n",
              "      <td>0.994200</td>\n",
              "    </tr>\n",
              "    <tr>\n",
              "      <th>4585</th>\n",
              "      <td>1</td>\n",
              "      <td>1</td>\n",
              "      <td>0.001096</td>\n",
              "      <td>0.998904</td>\n",
              "    </tr>\n",
              "    <tr>\n",
              "      <th>4823</th>\n",
              "      <td>1</td>\n",
              "      <td>1</td>\n",
              "      <td>0.002249</td>\n",
              "      <td>0.997751</td>\n",
              "    </tr>\n",
              "    <tr>\n",
              "      <th>4147</th>\n",
              "      <td>1</td>\n",
              "      <td>1</td>\n",
              "      <td>0.001889</td>\n",
              "      <td>0.998111</td>\n",
              "    </tr>\n",
              "    <tr>\n",
              "      <th>438</th>\n",
              "      <td>1</td>\n",
              "      <td>1</td>\n",
              "      <td>0.001741</td>\n",
              "      <td>0.998259</td>\n",
              "    </tr>\n",
              "    <tr>\n",
              "      <th>3327</th>\n",
              "      <td>1</td>\n",
              "      <td>1</td>\n",
              "      <td>0.001872</td>\n",
              "      <td>0.998128</td>\n",
              "    </tr>\n",
              "    <tr>\n",
              "      <th>4008</th>\n",
              "      <td>1</td>\n",
              "      <td>1</td>\n",
              "      <td>0.001654</td>\n",
              "      <td>0.998346</td>\n",
              "    </tr>\n",
              "    <tr>\n",
              "      <th>1105</th>\n",
              "      <td>1</td>\n",
              "      <td>1</td>\n",
              "      <td>0.001154</td>\n",
              "      <td>0.998846</td>\n",
              "    </tr>\n",
              "    <tr>\n",
              "      <th>2443</th>\n",
              "      <td>1</td>\n",
              "      <td>1</td>\n",
              "      <td>0.001216</td>\n",
              "      <td>0.998784</td>\n",
              "    </tr>\n",
              "    <tr>\n",
              "      <th>1237</th>\n",
              "      <td>1</td>\n",
              "      <td>1</td>\n",
              "      <td>0.001056</td>\n",
              "      <td>0.998944</td>\n",
              "    </tr>\n",
              "    <tr>\n",
              "      <th>3006</th>\n",
              "      <td>1</td>\n",
              "      <td>1</td>\n",
              "      <td>0.001856</td>\n",
              "      <td>0.998144</td>\n",
              "    </tr>\n",
              "    <tr>\n",
              "      <th>3373</th>\n",
              "      <td>1</td>\n",
              "      <td>1</td>\n",
              "      <td>0.000799</td>\n",
              "      <td>0.999201</td>\n",
              "    </tr>\n",
              "    <tr>\n",
              "      <th>1672</th>\n",
              "      <td>1</td>\n",
              "      <td>1</td>\n",
              "      <td>0.006647</td>\n",
              "      <td>0.993353</td>\n",
              "    </tr>\n",
              "    <tr>\n",
              "      <th>75</th>\n",
              "      <td>1</td>\n",
              "      <td>1</td>\n",
              "      <td>0.001237</td>\n",
              "      <td>0.998763</td>\n",
              "    </tr>\n",
              "    <tr>\n",
              "      <th>47</th>\n",
              "      <td>1</td>\n",
              "      <td>1</td>\n",
              "      <td>0.001381</td>\n",
              "      <td>0.998619</td>\n",
              "    </tr>\n",
              "    <tr>\n",
              "      <th>1882</th>\n",
              "      <td>1</td>\n",
              "      <td>1</td>\n",
              "      <td>0.007035</td>\n",
              "      <td>0.992965</td>\n",
              "    </tr>\n",
              "    <tr>\n",
              "      <th>4980</th>\n",
              "      <td>1</td>\n",
              "      <td>1</td>\n",
              "      <td>0.005157</td>\n",
              "      <td>0.994843</td>\n",
              "    </tr>\n",
              "    <tr>\n",
              "      <th>2996</th>\n",
              "      <td>1</td>\n",
              "      <td>1</td>\n",
              "      <td>0.006206</td>\n",
              "      <td>0.993794</td>\n",
              "    </tr>\n",
              "    <tr>\n",
              "      <th>4705</th>\n",
              "      <td>1</td>\n",
              "      <td>1</td>\n",
              "      <td>0.010684</td>\n",
              "      <td>0.989316</td>\n",
              "    </tr>\n",
              "  </tbody>\n",
              "</table>\n",
              "</div>\n",
              "      <button class=\"colab-df-convert\" onclick=\"convertToInteractive('df-f910426a-47aa-49ba-a3cb-6ff7e50d13ef')\"\n",
              "              title=\"Convert this dataframe to an interactive table.\"\n",
              "              style=\"display:none;\">\n",
              "\n",
              "  <svg xmlns=\"http://www.w3.org/2000/svg\" height=\"24px\"viewBox=\"0 0 24 24\"\n",
              "       width=\"24px\">\n",
              "    <path d=\"M0 0h24v24H0V0z\" fill=\"none\"/>\n",
              "    <path d=\"M18.56 5.44l.94 2.06.94-2.06 2.06-.94-2.06-.94-.94-2.06-.94 2.06-2.06.94zm-11 1L8.5 8.5l.94-2.06 2.06-.94-2.06-.94L8.5 2.5l-.94 2.06-2.06.94zm10 10l.94 2.06.94-2.06 2.06-.94-2.06-.94-.94-2.06-.94 2.06-2.06.94z\"/><path d=\"M17.41 7.96l-1.37-1.37c-.4-.4-.92-.59-1.43-.59-.52 0-1.04.2-1.43.59L10.3 9.45l-7.72 7.72c-.78.78-.78 2.05 0 2.83L4 21.41c.39.39.9.59 1.41.59.51 0 1.02-.2 1.41-.59l7.78-7.78 2.81-2.81c.8-.78.8-2.07 0-2.86zM5.41 20L4 18.59l7.72-7.72 1.47 1.35L5.41 20z\"/>\n",
              "  </svg>\n",
              "      </button>\n",
              "\n",
              "\n",
              "\n",
              "    <div id=\"df-29530657-61b2-4598-88a9-023699e37e91\">\n",
              "      <button class=\"colab-df-quickchart\" onclick=\"quickchart('df-29530657-61b2-4598-88a9-023699e37e91')\"\n",
              "              title=\"Suggest charts.\"\n",
              "              style=\"display:none;\">\n",
              "\n",
              "<svg xmlns=\"http://www.w3.org/2000/svg\" height=\"24px\"viewBox=\"0 0 24 24\"\n",
              "     width=\"24px\">\n",
              "    <g>\n",
              "        <path d=\"M19 3H5c-1.1 0-2 .9-2 2v14c0 1.1.9 2 2 2h14c1.1 0 2-.9 2-2V5c0-1.1-.9-2-2-2zM9 17H7v-7h2v7zm4 0h-2V7h2v10zm4 0h-2v-4h2v4z\"/>\n",
              "    </g>\n",
              "</svg>\n",
              "      </button>\n",
              "    </div>\n",
              "\n",
              "<style>\n",
              "  .colab-df-quickchart {\n",
              "    background-color: #E8F0FE;\n",
              "    border: none;\n",
              "    border-radius: 50%;\n",
              "    cursor: pointer;\n",
              "    display: none;\n",
              "    fill: #1967D2;\n",
              "    height: 32px;\n",
              "    padding: 0 0 0 0;\n",
              "    width: 32px;\n",
              "  }\n",
              "\n",
              "  .colab-df-quickchart:hover {\n",
              "    background-color: #E2EBFA;\n",
              "    box-shadow: 0px 1px 2px rgba(60, 64, 67, 0.3), 0px 1px 3px 1px rgba(60, 64, 67, 0.15);\n",
              "    fill: #174EA6;\n",
              "  }\n",
              "\n",
              "  [theme=dark] .colab-df-quickchart {\n",
              "    background-color: #3B4455;\n",
              "    fill: #D2E3FC;\n",
              "  }\n",
              "\n",
              "  [theme=dark] .colab-df-quickchart:hover {\n",
              "    background-color: #434B5C;\n",
              "    box-shadow: 0px 1px 3px 1px rgba(0, 0, 0, 0.15);\n",
              "    filter: drop-shadow(0px 1px 2px rgba(0, 0, 0, 0.3));\n",
              "    fill: #FFFFFF;\n",
              "  }\n",
              "</style>\n",
              "\n",
              "    <script>\n",
              "      async function quickchart(key) {\n",
              "        const containerElement = document.querySelector('#' + key);\n",
              "        const charts = await google.colab.kernel.invokeFunction(\n",
              "            'suggestCharts', [key], {});\n",
              "      }\n",
              "    </script>\n",
              "\n",
              "      <script>\n",
              "\n",
              "function displayQuickchartButton(domScope) {\n",
              "  let quickchartButtonEl =\n",
              "    domScope.querySelector('#df-29530657-61b2-4598-88a9-023699e37e91 button.colab-df-quickchart');\n",
              "  quickchartButtonEl.style.display =\n",
              "    google.colab.kernel.accessAllowed ? 'block' : 'none';\n",
              "}\n",
              "\n",
              "        displayQuickchartButton(document);\n",
              "      </script>\n",
              "      <style>\n",
              "    .colab-df-container {\n",
              "      display:flex;\n",
              "      flex-wrap:wrap;\n",
              "      gap: 12px;\n",
              "    }\n",
              "\n",
              "    .colab-df-convert {\n",
              "      background-color: #E8F0FE;\n",
              "      border: none;\n",
              "      border-radius: 50%;\n",
              "      cursor: pointer;\n",
              "      display: none;\n",
              "      fill: #1967D2;\n",
              "      height: 32px;\n",
              "      padding: 0 0 0 0;\n",
              "      width: 32px;\n",
              "    }\n",
              "\n",
              "    .colab-df-convert:hover {\n",
              "      background-color: #E2EBFA;\n",
              "      box-shadow: 0px 1px 2px rgba(60, 64, 67, 0.3), 0px 1px 3px 1px rgba(60, 64, 67, 0.15);\n",
              "      fill: #174EA6;\n",
              "    }\n",
              "\n",
              "    [theme=dark] .colab-df-convert {\n",
              "      background-color: #3B4455;\n",
              "      fill: #D2E3FC;\n",
              "    }\n",
              "\n",
              "    [theme=dark] .colab-df-convert:hover {\n",
              "      background-color: #434B5C;\n",
              "      box-shadow: 0px 1px 3px 1px rgba(0, 0, 0, 0.15);\n",
              "      filter: drop-shadow(0px 1px 2px rgba(0, 0, 0, 0.3));\n",
              "      fill: #FFFFFF;\n",
              "    }\n",
              "  </style>\n",
              "\n",
              "      <script>\n",
              "        const buttonEl =\n",
              "          document.querySelector('#df-f910426a-47aa-49ba-a3cb-6ff7e50d13ef button.colab-df-convert');\n",
              "        buttonEl.style.display =\n",
              "          google.colab.kernel.accessAllowed ? 'block' : 'none';\n",
              "\n",
              "        async function convertToInteractive(key) {\n",
              "          const element = document.querySelector('#df-f910426a-47aa-49ba-a3cb-6ff7e50d13ef');\n",
              "          const dataTable =\n",
              "            await google.colab.kernel.invokeFunction('convertToInteractive',\n",
              "                                                     [key], {});\n",
              "          if (!dataTable) return;\n",
              "\n",
              "          const docLinkHtml = 'Like what you see? Visit the ' +\n",
              "            '<a target=\"_blank\" href=https://colab.research.google.com/notebooks/data_table.ipynb>data table notebook</a>'\n",
              "            + ' to learn more about interactive tables.';\n",
              "          element.innerHTML = '';\n",
              "          dataTable['output_type'] = 'display_data';\n",
              "          await google.colab.output.renderOutput(dataTable, element);\n",
              "          const docLink = document.createElement('div');\n",
              "          docLink.innerHTML = docLinkHtml;\n",
              "          element.appendChild(docLink);\n",
              "        }\n",
              "      </script>\n",
              "    </div>\n",
              "  </div>\n"
            ]
          },
          "metadata": {},
          "execution_count": 283
        }
      ],
      "source": [
        "# classify a specific loan by searching in the dataset\n",
        "# for a loan with the same predictor values\n",
        "df = pd.concat([pd.DataFrame({'actual': y_valid.Personal_Loan, 'predicted': y_valid_pred}),\n",
        "                pd.DataFrame(predProb_valid, index=y_valid.index)], axis=1)\n",
        "mask = ((bank_validData.Online == 1) & (bank_validData.CreditCard == 1) &\n",
        "        (bank_validData.Personal_Loan == 1))\n",
        "df[mask]"
      ]
    },
    {
      "cell_type": "markdown",
      "source": [
        "## 8.1.G I believe, if my results are correct, the resulting probabilities show that the Naive Bayes probability generated in 8.1.e is roughly the same as the probability show above. I think this makes sense because we generated these results using a Naive Bayes method, so the probabilities should match."
      ],
      "metadata": {
        "id": "rUCtZdUcrc0F"
      }
    },
    {
      "cell_type": "markdown",
      "source": [
        "# 8.2"
      ],
      "metadata": {
        "id": "8xGH6IIiuJZP"
      }
    },
    {
      "cell_type": "code",
      "source": [],
      "metadata": {
        "id": "xfEJGye4uhK9"
      },
      "execution_count": null,
      "outputs": []
    }
  ],
  "metadata": {
    "kernelspec": {
      "display_name": "Python 3",
      "language": "python",
      "name": "python3"
    },
    "language_info": {
      "codemirror_mode": {
        "name": "ipython",
        "version": 3
      },
      "file_extension": ".py",
      "mimetype": "text/x-python",
      "name": "python",
      "nbconvert_exporter": "python",
      "pygments_lexer": "ipython3",
      "version": "3.11.4"
    },
    "orig_nbformat": 4,
    "colab": {
      "provenance": []
    }
  },
  "nbformat": 4,
  "nbformat_minor": 0
}
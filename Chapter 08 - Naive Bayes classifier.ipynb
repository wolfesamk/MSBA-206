{
 "cells": [
  {
   "cell_type": "markdown",
   "metadata": {},
   "source": [
    "# Chapter 8: The Naive Bayes Classifier"
   ]
  },
  {
   "cell_type": "code",
   "execution_count": 33,
   "metadata": {
    "tags": []
   },
   "outputs": [],
   "source": [
    "%matplotlib inline\n",
    "\n",
    "from pathlib import Path\n",
    "\n",
    "import pandas as pd\n",
    "from sklearn.model_selection import train_test_split\n",
    "from sklearn.naive_bayes import MultinomialNB\n",
    "import matplotlib.pylab as plt\n",
    "from dmba import classificationSummary, gainsChart"
   ]
  },
  {
   "cell_type": "code",
   "execution_count": 117,
   "metadata": {
    "tags": []
   },
   "outputs": [],
   "source": [
    "# Working directory:\n",
    "#\n",
    "# We assume that data are kept in the same directory as the notebook. If you keep your \n",
    "# data in a different folder, replace the argument of the `Path`\n",
    "DATA = Path('/Users/min/OneDrive/teaching/DS110/dmba/')\n",
    "# and then load data using \n",
    "#\n",
    "# pd.read_csv(DATA / ‘filename.csv’)"
   ]
  },
  {
   "cell_type": "markdown",
   "metadata": {},
   "source": [
    "## Table 8.4"
   ]
  },
  {
   "cell_type": "code",
   "execution_count": 118,
   "metadata": {
    "tags": []
   },
   "outputs": [
    {
     "data": {
      "text/html": [
       "<div>\n",
       "<style scoped>\n",
       "    .dataframe tbody tr th:only-of-type {\n",
       "        vertical-align: middle;\n",
       "    }\n",
       "\n",
       "    .dataframe tbody tr th {\n",
       "        vertical-align: top;\n",
       "    }\n",
       "\n",
       "    .dataframe thead th {\n",
       "        text-align: right;\n",
       "    }\n",
       "</style>\n",
       "<table border=\"1\" class=\"dataframe\">\n",
       "  <thead>\n",
       "    <tr style=\"text-align: right;\">\n",
       "      <th></th>\n",
       "      <th>CRS_DEP_TIME</th>\n",
       "      <th>CARRIER</th>\n",
       "      <th>DEP_TIME</th>\n",
       "      <th>DEST</th>\n",
       "      <th>DISTANCE</th>\n",
       "      <th>FL_DATE</th>\n",
       "      <th>FL_NUM</th>\n",
       "      <th>ORIGIN</th>\n",
       "      <th>Weather</th>\n",
       "      <th>DAY_WEEK</th>\n",
       "      <th>DAY_OF_MONTH</th>\n",
       "      <th>TAIL_NUM</th>\n",
       "      <th>Flight Status</th>\n",
       "    </tr>\n",
       "  </thead>\n",
       "  <tbody>\n",
       "    <tr>\n",
       "      <th>0</th>\n",
       "      <td>1455</td>\n",
       "      <td>OH</td>\n",
       "      <td>1455</td>\n",
       "      <td>JFK</td>\n",
       "      <td>184</td>\n",
       "      <td>01/01/2004</td>\n",
       "      <td>5935</td>\n",
       "      <td>BWI</td>\n",
       "      <td>0</td>\n",
       "      <td>4</td>\n",
       "      <td>1</td>\n",
       "      <td>N940CA</td>\n",
       "      <td>ontime</td>\n",
       "    </tr>\n",
       "    <tr>\n",
       "      <th>1</th>\n",
       "      <td>1640</td>\n",
       "      <td>DH</td>\n",
       "      <td>1640</td>\n",
       "      <td>JFK</td>\n",
       "      <td>213</td>\n",
       "      <td>01/01/2004</td>\n",
       "      <td>6155</td>\n",
       "      <td>DCA</td>\n",
       "      <td>0</td>\n",
       "      <td>4</td>\n",
       "      <td>1</td>\n",
       "      <td>N405FJ</td>\n",
       "      <td>ontime</td>\n",
       "    </tr>\n",
       "    <tr>\n",
       "      <th>2</th>\n",
       "      <td>1245</td>\n",
       "      <td>DH</td>\n",
       "      <td>1245</td>\n",
       "      <td>LGA</td>\n",
       "      <td>229</td>\n",
       "      <td>01/01/2004</td>\n",
       "      <td>7208</td>\n",
       "      <td>IAD</td>\n",
       "      <td>0</td>\n",
       "      <td>4</td>\n",
       "      <td>1</td>\n",
       "      <td>N695BR</td>\n",
       "      <td>ontime</td>\n",
       "    </tr>\n",
       "    <tr>\n",
       "      <th>3</th>\n",
       "      <td>1715</td>\n",
       "      <td>DH</td>\n",
       "      <td>1709</td>\n",
       "      <td>LGA</td>\n",
       "      <td>229</td>\n",
       "      <td>01/01/2004</td>\n",
       "      <td>7215</td>\n",
       "      <td>IAD</td>\n",
       "      <td>0</td>\n",
       "      <td>4</td>\n",
       "      <td>1</td>\n",
       "      <td>N662BR</td>\n",
       "      <td>ontime</td>\n",
       "    </tr>\n",
       "    <tr>\n",
       "      <th>4</th>\n",
       "      <td>1039</td>\n",
       "      <td>DH</td>\n",
       "      <td>1035</td>\n",
       "      <td>LGA</td>\n",
       "      <td>229</td>\n",
       "      <td>01/01/2004</td>\n",
       "      <td>7792</td>\n",
       "      <td>IAD</td>\n",
       "      <td>0</td>\n",
       "      <td>4</td>\n",
       "      <td>1</td>\n",
       "      <td>N698BR</td>\n",
       "      <td>ontime</td>\n",
       "    </tr>\n",
       "    <tr>\n",
       "      <th>...</th>\n",
       "      <td>...</td>\n",
       "      <td>...</td>\n",
       "      <td>...</td>\n",
       "      <td>...</td>\n",
       "      <td>...</td>\n",
       "      <td>...</td>\n",
       "      <td>...</td>\n",
       "      <td>...</td>\n",
       "      <td>...</td>\n",
       "      <td>...</td>\n",
       "      <td>...</td>\n",
       "      <td>...</td>\n",
       "      <td>...</td>\n",
       "    </tr>\n",
       "    <tr>\n",
       "      <th>2196</th>\n",
       "      <td>645</td>\n",
       "      <td>RU</td>\n",
       "      <td>644</td>\n",
       "      <td>EWR</td>\n",
       "      <td>199</td>\n",
       "      <td>1/31/2004</td>\n",
       "      <td>2761</td>\n",
       "      <td>DCA</td>\n",
       "      <td>0</td>\n",
       "      <td>6</td>\n",
       "      <td>31</td>\n",
       "      <td>N15555</td>\n",
       "      <td>ontime</td>\n",
       "    </tr>\n",
       "    <tr>\n",
       "      <th>2197</th>\n",
       "      <td>1700</td>\n",
       "      <td>RU</td>\n",
       "      <td>1653</td>\n",
       "      <td>EWR</td>\n",
       "      <td>213</td>\n",
       "      <td>1/31/2004</td>\n",
       "      <td>2497</td>\n",
       "      <td>IAD</td>\n",
       "      <td>0</td>\n",
       "      <td>6</td>\n",
       "      <td>31</td>\n",
       "      <td>N16976</td>\n",
       "      <td>ontime</td>\n",
       "    </tr>\n",
       "    <tr>\n",
       "      <th>2198</th>\n",
       "      <td>1600</td>\n",
       "      <td>RU</td>\n",
       "      <td>1558</td>\n",
       "      <td>EWR</td>\n",
       "      <td>199</td>\n",
       "      <td>1/31/2004</td>\n",
       "      <td>2361</td>\n",
       "      <td>DCA</td>\n",
       "      <td>0</td>\n",
       "      <td>6</td>\n",
       "      <td>31</td>\n",
       "      <td>N14902</td>\n",
       "      <td>ontime</td>\n",
       "    </tr>\n",
       "    <tr>\n",
       "      <th>2199</th>\n",
       "      <td>1359</td>\n",
       "      <td>RU</td>\n",
       "      <td>1403</td>\n",
       "      <td>EWR</td>\n",
       "      <td>199</td>\n",
       "      <td>1/31/2004</td>\n",
       "      <td>2216</td>\n",
       "      <td>DCA</td>\n",
       "      <td>0</td>\n",
       "      <td>6</td>\n",
       "      <td>31</td>\n",
       "      <td>N16961</td>\n",
       "      <td>ontime</td>\n",
       "    </tr>\n",
       "    <tr>\n",
       "      <th>2200</th>\n",
       "      <td>1730</td>\n",
       "      <td>RU</td>\n",
       "      <td>1736</td>\n",
       "      <td>EWR</td>\n",
       "      <td>199</td>\n",
       "      <td>1/31/2004</td>\n",
       "      <td>2097</td>\n",
       "      <td>DCA</td>\n",
       "      <td>0</td>\n",
       "      <td>6</td>\n",
       "      <td>31</td>\n",
       "      <td>N13994</td>\n",
       "      <td>ontime</td>\n",
       "    </tr>\n",
       "  </tbody>\n",
       "</table>\n",
       "<p>2201 rows × 13 columns</p>\n",
       "</div>"
      ],
      "text/plain": [
       "      CRS_DEP_TIME CARRIER  DEP_TIME DEST  DISTANCE     FL_DATE  FL_NUM  \\\n",
       "0             1455      OH      1455  JFK       184  01/01/2004    5935   \n",
       "1             1640      DH      1640  JFK       213  01/01/2004    6155   \n",
       "2             1245      DH      1245  LGA       229  01/01/2004    7208   \n",
       "3             1715      DH      1709  LGA       229  01/01/2004    7215   \n",
       "4             1039      DH      1035  LGA       229  01/01/2004    7792   \n",
       "...            ...     ...       ...  ...       ...         ...     ...   \n",
       "2196           645      RU       644  EWR       199   1/31/2004    2761   \n",
       "2197          1700      RU      1653  EWR       213   1/31/2004    2497   \n",
       "2198          1600      RU      1558  EWR       199   1/31/2004    2361   \n",
       "2199          1359      RU      1403  EWR       199   1/31/2004    2216   \n",
       "2200          1730      RU      1736  EWR       199   1/31/2004    2097   \n",
       "\n",
       "     ORIGIN  Weather  DAY_WEEK  DAY_OF_MONTH TAIL_NUM Flight Status  \n",
       "0       BWI        0         4             1   N940CA        ontime  \n",
       "1       DCA        0         4             1   N405FJ        ontime  \n",
       "2       IAD        0         4             1   N695BR        ontime  \n",
       "3       IAD        0         4             1   N662BR        ontime  \n",
       "4       IAD        0         4             1   N698BR        ontime  \n",
       "...     ...      ...       ...           ...      ...           ...  \n",
       "2196    DCA        0         6            31   N15555        ontime  \n",
       "2197    IAD        0         6            31   N16976        ontime  \n",
       "2198    DCA        0         6            31   N14902        ontime  \n",
       "2199    DCA        0         6            31   N16961        ontime  \n",
       "2200    DCA        0         6            31   N13994        ontime  \n",
       "\n",
       "[2201 rows x 13 columns]"
      ]
     },
     "execution_count": 118,
     "metadata": {},
     "output_type": "execute_result"
    }
   ],
   "source": [
    "delays_df = pd.read_csv(DATA / 'FlightDelays.csv')\n",
    "delays_df"
   ]
  },
  {
   "cell_type": "code",
   "execution_count": 119,
   "metadata": {
    "tags": []
   },
   "outputs": [
    {
     "data": {
      "text/plain": [
       "CRS_DEP_TIME      int64\n",
       "CARRIER          object\n",
       "DEP_TIME          int64\n",
       "DEST             object\n",
       "DISTANCE          int64\n",
       "FL_DATE          object\n",
       "FL_NUM            int64\n",
       "ORIGIN           object\n",
       "Weather           int64\n",
       "DAY_WEEK          int64\n",
       "DAY_OF_MONTH      int64\n",
       "TAIL_NUM         object\n",
       "Flight Status    object\n",
       "dtype: object"
      ]
     },
     "execution_count": 119,
     "metadata": {},
     "output_type": "execute_result"
    }
   ],
   "source": [
    "delays_df.dtypes"
   ]
  },
  {
   "cell_type": "code",
   "execution_count": 120,
   "metadata": {
    "tags": []
   },
   "outputs": [
    {
     "data": {
      "text/html": [
       "<div>\n",
       "<style scoped>\n",
       "    .dataframe tbody tr th:only-of-type {\n",
       "        vertical-align: middle;\n",
       "    }\n",
       "\n",
       "    .dataframe tbody tr th {\n",
       "        vertical-align: top;\n",
       "    }\n",
       "\n",
       "    .dataframe thead th {\n",
       "        text-align: right;\n",
       "    }\n",
       "</style>\n",
       "<table border=\"1\" class=\"dataframe\">\n",
       "  <thead>\n",
       "    <tr style=\"text-align: right;\">\n",
       "      <th></th>\n",
       "      <th>DAY_WEEK_1</th>\n",
       "      <th>DAY_WEEK_2</th>\n",
       "      <th>DAY_WEEK_3</th>\n",
       "      <th>DAY_WEEK_4</th>\n",
       "      <th>DAY_WEEK_5</th>\n",
       "      <th>DAY_WEEK_6</th>\n",
       "      <th>DAY_WEEK_7</th>\n",
       "      <th>CRS_DEP_TIME_6</th>\n",
       "      <th>CRS_DEP_TIME_7</th>\n",
       "      <th>CRS_DEP_TIME_8</th>\n",
       "      <th>...</th>\n",
       "      <th>DEST_JFK</th>\n",
       "      <th>DEST_LGA</th>\n",
       "      <th>CARRIER_CO</th>\n",
       "      <th>CARRIER_DH</th>\n",
       "      <th>CARRIER_DL</th>\n",
       "      <th>CARRIER_MQ</th>\n",
       "      <th>CARRIER_OH</th>\n",
       "      <th>CARRIER_RU</th>\n",
       "      <th>CARRIER_UA</th>\n",
       "      <th>CARRIER_US</th>\n",
       "    </tr>\n",
       "  </thead>\n",
       "  <tbody>\n",
       "    <tr>\n",
       "      <th>0</th>\n",
       "      <td>0</td>\n",
       "      <td>0</td>\n",
       "      <td>0</td>\n",
       "      <td>1</td>\n",
       "      <td>0</td>\n",
       "      <td>0</td>\n",
       "      <td>0</td>\n",
       "      <td>0</td>\n",
       "      <td>0</td>\n",
       "      <td>0</td>\n",
       "      <td>...</td>\n",
       "      <td>1</td>\n",
       "      <td>0</td>\n",
       "      <td>0</td>\n",
       "      <td>0</td>\n",
       "      <td>0</td>\n",
       "      <td>0</td>\n",
       "      <td>1</td>\n",
       "      <td>0</td>\n",
       "      <td>0</td>\n",
       "      <td>0</td>\n",
       "    </tr>\n",
       "    <tr>\n",
       "      <th>1</th>\n",
       "      <td>0</td>\n",
       "      <td>0</td>\n",
       "      <td>0</td>\n",
       "      <td>1</td>\n",
       "      <td>0</td>\n",
       "      <td>0</td>\n",
       "      <td>0</td>\n",
       "      <td>0</td>\n",
       "      <td>0</td>\n",
       "      <td>0</td>\n",
       "      <td>...</td>\n",
       "      <td>1</td>\n",
       "      <td>0</td>\n",
       "      <td>0</td>\n",
       "      <td>1</td>\n",
       "      <td>0</td>\n",
       "      <td>0</td>\n",
       "      <td>0</td>\n",
       "      <td>0</td>\n",
       "      <td>0</td>\n",
       "      <td>0</td>\n",
       "    </tr>\n",
       "    <tr>\n",
       "      <th>2</th>\n",
       "      <td>0</td>\n",
       "      <td>0</td>\n",
       "      <td>0</td>\n",
       "      <td>1</td>\n",
       "      <td>0</td>\n",
       "      <td>0</td>\n",
       "      <td>0</td>\n",
       "      <td>0</td>\n",
       "      <td>0</td>\n",
       "      <td>0</td>\n",
       "      <td>...</td>\n",
       "      <td>0</td>\n",
       "      <td>1</td>\n",
       "      <td>0</td>\n",
       "      <td>1</td>\n",
       "      <td>0</td>\n",
       "      <td>0</td>\n",
       "      <td>0</td>\n",
       "      <td>0</td>\n",
       "      <td>0</td>\n",
       "      <td>0</td>\n",
       "    </tr>\n",
       "    <tr>\n",
       "      <th>3</th>\n",
       "      <td>0</td>\n",
       "      <td>0</td>\n",
       "      <td>0</td>\n",
       "      <td>1</td>\n",
       "      <td>0</td>\n",
       "      <td>0</td>\n",
       "      <td>0</td>\n",
       "      <td>0</td>\n",
       "      <td>0</td>\n",
       "      <td>0</td>\n",
       "      <td>...</td>\n",
       "      <td>0</td>\n",
       "      <td>1</td>\n",
       "      <td>0</td>\n",
       "      <td>1</td>\n",
       "      <td>0</td>\n",
       "      <td>0</td>\n",
       "      <td>0</td>\n",
       "      <td>0</td>\n",
       "      <td>0</td>\n",
       "      <td>0</td>\n",
       "    </tr>\n",
       "    <tr>\n",
       "      <th>4</th>\n",
       "      <td>0</td>\n",
       "      <td>0</td>\n",
       "      <td>0</td>\n",
       "      <td>1</td>\n",
       "      <td>0</td>\n",
       "      <td>0</td>\n",
       "      <td>0</td>\n",
       "      <td>0</td>\n",
       "      <td>0</td>\n",
       "      <td>0</td>\n",
       "      <td>...</td>\n",
       "      <td>0</td>\n",
       "      <td>1</td>\n",
       "      <td>0</td>\n",
       "      <td>1</td>\n",
       "      <td>0</td>\n",
       "      <td>0</td>\n",
       "      <td>0</td>\n",
       "      <td>0</td>\n",
       "      <td>0</td>\n",
       "      <td>0</td>\n",
       "    </tr>\n",
       "    <tr>\n",
       "      <th>...</th>\n",
       "      <td>...</td>\n",
       "      <td>...</td>\n",
       "      <td>...</td>\n",
       "      <td>...</td>\n",
       "      <td>...</td>\n",
       "      <td>...</td>\n",
       "      <td>...</td>\n",
       "      <td>...</td>\n",
       "      <td>...</td>\n",
       "      <td>...</td>\n",
       "      <td>...</td>\n",
       "      <td>...</td>\n",
       "      <td>...</td>\n",
       "      <td>...</td>\n",
       "      <td>...</td>\n",
       "      <td>...</td>\n",
       "      <td>...</td>\n",
       "      <td>...</td>\n",
       "      <td>...</td>\n",
       "      <td>...</td>\n",
       "      <td>...</td>\n",
       "    </tr>\n",
       "    <tr>\n",
       "      <th>2196</th>\n",
       "      <td>0</td>\n",
       "      <td>0</td>\n",
       "      <td>0</td>\n",
       "      <td>0</td>\n",
       "      <td>0</td>\n",
       "      <td>1</td>\n",
       "      <td>0</td>\n",
       "      <td>1</td>\n",
       "      <td>0</td>\n",
       "      <td>0</td>\n",
       "      <td>...</td>\n",
       "      <td>0</td>\n",
       "      <td>0</td>\n",
       "      <td>0</td>\n",
       "      <td>0</td>\n",
       "      <td>0</td>\n",
       "      <td>0</td>\n",
       "      <td>0</td>\n",
       "      <td>1</td>\n",
       "      <td>0</td>\n",
       "      <td>0</td>\n",
       "    </tr>\n",
       "    <tr>\n",
       "      <th>2197</th>\n",
       "      <td>0</td>\n",
       "      <td>0</td>\n",
       "      <td>0</td>\n",
       "      <td>0</td>\n",
       "      <td>0</td>\n",
       "      <td>1</td>\n",
       "      <td>0</td>\n",
       "      <td>0</td>\n",
       "      <td>0</td>\n",
       "      <td>0</td>\n",
       "      <td>...</td>\n",
       "      <td>0</td>\n",
       "      <td>0</td>\n",
       "      <td>0</td>\n",
       "      <td>0</td>\n",
       "      <td>0</td>\n",
       "      <td>0</td>\n",
       "      <td>0</td>\n",
       "      <td>1</td>\n",
       "      <td>0</td>\n",
       "      <td>0</td>\n",
       "    </tr>\n",
       "    <tr>\n",
       "      <th>2198</th>\n",
       "      <td>0</td>\n",
       "      <td>0</td>\n",
       "      <td>0</td>\n",
       "      <td>0</td>\n",
       "      <td>0</td>\n",
       "      <td>1</td>\n",
       "      <td>0</td>\n",
       "      <td>0</td>\n",
       "      <td>0</td>\n",
       "      <td>0</td>\n",
       "      <td>...</td>\n",
       "      <td>0</td>\n",
       "      <td>0</td>\n",
       "      <td>0</td>\n",
       "      <td>0</td>\n",
       "      <td>0</td>\n",
       "      <td>0</td>\n",
       "      <td>0</td>\n",
       "      <td>1</td>\n",
       "      <td>0</td>\n",
       "      <td>0</td>\n",
       "    </tr>\n",
       "    <tr>\n",
       "      <th>2199</th>\n",
       "      <td>0</td>\n",
       "      <td>0</td>\n",
       "      <td>0</td>\n",
       "      <td>0</td>\n",
       "      <td>0</td>\n",
       "      <td>1</td>\n",
       "      <td>0</td>\n",
       "      <td>0</td>\n",
       "      <td>0</td>\n",
       "      <td>0</td>\n",
       "      <td>...</td>\n",
       "      <td>0</td>\n",
       "      <td>0</td>\n",
       "      <td>0</td>\n",
       "      <td>0</td>\n",
       "      <td>0</td>\n",
       "      <td>0</td>\n",
       "      <td>0</td>\n",
       "      <td>1</td>\n",
       "      <td>0</td>\n",
       "      <td>0</td>\n",
       "    </tr>\n",
       "    <tr>\n",
       "      <th>2200</th>\n",
       "      <td>0</td>\n",
       "      <td>0</td>\n",
       "      <td>0</td>\n",
       "      <td>0</td>\n",
       "      <td>0</td>\n",
       "      <td>1</td>\n",
       "      <td>0</td>\n",
       "      <td>0</td>\n",
       "      <td>0</td>\n",
       "      <td>0</td>\n",
       "      <td>...</td>\n",
       "      <td>0</td>\n",
       "      <td>0</td>\n",
       "      <td>0</td>\n",
       "      <td>0</td>\n",
       "      <td>0</td>\n",
       "      <td>0</td>\n",
       "      <td>0</td>\n",
       "      <td>1</td>\n",
       "      <td>0</td>\n",
       "      <td>0</td>\n",
       "    </tr>\n",
       "  </tbody>\n",
       "</table>\n",
       "<p>2201 rows × 37 columns</p>\n",
       "</div>"
      ],
      "text/plain": [
       "      DAY_WEEK_1  DAY_WEEK_2  DAY_WEEK_3  DAY_WEEK_4  DAY_WEEK_5  DAY_WEEK_6  \\\n",
       "0              0           0           0           1           0           0   \n",
       "1              0           0           0           1           0           0   \n",
       "2              0           0           0           1           0           0   \n",
       "3              0           0           0           1           0           0   \n",
       "4              0           0           0           1           0           0   \n",
       "...          ...         ...         ...         ...         ...         ...   \n",
       "2196           0           0           0           0           0           1   \n",
       "2197           0           0           0           0           0           1   \n",
       "2198           0           0           0           0           0           1   \n",
       "2199           0           0           0           0           0           1   \n",
       "2200           0           0           0           0           0           1   \n",
       "\n",
       "      DAY_WEEK_7  CRS_DEP_TIME_6  CRS_DEP_TIME_7  CRS_DEP_TIME_8  ...  \\\n",
       "0              0               0               0               0  ...   \n",
       "1              0               0               0               0  ...   \n",
       "2              0               0               0               0  ...   \n",
       "3              0               0               0               0  ...   \n",
       "4              0               0               0               0  ...   \n",
       "...          ...             ...             ...             ...  ...   \n",
       "2196           0               1               0               0  ...   \n",
       "2197           0               0               0               0  ...   \n",
       "2198           0               0               0               0  ...   \n",
       "2199           0               0               0               0  ...   \n",
       "2200           0               0               0               0  ...   \n",
       "\n",
       "      DEST_JFK  DEST_LGA  CARRIER_CO  CARRIER_DH  CARRIER_DL  CARRIER_MQ  \\\n",
       "0            1         0           0           0           0           0   \n",
       "1            1         0           0           1           0           0   \n",
       "2            0         1           0           1           0           0   \n",
       "3            0         1           0           1           0           0   \n",
       "4            0         1           0           1           0           0   \n",
       "...        ...       ...         ...         ...         ...         ...   \n",
       "2196         0         0           0           0           0           0   \n",
       "2197         0         0           0           0           0           0   \n",
       "2198         0         0           0           0           0           0   \n",
       "2199         0         0           0           0           0           0   \n",
       "2200         0         0           0           0           0           0   \n",
       "\n",
       "      CARRIER_OH  CARRIER_RU  CARRIER_UA  CARRIER_US  \n",
       "0              1           0           0           0  \n",
       "1              0           0           0           0  \n",
       "2              0           0           0           0  \n",
       "3              0           0           0           0  \n",
       "4              0           0           0           0  \n",
       "...          ...         ...         ...         ...  \n",
       "2196           0           1           0           0  \n",
       "2197           0           1           0           0  \n",
       "2198           0           1           0           0  \n",
       "2199           0           1           0           0  \n",
       "2200           0           1           0           0  \n",
       "\n",
       "[2201 rows x 37 columns]"
      ]
     },
     "execution_count": 120,
     "metadata": {},
     "output_type": "execute_result"
    }
   ],
   "source": [
    "# convert to categorical\n",
    "delays_df.DAY_WEEK = delays_df.DAY_WEEK.astype('category')\n",
    "\n",
    "# create hourly bins scheduled departure time \n",
    "delays_df.CRS_DEP_TIME = [round(t / 100) for t in delays_df.CRS_DEP_TIME]\n",
    "delays_df.CRS_DEP_TIME = delays_df.CRS_DEP_TIME.astype('category')\n",
    "\n",
    "predictors = ['DAY_WEEK', 'CRS_DEP_TIME', 'ORIGIN', 'DEST', 'CARRIER']\n",
    "outcome = 'Flight Status'\n",
    "\n",
    "X = pd.get_dummies(delays_df[predictors], drop_first=False)\n",
    "y = (delays_df[outcome] == 'delayed').astype(int)\n",
    "X"
   ]
  },
  {
   "cell_type": "code",
   "execution_count": 121,
   "metadata": {
    "tags": []
   },
   "outputs": [
    {
     "data": {
      "text/plain": [
       "0       0\n",
       "1       0\n",
       "2       0\n",
       "3       0\n",
       "4       0\n",
       "       ..\n",
       "2196    0\n",
       "2197    0\n",
       "2198    0\n",
       "2199    0\n",
       "2200    0\n",
       "Name: Flight Status, Length: 2201, dtype: int64"
      ]
     },
     "execution_count": 121,
     "metadata": {},
     "output_type": "execute_result"
    }
   ],
   "source": [
    "y"
   ]
  },
  {
   "cell_type": "code",
   "execution_count": 122,
   "metadata": {
    "tags": []
   },
   "outputs": [
    {
     "data": {
      "text/plain": [
       "0    1773\n",
       "1     428\n",
       "Name: Flight Status, dtype: int64"
      ]
     },
     "execution_count": 122,
     "metadata": {},
     "output_type": "execute_result"
    }
   ],
   "source": [
    "y.value_counts()"
   ]
  },
  {
   "cell_type": "code",
   "execution_count": 123,
   "metadata": {
    "tags": []
   },
   "outputs": [
    {
     "data": {
      "text/plain": [
       "0.19445706497046797"
      ]
     },
     "execution_count": 123,
     "metadata": {},
     "output_type": "execute_result"
    }
   ],
   "source": [
    "428/(1773+428)"
   ]
  },
  {
   "cell_type": "code",
   "execution_count": 124,
   "metadata": {
    "tags": []
   },
   "outputs": [],
   "source": [
    "# y=1 if 'delayed', y=0 if 'ontime'\n",
    "classes = ['ontime', 'delayed']\n",
    "\n",
    "# split into training and validation\n",
    "X_train, X_valid, y_train, y_valid = train_test_split(X, y, test_size=0.40, random_state=1)\n",
    "\n",
    "# run naive Bayes\n",
    "# https://scikit-learn.org/stable/modules/generated/sklearn.naive_bayes.MultinomialNB.html\n",
    "# alpha, default=1.0   Additive (Laplace/Lidstone) smoothing parameter (0 for no smoothing).\n",
    "# See how to choose alpha: \n",
    "# https://stackoverflow.com/questions/33830959/multinomial-naive-bayes-parameter-alpha-setting-scikit-learn\n",
    "\n",
    "delays_nb = MultinomialNB(alpha=1)\n",
    "delays_nb.fit(X_train, y_train)\n",
    "\n",
    "# predict probabilities\n",
    "predProb_train = delays_nb.predict_proba(X_train)\n",
    "predProb_valid = delays_nb.predict_proba(X_valid)\n",
    "\n",
    "# predict class membership\n",
    "y_train_pred = delays_nb.predict(X_train)\n",
    "y_valid_pred = delays_nb.predict(X_valid)"
   ]
  },
  {
   "cell_type": "code",
   "execution_count": 125,
   "metadata": {
    "tags": []
   },
   "outputs": [
    {
     "data": {
      "text/plain": [
       "array([[0.54661434, 0.45338566],\n",
       "       [0.96925484, 0.03074516],\n",
       "       [0.77522729, 0.22477271],\n",
       "       ...,\n",
       "       [0.78235249, 0.21764751],\n",
       "       [0.97244394, 0.02755606],\n",
       "       [0.9580871 , 0.0419129 ]])"
      ]
     },
     "execution_count": 125,
     "metadata": {},
     "output_type": "execute_result"
    }
   ],
   "source": [
    "predProb_valid"
   ]
  },
  {
   "cell_type": "code",
   "execution_count": 126,
   "metadata": {
    "tags": []
   },
   "outputs": [
    {
     "data": {
      "text/plain": [
       "array([0, 0, 0, 0, 0, 0, 0, 0, 0, 0, 0, 0, 0, 0, 0, 0, 0, 0, 0, 1, 0, 0,\n",
       "       0, 1, 1, 0, 0, 1, 0, 0, 0, 0, 0, 0, 0, 0, 0, 0, 0, 0, 0, 0, 0, 0,\n",
       "       0, 0, 0, 0, 0, 0, 0, 0, 0, 0, 0, 0, 0, 0, 0, 0, 0, 0, 0, 0, 1, 0,\n",
       "       0, 0, 0, 0, 0, 0, 0, 0, 0, 0, 0, 0, 0, 0, 0, 0, 0, 0, 0, 0, 0, 0,\n",
       "       0, 0, 0, 0, 1, 0, 0, 0, 0, 0, 1, 0, 0, 0, 0, 0, 0, 1, 0, 0, 0, 0,\n",
       "       0, 0, 1, 0, 0, 1, 0, 0, 0, 0, 0, 0, 0, 0, 0, 0, 0, 0, 0, 0, 0, 0,\n",
       "       0, 0, 0, 0, 0, 0, 1, 0, 0, 0, 1, 0, 0, 0, 0, 0, 0, 0, 1, 0, 0, 0,\n",
       "       0, 0, 0, 0, 0, 0, 0, 0, 0, 0, 0, 0, 0, 0, 0, 0, 0, 0, 0, 0, 0, 0,\n",
       "       0, 0, 1, 0, 0, 1, 0, 0, 0, 0, 0, 0, 0, 0, 0, 0, 0, 0, 0, 0, 0, 0,\n",
       "       0, 0, 0, 0, 0, 0, 0, 0, 0, 0, 0, 0, 0, 0, 0, 0, 0, 0, 0, 0, 0, 0,\n",
       "       0, 0, 0, 0, 0, 0, 0, 1, 0, 0, 0, 0, 0, 0, 0, 0, 0, 0, 0, 0, 0, 0,\n",
       "       0, 0, 1, 0, 0, 0, 0, 0, 0, 0, 0, 0, 0, 0, 1, 0, 0, 0, 0, 0, 0, 0,\n",
       "       0, 0, 0, 0, 0, 1, 0, 0, 0, 1, 0, 0, 0, 0, 0, 0, 0, 0, 0, 0, 0, 0,\n",
       "       0, 0, 0, 0, 0, 0, 0, 1, 0, 1, 0, 0, 0, 0, 0, 0, 0, 0, 0, 0, 0, 0,\n",
       "       0, 0, 0, 0, 0, 1, 0, 0, 0, 1, 0, 0, 0, 0, 1, 0, 0, 0, 0, 1, 0, 0,\n",
       "       0, 0, 0, 0, 0, 0, 0, 0, 1, 0, 0, 0, 0, 0, 0, 0, 0, 0, 0, 0, 1, 0,\n",
       "       0, 0, 0, 0, 0, 0, 0, 0, 0, 0, 0, 1, 0, 0, 0, 0, 0, 0, 0, 0, 0, 0,\n",
       "       0, 0, 0, 0, 0, 0, 0, 0, 0, 0, 1, 0, 0, 0, 0, 0, 0, 1, 0, 1, 0, 0,\n",
       "       1, 0, 0, 1, 0, 0, 0, 0, 0, 0, 0, 1, 0, 0, 1, 0, 0, 0, 0, 0, 0, 0,\n",
       "       0, 1, 1, 0, 0, 0, 0, 1, 0, 0, 0, 0, 0, 0, 0, 0, 0, 0, 0, 0, 1, 0,\n",
       "       0, 0, 1, 0, 0, 0, 0, 1, 0, 1, 0, 0, 0, 0, 0, 0, 0, 0, 0, 0, 0, 1,\n",
       "       0, 0, 0, 0, 0, 0, 0, 0, 1, 0, 0, 0, 1, 0, 0, 0, 1, 0, 0, 0, 0, 0,\n",
       "       0, 0, 0, 0, 0, 1, 0, 0, 0, 0, 0, 0, 0, 0, 0, 0, 0, 0, 0, 0, 0, 0,\n",
       "       0, 0, 0, 0, 0, 0, 0, 0, 0, 0, 0, 0, 0, 0, 0, 0, 0, 0, 0, 0, 1, 0,\n",
       "       0, 0, 0, 0, 0, 0, 0, 0, 0, 0, 0, 0, 0, 0, 0, 0, 0, 0, 0, 0, 0, 0,\n",
       "       1, 0, 0, 0, 1, 0, 0, 0, 0, 0, 0, 0, 0, 0, 0, 0, 0, 0, 0, 0, 0, 0,\n",
       "       0, 0, 0, 0, 0, 0, 0, 0, 0, 0, 1, 0, 0, 0, 1, 0, 0, 0, 0, 0, 1, 0,\n",
       "       0, 0, 0, 0, 0, 0, 0, 0, 0, 0, 1, 0, 0, 0, 0, 0, 0, 0, 0, 0, 0, 0,\n",
       "       0, 0, 0, 0, 0, 0, 0, 0, 0, 0, 0, 0, 0, 0, 0, 0, 0, 0, 0, 0, 0, 0,\n",
       "       0, 0, 0, 0, 0, 0, 0, 0, 0, 0, 0, 0, 0, 0, 0, 0, 0, 0, 0, 0, 0, 0,\n",
       "       1, 0, 0, 0, 0, 0, 0, 0, 0, 0, 0, 0, 0, 0, 1, 1, 0, 0, 0, 0, 0, 0,\n",
       "       0, 1, 0, 1, 1, 0, 0, 0, 0, 0, 0, 0, 1, 0, 0, 0, 1, 0, 0, 0, 0, 0,\n",
       "       0, 0, 0, 1, 0, 0, 0, 0, 0, 0, 0, 0, 0, 0, 0, 0, 0, 0, 0, 0, 0, 0,\n",
       "       0, 0, 0, 0, 0, 0, 0, 0, 0, 0, 0, 0, 0, 1, 0, 0, 0, 0, 0, 0, 0, 0,\n",
       "       0, 0, 0, 0, 0, 0, 0, 0, 0, 0, 0, 1, 0, 0, 0, 0, 0, 0, 0, 0, 0, 0,\n",
       "       0, 0, 0, 0, 0, 0, 0, 0, 0, 0, 0, 0, 1, 0, 0, 0, 0, 0, 1, 0, 0, 0,\n",
       "       0, 0, 0, 0, 0, 0, 0, 0, 0, 0, 0, 0, 0, 0, 0, 0, 0, 0, 0, 0, 1, 0,\n",
       "       0, 0, 0, 0, 0, 1, 0, 0, 0, 0, 0, 0, 0, 0, 0, 0, 1, 1, 0, 0, 0, 0,\n",
       "       0, 0, 0, 0, 0, 0, 0, 0, 0, 0, 0, 1, 0, 0, 0, 0, 0, 0, 0, 0, 1, 0,\n",
       "       0, 0, 0, 0, 0, 1, 0, 0, 0, 0, 0, 1, 0, 0, 0, 0, 0, 0, 0, 0, 0, 0,\n",
       "       0])"
      ]
     },
     "execution_count": 126,
     "metadata": {},
     "output_type": "execute_result"
    }
   ],
   "source": [
    "y_valid_pred"
   ]
  },
  {
   "cell_type": "code",
   "execution_count": 127,
   "metadata": {
    "tags": []
   },
   "outputs": [
    {
     "data": {
      "text/plain": [
       "0       15\n",
       "1       16\n",
       "2       12\n",
       "3       17\n",
       "4       10\n",
       "        ..\n",
       "2196     6\n",
       "2197    17\n",
       "2198    16\n",
       "2199    14\n",
       "2200    17\n",
       "Name: CRS_DEP_TIME, Length: 2201, dtype: category\n",
       "Categories (16, int64): [6, 7, 8, 9, ..., 18, 19, 20, 21]"
      ]
     },
     "execution_count": 127,
     "metadata": {},
     "output_type": "execute_result"
    }
   ],
   "source": [
    "delays_df.CRS_DEP_TIME"
   ]
  },
  {
   "cell_type": "code",
   "execution_count": 128,
   "metadata": {
    "tags": []
   },
   "outputs": [],
   "source": [
    "delays_df = pd.read_csv(DATA / 'FlightDelays.csv')\n",
    "\n",
    "# convert to categorical\n",
    "delays_df.DAY_WEEK = delays_df.DAY_WEEK.astype('category')\n",
    "delays_df['Flight Status'] = delays_df['Flight Status'].astype('category')\n",
    "\n",
    "# create hourly bins departure time \n",
    "delays_df.CRS_DEP_TIME = [round(t / 100) for t in delays_df.CRS_DEP_TIME]\n",
    "delays_df.CRS_DEP_TIME = delays_df.CRS_DEP_TIME.astype('category')\n",
    "\n",
    "predictors = ['DAY_WEEK', 'CRS_DEP_TIME', 'ORIGIN', 'DEST', 'CARRIER']\n",
    "outcome = 'Flight Status'\n",
    "\n",
    "X = pd.get_dummies(delays_df[predictors])\n",
    "y = delays_df['Flight Status']\n",
    "classes = list(y.cat.categories)\n",
    "# y=0 if 'delayed', y=1 if 'ontime'\n",
    "\n",
    "# split into training and validation\n",
    "X_train, X_valid, y_train, y_valid = train_test_split(X, y, test_size=0.40, random_state=1)\n",
    "\n",
    "# run naive Bayes\n",
    "delays_nb = MultinomialNB(alpha=1)\n",
    "delays_nb.fit(X_train, y_train)\n",
    "\n",
    "# predict probabilities\n",
    "predProb_train = delays_nb.predict_proba(X_train)\n",
    "predProb_valid = delays_nb.predict_proba(X_valid)\n",
    "\n",
    "# predict class membership\n",
    "y_train_pred = delays_nb.predict(X_train)\n",
    "y_valid_pred = delays_nb.predict(X_valid)"
   ]
  },
  {
   "cell_type": "code",
   "execution_count": 129,
   "metadata": {
    "tags": []
   },
   "outputs": [
    {
     "data": {
      "text/plain": [
       "0       ontime\n",
       "1       ontime\n",
       "2       ontime\n",
       "3       ontime\n",
       "4       ontime\n",
       "         ...  \n",
       "2196    ontime\n",
       "2197    ontime\n",
       "2198    ontime\n",
       "2199    ontime\n",
       "2200    ontime\n",
       "Name: Flight Status, Length: 2201, dtype: category\n",
       "Categories (2, object): ['delayed', 'ontime']"
      ]
     },
     "execution_count": 129,
     "metadata": {},
     "output_type": "execute_result"
    }
   ],
   "source": [
    "y"
   ]
  },
  {
   "cell_type": "code",
   "execution_count": 131,
   "metadata": {
    "tags": []
   },
   "outputs": [
    {
     "data": {
      "text/plain": [
       "['delayed', 'ontime']"
      ]
     },
     "execution_count": 131,
     "metadata": {},
     "output_type": "execute_result"
    }
   ],
   "source": [
    "classes"
   ]
  },
  {
   "cell_type": "code",
   "execution_count": 130,
   "metadata": {
    "tags": []
   },
   "outputs": [
    {
     "data": {
      "text/plain": [
       "array([[0.45338566, 0.54661434],\n",
       "       [0.03074516, 0.96925484],\n",
       "       [0.22477271, 0.77522729],\n",
       "       ...,\n",
       "       [0.21764751, 0.78235249],\n",
       "       [0.02755606, 0.97244394],\n",
       "       [0.0419129 , 0.9580871 ]])"
      ]
     },
     "execution_count": 130,
     "metadata": {},
     "output_type": "execute_result"
    }
   ],
   "source": [
    "predProb_valid"
   ]
  },
  {
   "cell_type": "code",
   "execution_count": null,
   "metadata": {},
   "outputs": [],
   "source": []
  },
  {
   "cell_type": "markdown",
   "metadata": {},
   "source": [
    "## Table 8.5\n",
    "First construct a frequency table and then convert it to the propability table"
   ]
  },
  {
   "cell_type": "code",
   "execution_count": 134,
   "metadata": {
    "tags": []
   },
   "outputs": [
    {
     "name": "stdout",
     "output_type": "stream",
     "text": [
      "ontime     0.8023\n",
      "delayed    0.1977\n",
      "Name: Flight Status, dtype: float64\n",
      "\n",
      "DAY_WEEK            1       2       3       4       5      6       7\n",
      "Flight Status                                                       \n",
      "delayed        0.1916  0.1494  0.1149  0.1264  0.1877  0.069  0.1609\n",
      "ontime         0.1246  0.1416  0.1445  0.1794  0.1690  0.136  0.1048\n",
      "\n",
      "CRS_DEP_TIME        6       7       8       9      10      11      12      13  \\\n",
      "Flight Status                                                                   \n",
      "delayed        0.0345  0.0536  0.0651  0.0192  0.0307  0.0115  0.0498  0.0460   \n",
      "ontime         0.0623  0.0633  0.0850  0.0567  0.0519  0.0340  0.0661  0.0746   \n",
      "\n",
      "CRS_DEP_TIME       14      15      16      17      18      19      20      21  \n",
      "Flight Status                                                                  \n",
      "delayed        0.0383  0.2031  0.0728  0.1533  0.0192  0.0996  0.0153  0.0881  \n",
      "ontime         0.0576  0.1171  0.0774  0.1001  0.0349  0.0397  0.0264  0.0529  \n",
      "\n",
      "ORIGIN            BWI     DCA     IAD\n",
      "Flight Status                        \n",
      "delayed        0.0805  0.5211  0.3985\n",
      "ontime         0.0604  0.6478  0.2918\n",
      "\n",
      "DEST              EWR     JFK     LGA\n",
      "Flight Status                        \n",
      "delayed        0.3793  0.1992  0.4215\n",
      "ontime         0.2663  0.1558  0.5779\n",
      "\n",
      "CARRIER            CO      DH      DL      MQ      OH      RU      UA      US\n",
      "Flight Status                                                                \n",
      "delayed        0.0575  0.3142  0.0958  0.2222  0.0077  0.2184  0.0153  0.0690\n",
      "ontime         0.0349  0.2295  0.2040  0.1171  0.0104  0.1690  0.0170  0.2181\n",
      "\n"
     ]
    }
   ],
   "source": [
    "# split the original data frame into a train and test using the same random_state\n",
    "train_df, valid_df = train_test_split(delays_df, test_size=0.4, random_state=1)\n",
    "\n",
    "pd.set_option('display.precision', 4)\n",
    "# probability of flight status\n",
    "print(train_df['Flight Status'].value_counts() / len(train_df))\n",
    "print()\n",
    "\n",
    "for predictor in predictors:\n",
    "    # construct the frequency table\n",
    "    df = train_df[['Flight Status', predictor]]\n",
    "    freqTable = df.pivot_table(index='Flight Status', columns=predictor, aggfunc=len)\n",
    "\n",
    "    # divide each row by the sum of the row to get conditional probabilities\n",
    "    propTable = freqTable.apply(lambda x: x / sum(x), axis=1)\n",
    "    print(propTable)\n",
    "    print()\n",
    "pd.reset_option('display.precision')\n",
    "\n",
    "# apply function (https://pandas.pydata.org/pandas-docs/stable/reference/api/pandas.DataFrame.apply.html):\n",
    "# Run any user-defined function on a DataFrame or Series\n",
    "# Apply a function either row-wise (axis=1) or column-wise (axis=0) on a DataFrame\n",
    "# Perform index alignment while applying the function\n",
    "# Perform aggregation with user-defined functions (however, we usually prefer agg or transform in these cases)\n",
    "# Perform element-wise transformations\n",
    "# Broadcast aggregated results to original rows (see the result_type argument).\n",
    "# Accept positional/keyword arguments to pass to the user-defined functions.\n",
    "\n",
    "# lambda argument_list: expression\n",
    "# The argument list consists of a comma separated list of arguments and \n",
    "# the expression is an arithmetic expression using these arguments. \n",
    "# You can assign the function to a variable to give it a name.\n",
    "# The following example of a lambda function returns the sum of its two arguments:\n",
    "# >>> f = lambda x, y : x + y\n",
    "# >>> f(1,1)\n",
    "# 2\n",
    "\n",
    "#  axis=0 is \"column-wise\" and axis=1 \"row-wise\".\n",
    "# It specifies the axis along which the means are computed. By default axis=0. \n",
    "# This is consistent with the numpy.mean usage when axis is specified explicitly \n",
    "# (in numpy.mean, axis==None by default, which computes the mean value over the \n",
    "# flattened array) , in which axis=0 along the rows (namely, index in pandas), \n",
    "# and axis=1 along the columns. For added clarity, one may choose to specify \n",
    "# axis='index' (instead of axis=0) or axis='columns' (instead of axis=1).\n",
    "\n",
    "# text() function is used to add text in the Drawing object. \n",
    "# It takes x and y coordinates and string that we want to write on (x, y) position.\n"
   ]
  },
  {
   "cell_type": "code",
   "execution_count": 135,
   "metadata": {
    "tags": []
   },
   "outputs": [
    {
     "name": "stdout",
     "output_type": "stream",
     "text": [
      "P_hat_delayed ~  2.0548742506526157e-05\n",
      "P_hat_ontime ~  0.00033326464123921066\n",
      "P(delayed|...) =  0.05807791183301656\n",
      "P(ontime|...) =  0.9419220881669834\n"
     ]
    }
   ],
   "source": [
    "# P(delayed | Carrier = DL, Day_Week = 7, Dep_Time = 10, Dest = LGA, Origin = DCA)\n",
    "P_hat_delayed = 0.0958 * 0.1609 * 0.0307 * 0.4215 * 0.5211 * 0.1977\n",
    "# P(ontime | Carrier = DL, Day_Week = 7, Dep_Time = 10, Dest = LGA, Origin = DCA)\n",
    "P_hat_ontime = 0.2040 * 0.1048 * 0.0519 * 0.5779 * 0.6478 * 0.8023\n",
    "print('P_hat_delayed ~ ', P_hat_delayed)\n",
    "print('P_hat_ontime ~ ', P_hat_ontime)\n",
    "\n",
    "print('P(delayed|...) = ', P_hat_delayed / (P_hat_delayed + P_hat_ontime))\n",
    "print('P(ontime|...) = ', P_hat_ontime / (P_hat_delayed + P_hat_ontime))"
   ]
  },
  {
   "cell_type": "markdown",
   "metadata": {},
   "source": [
    "## Table 8.6"
   ]
  },
  {
   "cell_type": "code",
   "execution_count": 136,
   "metadata": {
    "tags": []
   },
   "outputs": [
    {
     "name": "stdout",
     "output_type": "stream",
     "text": [
      "      actual predicted        0        1\n",
      "1225  ontime    ontime  0.06116  0.93884\n"
     ]
    }
   ],
   "source": [
    "# scoring the example flight (probability and class)\n",
    "df = pd.concat([pd.DataFrame({'actual': y_valid, 'predicted': y_valid_pred}),\n",
    "                pd.DataFrame(predProb_valid, index=y_valid.index)], axis=1)\n",
    "mask = ((X_valid.CARRIER_DL == 1) & (X_valid.DAY_WEEK_7 == 1) & (X_valid.CRS_DEP_TIME_10 == 1) & \n",
    "        (X_valid.DEST_LGA == 1) & (X_valid.ORIGIN_DCA == 1))\n",
    "\n",
    "print(df[mask])"
   ]
  },
  {
   "cell_type": "code",
   "execution_count": 137,
   "metadata": {
    "tags": []
   },
   "outputs": [
    {
     "data": {
      "text/plain": [
       "1276    False\n",
       "1446    False\n",
       "335     False\n",
       "1458    False\n",
       "2038    False\n",
       "        ...  \n",
       "460     False\n",
       "2063    False\n",
       "159     False\n",
       "2027    False\n",
       "1247    False\n",
       "Length: 881, dtype: bool"
      ]
     },
     "execution_count": 137,
     "metadata": {},
     "output_type": "execute_result"
    }
   ],
   "source": [
    "mask"
   ]
  },
  {
   "cell_type": "code",
   "execution_count": 138,
   "metadata": {
    "tags": []
   },
   "outputs": [
    {
     "data": {
      "text/html": [
       "<div>\n",
       "<style scoped>\n",
       "    .dataframe tbody tr th:only-of-type {\n",
       "        vertical-align: middle;\n",
       "    }\n",
       "\n",
       "    .dataframe tbody tr th {\n",
       "        vertical-align: top;\n",
       "    }\n",
       "\n",
       "    .dataframe thead th {\n",
       "        text-align: right;\n",
       "    }\n",
       "</style>\n",
       "<table border=\"1\" class=\"dataframe\">\n",
       "  <thead>\n",
       "    <tr style=\"text-align: right;\">\n",
       "      <th></th>\n",
       "      <th>actual</th>\n",
       "      <th>predicted</th>\n",
       "      <th>0</th>\n",
       "      <th>1</th>\n",
       "    </tr>\n",
       "  </thead>\n",
       "  <tbody>\n",
       "    <tr>\n",
       "      <th>1276</th>\n",
       "      <td>ontime</td>\n",
       "      <td>ontime</td>\n",
       "      <td>0.453386</td>\n",
       "      <td>0.546614</td>\n",
       "    </tr>\n",
       "    <tr>\n",
       "      <th>1446</th>\n",
       "      <td>ontime</td>\n",
       "      <td>ontime</td>\n",
       "      <td>0.030745</td>\n",
       "      <td>0.969255</td>\n",
       "    </tr>\n",
       "    <tr>\n",
       "      <th>335</th>\n",
       "      <td>ontime</td>\n",
       "      <td>ontime</td>\n",
       "      <td>0.224773</td>\n",
       "      <td>0.775227</td>\n",
       "    </tr>\n",
       "    <tr>\n",
       "      <th>1458</th>\n",
       "      <td>ontime</td>\n",
       "      <td>ontime</td>\n",
       "      <td>0.032467</td>\n",
       "      <td>0.967533</td>\n",
       "    </tr>\n",
       "    <tr>\n",
       "      <th>2038</th>\n",
       "      <td>ontime</td>\n",
       "      <td>ontime</td>\n",
       "      <td>0.019880</td>\n",
       "      <td>0.980120</td>\n",
       "    </tr>\n",
       "    <tr>\n",
       "      <th>...</th>\n",
       "      <td>...</td>\n",
       "      <td>...</td>\n",
       "      <td>...</td>\n",
       "      <td>...</td>\n",
       "    </tr>\n",
       "    <tr>\n",
       "      <th>460</th>\n",
       "      <td>ontime</td>\n",
       "      <td>ontime</td>\n",
       "      <td>0.261893</td>\n",
       "      <td>0.738107</td>\n",
       "    </tr>\n",
       "    <tr>\n",
       "      <th>2063</th>\n",
       "      <td>ontime</td>\n",
       "      <td>ontime</td>\n",
       "      <td>0.213976</td>\n",
       "      <td>0.786024</td>\n",
       "    </tr>\n",
       "    <tr>\n",
       "      <th>159</th>\n",
       "      <td>ontime</td>\n",
       "      <td>ontime</td>\n",
       "      <td>0.217648</td>\n",
       "      <td>0.782352</td>\n",
       "    </tr>\n",
       "    <tr>\n",
       "      <th>2027</th>\n",
       "      <td>delayed</td>\n",
       "      <td>ontime</td>\n",
       "      <td>0.027556</td>\n",
       "      <td>0.972444</td>\n",
       "    </tr>\n",
       "    <tr>\n",
       "      <th>1247</th>\n",
       "      <td>ontime</td>\n",
       "      <td>ontime</td>\n",
       "      <td>0.041913</td>\n",
       "      <td>0.958087</td>\n",
       "    </tr>\n",
       "  </tbody>\n",
       "</table>\n",
       "<p>881 rows × 4 columns</p>\n",
       "</div>"
      ],
      "text/plain": [
       "       actual predicted         0         1\n",
       "1276   ontime    ontime  0.453386  0.546614\n",
       "1446   ontime    ontime  0.030745  0.969255\n",
       "335    ontime    ontime  0.224773  0.775227\n",
       "1458   ontime    ontime  0.032467  0.967533\n",
       "2038   ontime    ontime  0.019880  0.980120\n",
       "...       ...       ...       ...       ...\n",
       "460    ontime    ontime  0.261893  0.738107\n",
       "2063   ontime    ontime  0.213976  0.786024\n",
       "159    ontime    ontime  0.217648  0.782352\n",
       "2027  delayed    ontime  0.027556  0.972444\n",
       "1247   ontime    ontime  0.041913  0.958087\n",
       "\n",
       "[881 rows x 4 columns]"
      ]
     },
     "execution_count": 138,
     "metadata": {},
     "output_type": "execute_result"
    }
   ],
   "source": [
    "df"
   ]
  },
  {
   "cell_type": "markdown",
   "metadata": {},
   "source": [
    "## Table 8.7"
   ]
  },
  {
   "cell_type": "code",
   "execution_count": 139,
   "metadata": {
    "tags": []
   },
   "outputs": [
    {
     "name": "stdout",
     "output_type": "stream",
     "text": [
      "Confusion Matrix (Accuracy 0.7985)\n",
      "\n",
      "        Prediction\n",
      " Actual delayed  ontime\n",
      "delayed      54     207\n",
      " ontime      59    1000\n",
      "\n",
      "Confusion Matrix (Accuracy 0.7832)\n",
      "\n",
      "        Prediction\n",
      " Actual delayed  ontime\n",
      "delayed      26     141\n",
      " ontime      50     664\n"
     ]
    }
   ],
   "source": [
    "classificationSummary(y_train, y_train_pred, class_names=classes) \n",
    "print()\n",
    "classificationSummary(y_valid, y_valid_pred, class_names=classes) "
   ]
  },
  {
   "cell_type": "markdown",
   "metadata": {},
   "source": [
    "## Figure 8.1"
   ]
  },
  {
   "cell_type": "code",
   "execution_count": 140,
   "metadata": {
    "tags": []
   },
   "outputs": [
    {
     "data": {
      "image/png": "[encoded data removed]",
      "text/plain": [
       "<Figure size 400x400 with 1 Axes>"
      ]
     },
     "metadata": {},
     "output_type": "display_data"
    }
   ],
   "source": [
    "df = pd.DataFrame({'actual': 1 - y_valid.cat.codes, 'prob': predProb_valid[:, 0]})\n",
    "df = df.sort_values(by=['prob'], ascending=False).reset_index(drop=True)\n",
    "\n",
    "fig, ax = plt.subplots()\n",
    "fig.set_size_inches(4, 4)\n",
    "gainsChart(df.actual, ax=ax)\n",
    "\n",
    "plt.tight_layout()\n",
    "plt.show()"
   ]
  },
  {
   "cell_type": "code",
   "execution_count": 141,
   "metadata": {
    "tags": []
   },
   "outputs": [
    {
     "data": {
      "text/plain": [
       "array([[0.03800298, 0.02980626, 0.02309985, 0.02533532, 0.03725782,\n",
       "        0.01415797, 0.03204173, 0.00745156, 0.01117735, 0.01341282,\n",
       "        0.00447094, 0.00670641, 0.00298063, 0.01043219, 0.00968703,\n",
       "        0.00819672, 0.04023845, 0.01490313, 0.03055142, 0.00447094,\n",
       "        0.02011923, 0.00372578, 0.01788376, 0.01639344, 0.10208644,\n",
       "        0.07824143, 0.07451565, 0.03949329, 0.08271237, 0.0119225 ,\n",
       "        0.06184799, 0.01937407, 0.04396423, 0.00223547, 0.04321908,\n",
       "        0.00372578, 0.01415797],\n",
       "       [0.02494374, 0.02831958, 0.02888222, 0.03582146, 0.03375844,\n",
       "        0.0271943 , 0.02100525, 0.01256564, 0.01275319, 0.01706677,\n",
       "        0.01144036, 0.01050263, 0.00693923, 0.01331583, 0.01500375,\n",
       "        0.01162791, 0.02344336, 0.01556639, 0.02006752, 0.00712678,\n",
       "        0.00806452, 0.00543886, 0.01069017, 0.01219055, 0.12884471,\n",
       "        0.05813953, 0.05307577, 0.03113278, 0.11496624, 0.00712678,\n",
       "        0.04576144, 0.04069767, 0.02344336, 0.00225056, 0.03375844,\n",
       "        0.00356339, 0.04351088]])"
      ]
     },
     "execution_count": 141,
     "metadata": {},
     "output_type": "execute_result"
    }
   ],
   "source": [
    "import numpy as np\n",
    "np.exp(delays_nb.feature_log_prob_)\n",
    "# feature_log_prob_ for interpreting MultinomialNB as a linear model. Too theoretical for this class."
   ]
  },
  {
   "cell_type": "code",
   "execution_count": 142,
   "metadata": {
    "tags": []
   },
   "outputs": [
    {
     "data": {
      "text/plain": [
       "1276     ontime\n",
       "1446     ontime\n",
       "335      ontime\n",
       "1458     ontime\n",
       "2038     ontime\n",
       "         ...   \n",
       "460      ontime\n",
       "2063     ontime\n",
       "159      ontime\n",
       "2027    delayed\n",
       "1247     ontime\n",
       "Name: Flight Status, Length: 881, dtype: category\n",
       "Categories (2, object): ['delayed', 'ontime']"
      ]
     },
     "execution_count": 142,
     "metadata": {},
     "output_type": "execute_result"
    }
   ],
   "source": [
    "y_valid"
   ]
  },
  {
   "cell_type": "code",
   "execution_count": 143,
   "metadata": {
    "tags": []
   },
   "outputs": [
    {
     "data": {
      "text/plain": [
       "1276    1\n",
       "1446    1\n",
       "335     1\n",
       "1458    1\n",
       "2038    1\n",
       "       ..\n",
       "460     1\n",
       "2063    1\n",
       "159     1\n",
       "2027    0\n",
       "1247    1\n",
       "Length: 881, dtype: int8"
      ]
     },
     "execution_count": 143,
     "metadata": {},
     "output_type": "execute_result"
    }
   ],
   "source": [
    "y_valid.cat.codes"
   ]
  },
  {
   "cell_type": "code",
   "execution_count": 144,
   "metadata": {
    "tags": []
   },
   "outputs": [
    {
     "data": {
      "text/plain": [
       "array([[0.45338566, 0.54661434],\n",
       "       [0.03074516, 0.96925484],\n",
       "       [0.22477271, 0.77522729],\n",
       "       ...,\n",
       "       [0.21764751, 0.78235249],\n",
       "       [0.02755606, 0.97244394],\n",
       "       [0.0419129 , 0.9580871 ]])"
      ]
     },
     "execution_count": 144,
     "metadata": {},
     "output_type": "execute_result"
    }
   ],
   "source": [
    "predProb_valid"
   ]
  },
  {
   "cell_type": "code",
   "execution_count": 145,
   "metadata": {
    "tags": []
   },
   "outputs": [
    {
     "data": {
      "text/plain": [
       "0      1\n",
       "1      1\n",
       "2      0\n",
       "3      1\n",
       "4      0\n",
       "      ..\n",
       "876    0\n",
       "877    0\n",
       "878    1\n",
       "879    0\n",
       "880    0\n",
       "Name: actual, Length: 881, dtype: int8"
      ]
     },
     "execution_count": 145,
     "metadata": {},
     "output_type": "execute_result"
    }
   ],
   "source": [
    "df.actual"
   ]
  },
  {
   "cell_type": "code",
   "execution_count": 146,
   "metadata": {
    "tags": []
   },
   "outputs": [
    {
     "data": {
      "text/plain": [
       "167"
      ]
     },
     "execution_count": 146,
     "metadata": {},
     "output_type": "execute_result"
    }
   ],
   "source": [
    "df.actual.sum()"
   ]
  },
  {
   "cell_type": "code",
   "execution_count": 147,
   "metadata": {
    "tags": []
   },
   "outputs": [
    {
     "data": {
      "text/plain": [
       "881"
      ]
     },
     "execution_count": 147,
     "metadata": {},
     "output_type": "execute_result"
    }
   ],
   "source": [
    "len(df.actual)"
   ]
  },
  {
   "cell_type": "code",
   "execution_count": 148,
   "metadata": {
    "tags": []
   },
   "outputs": [
    {
     "data": {
      "text/plain": [
       "0    0\n",
       "dtype: int64"
      ]
     },
     "execution_count": 148,
     "metadata": {},
     "output_type": "execute_result"
    }
   ],
   "source": [
    "pd.Series([0])"
   ]
  },
  {
   "cell_type": "code",
   "execution_count": 149,
   "metadata": {
    "tags": []
   },
   "outputs": [
    {
     "data": {
      "text/plain": [
       "0        1\n",
       "1        2\n",
       "2        2\n",
       "3        3\n",
       "4        3\n",
       "      ... \n",
       "876    166\n",
       "877    166\n",
       "878    167\n",
       "879    167\n",
       "880    167\n",
       "Name: actual, Length: 881, dtype: int64"
      ]
     },
     "execution_count": 149,
     "metadata": {},
     "output_type": "execute_result"
    }
   ],
   "source": [
    "df.actual.cumsum()"
   ]
  },
  {
   "cell_type": "code",
   "execution_count": 150,
   "metadata": {
    "tags": []
   },
   "outputs": [],
   "source": [
    "#list(range(len(df.actual)))"
   ]
  },
  {
   "cell_type": "code",
   "execution_count": null,
   "metadata": {},
   "outputs": [],
   "source": []
  }
 ],
 "metadata": {
  "kernelspec": {
   "display_name": "Python 3 (ipykernel)",
   "language": "python",
   "name": "python3"
  },
  "language_info": {
   "codemirror_mode": {
    "name": "ipython",
    "version": 3
   },
   "file_extension": ".py",
   "mimetype": "text/x-python",
   "name": "python",
   "nbconvert_exporter": "python",
   "pygments_lexer": "ipython3",
   "version": "3.9.17"
  }
 },
 "nbformat": 4,
 "nbformat_minor": 4
}

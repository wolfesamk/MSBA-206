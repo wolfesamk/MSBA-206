{
  "cells": [
    {
      "cell_type": "markdown",
      "metadata": {
        "id": "WD7P9lxnWFz3"
      },
      "source": [
        "##### <p> Samuel Wolfe <br> July 23rd, 2023 <br> MSBA 206 <br> DMBA Chapter 8 Homework 8.1 & 8.2 </p>"
      ]
    },
    {
      "cell_type": "code",
      "execution_count": 252,
      "metadata": {
        "id": "4jhDlsL9WFz7"
      },
      "outputs": [],
      "source": [
        "%matplotlib inline\n",
        "from pathlib import Path\n",
        "import pandas as pd\n",
        "import requests\n",
        "import io\n",
        "from sklearn.preprocessing import MinMaxScaler\n",
        "from sklearn.svm import SVC\n",
        "from sklearn.model_selection import train_test_split, KFold, cross_val_score\n",
        "from sklearn.naive_bayes import MultinomialNB, CategoricalNB\n",
        "from sklearn.metrics import accuracy_score\n",
        "from sklearn.neighbors import NearestNeighbors, KNeighborsClassifier, KNeighborsRegressor\n",
        "from dmba import regressionSummary, classificationSummary, liftChart, gainsChart\n",
        "from sklearn.metrics import accuracy_score, confusion_matrix, mean_squared_error\n",
        "import matplotlib.pylab as plt\n",
        "import numpy as np"
      ]
    },
    {
      "cell_type": "code",
      "execution_count": 253,
      "metadata": {
        "id": "5h67qvuLWFz8"
      },
      "outputs": [],
      "source": [
        "def readFile(url):\n",
        "    download = requests.get(url).content\n",
        "    # Reading the downloaded content and turning it into a pandas dataframe\n",
        "    df = pd.read_csv(io.StringIO(download.decode('utf-8')))\n",
        "    return df\n",
        "def statslist(df):\n",
        "    dfStats = pd.DataFrame({'Mean' : df.mean(numeric_only=True),\n",
        "            'SD' : df.std(numeric_only=True),\n",
        "            'Min' : df.min(),\n",
        "            'Max' : df.max(),\n",
        "            'Median' : df.median(numeric_only=True),\n",
        "            })\n",
        "    return dfStats\n",
        "def categorize(df):\n",
        "    for x in df:\n",
        "        df[x] = df[x].astype('category')\n",
        "    return df"
      ]
    },
    {
      "cell_type": "markdown",
      "metadata": {
        "id": "8zGosSs6WFz9"
      },
      "source": [
        "# 8.1"
      ]
    },
    {
      "cell_type": "markdown",
      "metadata": {
        "id": "kGU3jQDmWFz9"
      },
      "source": [
        "#### Loading df\n",
        "#### Note: With Python 3.11.4 pd.get_dummies() does not default return values as uint8, returns as bool. Have to change post."
      ]
    },
    {
      "cell_type": "code",
      "execution_count": 254,
      "metadata": {
        "colab": {
          "base_uri": "https://localhost:8080/",
          "height": 224
        },
        "id": "zhAKXXUGWFz9",
        "outputId": "10d41626-402f-4226-a5f6-020011d7e4e7"
      },
      "outputs": [
        {
          "name": "stdout",
          "output_type": "stream",
          "text": [
            "(5000, 16)\n"
          ]
        },
        {
          "data": {
            "text/html": [
              "<div>\n",
              "<style scoped>\n",
              "    .dataframe tbody tr th:only-of-type {\n",
              "        vertical-align: middle;\n",
              "    }\n",
              "\n",
              "    .dataframe tbody tr th {\n",
              "        vertical-align: top;\n",
              "    }\n",
              "\n",
              "    .dataframe thead th {\n",
              "        text-align: right;\n",
              "    }\n",
              "</style>\n",
              "<table border=\"1\" class=\"dataframe\">\n",
              "  <thead>\n",
              "    <tr style=\"text-align: right;\">\n",
              "      <th></th>\n",
              "      <th>ID</th>\n",
              "      <th>Age</th>\n",
              "      <th>Experience</th>\n",
              "      <th>Income</th>\n",
              "      <th>ZIP_Code</th>\n",
              "      <th>Family</th>\n",
              "      <th>CCAvg</th>\n",
              "      <th>Mortgage</th>\n",
              "      <th>Personal_Loan</th>\n",
              "      <th>Securities_Account</th>\n",
              "      <th>CD_Account</th>\n",
              "      <th>Online</th>\n",
              "      <th>CreditCard</th>\n",
              "      <th>Education_1</th>\n",
              "      <th>Education_2</th>\n",
              "      <th>Education_3</th>\n",
              "    </tr>\n",
              "  </thead>\n",
              "  <tbody>\n",
              "    <tr>\n",
              "      <th>0</th>\n",
              "      <td>1</td>\n",
              "      <td>25</td>\n",
              "      <td>1</td>\n",
              "      <td>49</td>\n",
              "      <td>91107</td>\n",
              "      <td>4</td>\n",
              "      <td>1.6</td>\n",
              "      <td>0</td>\n",
              "      <td>0</td>\n",
              "      <td>1</td>\n",
              "      <td>0</td>\n",
              "      <td>0</td>\n",
              "      <td>0</td>\n",
              "      <td>1</td>\n",
              "      <td>0</td>\n",
              "      <td>0</td>\n",
              "    </tr>\n",
              "    <tr>\n",
              "      <th>1</th>\n",
              "      <td>2</td>\n",
              "      <td>45</td>\n",
              "      <td>19</td>\n",
              "      <td>34</td>\n",
              "      <td>90089</td>\n",
              "      <td>3</td>\n",
              "      <td>1.5</td>\n",
              "      <td>0</td>\n",
              "      <td>0</td>\n",
              "      <td>1</td>\n",
              "      <td>0</td>\n",
              "      <td>0</td>\n",
              "      <td>0</td>\n",
              "      <td>1</td>\n",
              "      <td>0</td>\n",
              "      <td>0</td>\n",
              "    </tr>\n",
              "    <tr>\n",
              "      <th>2</th>\n",
              "      <td>3</td>\n",
              "      <td>39</td>\n",
              "      <td>15</td>\n",
              "      <td>11</td>\n",
              "      <td>94720</td>\n",
              "      <td>1</td>\n",
              "      <td>1.0</td>\n",
              "      <td>0</td>\n",
              "      <td>0</td>\n",
              "      <td>0</td>\n",
              "      <td>0</td>\n",
              "      <td>0</td>\n",
              "      <td>0</td>\n",
              "      <td>1</td>\n",
              "      <td>0</td>\n",
              "      <td>0</td>\n",
              "    </tr>\n",
              "    <tr>\n",
              "      <th>3</th>\n",
              "      <td>4</td>\n",
              "      <td>35</td>\n",
              "      <td>9</td>\n",
              "      <td>100</td>\n",
              "      <td>94112</td>\n",
              "      <td>1</td>\n",
              "      <td>2.7</td>\n",
              "      <td>0</td>\n",
              "      <td>0</td>\n",
              "      <td>0</td>\n",
              "      <td>0</td>\n",
              "      <td>0</td>\n",
              "      <td>0</td>\n",
              "      <td>0</td>\n",
              "      <td>1</td>\n",
              "      <td>0</td>\n",
              "    </tr>\n",
              "    <tr>\n",
              "      <th>4</th>\n",
              "      <td>5</td>\n",
              "      <td>35</td>\n",
              "      <td>8</td>\n",
              "      <td>45</td>\n",
              "      <td>91330</td>\n",
              "      <td>4</td>\n",
              "      <td>1.0</td>\n",
              "      <td>0</td>\n",
              "      <td>0</td>\n",
              "      <td>0</td>\n",
              "      <td>0</td>\n",
              "      <td>0</td>\n",
              "      <td>1</td>\n",
              "      <td>0</td>\n",
              "      <td>1</td>\n",
              "      <td>0</td>\n",
              "    </tr>\n",
              "  </tbody>\n",
              "</table>\n",
              "</div>"
            ],
            "text/plain": [
              "   ID  Age  Experience  Income  ZIP_Code  Family  CCAvg  Mortgage  \\\n",
              "0   1   25           1      49     91107       4    1.6         0   \n",
              "1   2   45          19      34     90089       3    1.5         0   \n",
              "2   3   39          15      11     94720       1    1.0         0   \n",
              "3   4   35           9     100     94112       1    2.7         0   \n",
              "4   5   35           8      45     91330       4    1.0         0   \n",
              "\n",
              "   Personal_Loan  Securities_Account  CD_Account  Online  CreditCard  \\\n",
              "0              0                   1           0       0           0   \n",
              "1              0                   1           0       0           0   \n",
              "2              0                   0           0       0           0   \n",
              "3              0                   0           0       0           0   \n",
              "4              0                   0           0       0           1   \n",
              "\n",
              "   Education_1  Education_2  Education_3  \n",
              "0            1            0            0  \n",
              "1            1            0            0  \n",
              "2            1            0            0  \n",
              "3            0            1            0  \n",
              "4            0            1            0  "
            ]
          },
          "execution_count": 254,
          "metadata": {},
          "output_type": "execute_result"
        }
      ],
      "source": [
        "dfBank = readFile(\"https://raw.githubusercontent.com/wolfesamk/MSBA-206/main/dmba/UniversalBank.csv\")\n",
        "dfBank['Education'] = dfBank['Education'].astype('category')\n",
        "dfBank.columns = dfBank.columns.str.replace(' ', '_')\n",
        "dfBank = pd.get_dummies(dfBank, prefix_sep='_')\n",
        "dfBank['Education_1'] = dfBank['Education_1'].astype('uint8')\n",
        "dfBank['Education_2'] = dfBank['Education_2'].astype('uint8')\n",
        "dfBank['Education_3'] = dfBank['Education_3'].astype('uint8')\n",
        "print(dfBank.shape)\n",
        "dfBank.head(5)"
      ]
    },
    {
      "cell_type": "markdown",
      "metadata": {
        "id": "6H9npRIfWFz_"
      },
      "source": [
        "#### Creating training and validation splits."
      ]
    },
    {
      "cell_type": "code",
      "execution_count": 255,
      "metadata": {
        "colab": {
          "base_uri": "https://localhost:8080/"
        },
        "id": "fhZYlpviWF0L",
        "outputId": "149ed281-a60d-4e2c-db9d-46f9fb2c717d"
      },
      "outputs": [
        {
          "name": "stdout",
          "output_type": "stream",
          "text": [
            "(3000, 16) (2000, 16)\n"
          ]
        }
      ],
      "source": [
        "bank_trainData, bank_validData = train_test_split(dfBank, test_size=0.4, random_state=1)\n",
        "print(bank_trainData.shape, bank_validData.shape)"
      ]
    },
    {
      "cell_type": "markdown",
      "metadata": {
        "id": "2aVBoJ6CWF0L"
      },
      "source": [
        "## 8.1.a Pivot Table"
      ]
    },
    {
      "cell_type": "code",
      "execution_count": 256,
      "metadata": {
        "colab": {
          "base_uri": "https://localhost:8080/",
          "height": 206
        },
        "id": "Ju9sO0t4WF0M",
        "outputId": "fa7bdda6-7c95-4525-c298-352f834d183c"
      },
      "outputs": [
        {
          "data": {
            "text/html": [
              "<div>\n",
              "<style scoped>\n",
              "    .dataframe tbody tr th:only-of-type {\n",
              "        vertical-align: middle;\n",
              "    }\n",
              "\n",
              "    .dataframe tbody tr th {\n",
              "        vertical-align: top;\n",
              "    }\n",
              "\n",
              "    .dataframe thead th {\n",
              "        text-align: right;\n",
              "    }\n",
              "</style>\n",
              "<table border=\"1\" class=\"dataframe\">\n",
              "  <thead>\n",
              "    <tr style=\"text-align: right;\">\n",
              "      <th></th>\n",
              "      <th>Online</th>\n",
              "      <th>0</th>\n",
              "      <th>1</th>\n",
              "    </tr>\n",
              "    <tr>\n",
              "      <th>CreditCard</th>\n",
              "      <th>Personal_Loan</th>\n",
              "      <th></th>\n",
              "      <th></th>\n",
              "    </tr>\n",
              "  </thead>\n",
              "  <tbody>\n",
              "    <tr>\n",
              "      <th rowspan=\"2\" valign=\"top\">0</th>\n",
              "      <th>0</th>\n",
              "      <td>792</td>\n",
              "      <td>1117</td>\n",
              "    </tr>\n",
              "    <tr>\n",
              "      <th>1</th>\n",
              "      <td>73</td>\n",
              "      <td>126</td>\n",
              "    </tr>\n",
              "    <tr>\n",
              "      <th rowspan=\"2\" valign=\"top\">1</th>\n",
              "      <th>0</th>\n",
              "      <td>327</td>\n",
              "      <td>477</td>\n",
              "    </tr>\n",
              "    <tr>\n",
              "      <th>1</th>\n",
              "      <td>39</td>\n",
              "      <td>49</td>\n",
              "    </tr>\n",
              "  </tbody>\n",
              "</table>\n",
              "</div>"
            ],
            "text/plain": [
              "Online                      0     1\n",
              "CreditCard Personal_Loan           \n",
              "0          0              792  1117\n",
              "           1               73   126\n",
              "1          0              327   477\n",
              "           1               39    49"
            ]
          },
          "execution_count": 256,
          "metadata": {},
          "output_type": "execute_result"
        }
      ],
      "source": [
        "bank_trainData_8_1_a = bank_trainData[['CreditCard', 'Personal_Loan','Online']]\n",
        "bank_short_PT_8_1_a = bank_trainData_8_1_a.pivot_table(index=['CreditCard', 'Personal_Loan'],\n",
        "                    columns=['Online'], aggfunc=len)\n",
        "bank_short_PT_8_1_a"
      ]
    },
    {
      "cell_type": "markdown",
      "metadata": {
        "id": "UXVfAZWBWF0M"
      },
      "source": [
        "## 8.1.b Probability of 1,1,1"
      ]
    },
    {
      "cell_type": "code",
      "execution_count": 257,
      "metadata": {
        "colab": {
          "base_uri": "https://localhost:8080/",
          "height": 35
        },
        "id": "Z_XqNnngWF0N",
        "outputId": "06a58dbd-13ed-4df2-f71a-370a484749fc"
      },
      "outputs": [
        {
          "data": {
            "text/plain": [
              "'P(Loan = 1 | CC = 1 | Online = 1): 9.32%'"
            ]
          },
          "execution_count": 257,
          "metadata": {},
          "output_type": "execute_result"
        }
      ],
      "source": [
        "prob111_S = f'P(Loan = 1 | CC = 1 | Online = 1): {(bank_short_PT_8_1_a.iat[3,1]) / (bank_short_PT_8_1_a.iat[2,1] + bank_short_PT_8_1_a.iat[3,1]):.2%}'\n",
        "prob111_S"
      ]
    },
    {
      "cell_type": "markdown",
      "metadata": {
        "id": "CVHCdRkWWF0N"
      },
      "source": [
        "## 8.1.c"
      ]
    },
    {
      "cell_type": "code",
      "execution_count": 258,
      "metadata": {
        "colab": {
          "base_uri": "https://localhost:8080/",
          "height": 175
        },
        "id": "zv2dqucOWF0N",
        "outputId": "b8ef0171-4336-4449-a7ba-9aa64f3f28a2"
      },
      "outputs": [
        {
          "data": {
            "text/html": [
              "<div>\n",
              "<style scoped>\n",
              "    .dataframe tbody tr th:only-of-type {\n",
              "        vertical-align: middle;\n",
              "    }\n",
              "\n",
              "    .dataframe tbody tr th {\n",
              "        vertical-align: top;\n",
              "    }\n",
              "\n",
              "    .dataframe thead th {\n",
              "        text-align: right;\n",
              "    }\n",
              "</style>\n",
              "<table border=\"1\" class=\"dataframe\">\n",
              "  <thead>\n",
              "    <tr style=\"text-align: right;\">\n",
              "      <th>Online</th>\n",
              "      <th>0</th>\n",
              "      <th>1</th>\n",
              "      <th>All</th>\n",
              "    </tr>\n",
              "    <tr>\n",
              "      <th>Personal_Loan</th>\n",
              "      <th></th>\n",
              "      <th></th>\n",
              "      <th></th>\n",
              "    </tr>\n",
              "  </thead>\n",
              "  <tbody>\n",
              "    <tr>\n",
              "      <th>0</th>\n",
              "      <td>1119</td>\n",
              "      <td>1594</td>\n",
              "      <td>2713</td>\n",
              "    </tr>\n",
              "    <tr>\n",
              "      <th>1</th>\n",
              "      <td>112</td>\n",
              "      <td>175</td>\n",
              "      <td>287</td>\n",
              "    </tr>\n",
              "    <tr>\n",
              "      <th>All</th>\n",
              "      <td>1231</td>\n",
              "      <td>1769</td>\n",
              "      <td>3000</td>\n",
              "    </tr>\n",
              "  </tbody>\n",
              "</table>\n",
              "</div>"
            ],
            "text/plain": [
              "Online            0     1   All\n",
              "Personal_Loan                  \n",
              "0              1119  1594  2713\n",
              "1               112   175   287\n",
              "All            1231  1769  3000"
            ]
          },
          "execution_count": 258,
          "metadata": {},
          "output_type": "execute_result"
        }
      ],
      "source": [
        "bank_trainData_8_1_c_1 = bank_trainData[['Personal_Loan','Online']]\n",
        "bank_short_PT_8_1_c_1 = bank_trainData_8_1_c_1.pivot_table(index=['Personal_Loan'],\n",
        "                    columns=['Online'], aggfunc=len, margins=True)\n",
        "bank_short_PT_8_1_c_1"
      ]
    },
    {
      "cell_type": "code",
      "execution_count": 259,
      "metadata": {
        "colab": {
          "base_uri": "https://localhost:8080/",
          "height": 175
        },
        "id": "tE0JG0tOWF0N",
        "outputId": "64c806e2-10fe-4c34-f637-ffde3c47b8c1"
      },
      "outputs": [
        {
          "data": {
            "text/html": [
              "<div>\n",
              "<style scoped>\n",
              "    .dataframe tbody tr th:only-of-type {\n",
              "        vertical-align: middle;\n",
              "    }\n",
              "\n",
              "    .dataframe tbody tr th {\n",
              "        vertical-align: top;\n",
              "    }\n",
              "\n",
              "    .dataframe thead th {\n",
              "        text-align: right;\n",
              "    }\n",
              "</style>\n",
              "<table border=\"1\" class=\"dataframe\">\n",
              "  <thead>\n",
              "    <tr style=\"text-align: right;\">\n",
              "      <th>CreditCard</th>\n",
              "      <th>0</th>\n",
              "      <th>1</th>\n",
              "      <th>All</th>\n",
              "    </tr>\n",
              "    <tr>\n",
              "      <th>Personal_Loan</th>\n",
              "      <th></th>\n",
              "      <th></th>\n",
              "      <th></th>\n",
              "    </tr>\n",
              "  </thead>\n",
              "  <tbody>\n",
              "    <tr>\n",
              "      <th>0</th>\n",
              "      <td>1909</td>\n",
              "      <td>804</td>\n",
              "      <td>2713</td>\n",
              "    </tr>\n",
              "    <tr>\n",
              "      <th>1</th>\n",
              "      <td>199</td>\n",
              "      <td>88</td>\n",
              "      <td>287</td>\n",
              "    </tr>\n",
              "    <tr>\n",
              "      <th>All</th>\n",
              "      <td>2108</td>\n",
              "      <td>892</td>\n",
              "      <td>3000</td>\n",
              "    </tr>\n",
              "  </tbody>\n",
              "</table>\n",
              "</div>"
            ],
            "text/plain": [
              "CreditCard        0    1   All\n",
              "Personal_Loan                 \n",
              "0              1909  804  2713\n",
              "1               199   88   287\n",
              "All            2108  892  3000"
            ]
          },
          "execution_count": 259,
          "metadata": {},
          "output_type": "execute_result"
        }
      ],
      "source": [
        "bank_trainData_8_1_c_2 = bank_trainData[['CreditCard', 'Personal_Loan']]\n",
        "bank_short_PT_8_1_c_2 = bank_trainData_8_1_c_2.pivot_table(index=['Personal_Loan'],\n",
        "                    columns=['CreditCard'], aggfunc=len, margins=True)\n",
        "bank_short_PT_8_1_c_2"
      ]
    },
    {
      "cell_type": "markdown",
      "metadata": {
        "id": "GSNaFYrAWF0O"
      },
      "source": [
        "#### 8.1.d.i"
      ]
    },
    {
      "cell_type": "code",
      "execution_count": 260,
      "metadata": {
        "colab": {
          "base_uri": "https://localhost:8080/",
          "height": 35
        },
        "id": "8x1fAe4hWF0O",
        "outputId": "5e700e4d-d6b3-4782-b661-26d2722a3b04"
      },
      "outputs": [
        {
          "data": {
            "text/plain": [
              "'P(CC = 1 ∣ Loan = 1): 30.66%'"
            ]
          },
          "execution_count": 260,
          "metadata": {},
          "output_type": "execute_result"
        }
      ],
      "source": [
        "P_CC1_Loan1_S = f'P(CC = 1 ∣ Loan = 1): {(bank_short_PT_8_1_c_2.iat[1,1]) / (bank_short_PT_8_1_c_2.iat[1,2]):.2%}'\n",
        "P_CC1_Loan1 = (bank_short_PT_8_1_c_2.iat[1,1]) / (bank_short_PT_8_1_c_2.iat[1,2])\n",
        "P_CC1_Loan1_S"
      ]
    },
    {
      "cell_type": "markdown",
      "metadata": {
        "id": "Ugf6vuF_WF0O"
      },
      "source": [
        "#### 8.1.d.ii"
      ]
    },
    {
      "cell_type": "code",
      "execution_count": 261,
      "metadata": {
        "colab": {
          "base_uri": "https://localhost:8080/",
          "height": 35
        },
        "id": "ooyYnr_yWF0O",
        "outputId": "65e152b7-a9e5-4822-f0be-61c694dab9a9"
      },
      "outputs": [
        {
          "data": {
            "text/plain": [
              "'P(Online = 1 ∣ Loan = 1): 60.98%'"
            ]
          },
          "execution_count": 261,
          "metadata": {},
          "output_type": "execute_result"
        }
      ],
      "source": [
        "P_Online1_Loan1_S = f'P(Online = 1 ∣ Loan = 1): {(bank_short_PT_8_1_c_1.iat[1,1]) / (bank_short_PT_8_1_c_1.iat[1,2]):.2%}'\n",
        "P_Online1_Loan1 = (bank_short_PT_8_1_c_1.iat[1,1]) / (bank_short_PT_8_1_c_1.iat[1,2])\n",
        "P_Online1_Loan1_S"
      ]
    },
    {
      "cell_type": "markdown",
      "metadata": {
        "id": "86RwBjdhWF0R"
      },
      "source": [
        "#### 8.1.d.iii"
      ]
    },
    {
      "cell_type": "code",
      "execution_count": 262,
      "metadata": {
        "colab": {
          "base_uri": "https://localhost:8080/",
          "height": 35
        },
        "id": "ptsySKpKWF0S",
        "outputId": "904ad83a-c247-4903-d8b8-f102551ac476"
      },
      "outputs": [
        {
          "data": {
            "text/plain": [
              "'P(Loan = 1) (the proportion of loan acceptors): 9.57%'"
            ]
          },
          "execution_count": 262,
          "metadata": {},
          "output_type": "execute_result"
        }
      ],
      "source": [
        "P_Loan1_LoanAll_S = f'P(Loan = 1) (the proportion of loan acceptors): {(bank_short_PT_8_1_c_2.iat[1,2]) / (bank_short_PT_8_1_c_2.iat[2,2]):.2%}'\n",
        "P_Loan1_LoanAll = (bank_short_PT_8_1_c_2.iat[1,2]) / (bank_short_PT_8_1_c_2.iat[2,2])\n",
        "P_Loan1_LoanAll_S"
      ]
    },
    {
      "cell_type": "markdown",
      "metadata": {
        "id": "XAoeezREWF0S"
      },
      "source": [
        "#### 8.1.d.iv"
      ]
    },
    {
      "cell_type": "code",
      "execution_count": 263,
      "metadata": {
        "colab": {
          "base_uri": "https://localhost:8080/",
          "height": 35
        },
        "id": "Q6h8cH3GWF0T",
        "outputId": "72847a11-ab10-4bac-f0e3-cb4958ea5185"
      },
      "outputs": [
        {
          "data": {
            "text/plain": [
              "'P(CC = 1 ∣ Loan = 0): 29.64%'"
            ]
          },
          "execution_count": 263,
          "metadata": {},
          "output_type": "execute_result"
        }
      ],
      "source": [
        "P_CC1_Loan0_S = f'P(CC = 1 ∣ Loan = 0): {(bank_short_PT_8_1_c_2.iat[0,1]) / (bank_short_PT_8_1_c_2.iat[0,2]):.2%}'\n",
        "P_CC1_Loan0 = (bank_short_PT_8_1_c_2.iat[0,1]) / (bank_short_PT_8_1_c_2.iat[0,2])\n",
        "P_CC1_Loan0_S"
      ]
    },
    {
      "cell_type": "markdown",
      "metadata": {
        "id": "rp-A0ToSWF0b"
      },
      "source": [
        "#### 8.1.d.v"
      ]
    },
    {
      "cell_type": "code",
      "execution_count": 264,
      "metadata": {
        "colab": {
          "base_uri": "https://localhost:8080/",
          "height": 35
        },
        "id": "agZHmw2sWF0b",
        "outputId": "b99ca853-ce45-411e-d772-0e2591507293"
      },
      "outputs": [
        {
          "data": {
            "text/plain": [
              "'P(Online = 1 ∣ Loan = 0): 58.75%'"
            ]
          },
          "execution_count": 264,
          "metadata": {},
          "output_type": "execute_result"
        }
      ],
      "source": [
        "P_Online1_Loan0_S = f'P(Online = 1 ∣ Loan = 0): {(bank_short_PT_8_1_c_1.iat[0,1]) / (bank_short_PT_8_1_c_1.iat[0,2]):.2%}'\n",
        "P_Online1_Loan0 = (bank_short_PT_8_1_c_1.iat[0,1]) / (bank_short_PT_8_1_c_1.iat[0,2])\n",
        "P_Online1_Loan0_S"
      ]
    },
    {
      "cell_type": "markdown",
      "metadata": {
        "id": "i9yFCDIdWF0c"
      },
      "source": [
        "#### 8.1.d.vi"
      ]
    },
    {
      "cell_type": "code",
      "execution_count": 265,
      "metadata": {
        "colab": {
          "base_uri": "https://localhost:8080/",
          "height": 35
        },
        "id": "4scTlRY1WF0c",
        "outputId": "c09a34ff-2d6e-49f8-df92-64eaff2b3359"
      },
      "outputs": [
        {
          "data": {
            "text/plain": [
              "'P(Loan = 0): 90.43%'"
            ]
          },
          "execution_count": 265,
          "metadata": {},
          "output_type": "execute_result"
        }
      ],
      "source": [
        "P_Loan0_S = f'P(Loan = 0): {(bank_short_PT_8_1_c_2.iat[0,2]) / (bank_short_PT_8_1_c_2.iat[2,2]):.2%}'\n",
        "P_Loan0 = (bank_short_PT_8_1_c_2.iat[0,2]) / (bank_short_PT_8_1_c_2.iat[2,2])\n",
        "P_Loan0_S"
      ]
    },
    {
      "cell_type": "markdown",
      "metadata": {
        "id": "DkHkB6dsWF0c"
      },
      "source": [
        "## 8.1.e"
      ]
    },
    {
      "cell_type": "code",
      "execution_count": 266,
      "metadata": {
        "colab": {
          "base_uri": "https://localhost:8080/",
          "height": 35
        },
        "id": "vJq2jHIRWF0c",
        "outputId": "354282bd-3efc-49c3-a838-1d441579ae0d"
      },
      "outputs": [
        {
          "data": {
            "text/plain": [
              "'Naive Bayes P(Loan = 1 ∣ CC = 1, Online = 1): 10.20%'"
            ]
          },
          "execution_count": 266,
          "metadata": {},
          "output_type": "execute_result"
        }
      ],
      "source": [
        "P_Bayes_Loan1_CC1_Online1 = f'Naive Bayes P(Loan = 1 ∣ CC = 1, Online = 1): {(P_CC1_Loan1 * P_Online1_Loan1 * P_Loan1_LoanAll)/ ((P_CC1_Loan1 * P_Online1_Loan1 * P_Loan1_LoanAll) + (P_CC1_Loan0 * P_Online1_Loan0 * P_Loan0)):.2%}'\n",
        "P_Bayes_Loan1_CC1_Online1"
      ]
    },
    {
      "cell_type": "markdown",
      "metadata": {
        "id": "-SPLVEmzWF0d"
      },
      "source": [
        "## 8.1.f\n",
        "#### Looking at the raw values, the value generated from the first pivot table in 8.1.b is lower at 9.32% while in 8.1.e the naive Bayes probability is 10.20%. Knowing that Naive Bayes makes the assumption that all variables are independent (hence naive) I would say the first pivot table solution in 8.1.b is more accurate as it takes into consideration all the values."
      ]
    },
    {
      "cell_type": "markdown",
      "metadata": {
        "id": "fR2e4BxuWF0d"
      },
      "source": [
        "## 8.1.e"
      ]
    },
    {
      "cell_type": "markdown",
      "metadata": {
        "id": "1d6rOgUNWF0d"
      },
      "source": [
        "#### Preparing data"
      ]
    },
    {
      "cell_type": "code",
      "execution_count": 267,
      "metadata": {
        "id": "9LuwfU8HWF0e"
      },
      "outputs": [],
      "source": [
        "classes = [0,1]\n",
        "predictors = ['Online','CreditCard']\n",
        "outcome = ['Personal_Loan']\n",
        "\n",
        "dfBank = readFile(\"https://raw.githubusercontent.com/wolfesamk/MSBA-206/main/dmba/UniversalBank.csv\")\n",
        "dfBank['Education'] = dfBank['Education'].astype('category')\n",
        "dfBank.columns = dfBank.columns.str.replace(' ', '_')\n",
        "dfBank = pd.get_dummies(dfBank, prefix_sep='_', drop_first=False)\n",
        "dfBank['Education_1'] = dfBank['Education_1'].astype('uint8')\n",
        "dfBank['Education_2'] = dfBank['Education_2'].astype('uint8')\n",
        "dfBank['Education_3'] = dfBank['Education_3'].astype('uint8')\n",
        "dfBank = categorize(dfBank.drop(columns = ['ID','ZIP_Code']))\n"
      ]
    },
    {
      "cell_type": "markdown",
      "metadata": {},
      "source": [
        "#### Binning variables"
      ]
    },
    {
      "cell_type": "code",
      "execution_count": 268,
      "metadata": {},
      "outputs": [],
      "source": [
        "dfBank['Age'] = pd.qcut(dfBank['Age'], q=5, labels=[1,2,3,4,5],  precision=0)"
      ]
    },
    {
      "cell_type": "code",
      "execution_count": 269,
      "metadata": {},
      "outputs": [],
      "source": [
        "dfBank['Experience'] = pd.qcut(dfBank['Experience'], q=10, labels=[1,2,3,4,5,6,7,8,9,10],  precision=0)"
      ]
    },
    {
      "cell_type": "code",
      "execution_count": 270,
      "metadata": {},
      "outputs": [],
      "source": [
        "dfBank['Income'] = pd.qcut(dfBank['Income'], q=6, labels=[1,2,3,4,5,6],  precision=0)"
      ]
    },
    {
      "cell_type": "code",
      "execution_count": 271,
      "metadata": {},
      "outputs": [],
      "source": [
        "dfBank['CCAvg'] = pd.qcut(dfBank['CCAvg'], q=8, labels=[1,2,3,4,5,6,7,8],  precision=0)"
      ]
    },
    {
      "cell_type": "code",
      "execution_count": 272,
      "metadata": {},
      "outputs": [],
      "source": [
        "X_dfBank = dfBank[predictors]\n",
        "Y_dfBank = (dfBank[outcome]).astype(int)\n",
        "scaler = MinMaxScaler()\n",
        "scaler.fit(X_dfBank)\n",
        "X_train, X_valid, y_train, y_valid = train_test_split(X_dfBank, Y_dfBank, test_size=0.40, random_state=1)\n",
        "X_train = scaler.fit_transform(X_train)\n",
        "X_valid = scaler.transform(X_valid)"
      ]
    },
    {
      "cell_type": "code",
      "execution_count": 273,
      "metadata": {},
      "outputs": [
        {
          "data": {
            "text/html": [
              "<div>\n",
              "<style scoped>\n",
              "    .dataframe tbody tr th:only-of-type {\n",
              "        vertical-align: middle;\n",
              "    }\n",
              "\n",
              "    .dataframe tbody tr th {\n",
              "        vertical-align: top;\n",
              "    }\n",
              "\n",
              "    .dataframe thead th {\n",
              "        text-align: right;\n",
              "    }\n",
              "</style>\n",
              "<table border=\"1\" class=\"dataframe\">\n",
              "  <thead>\n",
              "    <tr style=\"text-align: right;\">\n",
              "      <th></th>\n",
              "      <th>Online</th>\n",
              "      <th>CreditCard</th>\n",
              "    </tr>\n",
              "  </thead>\n",
              "  <tbody>\n",
              "    <tr>\n",
              "      <th>0</th>\n",
              "      <td>0</td>\n",
              "      <td>0</td>\n",
              "    </tr>\n",
              "    <tr>\n",
              "      <th>1</th>\n",
              "      <td>0</td>\n",
              "      <td>0</td>\n",
              "    </tr>\n",
              "    <tr>\n",
              "      <th>2</th>\n",
              "      <td>0</td>\n",
              "      <td>0</td>\n",
              "    </tr>\n",
              "    <tr>\n",
              "      <th>3</th>\n",
              "      <td>0</td>\n",
              "      <td>0</td>\n",
              "    </tr>\n",
              "    <tr>\n",
              "      <th>4</th>\n",
              "      <td>0</td>\n",
              "      <td>1</td>\n",
              "    </tr>\n",
              "    <tr>\n",
              "      <th>...</th>\n",
              "      <td>...</td>\n",
              "      <td>...</td>\n",
              "    </tr>\n",
              "    <tr>\n",
              "      <th>4995</th>\n",
              "      <td>1</td>\n",
              "      <td>0</td>\n",
              "    </tr>\n",
              "    <tr>\n",
              "      <th>4996</th>\n",
              "      <td>1</td>\n",
              "      <td>0</td>\n",
              "    </tr>\n",
              "    <tr>\n",
              "      <th>4997</th>\n",
              "      <td>0</td>\n",
              "      <td>0</td>\n",
              "    </tr>\n",
              "    <tr>\n",
              "      <th>4998</th>\n",
              "      <td>1</td>\n",
              "      <td>0</td>\n",
              "    </tr>\n",
              "    <tr>\n",
              "      <th>4999</th>\n",
              "      <td>1</td>\n",
              "      <td>1</td>\n",
              "    </tr>\n",
              "  </tbody>\n",
              "</table>\n",
              "<p>5000 rows × 2 columns</p>\n",
              "</div>"
            ],
            "text/plain": [
              "     Online CreditCard\n",
              "0         0          0\n",
              "1         0          0\n",
              "2         0          0\n",
              "3         0          0\n",
              "4         0          1\n",
              "...     ...        ...\n",
              "4995      1          0\n",
              "4996      1          0\n",
              "4997      0          0\n",
              "4998      1          0\n",
              "4999      1          1\n",
              "\n",
              "[5000 rows x 2 columns]"
            ]
          },
          "execution_count": 273,
          "metadata": {},
          "output_type": "execute_result"
        }
      ],
      "source": [
        "X_dfBank"
      ]
    },
    {
      "cell_type": "markdown",
      "metadata": {
        "id": "oiAw4oqxWF0e"
      },
      "source": [
        "#### Run Naive Bayes"
      ]
    },
    {
      "cell_type": "code",
      "execution_count": 274,
      "metadata": {
        "id": "0ph66HR4WF0e"
      },
      "outputs": [],
      "source": [
        "bank_nb = MultinomialNB(alpha=1)\n",
        "bank_nb.fit(X_train, y_train.Personal_Loan)\n",
        "\n",
        "# predict probabilities\n",
        "predProb_train = bank_nb.predict_proba(X_train)\n",
        "predProb_valid = bank_nb.predict_proba(X_valid)\n",
        "\n",
        "# predict class membership\n",
        "y_train_pred = bank_nb.predict(X_train)\n",
        "y_valid_pred = bank_nb.predict(X_valid)"
      ]
    },
    {
      "cell_type": "code",
      "execution_count": 275,
      "metadata": {
        "colab": {
          "base_uri": "https://localhost:8080/"
        },
        "id": "YfG9ef4agqyX",
        "outputId": "8d1cbbd3-8b60-459b-f71e-b1edace54e64"
      },
      "outputs": [
        {
          "data": {
            "text/plain": [
              "array([[0.90422182, 0.09577818],\n",
              "       [0.90433333, 0.09566667],\n",
              "       [0.90433333, 0.09566667],\n",
              "       ...,\n",
              "       [0.90427817, 0.09572183],\n",
              "       [0.90438962, 0.09561038],\n",
              "       [0.90438962, 0.09561038]])"
            ]
          },
          "execution_count": 275,
          "metadata": {},
          "output_type": "execute_result"
        }
      ],
      "source": [
        "predProb_valid"
      ]
    },
    {
      "cell_type": "code",
      "execution_count": 276,
      "metadata": {
        "colab": {
          "base_uri": "https://localhost:8080/"
        },
        "id": "IbIp4xGXWF0f",
        "outputId": "c06818fd-93b0-4728-fd66-e018194ea369"
      },
      "outputs": [
        {
          "data": {
            "text/plain": [
              "array([0, 0, 0, ..., 0, 0, 0])"
            ]
          },
          "execution_count": 276,
          "metadata": {},
          "output_type": "execute_result"
        }
      ],
      "source": [
        "y_valid_pred"
      ]
    },
    {
      "cell_type": "code",
      "execution_count": 277,
      "metadata": {
        "colab": {
          "base_uri": "https://localhost:8080/"
        },
        "id": "vydn6Fi8WF0f",
        "outputId": "43bdb7ed-7564-4389-bb03-043211a8d894"
      },
      "outputs": [
        {
          "name": "stdout",
          "output_type": "stream",
          "text": [
            "Personal_Loan\n",
            "0    0.9043\n",
            "1    0.0957\n",
            "Name: count, dtype: float64\n",
            "\n",
            "Online              0       1\n",
            "Personal_Loan                \n",
            "0              0.4125  0.5875\n",
            "1              0.3902  0.6098\n",
            "\n",
            "CreditCard          0       1\n",
            "Personal_Loan                \n",
            "0              0.7036  0.2964\n",
            "1              0.6934  0.3066\n",
            "\n"
          ]
        }
      ],
      "source": [
        "train_df, valid_df = train_test_split(dfBank, test_size=0.4, random_state=1)\n",
        "\n",
        "pd.set_option('display.precision', 4)\n",
        "# probability of flight status\n",
        "print(train_df['Personal_Loan'].value_counts() / len(train_df))\n",
        "print()\n",
        "\n",
        "for predictor in predictors:\n",
        "    # construct the frequency table\n",
        "    df = train_df[['Personal_Loan', predictor]]\n",
        "    freqTable = df.pivot_table(index='Personal_Loan', columns=predictor, aggfunc=len)\n",
        "\n",
        "    # divide each row by the sum of the row to get conditional probabilities\n",
        "    propTable = freqTable.apply(lambda x: x / sum(x), axis=1)\n",
        "    print(propTable)\n",
        "    print()\n",
        "pd.reset_option('display.precision')"
      ]
    },
    {
      "cell_type": "code",
      "execution_count": 278,
      "metadata": {
        "colab": {
          "base_uri": "https://localhost:8080/",
          "height": 1000
        },
        "id": "3IqrX8F3WF0f",
        "outputId": "6f4a4b51-275a-42a5-b05a-57a7165307b2"
      },
      "outputs": [
        {
          "data": {
            "text/html": [
              "<div>\n",
              "<style scoped>\n",
              "    .dataframe tbody tr th:only-of-type {\n",
              "        vertical-align: middle;\n",
              "    }\n",
              "\n",
              "    .dataframe tbody tr th {\n",
              "        vertical-align: top;\n",
              "    }\n",
              "\n",
              "    .dataframe thead th {\n",
              "        text-align: right;\n",
              "    }\n",
              "</style>\n",
              "<table border=\"1\" class=\"dataframe\">\n",
              "  <thead>\n",
              "    <tr style=\"text-align: right;\">\n",
              "      <th></th>\n",
              "      <th>actual</th>\n",
              "      <th>predicted</th>\n",
              "      <th>0</th>\n",
              "      <th>1</th>\n",
              "    </tr>\n",
              "  </thead>\n",
              "  <tbody>\n",
              "    <tr>\n",
              "      <th>348</th>\n",
              "      <td>1</td>\n",
              "      <td>0</td>\n",
              "      <td>0.904278</td>\n",
              "      <td>0.095722</td>\n",
              "    </tr>\n",
              "    <tr>\n",
              "      <th>1524</th>\n",
              "      <td>1</td>\n",
              "      <td>0</td>\n",
              "      <td>0.904278</td>\n",
              "      <td>0.095722</td>\n",
              "    </tr>\n",
              "    <tr>\n",
              "      <th>1273</th>\n",
              "      <td>1</td>\n",
              "      <td>0</td>\n",
              "      <td>0.904278</td>\n",
              "      <td>0.095722</td>\n",
              "    </tr>\n",
              "    <tr>\n",
              "      <th>1038</th>\n",
              "      <td>1</td>\n",
              "      <td>0</td>\n",
              "      <td>0.904278</td>\n",
              "      <td>0.095722</td>\n",
              "    </tr>\n",
              "    <tr>\n",
              "      <th>4883</th>\n",
              "      <td>1</td>\n",
              "      <td>0</td>\n",
              "      <td>0.904278</td>\n",
              "      <td>0.095722</td>\n",
              "    </tr>\n",
              "    <tr>\n",
              "      <th>1050</th>\n",
              "      <td>1</td>\n",
              "      <td>0</td>\n",
              "      <td>0.904278</td>\n",
              "      <td>0.095722</td>\n",
              "    </tr>\n",
              "    <tr>\n",
              "      <th>2809</th>\n",
              "      <td>1</td>\n",
              "      <td>0</td>\n",
              "      <td>0.904278</td>\n",
              "      <td>0.095722</td>\n",
              "    </tr>\n",
              "    <tr>\n",
              "      <th>891</th>\n",
              "      <td>1</td>\n",
              "      <td>0</td>\n",
              "      <td>0.904278</td>\n",
              "      <td>0.095722</td>\n",
              "    </tr>\n",
              "    <tr>\n",
              "      <th>566</th>\n",
              "      <td>1</td>\n",
              "      <td>0</td>\n",
              "      <td>0.904278</td>\n",
              "      <td>0.095722</td>\n",
              "    </tr>\n",
              "    <tr>\n",
              "      <th>2707</th>\n",
              "      <td>1</td>\n",
              "      <td>0</td>\n",
              "      <td>0.904278</td>\n",
              "      <td>0.095722</td>\n",
              "    </tr>\n",
              "    <tr>\n",
              "      <th>1499</th>\n",
              "      <td>1</td>\n",
              "      <td>0</td>\n",
              "      <td>0.904278</td>\n",
              "      <td>0.095722</td>\n",
              "    </tr>\n",
              "    <tr>\n",
              "      <th>2046</th>\n",
              "      <td>1</td>\n",
              "      <td>0</td>\n",
              "      <td>0.904278</td>\n",
              "      <td>0.095722</td>\n",
              "    </tr>\n",
              "    <tr>\n",
              "      <th>772</th>\n",
              "      <td>1</td>\n",
              "      <td>0</td>\n",
              "      <td>0.904278</td>\n",
              "      <td>0.095722</td>\n",
              "    </tr>\n",
              "    <tr>\n",
              "      <th>4927</th>\n",
              "      <td>1</td>\n",
              "      <td>0</td>\n",
              "      <td>0.904278</td>\n",
              "      <td>0.095722</td>\n",
              "    </tr>\n",
              "    <tr>\n",
              "      <th>4175</th>\n",
              "      <td>1</td>\n",
              "      <td>0</td>\n",
              "      <td>0.904278</td>\n",
              "      <td>0.095722</td>\n",
              "    </tr>\n",
              "    <tr>\n",
              "      <th>4585</th>\n",
              "      <td>1</td>\n",
              "      <td>0</td>\n",
              "      <td>0.904278</td>\n",
              "      <td>0.095722</td>\n",
              "    </tr>\n",
              "    <tr>\n",
              "      <th>4823</th>\n",
              "      <td>1</td>\n",
              "      <td>0</td>\n",
              "      <td>0.904278</td>\n",
              "      <td>0.095722</td>\n",
              "    </tr>\n",
              "    <tr>\n",
              "      <th>4147</th>\n",
              "      <td>1</td>\n",
              "      <td>0</td>\n",
              "      <td>0.904278</td>\n",
              "      <td>0.095722</td>\n",
              "    </tr>\n",
              "    <tr>\n",
              "      <th>438</th>\n",
              "      <td>1</td>\n",
              "      <td>0</td>\n",
              "      <td>0.904278</td>\n",
              "      <td>0.095722</td>\n",
              "    </tr>\n",
              "    <tr>\n",
              "      <th>3327</th>\n",
              "      <td>1</td>\n",
              "      <td>0</td>\n",
              "      <td>0.904278</td>\n",
              "      <td>0.095722</td>\n",
              "    </tr>\n",
              "    <tr>\n",
              "      <th>4008</th>\n",
              "      <td>1</td>\n",
              "      <td>0</td>\n",
              "      <td>0.904278</td>\n",
              "      <td>0.095722</td>\n",
              "    </tr>\n",
              "    <tr>\n",
              "      <th>1105</th>\n",
              "      <td>1</td>\n",
              "      <td>0</td>\n",
              "      <td>0.904278</td>\n",
              "      <td>0.095722</td>\n",
              "    </tr>\n",
              "    <tr>\n",
              "      <th>2443</th>\n",
              "      <td>1</td>\n",
              "      <td>0</td>\n",
              "      <td>0.904278</td>\n",
              "      <td>0.095722</td>\n",
              "    </tr>\n",
              "    <tr>\n",
              "      <th>1237</th>\n",
              "      <td>1</td>\n",
              "      <td>0</td>\n",
              "      <td>0.904278</td>\n",
              "      <td>0.095722</td>\n",
              "    </tr>\n",
              "    <tr>\n",
              "      <th>3006</th>\n",
              "      <td>1</td>\n",
              "      <td>0</td>\n",
              "      <td>0.904278</td>\n",
              "      <td>0.095722</td>\n",
              "    </tr>\n",
              "    <tr>\n",
              "      <th>3373</th>\n",
              "      <td>1</td>\n",
              "      <td>0</td>\n",
              "      <td>0.904278</td>\n",
              "      <td>0.095722</td>\n",
              "    </tr>\n",
              "    <tr>\n",
              "      <th>1672</th>\n",
              "      <td>1</td>\n",
              "      <td>0</td>\n",
              "      <td>0.904278</td>\n",
              "      <td>0.095722</td>\n",
              "    </tr>\n",
              "    <tr>\n",
              "      <th>75</th>\n",
              "      <td>1</td>\n",
              "      <td>0</td>\n",
              "      <td>0.904278</td>\n",
              "      <td>0.095722</td>\n",
              "    </tr>\n",
              "    <tr>\n",
              "      <th>47</th>\n",
              "      <td>1</td>\n",
              "      <td>0</td>\n",
              "      <td>0.904278</td>\n",
              "      <td>0.095722</td>\n",
              "    </tr>\n",
              "    <tr>\n",
              "      <th>1882</th>\n",
              "      <td>1</td>\n",
              "      <td>0</td>\n",
              "      <td>0.904278</td>\n",
              "      <td>0.095722</td>\n",
              "    </tr>\n",
              "    <tr>\n",
              "      <th>4980</th>\n",
              "      <td>1</td>\n",
              "      <td>0</td>\n",
              "      <td>0.904278</td>\n",
              "      <td>0.095722</td>\n",
              "    </tr>\n",
              "    <tr>\n",
              "      <th>2996</th>\n",
              "      <td>1</td>\n",
              "      <td>0</td>\n",
              "      <td>0.904278</td>\n",
              "      <td>0.095722</td>\n",
              "    </tr>\n",
              "    <tr>\n",
              "      <th>4705</th>\n",
              "      <td>1</td>\n",
              "      <td>0</td>\n",
              "      <td>0.904278</td>\n",
              "      <td>0.095722</td>\n",
              "    </tr>\n",
              "  </tbody>\n",
              "</table>\n",
              "</div>"
            ],
            "text/plain": [
              "      actual  predicted         0         1\n",
              "348        1          0  0.904278  0.095722\n",
              "1524       1          0  0.904278  0.095722\n",
              "1273       1          0  0.904278  0.095722\n",
              "1038       1          0  0.904278  0.095722\n",
              "4883       1          0  0.904278  0.095722\n",
              "1050       1          0  0.904278  0.095722\n",
              "2809       1          0  0.904278  0.095722\n",
              "891        1          0  0.904278  0.095722\n",
              "566        1          0  0.904278  0.095722\n",
              "2707       1          0  0.904278  0.095722\n",
              "1499       1          0  0.904278  0.095722\n",
              "2046       1          0  0.904278  0.095722\n",
              "772        1          0  0.904278  0.095722\n",
              "4927       1          0  0.904278  0.095722\n",
              "4175       1          0  0.904278  0.095722\n",
              "4585       1          0  0.904278  0.095722\n",
              "4823       1          0  0.904278  0.095722\n",
              "4147       1          0  0.904278  0.095722\n",
              "438        1          0  0.904278  0.095722\n",
              "3327       1          0  0.904278  0.095722\n",
              "4008       1          0  0.904278  0.095722\n",
              "1105       1          0  0.904278  0.095722\n",
              "2443       1          0  0.904278  0.095722\n",
              "1237       1          0  0.904278  0.095722\n",
              "3006       1          0  0.904278  0.095722\n",
              "3373       1          0  0.904278  0.095722\n",
              "1672       1          0  0.904278  0.095722\n",
              "75         1          0  0.904278  0.095722\n",
              "47         1          0  0.904278  0.095722\n",
              "1882       1          0  0.904278  0.095722\n",
              "4980       1          0  0.904278  0.095722\n",
              "2996       1          0  0.904278  0.095722\n",
              "4705       1          0  0.904278  0.095722"
            ]
          },
          "execution_count": 278,
          "metadata": {},
          "output_type": "execute_result"
        }
      ],
      "source": [
        "# classify a specific loan by searching in the dataset\n",
        "# for a loan with the same predictor values\n",
        "df = pd.concat([pd.DataFrame({'actual': y_valid.Personal_Loan, 'predicted': y_valid_pred}),\n",
        "                pd.DataFrame(predProb_valid, index=y_valid.index)], axis=1)\n",
        "mask = ((bank_validData.Online == 1) & (bank_validData.CreditCard == 1) &\n",
        "        (bank_validData.Personal_Loan == 1))\n",
        "df[mask]"
      ]
    },
    {
      "cell_type": "markdown",
      "metadata": {
        "id": "rUCtZdUcrc0F"
      },
      "source": [
        "## 8.1.G I believe, if my results are correct, the resulting probabilities show that the Naive Bayes probability generated in 8.1.e is roughly the same as the probability show above. I think this makes sense because we generated these results using a Naive Bayes method, so the probabilities should match."
      ]
    },
    {
      "cell_type": "markdown",
      "metadata": {
        "id": "8xGH6IIiuJZP"
      },
      "source": [
        "# 8.2"
      ]
    },
    {
      "cell_type": "markdown",
      "metadata": {
        "id": "QMAm7cRVvj6q"
      },
      "source": [
        "#### Importing the data and checking the shape of the df while also checking the values of MAX_SEV_IR."
      ]
    },
    {
      "cell_type": "code",
      "execution_count": 279,
      "metadata": {
        "colab": {
          "base_uri": "https://localhost:8080/"
        },
        "id": "xfEJGye4uhK9",
        "outputId": "4ebf20f3-a265-4f5b-dd6b-9ededfd3249d"
      },
      "outputs": [
        {
          "name": "stdout",
          "output_type": "stream",
          "text": [
            "(42183, 24)\n"
          ]
        },
        {
          "data": {
            "text/plain": [
              "MAX_SEV_IR\n",
              "1    20996\n",
              "0    20721\n",
              "2      466\n",
              "Name: count, dtype: int64"
            ]
          },
          "execution_count": 279,
          "metadata": {},
          "output_type": "execute_result"
        }
      ],
      "source": [
        "dfAA = readFile(\"https://raw.githubusercontent.com/wolfesamk/MSBA-206/main/dmba/accidentsFull.csv\")\n",
        "print(dfAA.shape)\n",
        "dfAA.MAX_SEV_IR.value_counts()"
      ]
    },
    {
      "cell_type": "markdown",
      "metadata": {
        "id": "TUhkoZ_L3lpF"
      },
      "source": [
        "#### The INJURY Column is created below."
      ]
    },
    {
      "cell_type": "code",
      "execution_count": 280,
      "metadata": {
        "colab": {
          "base_uri": "https://localhost:8080/"
        },
        "id": "L4hjnfycvo_l",
        "outputId": "0fd11b18-cbf7-4c7b-b2f3-86df87a8e51f"
      },
      "outputs": [
        {
          "name": "stdout",
          "output_type": "stream",
          "text": [
            "(42183, 25)\n"
          ]
        },
        {
          "data": {
            "text/plain": [
              "INJURY\n",
              "1    21462\n",
              "0    20721\n",
              "Name: count, dtype: int64"
            ]
          },
          "execution_count": 280,
          "metadata": {},
          "output_type": "execute_result"
        }
      ],
      "source": [
        "dfAA['INJURY'] = np.where((dfAA.MAX_SEV_IR == 1) | (dfAA.MAX_SEV_IR == 2),1,0)\n",
        "print(dfAA.shape)\n",
        "dfAA.INJURY.value_counts()"
      ]
    },
    {
      "cell_type": "markdown",
      "metadata": {
        "id": "VVDkUetc_ETj"
      },
      "source": [
        "## 8.2.a"
      ]
    },
    {
      "cell_type": "code",
      "execution_count": 281,
      "metadata": {
        "colab": {
          "base_uri": "https://localhost:8080/",
          "height": 35
        },
        "id": "tvj0x3Ul3wxY",
        "outputId": "34b54d61-a6b3-4098-d9f7-98e1c0c50057"
      },
      "outputs": [
        {
          "data": {
            "text/plain": [
              "'P(Injury):50.88%'"
            ]
          },
          "execution_count": 281,
          "metadata": {},
          "output_type": "execute_result"
        }
      ],
      "source": [
        "pred8_2_a = f'P(Injury):{(dfAA.INJURY.value_counts()[1])/ (len(dfAA)):.2%}'\n",
        "pred8_2_a\n"
      ]
    },
    {
      "cell_type": "markdown",
      "metadata": {
        "id": "8t-eKIOV_XWs"
      },
      "source": [
        "#### Given the probability found above, 50.88%. The prediction should technically be if accident is reported it will have an injury."
      ]
    },
    {
      "cell_type": "markdown",
      "metadata": {
        "id": "7IQYK0BR_dbL"
      },
      "source": [
        "## 8.2.b"
      ]
    },
    {
      "cell_type": "markdown",
      "metadata": {
        "id": "Kwm-sFu5ADRb"
      },
      "source": [
        "#### Creating isolated dataframe for easier use."
      ]
    },
    {
      "cell_type": "code",
      "execution_count": 282,
      "metadata": {
        "id": "wZod6Orl_f_j"
      },
      "outputs": [],
      "source": [
        "dfAA_b = dfAA.head(12)[['INJURY','WEATHER_R','TRAF_CON_R']]\n",
        "response = ['INJURY']\n",
        "predictors = ['WEATHER_R','TRAF_CON_R']"
      ]
    },
    {
      "cell_type": "markdown",
      "metadata": {
        "id": "fDkmYzPZYmQh"
      },
      "source": [
        "## 8.2.b.i"
      ]
    },
    {
      "cell_type": "code",
      "execution_count": 283,
      "metadata": {
        "colab": {
          "base_uri": "https://localhost:8080/",
          "height": 269
        },
        "id": "1cQzXfL3A_io",
        "outputId": "de0e716d-5431-4c95-98cb-8bd12e534318"
      },
      "outputs": [
        {
          "data": {
            "text/html": [
              "<div>\n",
              "<style scoped>\n",
              "    .dataframe tbody tr th:only-of-type {\n",
              "        vertical-align: middle;\n",
              "    }\n",
              "\n",
              "    .dataframe tbody tr th {\n",
              "        vertical-align: top;\n",
              "    }\n",
              "\n",
              "    .dataframe thead th {\n",
              "        text-align: right;\n",
              "    }\n",
              "</style>\n",
              "<table border=\"1\" class=\"dataframe\">\n",
              "  <thead>\n",
              "    <tr style=\"text-align: right;\">\n",
              "      <th></th>\n",
              "      <th>INJURY</th>\n",
              "      <th>0</th>\n",
              "      <th>1</th>\n",
              "      <th>All</th>\n",
              "    </tr>\n",
              "    <tr>\n",
              "      <th>WEATHER_R</th>\n",
              "      <th>TRAF_CON_R</th>\n",
              "      <th></th>\n",
              "      <th></th>\n",
              "      <th></th>\n",
              "    </tr>\n",
              "  </thead>\n",
              "  <tbody>\n",
              "    <tr>\n",
              "      <th rowspan=\"3\" valign=\"top\">1</th>\n",
              "      <th>0</th>\n",
              "      <td>1</td>\n",
              "      <td>2</td>\n",
              "      <td>3</td>\n",
              "    </tr>\n",
              "    <tr>\n",
              "      <th>1</th>\n",
              "      <td>1</td>\n",
              "      <td>0</td>\n",
              "      <td>1</td>\n",
              "    </tr>\n",
              "    <tr>\n",
              "      <th>2</th>\n",
              "      <td>1</td>\n",
              "      <td>0</td>\n",
              "      <td>1</td>\n",
              "    </tr>\n",
              "    <tr>\n",
              "      <th rowspan=\"2\" valign=\"top\">2</th>\n",
              "      <th>0</th>\n",
              "      <td>5</td>\n",
              "      <td>1</td>\n",
              "      <td>6</td>\n",
              "    </tr>\n",
              "    <tr>\n",
              "      <th>1</th>\n",
              "      <td>1</td>\n",
              "      <td>0</td>\n",
              "      <td>1</td>\n",
              "    </tr>\n",
              "    <tr>\n",
              "      <th>All</th>\n",
              "      <th></th>\n",
              "      <td>9</td>\n",
              "      <td>3</td>\n",
              "      <td>12</td>\n",
              "    </tr>\n",
              "  </tbody>\n",
              "</table>\n",
              "</div>"
            ],
            "text/plain": [
              "INJURY                0  1  All\n",
              "WEATHER_R TRAF_CON_R           \n",
              "1         0           1  2    3\n",
              "          1           1  0    1\n",
              "          2           1  0    1\n",
              "2         0           5  1    6\n",
              "          1           1  0    1\n",
              "All                   9  3   12"
            ]
          },
          "execution_count": 283,
          "metadata": {},
          "output_type": "execute_result"
        }
      ],
      "source": [
        "dfAA_b_PT_i = dfAA_b.pivot_table(index=predictors,\n",
        "                    columns=response, aggfunc=len, fill_value=0, margins=True)\n",
        "dfAA_b_PT_i"
      ]
    },
    {
      "cell_type": "code",
      "execution_count": 284,
      "metadata": {
        "id": "zirxKnVQf6V9"
      },
      "outputs": [],
      "source": [
        "prob = []"
      ]
    },
    {
      "cell_type": "markdown",
      "metadata": {
        "id": "2-Nif2L8YveN"
      },
      "source": [
        "## 8.2.b.ii"
      ]
    },
    {
      "cell_type": "code",
      "execution_count": 285,
      "metadata": {
        "colab": {
          "base_uri": "https://localhost:8080/",
          "height": 35
        },
        "id": "Qn-VENZYH-gE",
        "outputId": "ad5abd04-1274-4618-c991-65e09004532f"
      },
      "outputs": [
        {
          "data": {
            "text/plain": [
              "'Exact Bayes P(Injury=yes|WEATHER_R = 1 & TRAF_CON_R =0): 66.67%'"
            ]
          },
          "execution_count": 285,
          "metadata": {},
          "output_type": "execute_result"
        }
      ],
      "source": [
        "P_I1_W1_T0_S = f'Exact Bayes P(Injury=yes|WEATHER_R = 1 & TRAF_CON_R =0): {(((dfAA_b_PT_i.iat[0,1]) / (dfAA_b_PT_i.iat[0,2]))*((dfAA_b_PT_i.iat[0,2]) / (dfAA_b_PT_i.iat[5,2])))/((dfAA_b_PT_i.iat[0,2]) / (dfAA_b_PT_i.iat[5,2])):.2%}'\n",
        "P_I1_W1_T0 = (((dfAA_b_PT_i.iat[0,1]) / (dfAA_b_PT_i.iat[0,2]))*((dfAA_b_PT_i.iat[0,2]) / (dfAA_b_PT_i.iat[5,2])))/((dfAA_b_PT_i.iat[0,2]) / (dfAA_b_PT_i.iat[5,2]))\n",
        "prob.append(P_I1_W1_T0)\n",
        "P_I1_W1_T0_S"
      ]
    },
    {
      "cell_type": "code",
      "execution_count": 286,
      "metadata": {
        "colab": {
          "base_uri": "https://localhost:8080/",
          "height": 35
        },
        "id": "OqiA2o16LH6n",
        "outputId": "6641a4ef-faee-4ff8-ae35-f3caeb98876a"
      },
      "outputs": [
        {
          "data": {
            "text/plain": [
              "'Exact Bayes P(Injury=yes|WEATHER_R = 1 & TRAF_CON_R = 1): 0.00%'"
            ]
          },
          "execution_count": 286,
          "metadata": {},
          "output_type": "execute_result"
        }
      ],
      "source": [
        "P_I1_W1_T1_S = f'Exact Bayes P(Injury=yes|WEATHER_R = 1 & TRAF_CON_R = 1): {(((dfAA_b_PT_i.iat[1,1]) / (dfAA_b_PT_i.iat[1,2]))*((dfAA_b_PT_i.iat[1,2]) / (dfAA_b_PT_i.iat[5,2])))/((dfAA_b_PT_i.iat[1,2]) / (dfAA_b_PT_i.iat[5,2])):.2%}'\n",
        "P_I1_W1_T1 = (((dfAA_b_PT_i.iat[1,1]) / (dfAA_b_PT_i.iat[1,2]))*((dfAA_b_PT_i.iat[1,2]) / (dfAA_b_PT_i.iat[5,2])))/((dfAA_b_PT_i.iat[1,2]) / (dfAA_b_PT_i.iat[5,2]))\n",
        "prob.append(P_I1_W1_T1)\n",
        "P_I1_W1_T1_S"
      ]
    },
    {
      "cell_type": "code",
      "execution_count": 287,
      "metadata": {
        "colab": {
          "base_uri": "https://localhost:8080/",
          "height": 35
        },
        "id": "jlh8wLfOMciY",
        "outputId": "c2d4091e-1dd4-416f-98e1-d0ae16780444"
      },
      "outputs": [
        {
          "data": {
            "text/plain": [
              "'Exact Bayes P(Injury=yes|WEATHER_R = 1 & TRAF_CON_R = 2): 0.00%'"
            ]
          },
          "execution_count": 287,
          "metadata": {},
          "output_type": "execute_result"
        }
      ],
      "source": [
        "P_I1_W1_T2_S = f'Exact Bayes P(Injury=yes|WEATHER_R = 1 & TRAF_CON_R = 2): {(((dfAA_b_PT_i.iat[2,1]) / (dfAA_b_PT_i.iat[2,2]))*((dfAA_b_PT_i.iat[2,2]) / (dfAA_b_PT_i.iat[5,2])))/((dfAA_b_PT_i.iat[2,2]) / (dfAA_b_PT_i.iat[5,2])):.2%}'\n",
        "P_I1_W1_T2 = (((dfAA_b_PT_i.iat[2,1]) / (dfAA_b_PT_i.iat[2,2]))*((dfAA_b_PT_i.iat[2,2]) / (dfAA_b_PT_i.iat[5,2])))/((dfAA_b_PT_i.iat[2,2]) / (dfAA_b_PT_i.iat[5,2]))\n",
        "prob.append(P_I1_W1_T2)\n",
        "P_I1_W1_T2_S"
      ]
    },
    {
      "cell_type": "code",
      "execution_count": 288,
      "metadata": {
        "colab": {
          "base_uri": "https://localhost:8080/",
          "height": 35
        },
        "id": "xPT3aDvpNVtp",
        "outputId": "99fa9e4c-4915-48b5-eff0-a420ce2ea53f"
      },
      "outputs": [
        {
          "data": {
            "text/plain": [
              "'Exact Bayes P(Injury=yes|WEATHER_R = 2 & TRAF_CON_R = 0): 16.67%'"
            ]
          },
          "execution_count": 288,
          "metadata": {},
          "output_type": "execute_result"
        }
      ],
      "source": [
        "P_I1_W2_T0_S = f'Exact Bayes P(Injury=yes|WEATHER_R = 2 & TRAF_CON_R = 0): {(((dfAA_b_PT_i.iat[3,1]) / (dfAA_b_PT_i.iat[3,2]))*((dfAA_b_PT_i.iat[3,2]) / (dfAA_b_PT_i.iat[5,2])))/((dfAA_b_PT_i.iat[3,2]) / (dfAA_b_PT_i.iat[5,2])):.2%}'\n",
        "P_I1_W2_T0 = (((dfAA_b_PT_i.iat[3,1]) / (dfAA_b_PT_i.iat[3,2]))*((dfAA_b_PT_i.iat[3,2]) / (dfAA_b_PT_i.iat[5,2])))/((dfAA_b_PT_i.iat[3,2]) / (dfAA_b_PT_i.iat[5,2]))\n",
        "prob.append(P_I1_W2_T0)\n",
        "P_I1_W2_T0_S"
      ]
    },
    {
      "cell_type": "code",
      "execution_count": 289,
      "metadata": {
        "colab": {
          "base_uri": "https://localhost:8080/",
          "height": 35
        },
        "id": "Bv9B18qMTe4-",
        "outputId": "30dc9c39-e986-4fa1-a4fe-2c23a5d4c88c"
      },
      "outputs": [
        {
          "data": {
            "text/plain": [
              "'Exact Bayes P(Injury=yes|WEATHER_R = 2 & TRAF_CON_R = 1): 0.00%'"
            ]
          },
          "execution_count": 289,
          "metadata": {},
          "output_type": "execute_result"
        }
      ],
      "source": [
        "P_I1_W2_T0_S = f'Exact Bayes P(Injury=yes|WEATHER_R = 2 & TRAF_CON_R = 1): {(((dfAA_b_PT_i.iat[4,1]) / (dfAA_b_PT_i.iat[4,2]))*((dfAA_b_PT_i.iat[4,2]) / (dfAA_b_PT_i.iat[5,2])))/((dfAA_b_PT_i.iat[4,2]) / (dfAA_b_PT_i.iat[5,2])):.2%}'\n",
        "P_I1_W2_T0 = (((dfAA_b_PT_i.iat[4,1]) / (dfAA_b_PT_i.iat[4,2]))*((dfAA_b_PT_i.iat[4,2]) / (dfAA_b_PT_i.iat[5,2])))/((dfAA_b_PT_i.iat[4,2]) / (dfAA_b_PT_i.iat[5,2]))\n",
        "prob.append(P_I1_W2_T0)\n",
        "P_I1_W2_T0_S"
      ]
    },
    {
      "cell_type": "markdown",
      "metadata": {
        "id": "w4qF0bhlT3jd"
      },
      "source": [
        "#### Exact Bayes P(Injury=yes|WEATHER_R = 2 & TRAF_CON_R = 2): This is a 0/0 situation and does not become valid."
      ]
    },
    {
      "cell_type": "markdown",
      "metadata": {
        "id": "Az3QdmBoYyXo"
      },
      "source": [
        "## 8.2.b.iii"
      ]
    },
    {
      "cell_type": "code",
      "execution_count": 290,
      "metadata": {
        "id": "gRQ4-0lwcN8W"
      },
      "outputs": [],
      "source": [
        "conditions = [((dfAA_b.WEATHER_R == 1) & (dfAA_b.TRAF_CON_R == 0)),\n",
        "    ((dfAA_b.WEATHER_R == 1) & (dfAA_b.TRAF_CON_R == 1)),\n",
        "    ((dfAA_b.WEATHER_R == 1) & (dfAA_b.TRAF_CON_R == 2)),\n",
        "    ((dfAA_b.WEATHER_R == 2) & (dfAA_b.TRAF_CON_R == 0)),\n",
        "    ((dfAA_b.WEATHER_R == 2) & (dfAA_b.TRAF_CON_R == 1))]"
      ]
    },
    {
      "cell_type": "code",
      "execution_count": 291,
      "metadata": {
        "colab": {
          "base_uri": "https://localhost:8080/",
          "height": 426
        },
        "id": "RNM6ykMWeJhM",
        "outputId": "af8076f2-93ed-45e2-ce0e-2b8ca3cc8702"
      },
      "outputs": [
        {
          "data": {
            "text/html": [
              "<div>\n",
              "<style scoped>\n",
              "    .dataframe tbody tr th:only-of-type {\n",
              "        vertical-align: middle;\n",
              "    }\n",
              "\n",
              "    .dataframe tbody tr th {\n",
              "        vertical-align: top;\n",
              "    }\n",
              "\n",
              "    .dataframe thead th {\n",
              "        text-align: right;\n",
              "    }\n",
              "</style>\n",
              "<table border=\"1\" class=\"dataframe\">\n",
              "  <thead>\n",
              "    <tr style=\"text-align: right;\">\n",
              "      <th></th>\n",
              "      <th>INJURY</th>\n",
              "      <th>WEATHER_R</th>\n",
              "      <th>TRAF_CON_R</th>\n",
              "      <th>PROB_INJURY</th>\n",
              "      <th>INJURY_PRED</th>\n",
              "    </tr>\n",
              "  </thead>\n",
              "  <tbody>\n",
              "    <tr>\n",
              "      <th>0</th>\n",
              "      <td>1</td>\n",
              "      <td>1</td>\n",
              "      <td>0</td>\n",
              "      <td>0.666667</td>\n",
              "      <td>1</td>\n",
              "    </tr>\n",
              "    <tr>\n",
              "      <th>1</th>\n",
              "      <td>0</td>\n",
              "      <td>2</td>\n",
              "      <td>0</td>\n",
              "      <td>0.166667</td>\n",
              "      <td>0</td>\n",
              "    </tr>\n",
              "    <tr>\n",
              "      <th>2</th>\n",
              "      <td>0</td>\n",
              "      <td>2</td>\n",
              "      <td>1</td>\n",
              "      <td>0.000000</td>\n",
              "      <td>0</td>\n",
              "    </tr>\n",
              "    <tr>\n",
              "      <th>3</th>\n",
              "      <td>0</td>\n",
              "      <td>1</td>\n",
              "      <td>1</td>\n",
              "      <td>0.000000</td>\n",
              "      <td>0</td>\n",
              "    </tr>\n",
              "    <tr>\n",
              "      <th>4</th>\n",
              "      <td>0</td>\n",
              "      <td>1</td>\n",
              "      <td>0</td>\n",
              "      <td>0.666667</td>\n",
              "      <td>1</td>\n",
              "    </tr>\n",
              "    <tr>\n",
              "      <th>5</th>\n",
              "      <td>1</td>\n",
              "      <td>2</td>\n",
              "      <td>0</td>\n",
              "      <td>0.166667</td>\n",
              "      <td>0</td>\n",
              "    </tr>\n",
              "    <tr>\n",
              "      <th>6</th>\n",
              "      <td>0</td>\n",
              "      <td>2</td>\n",
              "      <td>0</td>\n",
              "      <td>0.166667</td>\n",
              "      <td>0</td>\n",
              "    </tr>\n",
              "    <tr>\n",
              "      <th>7</th>\n",
              "      <td>1</td>\n",
              "      <td>1</td>\n",
              "      <td>0</td>\n",
              "      <td>0.666667</td>\n",
              "      <td>1</td>\n",
              "    </tr>\n",
              "    <tr>\n",
              "      <th>8</th>\n",
              "      <td>0</td>\n",
              "      <td>2</td>\n",
              "      <td>0</td>\n",
              "      <td>0.166667</td>\n",
              "      <td>0</td>\n",
              "    </tr>\n",
              "    <tr>\n",
              "      <th>9</th>\n",
              "      <td>0</td>\n",
              "      <td>2</td>\n",
              "      <td>0</td>\n",
              "      <td>0.166667</td>\n",
              "      <td>0</td>\n",
              "    </tr>\n",
              "    <tr>\n",
              "      <th>10</th>\n",
              "      <td>0</td>\n",
              "      <td>2</td>\n",
              "      <td>0</td>\n",
              "      <td>0.166667</td>\n",
              "      <td>0</td>\n",
              "    </tr>\n",
              "    <tr>\n",
              "      <th>11</th>\n",
              "      <td>0</td>\n",
              "      <td>1</td>\n",
              "      <td>2</td>\n",
              "      <td>0.000000</td>\n",
              "      <td>0</td>\n",
              "    </tr>\n",
              "  </tbody>\n",
              "</table>\n",
              "</div>"
            ],
            "text/plain": [
              "    INJURY  WEATHER_R  TRAF_CON_R  PROB_INJURY  INJURY_PRED\n",
              "0        1          1           0     0.666667            1\n",
              "1        0          2           0     0.166667            0\n",
              "2        0          2           1     0.000000            0\n",
              "3        0          1           1     0.000000            0\n",
              "4        0          1           0     0.666667            1\n",
              "5        1          2           0     0.166667            0\n",
              "6        0          2           0     0.166667            0\n",
              "7        1          1           0     0.666667            1\n",
              "8        0          2           0     0.166667            0\n",
              "9        0          2           0     0.166667            0\n",
              "10       0          2           0     0.166667            0\n",
              "11       0          1           2     0.000000            0"
            ]
          },
          "execution_count": 291,
          "metadata": {},
          "output_type": "execute_result"
        }
      ],
      "source": [
        "dfAA_b['PROB_INJURY'] = np.select(conditions, prob)\n",
        "dfAA_b['INJURY_PRED'] = np.where(dfAA_b.PROB_INJURY > 0.5,1,0)\n",
        "dfAA_b"
      ]
    },
    {
      "cell_type": "markdown",
      "metadata": {
        "id": "_5FhfC0MY0M1"
      },
      "source": [
        "## 8.2.b.iv"
      ]
    },
    {
      "cell_type": "code",
      "execution_count": 292,
      "metadata": {
        "colab": {
          "base_uri": "https://localhost:8080/",
          "height": 269
        },
        "id": "hzC7tj2vY8I2",
        "outputId": "f4eec95e-a8e8-4aec-b424-01195db36686"
      },
      "outputs": [
        {
          "data": {
            "text/html": [
              "<div>\n",
              "<style scoped>\n",
              "    .dataframe tbody tr th:only-of-type {\n",
              "        vertical-align: middle;\n",
              "    }\n",
              "\n",
              "    .dataframe tbody tr th {\n",
              "        vertical-align: top;\n",
              "    }\n",
              "\n",
              "    .dataframe thead th {\n",
              "        text-align: right;\n",
              "    }\n",
              "</style>\n",
              "<table border=\"1\" class=\"dataframe\">\n",
              "  <thead>\n",
              "    <tr style=\"text-align: right;\">\n",
              "      <th></th>\n",
              "      <th>INJURY</th>\n",
              "      <th>0</th>\n",
              "      <th>1</th>\n",
              "      <th>All</th>\n",
              "    </tr>\n",
              "    <tr>\n",
              "      <th>WEATHER_R</th>\n",
              "      <th>TRAF_CON_R</th>\n",
              "      <th></th>\n",
              "      <th></th>\n",
              "      <th></th>\n",
              "    </tr>\n",
              "  </thead>\n",
              "  <tbody>\n",
              "    <tr>\n",
              "      <th rowspan=\"3\" valign=\"top\">1</th>\n",
              "      <th>0</th>\n",
              "      <td>1</td>\n",
              "      <td>2</td>\n",
              "      <td>3</td>\n",
              "    </tr>\n",
              "    <tr>\n",
              "      <th>1</th>\n",
              "      <td>1</td>\n",
              "      <td>0</td>\n",
              "      <td>1</td>\n",
              "    </tr>\n",
              "    <tr>\n",
              "      <th>2</th>\n",
              "      <td>1</td>\n",
              "      <td>0</td>\n",
              "      <td>1</td>\n",
              "    </tr>\n",
              "    <tr>\n",
              "      <th rowspan=\"2\" valign=\"top\">2</th>\n",
              "      <th>0</th>\n",
              "      <td>5</td>\n",
              "      <td>1</td>\n",
              "      <td>6</td>\n",
              "    </tr>\n",
              "    <tr>\n",
              "      <th>1</th>\n",
              "      <td>1</td>\n",
              "      <td>0</td>\n",
              "      <td>1</td>\n",
              "    </tr>\n",
              "    <tr>\n",
              "      <th>All</th>\n",
              "      <th></th>\n",
              "      <td>9</td>\n",
              "      <td>3</td>\n",
              "      <td>12</td>\n",
              "    </tr>\n",
              "  </tbody>\n",
              "</table>\n",
              "</div>"
            ],
            "text/plain": [
              "INJURY                0  1  All\n",
              "WEATHER_R TRAF_CON_R           \n",
              "1         0           1  2    3\n",
              "          1           1  0    1\n",
              "          2           1  0    1\n",
              "2         0           5  1    6\n",
              "          1           1  0    1\n",
              "All                   9  3   12"
            ]
          },
          "execution_count": 292,
          "metadata": {},
          "output_type": "execute_result"
        }
      ],
      "source": [
        "dfAA_b_PT_i"
      ]
    },
    {
      "cell_type": "code",
      "execution_count": 293,
      "metadata": {
        "colab": {
          "base_uri": "https://localhost:8080/",
          "height": 35
        },
        "id": "p3Ynj4wMY_Z4",
        "outputId": "7010b57f-ef63-4a78-f366-042e5ba903dd"
      },
      "outputs": [
        {
          "data": {
            "text/plain": [
              "'Naive Bayes P(Injury=yes|WEATHER_R = 1 & TRAF_CON_R = 1): 0.00%'"
            ]
          },
          "execution_count": 293,
          "metadata": {},
          "output_type": "execute_result"
        }
      ],
      "source": [
        "P_I1_W1_T1_NB_S = f'Naive Bayes P(Injury=yes|WEATHER_R = 1 & TRAF_CON_R = 1): {((dfAA_b_PT_i.iat[0,1])/(dfAA_b_PT_i.iat[0,2])) * ((dfAA_b_PT_i.iat[1,1])/(dfAA_b_PT_i.iat[5,1])) * ((dfAA_b_PT_i.iat[0,2])/(dfAA_b_PT_i.iat[5,2])):.2%}'\n",
        "P_I1_W1_T1_NB = ((dfAA_b_PT_i.iat[0,1])/(dfAA_b_PT_i.iat[0,2])) * ((dfAA_b_PT_i.iat[1,1])/(dfAA_b_PT_i.iat[5,1])) * ((dfAA_b_PT_i.iat[0,2])/(dfAA_b_PT_i.iat[5,2]))\n",
        "P_I1_W1_T1_NB_S"
      ]
    },
    {
      "cell_type": "markdown",
      "metadata": {
        "id": "6nTMk3u5b0HM"
      },
      "source": [
        "## 8.2.b.v"
      ]
    },
    {
      "cell_type": "code",
      "execution_count": 294,
      "metadata": {},
      "outputs": [],
      "source": [
        "dfAA_b = dfAA.head(12)[['INJURY','WEATHER_R','TRAF_CON_R']]\n"
      ]
    },
    {
      "cell_type": "code",
      "execution_count": 295,
      "metadata": {},
      "outputs": [
        {
          "data": {
            "text/plain": [
              "0     1\n",
              "1     0\n",
              "2     0\n",
              "3     0\n",
              "4     0\n",
              "5     1\n",
              "6     0\n",
              "7     1\n",
              "8     0\n",
              "9     0\n",
              "10    0\n",
              "11    0\n",
              "Name: INJURY, dtype: int32"
            ]
          },
          "execution_count": 295,
          "metadata": {},
          "output_type": "execute_result"
        }
      ],
      "source": [
        "dfAA_b['INJURY']"
      ]
    },
    {
      "cell_type": "code",
      "execution_count": 296,
      "metadata": {
        "id": "fi4bGg9wbymY"
      },
      "outputs": [],
      "source": [
        "X_AA_v = dfAA_b[predictors]\n",
        "Y_AA_v = dfAA_b[response]\n",
        "AA_nb = MultinomialNB(alpha=1)\n",
        "AA_nb.fit(X_AA_v, Y_AA_v.INJURY)\n",
        "\n",
        "# predict probabilities\n",
        "predProb_AA_Bv = AA_nb.predict_proba(X_AA_v)\n",
        "\n",
        "# predict class membership\n",
        "y_predAA_Bv = AA_nb.predict(X_AA_v)"
      ]
    },
    {
      "cell_type": "code",
      "execution_count": 297,
      "metadata": {
        "colab": {
          "base_uri": "https://localhost:8080/"
        },
        "id": "XBsNn2oJdDPV",
        "outputId": "08509464-32c5-41e5-ff73-39d82c4c7a23"
      },
      "outputs": [
        {
          "data": {
            "text/plain": [
              "array([[0.73282443, 0.26717557],\n",
              "       [0.71491738, 0.28508262],\n",
              "       [0.78177885, 0.21822115],\n",
              "       [0.7966805 , 0.2033195 ],\n",
              "       [0.73282443, 0.26717557],\n",
              "       [0.71491738, 0.28508262],\n",
              "       [0.71491738, 0.28508262],\n",
              "       [0.73282443, 0.26717557],\n",
              "       [0.71491738, 0.28508262],\n",
              "       [0.71491738, 0.28508262],\n",
              "       [0.71491738, 0.28508262],\n",
              "       [0.84843129, 0.15156871]])"
            ]
          },
          "execution_count": 297,
          "metadata": {},
          "output_type": "execute_result"
        }
      ],
      "source": [
        "predProb_AA_Bv"
      ]
    },
    {
      "cell_type": "code",
      "execution_count": 298,
      "metadata": {
        "colab": {
          "base_uri": "https://localhost:8080/"
        },
        "id": "kOVQKBFhdFJy",
        "outputId": "241e975c-6782-4aa0-e576-cfe6c7db10c8"
      },
      "outputs": [
        {
          "data": {
            "text/plain": [
              "array([0, 0, 0, 0, 0, 0, 0, 0, 0, 0, 0, 0])"
            ]
          },
          "execution_count": 298,
          "metadata": {},
          "output_type": "execute_result"
        }
      ],
      "source": [
        "y_predAA_Bv"
      ]
    },
    {
      "cell_type": "code",
      "execution_count": 299,
      "metadata": {
        "colab": {
          "base_uri": "https://localhost:8080/",
          "height": 426
        },
        "id": "DcvuLQ9YdNik",
        "outputId": "d64e65f1-30a8-4840-c428-f33f47bd9955"
      },
      "outputs": [
        {
          "data": {
            "text/html": [
              "<div>\n",
              "<style scoped>\n",
              "    .dataframe tbody tr th:only-of-type {\n",
              "        vertical-align: middle;\n",
              "    }\n",
              "\n",
              "    .dataframe tbody tr th {\n",
              "        vertical-align: top;\n",
              "    }\n",
              "\n",
              "    .dataframe thead th {\n",
              "        text-align: right;\n",
              "    }\n",
              "</style>\n",
              "<table border=\"1\" class=\"dataframe\">\n",
              "  <thead>\n",
              "    <tr style=\"text-align: right;\">\n",
              "      <th></th>\n",
              "      <th>actual</th>\n",
              "      <th>predicted</th>\n",
              "      <th>0</th>\n",
              "      <th>1</th>\n",
              "    </tr>\n",
              "  </thead>\n",
              "  <tbody>\n",
              "    <tr>\n",
              "      <th>0</th>\n",
              "      <td>1</td>\n",
              "      <td>0</td>\n",
              "      <td>0.732824</td>\n",
              "      <td>0.267176</td>\n",
              "    </tr>\n",
              "    <tr>\n",
              "      <th>1</th>\n",
              "      <td>0</td>\n",
              "      <td>0</td>\n",
              "      <td>0.714917</td>\n",
              "      <td>0.285083</td>\n",
              "    </tr>\n",
              "    <tr>\n",
              "      <th>2</th>\n",
              "      <td>0</td>\n",
              "      <td>0</td>\n",
              "      <td>0.781779</td>\n",
              "      <td>0.218221</td>\n",
              "    </tr>\n",
              "    <tr>\n",
              "      <th>3</th>\n",
              "      <td>0</td>\n",
              "      <td>0</td>\n",
              "      <td>0.796680</td>\n",
              "      <td>0.203320</td>\n",
              "    </tr>\n",
              "    <tr>\n",
              "      <th>4</th>\n",
              "      <td>0</td>\n",
              "      <td>0</td>\n",
              "      <td>0.732824</td>\n",
              "      <td>0.267176</td>\n",
              "    </tr>\n",
              "    <tr>\n",
              "      <th>5</th>\n",
              "      <td>1</td>\n",
              "      <td>0</td>\n",
              "      <td>0.714917</td>\n",
              "      <td>0.285083</td>\n",
              "    </tr>\n",
              "    <tr>\n",
              "      <th>6</th>\n",
              "      <td>0</td>\n",
              "      <td>0</td>\n",
              "      <td>0.714917</td>\n",
              "      <td>0.285083</td>\n",
              "    </tr>\n",
              "    <tr>\n",
              "      <th>7</th>\n",
              "      <td>1</td>\n",
              "      <td>0</td>\n",
              "      <td>0.732824</td>\n",
              "      <td>0.267176</td>\n",
              "    </tr>\n",
              "    <tr>\n",
              "      <th>8</th>\n",
              "      <td>0</td>\n",
              "      <td>0</td>\n",
              "      <td>0.714917</td>\n",
              "      <td>0.285083</td>\n",
              "    </tr>\n",
              "    <tr>\n",
              "      <th>9</th>\n",
              "      <td>0</td>\n",
              "      <td>0</td>\n",
              "      <td>0.714917</td>\n",
              "      <td>0.285083</td>\n",
              "    </tr>\n",
              "    <tr>\n",
              "      <th>10</th>\n",
              "      <td>0</td>\n",
              "      <td>0</td>\n",
              "      <td>0.714917</td>\n",
              "      <td>0.285083</td>\n",
              "    </tr>\n",
              "    <tr>\n",
              "      <th>11</th>\n",
              "      <td>0</td>\n",
              "      <td>0</td>\n",
              "      <td>0.848431</td>\n",
              "      <td>0.151569</td>\n",
              "    </tr>\n",
              "  </tbody>\n",
              "</table>\n",
              "</div>"
            ],
            "text/plain": [
              "    actual  predicted         0         1\n",
              "0        1          0  0.732824  0.267176\n",
              "1        0          0  0.714917  0.285083\n",
              "2        0          0  0.781779  0.218221\n",
              "3        0          0  0.796680  0.203320\n",
              "4        0          0  0.732824  0.267176\n",
              "5        1          0  0.714917  0.285083\n",
              "6        0          0  0.714917  0.285083\n",
              "7        1          0  0.732824  0.267176\n",
              "8        0          0  0.714917  0.285083\n",
              "9        0          0  0.714917  0.285083\n",
              "10       0          0  0.714917  0.285083\n",
              "11       0          0  0.848431  0.151569"
            ]
          },
          "execution_count": 299,
          "metadata": {},
          "output_type": "execute_result"
        }
      ],
      "source": [
        "df = pd.concat([pd.DataFrame({'actual': Y_AA_v.INJURY, 'predicted': y_predAA_Bv}),\n",
        "                pd.DataFrame(predProb_AA_Bv, index=Y_AA_v.index)], axis=1)\n",
        "df"
      ]
    },
    {
      "cell_type": "markdown",
      "metadata": {
        "id": "HHxM4cf0eKTg"
      },
      "source": [
        "## 8.2.b.v Comparing this output with the one generated in 8.2.b.iii we see that in the earlier calculation we got 2/3 accuracy while in this model we got 0/3 correct. This is valid."
      ]
    },
    {
      "cell_type": "markdown",
      "metadata": {},
      "source": [
        "# 8.2.c"
      ]
    },
    {
      "cell_type": "markdown",
      "metadata": {},
      "source": [
        "#### 8.2.c.i Looking at the categories, given we cannot use information gained after the accident to predict if an injury is going to happen, we have to look at conditions we can establish globally. This would be 'HOUR_I_R','ALIGN_I','WRK_ZONE','WKDY_I_R','INT_HWY','LGTCON_I_R','PROFIL_I_R','SPD_LIM','SUR_CON','TRAF_CON_R','TRAF_WAY','WEATHER_R' as these are known with simply the report of the accident having occurred at that location."
      ]
    },
    {
      "cell_type": "markdown",
      "metadata": {},
      "source": [
        "## 8.2.c.ii"
      ]
    },
    {
      "cell_type": "markdown",
      "metadata": {},
      "source": [
        "#### preparing the data"
      ]
    },
    {
      "cell_type": "code",
      "execution_count": 300,
      "metadata": {},
      "outputs": [],
      "source": [
        "predictors = ['HOUR_I_R','ALIGN_I','WRK_ZONE','WKDY_I_R','INT_HWY','LGTCON_I_R','PROFIL_I_R','SPD_LIM','SUR_COND','TRAF_CON_R','TRAF_WAY','WEATHER_R']\n",
        "outcome = ['INJURY']"
      ]
    },
    {
      "cell_type": "code",
      "execution_count": 301,
      "metadata": {},
      "outputs": [],
      "source": [
        "X_dfAA = pd.get_dummies(dfAA[predictors], prefix_sep='_', drop_first=False)\n",
        "Y_dfAA = (dfAA[outcome]).astype(int)\n",
        "\n",
        "scaler = MinMaxScaler()\n",
        "scaler.fit(X_dfBank)\n",
        "X_train, X_valid, y_train, y_valid = train_test_split(X_dfAA, Y_dfAA, test_size=0.40, random_state=1)\n",
        "X_train = scaler.fit_transform(X_train)\n",
        "X_valid = scaler.transform(X_valid)"
      ]
    },
    {
      "cell_type": "code",
      "execution_count": 302,
      "metadata": {},
      "outputs": [],
      "source": [
        "# run naive Bayes\n",
        "AA_nb = MultinomialNB(alpha=1)\n",
        "AA_nb.fit(X_train, y_train.INJURY)\n",
        "\n",
        "# predict probabilities\n",
        "predProb_train = AA_nb.predict_proba(X_train)\n",
        "predProb_valid = AA_nb.predict_proba(X_valid)\n",
        "\n",
        "# predict class membership\n",
        "y_train_pred = AA_nb.predict(X_train)\n",
        "y_valid_pred = AA_nb.predict(X_valid)"
      ]
    },
    {
      "cell_type": "code",
      "execution_count": 303,
      "metadata": {},
      "outputs": [
        {
          "name": "stdout",
          "output_type": "stream",
          "text": [
            "Test Data Set\n",
            "Confusion Matrix (Accuracy 0.5245)\n",
            "\n",
            "       Prediction\n",
            "Actual     0     1\n",
            "     0  2197 10195\n",
            "     1  1839 11078\n",
            "\n",
            "Validation Data Set\n",
            "Confusion Matrix (Accuracy 0.5221)\n",
            "\n",
            "       Prediction\n",
            "Actual    0    1\n",
            "     0 1476 6853\n",
            "     1 1211 7334\n"
          ]
        }
      ],
      "source": [
        "print('Test Data Set')\n",
        "classificationSummary(y_train, y_train_pred, class_names=classes) \n",
        "print()\n",
        "print('Validation Data Set')\n",
        "classificationSummary(y_valid, y_valid_pred, class_names=classes) "
      ]
    },
    {
      "cell_type": "markdown",
      "metadata": {},
      "source": [
        "## 8.2.c.iii The overall error for the validation set is 47.79%"
      ]
    },
    {
      "cell_type": "markdown",
      "metadata": {},
      "source": [
        "## 8.2.c.iv The percent improvement relative to the naive rule when using the validation set is 0.2399%"
      ]
    },
    {
      "cell_type": "markdown",
      "metadata": {},
      "source": [
        "## 8.2.c.v"
      ]
    },
    {
      "cell_type": "markdown",
      "metadata": {},
      "source": [
        "#### All the predictors"
      ]
    },
    {
      "cell_type": "code",
      "execution_count": 309,
      "metadata": {},
      "outputs": [
        {
          "name": "stdout",
          "output_type": "stream",
          "text": [
            "INJURY\n",
            "1         0.8480\n",
            "0         0.8187\n",
            "Name: count, dtype: float64\n",
            "\n",
            "HOUR_I_R       0       1\n",
            "INJURY                  \n",
            "0         0.5678  0.4322\n",
            "1         0.5734  0.4266\n",
            "\n",
            "ALIGN_I       1       2\n",
            "INJURY                 \n",
            "0        0.8707  0.1293\n",
            "1        0.8663  0.1337\n",
            "\n",
            "WRK_ZONE       0       1\n",
            "INJURY                  \n",
            "0         0.9760  0.0240\n",
            "1         0.9788  0.0212\n",
            "\n",
            "WKDY_I_R       0       1\n",
            "INJURY                  \n",
            "0         0.2177  0.7823\n",
            "1         0.2387  0.7613\n",
            "\n",
            "INT_HWY       0       1       9\n",
            "INJURY                         \n",
            "0        0.8498  0.1497  0.0005\n",
            "1        0.8600  0.1392  0.0008\n",
            "\n",
            "LGTCON_I_R       1       2       3\n",
            "INJURY                            \n",
            "0           0.6916  0.1254  0.1830\n",
            "1           0.6972  0.1120  0.1908\n",
            "\n",
            "PROFIL_I_R       0       1\n",
            "INJURY                    \n",
            "0           0.7504  0.2496\n",
            "1           0.7629  0.2371\n",
            "\n",
            "SPD_LIM          5       10      15      20      25      30      35      40      45      50      55      60      65      70      75\n",
            "INJURY                                                                                                                             \n",
            "0        9.6520e-05  0.0005  0.0045  0.0077  0.1083  0.0872  0.1928  0.0955  0.1564  0.0407  0.1595  0.0351  0.0662  0.0395  0.0061\n",
            "1        1.8638e-04  0.0005  0.0042  0.0043  0.0913  0.0889  0.2119  0.1084  0.1560  0.0383  0.1532  0.0434  0.0626  0.0296  0.0073\n",
            "\n",
            "SUR_COND       1       2       3       4       9\n",
            "INJURY                                          \n",
            "0         0.7762  0.1756  0.0162  0.0280  0.0040\n",
            "1         0.8164  0.1528  0.0107  0.0153  0.0048\n",
            "\n",
            "TRAF_CON_R       0       1       2\n",
            "INJURY                            \n",
            "0           0.6589  0.1887  0.1524\n",
            "1           0.6210  0.2196  0.1594\n",
            "\n",
            "TRAF_WAY       1       2       3\n",
            "INJURY                          \n",
            "0         0.5762  0.3726  0.0513\n",
            "1         0.5616  0.3969  0.0415\n",
            "\n",
            "WEATHER_R       1       2\n",
            "INJURY                   \n",
            "0          0.8409  0.1591\n",
            "1          0.8730  0.1270\n",
            "\n"
          ]
        }
      ],
      "source": [
        "train_df, valid_df = train_test_split(dfAA, test_size=0.4, random_state=1)\n",
        "\n",
        "pd.set_option('display.precision', 4)\n",
        "pd.set_option('display.width', 250)\n",
        "# probability of flight status\n",
        "print(dfAA[response].value_counts() / len(train_df))\n",
        "print()\n",
        "\n",
        "for predictor in predictors:\n",
        "    # construct the frequency table\n",
        "    df = dfAA[['INJURY', predictor]]\n",
        "    freqTable = df.pivot_table(index=response, columns=predictor, aggfunc=len)\n",
        "\n",
        "    # divide each row by the sum of the row to get conditional probabilities\n",
        "    propTable = freqTable.apply(lambda x: x / sum(x), axis=1)\n",
        "    print(propTable)\n",
        "    print()\n",
        "pd.reset_option('display.precision')\n",
        "pd.reset_option('display.width')"
      ]
    },
    {
      "cell_type": "markdown",
      "metadata": {},
      "source": [
        "#### Just SPD_LIM"
      ]
    },
    {
      "cell_type": "code",
      "execution_count": 310,
      "metadata": {},
      "outputs": [
        {
          "name": "stdout",
          "output_type": "stream",
          "text": [
            "INJURY\n",
            "1         0.5088\n",
            "0         0.4912\n",
            "Name: count, dtype: float64\n",
            "\n",
            "SPD_LIM          5       10      15      20      25      30      35      40      45      50      55      60      65      70      75\n",
            "INJURY                                                                                                                             \n",
            "0        9.6520e-05  0.0005  0.0045  0.0077  0.1083  0.0872  0.1928  0.0955  0.1564  0.0407  0.1595  0.0351  0.0662  0.0395  0.0061\n",
            "1        1.8638e-04  0.0005  0.0042  0.0043  0.0913  0.0889  0.2119  0.1084  0.1560  0.0383  0.1532  0.0434  0.0626  0.0296  0.0073\n",
            "\n"
          ]
        }
      ],
      "source": [
        "pd.set_option('display.precision', 4)\n",
        "pd.set_option('display.width', 250)\n",
        "# probability of flight status\n",
        "print(dfAA[response].value_counts() / len(dfAA))\n",
        "print()\n",
        "# construct the frequency table\n",
        "df = dfAA[['INJURY', 'SPD_LIM']]\n",
        "freqTable = df.pivot_table(index=response, columns=['SPD_LIM'], aggfunc=len)\n",
        "\n",
        "# divide each row by the sum of the row to get conditional probabilities\n",
        "propTable = freqTable.apply(lambda x: x / sum(x), axis=1)\n",
        "print(propTable)\n",
        "print()\n",
        "    \n",
        "pd.reset_option('display.precision')\n",
        "pd.reset_option('display.width')"
      ]
    },
    {
      "cell_type": "markdown",
      "metadata": {},
      "source": [
        "#### 8.2.c.v looking at P(INJURY = No j SPD_LIM = 5) We get probability of 9.6520e-05. This is near zero in terms of chances of happening, so in a practical sense that means an accident at 5mph should never happen, but because of the nature of probability where it can never truly equal 0 or 1, our function will always provide a number, even if its in scientific notation indicating its so small as to need 8 leading zeros. This is a result of all of the other variables that play into causing injuries for car accidents still playing a role in the chances of injury, even for a 5mph crash."
      ]
    }
  ],
  "metadata": {
    "colab": {
      "provenance": []
    },
    "kernelspec": {
      "display_name": "Python 3",
      "language": "python",
      "name": "python3"
    },
    "language_info": {
      "codemirror_mode": {
        "name": "ipython",
        "version": 3
      },
      "file_extension": ".py",
      "mimetype": "text/x-python",
      "name": "python",
      "nbconvert_exporter": "python",
      "pygments_lexer": "ipython3",
      "version": "3.11.4"
    },
    "orig_nbformat": 4
  },
  "nbformat": 4,
  "nbformat_minor": 0
}

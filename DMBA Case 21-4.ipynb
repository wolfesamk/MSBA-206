{
 "cells": [
  {
   "attachments": {},
   "cell_type": "markdown",
   "metadata": {},
   "source": [
    "##### <p> Samuel Wolfe <br> June 16th, 2023 <br> MSBA 206 <br> DMBA Case 21.4 </p>"
   ]
  },
  {
   "cell_type": "code",
   "execution_count": 1,
   "metadata": {},
   "outputs": [],
   "source": [
    "#setting up core functions\n",
    "import pandas as pd\n",
    "import matplotlib.pylab as plt\n",
    "import numpy as np\n",
    "def readFile(fileLocation):\n",
    "    df = pd.read_csv(fileLocation)\n",
    "    return df\n",
    "def normalize(df):\n",
    "    dfNorm = (df - df.mean(numeric_only=True)) / df.std(numeric_only=True)\n",
    "    return dfNorm\n",
    "def correlate(df):\n",
    "    dfCorr = df.corr(numeric_only=True)\n",
    "    return dfCorr\n"
   ]
  },
  {
   "cell_type": "code",
   "execution_count": 32,
   "metadata": {},
   "outputs": [
    {
     "name": "stdout",
     "output_type": "stream",
     "text": [
      "0.5959144589849984\n"
     ]
    }
   ],
   "source": [
    "#1\n",
    "dfVoters = readFile(r'E:\\Aliit\\School\\MSBA\\206\\dmba-datasets\\Voter-Persuasion.csv')\n",
    "ratioV = dfVoters.groupby('MOVED_A')['MOVED_A'].count().to_frame()\n",
    "percMovedV = (ratioV.at[1,'MOVED_A']/len(dfVoters.index)) * 100\n",
    "ratioMovedV = (ratioV.at[1,'MOVED_A']/ratioV.at[0,'MOVED_A'])\n",
    "text = 'The flyer moved %.2f of the voters' % percMovedV\n",
    "print(ratioMovedV)\n"
   ]
  }
 ],
 "metadata": {
  "kernelspec": {
   "display_name": "base",
   "language": "python",
   "name": "python3"
  },
  "language_info": {
   "codemirror_mode": {
    "name": "ipython",
    "version": 3
   },
   "file_extension": ".py",
   "mimetype": "text/x-python",
   "name": "python",
   "nbconvert_exporter": "python",
   "pygments_lexer": "ipython3",
   "version": "3.10.9"
  },
  "orig_nbformat": 4
 },
 "nbformat": 4,
 "nbformat_minor": 2
}

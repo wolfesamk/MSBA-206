{
 "cells": [
  {
   "cell_type": "markdown",
   "metadata": {},
   "source": [
    "##### <p> Samuel Wolfe <br> July 18th, 2023 <br> MSBA 206 <br> DMBA Chapter 7 Homework 7.2 & 7.3 </p>"
   ]
  },
  {
   "cell_type": "code",
   "execution_count": 1,
   "metadata": {},
   "outputs": [],
   "source": [
    "%matplotlib inline\n",
    "from pathlib import Path\n",
    "import pandas as pd\n",
    "import requests\n",
    "import io\n",
    "from sklearn import preprocessing\n",
    "from sklearn.model_selection import train_test_split\n",
    "from sklearn.metrics import accuracy_score\n",
    "from sklearn.neighbors import NearestNeighbors, KNeighborsClassifier, KNeighborsRegressor\n",
    "from dmba import regressionSummary, classificationSummary, liftChart, gainsChart\n",
    "from sklearn.metrics import accuracy_score, confusion_matrix, mean_squared_error\n",
    "import matplotlib.pylab as plt\n",
    "import numpy as np"
   ]
  },
  {
   "cell_type": "code",
   "execution_count": 2,
   "metadata": {},
   "outputs": [],
   "source": [
    "def readFile(url):\n",
    "    download = requests.get(url).content\n",
    "    # Reading the downloaded content and turning it into a pandas dataframe\n",
    "    df = pd.read_csv(io.StringIO(download.decode('utf-8')))\n",
    "    return df\n",
    "def statslist(df):\n",
    "    dfStats = pd.DataFrame({'Mean' : df.mean(numeric_only=True),\n",
    "            'SD' : df.std(numeric_only=True),\n",
    "            'Min' : df.min(),\n",
    "            'Max' : df.max(),\n",
    "            'Median' : df.median(numeric_only=True),\n",
    "            })\n",
    "    return dfStats"
   ]
  },
  {
   "cell_type": "markdown",
   "metadata": {},
   "source": [
    "# 7.2"
   ]
  },
  {
   "cell_type": "markdown",
   "metadata": {},
   "source": [
    "#### Import the data"
   ]
  },
  {
   "cell_type": "code",
   "execution_count": 3,
   "metadata": {},
   "outputs": [
    {
     "name": "stdout",
     "output_type": "stream",
     "text": [
      "(5000, 16)\n"
     ]
    },
    {
     "data": {
      "text/html": [
       "<div>\n",
       "<style scoped>\n",
       "    .dataframe tbody tr th:only-of-type {\n",
       "        vertical-align: middle;\n",
       "    }\n",
       "\n",
       "    .dataframe tbody tr th {\n",
       "        vertical-align: top;\n",
       "    }\n",
       "\n",
       "    .dataframe thead th {\n",
       "        text-align: right;\n",
       "    }\n",
       "</style>\n",
       "<table border=\"1\" class=\"dataframe\">\n",
       "  <thead>\n",
       "    <tr style=\"text-align: right;\">\n",
       "      <th></th>\n",
       "      <th>ID</th>\n",
       "      <th>Age</th>\n",
       "      <th>Experience</th>\n",
       "      <th>Income</th>\n",
       "      <th>ZIP Code</th>\n",
       "      <th>Family</th>\n",
       "      <th>CCAvg</th>\n",
       "      <th>Mortgage</th>\n",
       "      <th>Personal Loan</th>\n",
       "      <th>Securities Account</th>\n",
       "      <th>CD Account</th>\n",
       "      <th>Online</th>\n",
       "      <th>CreditCard</th>\n",
       "      <th>Education_1</th>\n",
       "      <th>Education_2</th>\n",
       "      <th>Education_3</th>\n",
       "    </tr>\n",
       "  </thead>\n",
       "  <tbody>\n",
       "    <tr>\n",
       "      <th>0</th>\n",
       "      <td>1</td>\n",
       "      <td>25</td>\n",
       "      <td>1</td>\n",
       "      <td>49</td>\n",
       "      <td>91107</td>\n",
       "      <td>4</td>\n",
       "      <td>1.6</td>\n",
       "      <td>0</td>\n",
       "      <td>0</td>\n",
       "      <td>1</td>\n",
       "      <td>0</td>\n",
       "      <td>0</td>\n",
       "      <td>0</td>\n",
       "      <td>1</td>\n",
       "      <td>0</td>\n",
       "      <td>0</td>\n",
       "    </tr>\n",
       "    <tr>\n",
       "      <th>1</th>\n",
       "      <td>2</td>\n",
       "      <td>45</td>\n",
       "      <td>19</td>\n",
       "      <td>34</td>\n",
       "      <td>90089</td>\n",
       "      <td>3</td>\n",
       "      <td>1.5</td>\n",
       "      <td>0</td>\n",
       "      <td>0</td>\n",
       "      <td>1</td>\n",
       "      <td>0</td>\n",
       "      <td>0</td>\n",
       "      <td>0</td>\n",
       "      <td>1</td>\n",
       "      <td>0</td>\n",
       "      <td>0</td>\n",
       "    </tr>\n",
       "    <tr>\n",
       "      <th>2</th>\n",
       "      <td>3</td>\n",
       "      <td>39</td>\n",
       "      <td>15</td>\n",
       "      <td>11</td>\n",
       "      <td>94720</td>\n",
       "      <td>1</td>\n",
       "      <td>1.0</td>\n",
       "      <td>0</td>\n",
       "      <td>0</td>\n",
       "      <td>0</td>\n",
       "      <td>0</td>\n",
       "      <td>0</td>\n",
       "      <td>0</td>\n",
       "      <td>1</td>\n",
       "      <td>0</td>\n",
       "      <td>0</td>\n",
       "    </tr>\n",
       "    <tr>\n",
       "      <th>3</th>\n",
       "      <td>4</td>\n",
       "      <td>35</td>\n",
       "      <td>9</td>\n",
       "      <td>100</td>\n",
       "      <td>94112</td>\n",
       "      <td>1</td>\n",
       "      <td>2.7</td>\n",
       "      <td>0</td>\n",
       "      <td>0</td>\n",
       "      <td>0</td>\n",
       "      <td>0</td>\n",
       "      <td>0</td>\n",
       "      <td>0</td>\n",
       "      <td>0</td>\n",
       "      <td>1</td>\n",
       "      <td>0</td>\n",
       "    </tr>\n",
       "    <tr>\n",
       "      <th>4</th>\n",
       "      <td>5</td>\n",
       "      <td>35</td>\n",
       "      <td>8</td>\n",
       "      <td>45</td>\n",
       "      <td>91330</td>\n",
       "      <td>4</td>\n",
       "      <td>1.0</td>\n",
       "      <td>0</td>\n",
       "      <td>0</td>\n",
       "      <td>0</td>\n",
       "      <td>0</td>\n",
       "      <td>0</td>\n",
       "      <td>1</td>\n",
       "      <td>0</td>\n",
       "      <td>1</td>\n",
       "      <td>0</td>\n",
       "    </tr>\n",
       "  </tbody>\n",
       "</table>\n",
       "</div>"
      ],
      "text/plain": [
       "   ID  Age  Experience  Income  ZIP Code  Family  CCAvg  Mortgage  \\\n",
       "0   1   25           1      49     91107       4    1.6         0   \n",
       "1   2   45          19      34     90089       3    1.5         0   \n",
       "2   3   39          15      11     94720       1    1.0         0   \n",
       "3   4   35           9     100     94112       1    2.7         0   \n",
       "4   5   35           8      45     91330       4    1.0         0   \n",
       "\n",
       "   Personal Loan  Securities Account  CD Account  Online  CreditCard  \\\n",
       "0              0                   1           0       0           0   \n",
       "1              0                   1           0       0           0   \n",
       "2              0                   0           0       0           0   \n",
       "3              0                   0           0       0           0   \n",
       "4              0                   0           0       0           1   \n",
       "\n",
       "   Education_1  Education_2  Education_3  \n",
       "0            1            0            0  \n",
       "1            1            0            0  \n",
       "2            1            0            0  \n",
       "3            0            1            0  \n",
       "4            0            1            0  "
      ]
     },
     "execution_count": 3,
     "metadata": {},
     "output_type": "execute_result"
    }
   ],
   "source": [
    "dfBank = readFile(\"https://raw.githubusercontent.com/wolfesamk/MSBA-206/main/dmba/UniversalBank.csv\")\n",
    "dfBank['Education'] = dfBank['Education'].astype('category')\n",
    "dfBank = pd.get_dummies(dfBank, prefix_sep='_', drop_first=False)\n",
    "print(dfBank.shape)\n",
    "dfBank.head(5)"
   ]
  },
  {
   "cell_type": "markdown",
   "metadata": {},
   "source": [
    "#### Split into 60/40"
   ]
  },
  {
   "cell_type": "code",
   "execution_count": 4,
   "metadata": {},
   "outputs": [
    {
     "name": "stdout",
     "output_type": "stream",
     "text": [
      "(3000, 16) (2000, 16)\n"
     ]
    }
   ],
   "source": [
    "bank_trainData, bank_validData = train_test_split(dfBank, test_size=0.4, random_state=1)\n",
    "print(bank_trainData.shape, bank_validData.shape)"
   ]
  },
  {
   "cell_type": "markdown",
   "metadata": {},
   "source": [
    "#### Creating customer"
   ]
  },
  {
   "cell_type": "code",
   "execution_count": 5,
   "metadata": {},
   "outputs": [
    {
     "data": {
      "text/html": [
       "<div>\n",
       "<style scoped>\n",
       "    .dataframe tbody tr th:only-of-type {\n",
       "        vertical-align: middle;\n",
       "    }\n",
       "\n",
       "    .dataframe tbody tr th {\n",
       "        vertical-align: top;\n",
       "    }\n",
       "\n",
       "    .dataframe thead th {\n",
       "        text-align: right;\n",
       "    }\n",
       "</style>\n",
       "<table border=\"1\" class=\"dataframe\">\n",
       "  <thead>\n",
       "    <tr style=\"text-align: right;\">\n",
       "      <th></th>\n",
       "      <th>Age</th>\n",
       "      <th>Experience</th>\n",
       "      <th>Income</th>\n",
       "      <th>Family</th>\n",
       "      <th>CCAvg</th>\n",
       "      <th>Mortgage</th>\n",
       "      <th>Securities Account</th>\n",
       "      <th>CD Account</th>\n",
       "      <th>Online</th>\n",
       "      <th>CreditCard</th>\n",
       "      <th>Education_1</th>\n",
       "      <th>Education_2</th>\n",
       "      <th>Education_3</th>\n",
       "    </tr>\n",
       "  </thead>\n",
       "  <tbody>\n",
       "    <tr>\n",
       "      <th>0</th>\n",
       "      <td>40</td>\n",
       "      <td>10</td>\n",
       "      <td>84</td>\n",
       "      <td>2</td>\n",
       "      <td>2</td>\n",
       "      <td>0</td>\n",
       "      <td>0</td>\n",
       "      <td>0</td>\n",
       "      <td>1</td>\n",
       "      <td>1</td>\n",
       "      <td>0</td>\n",
       "      <td>1</td>\n",
       "      <td>0</td>\n",
       "    </tr>\n",
       "  </tbody>\n",
       "</table>\n",
       "</div>"
      ],
      "text/plain": [
       "   Age  Experience  Income  Family  CCAvg  Mortgage  Securities Account  \\\n",
       "0   40          10      84       2      2         0                   0   \n",
       "\n",
       "   CD Account  Online  CreditCard  Education_1  Education_2  Education_3  \n",
       "0           0       1           1            0            1            0  "
      ]
     },
     "execution_count": 5,
     "metadata": {},
     "output_type": "execute_result"
    }
   ],
   "source": [
    "newCustomer = pd.DataFrame([{'Age': 40, 'Experience': 10, 'Income': 84, 'Family': 2, 'CCAvg': 2, 'Mortgage': 0,\n",
    "                         'Securities Account': 0, 'CD Account': 0, 'Online': 1, 'CreditCard': 1, 'Education_1': 0,\n",
    "                         'Education_2': 1, 'Education_3': 0}],\n",
    "                       columns=['Age', 'Experience', 'Income', 'Family', 'CCAvg', 'Mortgage', 'Securities Account',\n",
    "                                'CD Account', 'Online', 'CreditCard', 'Education_1', 'Education_2', 'Education_3'])\n",
    "newCustomer"
   ]
  },
  {
   "cell_type": "code",
   "execution_count": 6,
   "metadata": {},
   "outputs": [
    {
     "name": "stdout",
     "output_type": "stream",
     "text": [
      "['Age', 'Experience', 'Income', 'Family', 'CCAvg', 'Mortgage', 'Securities Account', 'CD Account', 'Online', 'CreditCard', 'Education_1', 'Education_2', 'Education_3']\n"
     ]
    }
   ],
   "source": [
    "outcome = 'Personal Loan'\n",
    "predictors = list(dfBank.columns.drop(['ID','ZIP Code']))\n",
    "predictors.remove(outcome)\n",
    "scaler = preprocessing.StandardScaler()\n",
    "print(predictors)"
   ]
  },
  {
   "cell_type": "markdown",
   "metadata": {},
   "source": [
    "#### Normalizing data"
   ]
  },
  {
   "cell_type": "code",
   "execution_count": 7,
   "metadata": {},
   "outputs": [
    {
     "name": "stdout",
     "output_type": "stream",
     "text": [
      "        Age  Experience    Income    Family     CCAvg  Mortgage  \\\n",
      "0 -0.486446   -0.901063  0.220892 -0.352127  0.035689 -0.559242   \n",
      "\n",
      "   Securities Account  CD Account   Online  CreditCard  Education_1  \\\n",
      "0           -0.337025   -0.252646  0.83419     1.53728    -0.838795   \n",
      "\n",
      "   Education_2  Education_3  \n",
      "0     1.591719    -0.660895  \n"
     ]
    }
   ],
   "source": [
    "scaler.fit(bank_trainData[predictors])\n",
    "#scaler.transform(train_df[predictors])\n",
    "# Transform the predictors of training, validation and newCustomer\n",
    "bank_train_X = scaler.transform(bank_trainData[predictors])\n",
    "bank_train_y = bank_trainData[outcome]\n",
    "bank_valid_X = scaler.transform(bank_validData[predictors])\n",
    "bank_valid_y = bank_validData[outcome]\n",
    "newCustomerNorm = pd.DataFrame(scaler.transform(newCustomer), \n",
    "                               columns=['Age', 'Experience', 'Income', 'Family', 'CCAvg', 'Mortgage', 'Securities Account',\n",
    "                                   'CD Account', 'Online', 'CreditCard', 'Education_1', 'Education_2', 'Education_3'])\n",
    "print(newCustomerNorm)"
   ]
  },
  {
   "cell_type": "markdown",
   "metadata": {},
   "source": [
    "#### 7.2.a knn k=1 success class of 1 for loan acceptance cutoff of 0.5"
   ]
  },
  {
   "cell_type": "code",
   "execution_count": 8,
   "metadata": {},
   "outputs": [
    {
     "name": "stdout",
     "output_type": "stream",
     "text": [
      "[0]\n",
      "Distances [[0.49507362]]\n",
      "Indices [[1557]]\n",
      "Training Data\n",
      "         ID  Age  Experience  Income  ZIP Code  Family  CCAvg  Mortgage  \\\n",
      "4407  4408   37          13      71     90755       2    1.7         0   \n",
      "\n",
      "      Personal Loan  Securities Account  CD Account  Online  CreditCard  \\\n",
      "4407              0                   0           0       1           1   \n",
      "\n",
      "      Education_1  Education_2  Education_3  \n",
      "4407            0            1            0  \n"
     ]
    }
   ],
   "source": [
    "knn1 = KNeighborsClassifier(n_neighbors=1).fit(bank_train_X, bank_train_y)\n",
    "distances, indices = knn1.kneighbors(newCustomerNorm.values)\n",
    "print(knn1.predict(newCustomerNorm.values))\n",
    "print('Distances',distances)\n",
    "print('Indices',indices)\n",
    "print('Training Data\\n',bank_trainData.iloc[indices[0], :])"
   ]
  },
  {
   "cell_type": "code",
   "execution_count": 9,
   "metadata": {},
   "outputs": [
    {
     "name": "stdout",
     "output_type": "stream",
     "text": [
      "Confusion Matrix (Accuracy 0.9545)\n",
      "\n",
      "       Prediction\n",
      "Actual    0    1\n",
      "     0 1785   22\n",
      "     1   69  124\n"
     ]
    }
   ],
   "source": [
    "classificationSummary(bank_valid_y, knn1.predict(bank_valid_X))"
   ]
  },
  {
   "cell_type": "markdown",
   "metadata": {},
   "source": [
    "#### I believe this is correct, and is telling me that the new customer would be classified as not taking the personal loan."
   ]
  },
  {
   "cell_type": "markdown",
   "metadata": {},
   "source": [
    "#### 7.2.b Given that K == 1 gives an accuracy of 95.45% I am inclined to think 1 is sufficient."
   ]
  },
  {
   "cell_type": "code",
   "execution_count": 10,
   "metadata": {},
   "outputs": [
    {
     "name": "stdout",
     "output_type": "stream",
     "text": [
      "     k  accuracy\n",
      "4    5    0.9565\n",
      "0    1    0.9545\n",
      "2    3    0.9535\n",
      "6    7    0.9520\n",
      "1    2    0.9500\n",
      "3    4    0.9495\n",
      "5    6    0.9495\n",
      "8    9    0.9475\n",
      "10  11    0.9465\n",
      "7    8    0.9460\n",
      "12  13    0.9450\n",
      "9   10    0.9435\n",
      "11  12    0.9435\n",
      "13  14    0.9435\n"
     ]
    }
   ],
   "source": [
    "results = []\n",
    "for k in range(1,15):\n",
    "    knnR = KNeighborsClassifier(n_neighbors=k).fit(bank_train_X, bank_train_y)\n",
    "    results.append({\n",
    "        'k': k,\n",
    "        'accuracy': accuracy_score(bank_valid_y, knnR.predict(bank_valid_X))\n",
    "    })\n",
    "results = pd.DataFrame(results).sort_values(by=['accuracy'],ascending=False)\n",
    "print(results)"
   ]
  },
  {
   "cell_type": "markdown",
   "metadata": {},
   "source": [
    "#### Yes, k==1 is sufficient. But looking at the values generated we can see that k==5 has slightly improved performance."
   ]
  },
  {
   "cell_type": "markdown",
   "metadata": {},
   "source": [
    "#### 7.2.c"
   ]
  },
  {
   "cell_type": "code",
   "execution_count": 11,
   "metadata": {},
   "outputs": [
    {
     "name": "stdout",
     "output_type": "stream",
     "text": [
      "Confusion Matrix (Accuracy 0.9565)\n",
      "\n",
      "       Prediction\n",
      "Actual    0    1\n",
      "     0 1803    4\n",
      "     1   83  110\n"
     ]
    }
   ],
   "source": [
    "knn5 = KNeighborsClassifier(n_neighbors=5).fit(bank_train_X, bank_train_y)\n",
    "classificationSummary(bank_valid_y, knn5.predict(bank_valid_X))"
   ]
  },
  {
   "cell_type": "markdown",
   "metadata": {},
   "source": [
    "#### 7.2.d"
   ]
  },
  {
   "cell_type": "code",
   "execution_count": 12,
   "metadata": {},
   "outputs": [
    {
     "data": {
      "text/html": [
       "<div>\n",
       "<style scoped>\n",
       "    .dataframe tbody tr th:only-of-type {\n",
       "        vertical-align: middle;\n",
       "    }\n",
       "\n",
       "    .dataframe tbody tr th {\n",
       "        vertical-align: top;\n",
       "    }\n",
       "\n",
       "    .dataframe thead th {\n",
       "        text-align: right;\n",
       "    }\n",
       "</style>\n",
       "<table border=\"1\" class=\"dataframe\">\n",
       "  <thead>\n",
       "    <tr style=\"text-align: right;\">\n",
       "      <th></th>\n",
       "      <th>Age</th>\n",
       "      <th>Experience</th>\n",
       "      <th>Income</th>\n",
       "      <th>Family</th>\n",
       "      <th>CCAvg</th>\n",
       "      <th>Mortgage</th>\n",
       "      <th>Securities Account</th>\n",
       "      <th>CD Account</th>\n",
       "      <th>Online</th>\n",
       "      <th>CreditCard</th>\n",
       "      <th>Education_1</th>\n",
       "      <th>Education_2</th>\n",
       "      <th>Education_3</th>\n",
       "    </tr>\n",
       "  </thead>\n",
       "  <tbody>\n",
       "    <tr>\n",
       "      <th>0</th>\n",
       "      <td>40</td>\n",
       "      <td>10</td>\n",
       "      <td>84</td>\n",
       "      <td>2</td>\n",
       "      <td>2</td>\n",
       "      <td>0</td>\n",
       "      <td>0</td>\n",
       "      <td>0</td>\n",
       "      <td>1</td>\n",
       "      <td>1</td>\n",
       "      <td>0</td>\n",
       "      <td>1</td>\n",
       "      <td>0</td>\n",
       "    </tr>\n",
       "  </tbody>\n",
       "</table>\n",
       "</div>"
      ],
      "text/plain": [
       "   Age  Experience  Income  Family  CCAvg  Mortgage  Securities Account  \\\n",
       "0   40          10      84       2      2         0                   0   \n",
       "\n",
       "   CD Account  Online  CreditCard  Education_1  Education_2  Education_3  \n",
       "0           0       1           1            0            1            0  "
      ]
     },
     "execution_count": 12,
     "metadata": {},
     "output_type": "execute_result"
    }
   ],
   "source": [
    "newCustomer = pd.DataFrame([{'Age': 40, 'Experience': 10, 'Income': 84, 'Family': 2, 'CCAvg': 2, 'Mortgage': 0,\n",
    "                         'Securities Account': 0, 'CD Account': 0, 'Online': 1, 'CreditCard': 1, 'Education_1': 0,\n",
    "                         'Education_2': 1, 'Education_3': 0}],\n",
    "                       columns=['Age', 'Experience', 'Income', 'Family', 'CCAvg', 'Mortgage', 'Securities Account',\n",
    "                                'CD Account', 'Online', 'CreditCard', 'Education_1', 'Education_2', 'Education_3'])\n",
    "newCustomer"
   ]
  },
  {
   "cell_type": "code",
   "execution_count": 13,
   "metadata": {},
   "outputs": [
    {
     "name": "stdout",
     "output_type": "stream",
     "text": [
      "[0]\n",
      "Distances [[0.49507362 0.63219765 0.93477446 1.17852337 1.32753093]]\n",
      "Indices [[1557 1087 1690 2408 2255]]\n",
      "Training Data\n",
      "         ID  Age  Experience  Income  ZIP Code  Family  CCAvg  Mortgage  \\\n",
      "4407  4408   37          13      71     90755       2   1.70         0   \n",
      "3398  3399   40          14      62     92028       2   2.40         0   \n",
      "2913  2914   39          12      75     94501       3   2.33         0   \n",
      "2086  2087   36          12      84     90291       1   0.80         0   \n",
      "4487  4488   38          14      81     94583       1   3.60         0   \n",
      "\n",
      "      Personal Loan  Securities Account  CD Account  Online  CreditCard  \\\n",
      "4407              0                   0           0       1           1   \n",
      "3398              0                   0           0       1           1   \n",
      "2913              0                   0           0       1           1   \n",
      "2086              0                   0           0       1           1   \n",
      "4487              0                   0           0       1           1   \n",
      "\n",
      "      Education_1  Education_2  Education_3  \n",
      "4407            0            1            0  \n",
      "3398            0            1            0  \n",
      "2913            0            1            0  \n",
      "2086            0            1            0  \n",
      "4487            0            1            0  \n"
     ]
    }
   ],
   "source": [
    "distances, indices = knn5.kneighbors(newCustomerNorm.values)\n",
    "print(knn5.predict(newCustomerNorm.values))\n",
    "print('Distances',distances)\n",
    "print('Indices',indices)\n",
    "print('Training Data\\n',bank_trainData.iloc[indices[0], :])"
   ]
  },
  {
   "cell_type": "markdown",
   "metadata": {},
   "source": [
    "#### Interesting, seems the 0.1% gain from using k==1 doesnt pay off."
   ]
  },
  {
   "cell_type": "markdown",
   "metadata": {},
   "source": [
    "#### 7.2.e"
   ]
  },
  {
   "cell_type": "code",
   "execution_count": 14,
   "metadata": {},
   "outputs": [
    {
     "name": "stdout",
     "output_type": "stream",
     "text": [
      "(2500, 16) (1500, 16) (1000, 16)\n"
     ]
    }
   ],
   "source": [
    "bank_trainData, bank_TempData = train_test_split(dfBank, test_size=0.5, random_state=1)\n",
    "bank_validData, bank_testData = train_test_split(bank_TempData, test_size=0.4, random_state=1)\n",
    "print(bank_trainData.shape, bank_validData.shape, bank_testData.shape)"
   ]
  },
  {
   "cell_type": "code",
   "execution_count": 15,
   "metadata": {},
   "outputs": [],
   "source": [
    "scaler = preprocessing.StandardScaler()\n",
    "scaler.fit(bank_trainData[predictors])\n",
    "#scaler.transform(train_df[predictors])\n",
    "# Transform the predictors of training, validation and newCustomer\n",
    "bank_train_X = scaler.transform(bank_trainData[predictors])\n",
    "bank_train_y = bank_trainData[outcome]\n",
    "bank_valid_X = scaler.transform(bank_validData[predictors])\n",
    "bank_valid_y = bank_validData[outcome]\n",
    "bank_test_X = scaler.transform(bank_testData[predictors])\n",
    "bank_test_y = bank_testData[outcome]"
   ]
  },
  {
   "cell_type": "code",
   "execution_count": 16,
   "metadata": {},
   "outputs": [],
   "source": [
    "knn5 = KNeighborsClassifier(n_neighbors=5).fit(bank_train_X, bank_train_y)"
   ]
  },
  {
   "cell_type": "code",
   "execution_count": 17,
   "metadata": {},
   "outputs": [
    {
     "name": "stdout",
     "output_type": "stream",
     "text": [
      "Confusion Matrix (Accuracy 0.9684)\n",
      "\n",
      "       Prediction\n",
      "Actual    0    1\n",
      "     0 2255    4\n",
      "     1   75  166\n"
     ]
    }
   ],
   "source": [
    "classificationSummary(bank_train_y, knn5.predict(bank_train_X))"
   ]
  },
  {
   "cell_type": "code",
   "execution_count": 19,
   "metadata": {},
   "outputs": [
    {
     "name": "stdout",
     "output_type": "stream",
     "text": [
      "Confusion Matrix (Accuracy 0.9533)\n",
      "\n",
      "       Prediction\n",
      "Actual    0    1\n",
      "     0 1346    3\n",
      "     1   67   84\n"
     ]
    }
   ],
   "source": [
    "classificationSummary(bank_valid_y, knn5.predict(bank_valid_X))"
   ]
  },
  {
   "cell_type": "code",
   "execution_count": 20,
   "metadata": {},
   "outputs": [
    {
     "name": "stdout",
     "output_type": "stream",
     "text": [
      "Confusion Matrix (Accuracy 0.9600)\n",
      "\n",
      "       Prediction\n",
      "Actual   0   1\n",
      "     0 907   5\n",
      "     1  35  53\n"
     ]
    }
   ],
   "source": [
    "classificationSummary(bank_test_y, knn5.predict(bank_test_X))"
   ]
  },
  {
   "cell_type": "markdown",
   "metadata": {},
   "source": [
    "#### It appears that with the validation set the model fit better than with the test set. This is okay though as both still have high accuracy. The differences come from the fact they are two different datasets being compared against the training model."
   ]
  },
  {
   "cell_type": "markdown",
   "metadata": {},
   "source": [
    "#### Gains and Lift Charts"
   ]
  },
  {
   "cell_type": "code",
   "execution_count": 23,
   "metadata": {},
   "outputs": [
    {
     "data": {
      "image/png": "[encoded data removed]",
      "text/plain": [
       "<Figure size 1000x400 with 2 Axes>"
      ]
     },
     "metadata": {},
     "output_type": "display_data"
    }
   ],
   "source": [
    "proba = knn5.predict_proba(bank_train_X)\n",
    "result = pd.DataFrame({'actual': bank_train_y, \n",
    "                       'p(0)': [p[0] for p in proba],\n",
    "                       'p(1)': [p[1] for p in proba],\n",
    "                       'predicted': knn5.predict(bank_train_X) })\n",
    "df = result.sort_values(by=['p(1)'], ascending=False)\n",
    "fig, axes = plt.subplots(nrows=1, ncols=2, figsize=(10, 4))\n",
    "gainsChart(df.actual, ax=axes[0])\n",
    "liftChart(df.actual, title=False)\n",
    "plt.show()"
   ]
  },
  {
   "cell_type": "markdown",
   "metadata": {},
   "source": [
    "#### The gains above chart shows us the results are much better than random and that we stand to lift by 8.7 and 1.3 for the first two percentiles using the model. This is the test data though so such high returns are to be expected."
   ]
  },
  {
   "cell_type": "code",
   "execution_count": 22,
   "metadata": {},
   "outputs": [
    {
     "data": {
      "image/png": "[encoded data removed]",
      "text/plain": [
       "<Figure size 1000x400 with 2 Axes>"
      ]
     },
     "metadata": {},
     "output_type": "display_data"
    }
   ],
   "source": [
    "proba = knn5.predict_proba(bank_valid_X)\n",
    "result = pd.DataFrame({'actual': bank_valid_y, \n",
    "                       'p(0)': [p[0] for p in proba],\n",
    "                       'p(1)': [p[1] for p in proba],\n",
    "                       'predicted': knn5.predict(bank_valid_X) })\n",
    "df = result.sort_values(by=['p(1)'], ascending=False)\n",
    "fig, axes = plt.subplots(nrows=1, ncols=2, figsize=(10, 4))\n",
    "gainsChart(df.actual, ax=axes[0])\n",
    "liftChart(df.actual, title=False)\n",
    "plt.show()"
   ]
  },
  {
   "cell_type": "markdown",
   "metadata": {},
   "source": [
    "#### The gains chart above shows us the results are much better than random and that we stand to lift by 7.4 and 1.5 for the first two percentiles using the model. We then see the remaining 80% offer negligible improvement. This tells us that its best for the bank to focus on the predicted top 20%."
   ]
  },
  {
   "cell_type": "code",
   "execution_count": 21,
   "metadata": {},
   "outputs": [
    {
     "data": {
      "image/png": "[encoded data removed]",
      "text/plain": [
       "<Figure size 1000x400 with 2 Axes>"
      ]
     },
     "metadata": {},
     "output_type": "display_data"
    }
   ],
   "source": [
    "proba = knn5.predict_proba(bank_test_X)\n",
    "result = pd.DataFrame({'actual': bank_test_y, \n",
    "                       'p(0)': [p[0] for p in proba],\n",
    "                       'p(1)': [p[1] for p in proba],\n",
    "                       'predicted': knn5.predict(bank_test_X) })\n",
    "df = result.sort_values(by=['p(1)'], ascending=False)\n",
    "fig, axes = plt.subplots(nrows=1, ncols=2, figsize=(10, 4))\n",
    "gainsChart(df.actual, ax=axes[0])\n",
    "liftChart(df.actual, title=False)\n",
    "plt.show()"
   ]
  },
  {
   "cell_type": "markdown",
   "metadata": {},
   "source": [
    "#### #### The gains chart above shows us the results are much better than random and that we stand to lift by 7.4 and 1.2 for the first two percentiles using the model. We then see the remaining 80% offer negligible improvement. The data does seem to indicate there may be some benefit in analyzing the 5th percentile. This tells us that its best for the bank to focus on the predicted top 20%."
   ]
  },
  {
   "cell_type": "markdown",
   "metadata": {},
   "source": [
    "# 7.3"
   ]
  },
  {
   "cell_type": "code",
   "execution_count": 25,
   "metadata": {},
   "outputs": [
    {
     "name": "stdout",
     "output_type": "stream",
     "text": [
      "(506, 13)\n"
     ]
    },
    {
     "data": {
      "text/html": [
       "<div>\n",
       "<style scoped>\n",
       "    .dataframe tbody tr th:only-of-type {\n",
       "        vertical-align: middle;\n",
       "    }\n",
       "\n",
       "    .dataframe tbody tr th {\n",
       "        vertical-align: top;\n",
       "    }\n",
       "\n",
       "    .dataframe thead th {\n",
       "        text-align: right;\n",
       "    }\n",
       "</style>\n",
       "<table border=\"1\" class=\"dataframe\">\n",
       "  <thead>\n",
       "    <tr style=\"text-align: right;\">\n",
       "      <th></th>\n",
       "      <th>CRIM</th>\n",
       "      <th>ZN</th>\n",
       "      <th>INDUS</th>\n",
       "      <th>CHAS</th>\n",
       "      <th>NOX</th>\n",
       "      <th>RM</th>\n",
       "      <th>AGE</th>\n",
       "      <th>DIS</th>\n",
       "      <th>RAD</th>\n",
       "      <th>TAX</th>\n",
       "      <th>PTRATIO</th>\n",
       "      <th>LSTAT</th>\n",
       "      <th>CAT. MEDV</th>\n",
       "    </tr>\n",
       "  </thead>\n",
       "  <tbody>\n",
       "    <tr>\n",
       "      <th>0</th>\n",
       "      <td>0.00632</td>\n",
       "      <td>18.0</td>\n",
       "      <td>2.31</td>\n",
       "      <td>0</td>\n",
       "      <td>0.538</td>\n",
       "      <td>6.575</td>\n",
       "      <td>65.2</td>\n",
       "      <td>4.0900</td>\n",
       "      <td>1</td>\n",
       "      <td>296</td>\n",
       "      <td>15.3</td>\n",
       "      <td>4.98</td>\n",
       "      <td>0</td>\n",
       "    </tr>\n",
       "    <tr>\n",
       "      <th>1</th>\n",
       "      <td>0.02731</td>\n",
       "      <td>0.0</td>\n",
       "      <td>7.07</td>\n",
       "      <td>0</td>\n",
       "      <td>0.469</td>\n",
       "      <td>6.421</td>\n",
       "      <td>78.9</td>\n",
       "      <td>4.9671</td>\n",
       "      <td>2</td>\n",
       "      <td>242</td>\n",
       "      <td>17.8</td>\n",
       "      <td>9.14</td>\n",
       "      <td>0</td>\n",
       "    </tr>\n",
       "    <tr>\n",
       "      <th>2</th>\n",
       "      <td>0.02729</td>\n",
       "      <td>0.0</td>\n",
       "      <td>7.07</td>\n",
       "      <td>0</td>\n",
       "      <td>0.469</td>\n",
       "      <td>7.185</td>\n",
       "      <td>61.1</td>\n",
       "      <td>4.9671</td>\n",
       "      <td>2</td>\n",
       "      <td>242</td>\n",
       "      <td>17.8</td>\n",
       "      <td>4.03</td>\n",
       "      <td>1</td>\n",
       "    </tr>\n",
       "    <tr>\n",
       "      <th>3</th>\n",
       "      <td>0.03237</td>\n",
       "      <td>0.0</td>\n",
       "      <td>2.18</td>\n",
       "      <td>0</td>\n",
       "      <td>0.458</td>\n",
       "      <td>6.998</td>\n",
       "      <td>45.8</td>\n",
       "      <td>6.0622</td>\n",
       "      <td>3</td>\n",
       "      <td>222</td>\n",
       "      <td>18.7</td>\n",
       "      <td>2.94</td>\n",
       "      <td>1</td>\n",
       "    </tr>\n",
       "    <tr>\n",
       "      <th>4</th>\n",
       "      <td>0.06905</td>\n",
       "      <td>0.0</td>\n",
       "      <td>2.18</td>\n",
       "      <td>0</td>\n",
       "      <td>0.458</td>\n",
       "      <td>7.147</td>\n",
       "      <td>54.2</td>\n",
       "      <td>6.0622</td>\n",
       "      <td>3</td>\n",
       "      <td>222</td>\n",
       "      <td>18.7</td>\n",
       "      <td>5.33</td>\n",
       "      <td>1</td>\n",
       "    </tr>\n",
       "  </tbody>\n",
       "</table>\n",
       "</div>"
      ],
      "text/plain": [
       "      CRIM    ZN  INDUS  CHAS    NOX     RM   AGE     DIS  RAD  TAX  PTRATIO  \\\n",
       "0  0.00632  18.0   2.31     0  0.538  6.575  65.2  4.0900    1  296     15.3   \n",
       "1  0.02731   0.0   7.07     0  0.469  6.421  78.9  4.9671    2  242     17.8   \n",
       "2  0.02729   0.0   7.07     0  0.469  7.185  61.1  4.9671    2  242     17.8   \n",
       "3  0.03237   0.0   2.18     0  0.458  6.998  45.8  6.0622    3  222     18.7   \n",
       "4  0.06905   0.0   2.18     0  0.458  7.147  54.2  6.0622    3  222     18.7   \n",
       "\n",
       "   LSTAT  CAT. MEDV  \n",
       "0   4.98          0  \n",
       "1   9.14          0  \n",
       "2   4.03          1  \n",
       "3   2.94          1  \n",
       "4   5.33          1  "
      ]
     },
     "execution_count": 25,
     "metadata": {},
     "output_type": "execute_result"
    }
   ],
   "source": [
    "dfHouse = readFile(\"https://raw.githubusercontent.com/wolfesamk/MSBA-206/main/dmba/BostonHousing.csv\")\n",
    "dfHouse = pd.get_dummies(dfHouse.drop(columns='MEDV'), drop_first=False)\n",
    "print(dfHouse.shape)\n",
    "dfHouse.head(5)"
   ]
  },
  {
   "cell_type": "code",
   "execution_count": 26,
   "metadata": {},
   "outputs": [
    {
     "name": "stdout",
     "output_type": "stream",
     "text": [
      "(253, 13) (151, 13) (102, 13)\n"
     ]
    }
   ],
   "source": [
    "house_trainData, house_TempData = train_test_split(dfHouse, test_size=0.5, random_state=1)\n",
    "house_validData, house_testData = train_test_split(house_TempData, test_size=0.4, random_state=1)\n",
    "print(house_trainData.shape, house_validData.shape, house_testData.shape)"
   ]
  },
  {
   "cell_type": "code",
   "execution_count": 28,
   "metadata": {},
   "outputs": [
    {
     "name": "stdout",
     "output_type": "stream",
     "text": [
      "['CRIM', 'ZN', 'INDUS', 'CHAS', 'NOX', 'RM', 'AGE', 'DIS', 'RAD', 'TAX', 'PTRATIO', 'LSTAT']\n"
     ]
    }
   ],
   "source": [
    "outcome = 'CAT. MEDV'\n",
    "predictors = list(dfHouse.columns)\n",
    "predictors.remove(outcome)\n",
    "scaler = preprocessing.StandardScaler()\n",
    "print(predictors)"
   ]
  },
  {
   "cell_type": "code",
   "execution_count": 29,
   "metadata": {},
   "outputs": [],
   "source": [
    "scaler.fit(house_trainData[predictors])\n",
    "#scaler.transform(train_df[predictors])\n",
    "# Transform the predictors of training, validation and newCustomer\n",
    "house_train_X = scaler.transform(house_trainData[predictors])\n",
    "house_train_y = house_trainData[outcome]\n",
    "house_valid_X = scaler.transform(house_validData[predictors])\n",
    "house_valid_y = house_validData[outcome]\n",
    "house_test_X = scaler.transform(house_testData[predictors])\n",
    "house_test_y = house_testData[outcome]"
   ]
  },
  {
   "cell_type": "code",
   "execution_count": 35,
   "metadata": {},
   "outputs": [
    {
     "name": "stdout",
     "output_type": "stream",
     "text": [
      "   k       mse\n",
      "3  4  0.046772\n",
      "2  3  0.047829\n",
      "4  5  0.049007\n",
      "1  2  0.052980\n",
      "0  1  0.066225\n"
     ]
    }
   ],
   "source": [
    "results = []\n",
    "for k in range(1,6):\n",
    "    knnR = KNeighborsRegressor(n_neighbors=k).fit(house_train_X, house_train_y)\n",
    "    results.append({\n",
    "        'k': k,\n",
    "        'mse': mean_squared_error(house_valid_y, knnR.predict(house_valid_X))\n",
    "    })\n",
    "results = pd.DataFrame(results).sort_values(by=['mse'],ascending=True)\n",
    "print(results)"
   ]
  },
  {
   "cell_type": "markdown",
   "metadata": {},
   "source": [
    "#### 6.3.a I believe I did the above correctly. Given we want a smaller MSE, a k==4 value is best. It means when doing a KneighbhorsRegressor we want to use the 4 nearest neighbors to predict classification."
   ]
  },
  {
   "cell_type": "markdown",
   "metadata": {},
   "source": [
    "#### 7.3.b"
   ]
  },
  {
   "cell_type": "code",
   "execution_count": 38,
   "metadata": {},
   "outputs": [
    {
     "data": {
      "text/html": [
       "<div>\n",
       "<style scoped>\n",
       "    .dataframe tbody tr th:only-of-type {\n",
       "        vertical-align: middle;\n",
       "    }\n",
       "\n",
       "    .dataframe tbody tr th {\n",
       "        vertical-align: top;\n",
       "    }\n",
       "\n",
       "    .dataframe thead th {\n",
       "        text-align: right;\n",
       "    }\n",
       "</style>\n",
       "<table border=\"1\" class=\"dataframe\">\n",
       "  <thead>\n",
       "    <tr style=\"text-align: right;\">\n",
       "      <th></th>\n",
       "      <th>CRIM</th>\n",
       "      <th>ZN</th>\n",
       "      <th>INDUS</th>\n",
       "      <th>CHAS</th>\n",
       "      <th>NOX</th>\n",
       "      <th>RM</th>\n",
       "      <th>AGE</th>\n",
       "      <th>DIS</th>\n",
       "      <th>RAD</th>\n",
       "      <th>TAX</th>\n",
       "      <th>PTRATIO</th>\n",
       "      <th>LSTAT</th>\n",
       "    </tr>\n",
       "  </thead>\n",
       "  <tbody>\n",
       "    <tr>\n",
       "      <th>0</th>\n",
       "      <td>0.2</td>\n",
       "      <td>0</td>\n",
       "      <td>7</td>\n",
       "      <td>0</td>\n",
       "      <td>0.538</td>\n",
       "      <td>6</td>\n",
       "      <td>62</td>\n",
       "      <td>4.7</td>\n",
       "      <td>4</td>\n",
       "      <td>307</td>\n",
       "      <td>21</td>\n",
       "      <td>10</td>\n",
       "    </tr>\n",
       "  </tbody>\n",
       "</table>\n",
       "</div>"
      ],
      "text/plain": [
       "   CRIM  ZN  INDUS  CHAS    NOX  RM  AGE  DIS  RAD  TAX  PTRATIO  LSTAT\n",
       "0   0.2   0      7     0  0.538   6   62  4.7    4  307       21     10"
      ]
     },
     "execution_count": 38,
     "metadata": {},
     "output_type": "execute_result"
    }
   ],
   "source": [
    "newHouse = pd.DataFrame([{'CRIM': 0.2,\n",
    "                          'ZN': 0,\n",
    "                          'INDUS': 7,\n",
    "                          'CHAS': 0,\n",
    "                          'NOX': 0.538,\n",
    "                          'RM': 6,\n",
    "                          'AGE': 62,\n",
    "                          'DIS': 4.7,\n",
    "                          'RAD': 4,\n",
    "                          'TAX': 307,\n",
    "                          'PTRATIO': 21,\n",
    "                          'LSTAT': 10}],\n",
    "                       columns=['CRIM',\n",
    "                                'ZN',\n",
    "                                'INDUS',\n",
    "                                'CHAS',\n",
    "                                'NOX',\n",
    "                                'RM',\n",
    "                                'AGE',\n",
    "                                'DIS',\n",
    "                                'RAD',\n",
    "                                'TAX',\n",
    "                                'PTRATIO',\n",
    "                                'LSTAT'])\n",
    "newHouse\n"
   ]
  },
  {
   "cell_type": "code",
   "execution_count": 41,
   "metadata": {},
   "outputs": [
    {
     "data": {
      "text/html": [
       "<div>\n",
       "<style scoped>\n",
       "    .dataframe tbody tr th:only-of-type {\n",
       "        vertical-align: middle;\n",
       "    }\n",
       "\n",
       "    .dataframe tbody tr th {\n",
       "        vertical-align: top;\n",
       "    }\n",
       "\n",
       "    .dataframe thead th {\n",
       "        text-align: right;\n",
       "    }\n",
       "</style>\n",
       "<table border=\"1\" class=\"dataframe\">\n",
       "  <thead>\n",
       "    <tr style=\"text-align: right;\">\n",
       "      <th></th>\n",
       "      <th>CRIM</th>\n",
       "      <th>ZN</th>\n",
       "      <th>INDUS</th>\n",
       "      <th>CHAS</th>\n",
       "      <th>NOX</th>\n",
       "      <th>RM</th>\n",
       "      <th>AGE</th>\n",
       "      <th>DIS</th>\n",
       "      <th>RAD</th>\n",
       "      <th>TAX</th>\n",
       "      <th>PTRATIO</th>\n",
       "      <th>LSTAT</th>\n",
       "    </tr>\n",
       "  </thead>\n",
       "  <tbody>\n",
       "    <tr>\n",
       "      <th>0</th>\n",
       "      <td>-0.41485</td>\n",
       "      <td>-0.474983</td>\n",
       "      <td>-0.618182</td>\n",
       "      <td>-0.292979</td>\n",
       "      <td>-0.162626</td>\n",
       "      <td>-0.323022</td>\n",
       "      <td>-0.256416</td>\n",
       "      <td>0.398762</td>\n",
       "      <td>-0.662305</td>\n",
       "      <td>-0.610272</td>\n",
       "      <td>1.187549</td>\n",
       "      <td>-0.444933</td>\n",
       "    </tr>\n",
       "  </tbody>\n",
       "</table>\n",
       "</div>"
      ],
      "text/plain": [
       "      CRIM        ZN     INDUS      CHAS       NOX        RM       AGE  \\\n",
       "0 -0.41485 -0.474983 -0.618182 -0.292979 -0.162626 -0.323022 -0.256416   \n",
       "\n",
       "        DIS       RAD       TAX   PTRATIO     LSTAT  \n",
       "0  0.398762 -0.662305 -0.610272  1.187549 -0.444933  "
      ]
     },
     "execution_count": 41,
     "metadata": {},
     "output_type": "execute_result"
    }
   ],
   "source": [
    "newHouseNorm = pd.DataFrame(scaler.transform(newHouse), \n",
    "                               columns=['CRIM',\n",
    "                                'ZN',\n",
    "                                'INDUS',\n",
    "                                'CHAS',\n",
    "                                'NOX',\n",
    "                                'RM',\n",
    "                                'AGE',\n",
    "                                'DIS',\n",
    "                                'RAD',\n",
    "                                'TAX',\n",
    "                                'PTRATIO',\n",
    "                                'LSTAT'])\n",
    "newHouseNorm"
   ]
  },
  {
   "cell_type": "code",
   "execution_count": 43,
   "metadata": {},
   "outputs": [
    {
     "name": "stdout",
     "output_type": "stream",
     "text": [
      "[0.]\n",
      "Distances [[0.41974573 0.84122941 0.94431157 1.06575713]]\n",
      "Indices [[184 116 188 147]]\n",
      "Training Data\n",
      "         CRIM   ZN  INDUS  CHAS    NOX     RM   AGE     DIS  RAD  TAX  PTRATIO  \\\n",
      "15   0.62739  0.0   8.14     0  0.538  5.834  56.5  4.4986    4  307     21.0   \n",
      "337  0.03041  0.0   5.19     0  0.515  5.895  59.6  5.6150    5  224     20.2   \n",
      "336  0.03427  0.0   5.19     0  0.515  5.869  46.3  5.2311    5  224     20.2   \n",
      "321  0.18159  0.0   7.38     0  0.493  6.376  54.3  4.5404    5  287     19.6   \n",
      "\n",
      "     LSTAT  CAT. MEDV  \n",
      "15    8.47          0  \n",
      "337  10.56          0  \n",
      "336   9.80          0  \n",
      "321   6.87          0  \n"
     ]
    }
   ],
   "source": [
    "knn4 = KNeighborsRegressor(n_neighbors=4).fit(house_train_X, house_train_y)\n",
    "distances, indices = knn4.kneighbors(newHouseNorm.values)\n",
    "print(knn4.predict(newHouseNorm.values))\n",
    "print('Distances',distances)\n",
    "print('Indices',indices)\n",
    "print('Training Data\\n',house_trainData.iloc[indices[0], :])"
   ]
  },
  {
   "cell_type": "markdown",
   "metadata": {},
   "source": [
    "#### The new house would be 'CAT. MEDV' 0 meaning its MEDV value is less than 30"
   ]
  },
  {
   "cell_type": "markdown",
   "metadata": {},
   "source": [
    "#### 7.3.c Given the training set is fitted to the model I would imagine the error rate would be quite Low."
   ]
  },
  {
   "cell_type": "code",
   "execution_count": 45,
   "metadata": {},
   "outputs": [
    {
     "name": "stdout",
     "output_type": "stream",
     "text": [
      "\n",
      "Regression statistics\n",
      "\n",
      "               Mean Error (ME) : 0.0287\n",
      "Root Mean Squared Error (RMSE) : 0.1826\n",
      "     Mean Absolute Error (MAE) : 0.0662\n"
     ]
    }
   ],
   "source": [
    "regressionSummary(house_train_y, knn4.predict(house_train_X))"
   ]
  },
  {
   "cell_type": "markdown",
   "metadata": {},
   "source": [
    "#### Yep, its ME is 0.0287"
   ]
  },
  {
   "cell_type": "markdown",
   "metadata": {},
   "source": [
    "#### 7.3.d The validation set came from the same dataset as the training data. So its overly optimistic error rate is because the model is designed to fit this data."
   ]
  },
  {
   "cell_type": "code",
   "execution_count": 46,
   "metadata": {},
   "outputs": [
    {
     "name": "stdout",
     "output_type": "stream",
     "text": [
      "\n",
      "Regression statistics\n",
      "\n",
      "               Mean Error (ME) : 0.0149\n",
      "Root Mean Squared Error (RMSE) : 0.2163\n",
      "     Mean Absolute Error (MAE) : 0.0877\n"
     ]
    }
   ],
   "source": [
    "regressionSummary(house_valid_y, knn4.predict(house_valid_X))"
   ]
  },
  {
   "cell_type": "code",
   "execution_count": 47,
   "metadata": {},
   "outputs": [
    {
     "name": "stdout",
     "output_type": "stream",
     "text": [
      "\n",
      "Regression statistics\n",
      "\n",
      "               Mean Error (ME) : 0.0294\n",
      "Root Mean Squared Error (RMSE) : 0.2269\n",
      "     Mean Absolute Error (MAE) : 0.0882\n"
     ]
    }
   ],
   "source": [
    "regressionSummary(house_test_y, knn4.predict(house_test_X))"
   ]
  },
  {
   "cell_type": "markdown",
   "metadata": {},
   "source": [
    "#### 7.3.e The greatest disadvantage of doing knn on several thousand new tracts lies in the amount of time and computational comparisons are required for every single new tract against all the tracts in the sample data. It would then have to average the values of nearest neighbors to predict the desired outcome.\n",
    "#### The knn function has to go through the following steps every single time. <br> 1. Calculate the Euclidean distance between the new tract and the data set. <br> 2. Order the data set points by distance ascending <br> 3. Using the selected K value it would then have to determine every new tract's vote.\n"
   ]
  }
 ],
 "metadata": {
  "kernelspec": {
   "display_name": "Python 3",
   "language": "python",
   "name": "python3"
  },
  "language_info": {
   "codemirror_mode": {
    "name": "ipython",
    "version": 3
   },
   "file_extension": ".py",
   "mimetype": "text/x-python",
   "name": "python",
   "nbconvert_exporter": "python",
   "pygments_lexer": "ipython3",
   "version": "3.11.4"
  },
  "orig_nbformat": 4
 },
 "nbformat": 4,
 "nbformat_minor": 2
}
